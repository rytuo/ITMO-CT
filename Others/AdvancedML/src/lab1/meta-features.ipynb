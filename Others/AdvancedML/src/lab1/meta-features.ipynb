{
 "cells": [
  {
   "cell_type": "code",
   "execution_count": 1,
   "metadata": {
    "collapsed": true
   },
   "outputs": [],
   "source": [
    "import copy\n",
    "import random\n",
    "from collections import Counter\n",
    "from typing import List, Iterable\n",
    "\n",
    "import matplotlib.pyplot as plt\n",
    "import numpy as np\n",
    "import pandas as pd\n",
    "from scipy.io import arff\n",
    "from scipy.stats import mode\n",
    "from sklearn.ensemble import RandomForestClassifier, GradientBoostingClassifier\n",
    "from sklearn.neighbors import KNeighborsClassifier\n",
    "from sklearn.metrics import accuracy_score\n",
    "from sklearn.model_selection import KFold, train_test_split\n",
    "from sklearn.svm import SVC\n",
    "from sklearn.linear_model import LogisticRegression\n",
    "from sklearn.tree import DecisionTreeClassifier\n",
    "from tqdm.notebook import tqdm\n",
    "from umap.umap_ import UMAP\n",
    "\n",
    "random.seed(0)"
   ]
  },
  {
   "cell_type": "code",
   "execution_count": 2,
   "outputs": [
    {
     "data": {
      "text/plain": "array([(b'arched', b'yes', b'no', b'no', b'no', b'no', b'no', b'yes', 1., 4., b'round', b'lac_central', b'lacunar', b'stripped', b'vesicles', b'yes', b'yes', 5., b'malign_lymph'),\n       (b'displaced', b'yes', b'no', b'no', b'yes', b'yes', b'no', b'yes', 1., 3., b'round', b'lac_central', b'lacunar', b'diluted', b'vesicles', b'yes', b'yes', 3., b'malign_lymph'),\n       (b'deformed', b'no', b'no', b'no', b'yes', b'yes', b'yes', b'no', 3., 1., b'bean', b'lacunar', b'no', b'diluted', b'vesicles', b'no', b'no', 7., b'fibrosis'),\n       (b'arched', b'no', b'no', b'no', b'no', b'yes', b'no', b'yes', 1., 2., b'oval', b'lac_margin', b'lac_margin', b'drop_like', b'vesicles', b'no', b'yes', 1., b'malign_lymph'),\n       (b'arched', b'no', b'no', b'no', b'no', b'no', b'no', b'no', 1., 2., b'round', b'lac_margin', b'lac_margin', b'faint', b'vesicles', b'no', b'no', 1., b'metastases'),\n       (b'arched', b'no', b'no', b'no', b'no', b'no', b'no', b'yes', 1., 2., b'oval', b'lac_central', b'lacunar', b'faint', b'vesicles', b'yes', b'yes', 3., b'malign_lymph'),\n       (b'deformed', b'no', b'no', b'no', b'no', b'no', b'no', b'no', 1., 2., b'oval', b'lac_central', b'lacunar', b'faint', b'chalices', b'yes', b'yes', 1., b'malign_lymph'),\n       (b'deformed', b'no', b'no', b'no', b'no', b'no', b'no', b'yes', 1., 4., b'round', b'lac_margin', b'lac_central', b'diluted', b'vesicles', b'yes', b'yes', 3., b'malign_lymph'),\n       (b'arched', b'no', b'no', b'no', b'no', b'no', b'no', b'yes', 1., 3., b'oval', b'lac_central', b'lacunar', b'faint', b'vesicles', b'yes', b'yes', 4., b'malign_lymph'),\n       (b'displaced', b'no', b'no', b'no', b'no', b'no', b'no', b'yes', 1., 3., b'oval', b'lac_central', b'lac_central', b'faint', b'vesicles', b'yes', b'yes', 1., b'malign_lymph'),\n       (b'arched', b'yes', b'no', b'no', b'no', b'no', b'no', b'yes', 1., 2., b'round', b'lacunar', b'lac_margin', b'faint', b'chalices', b'no', b'no', 1., b'metastases'),\n       (b'displaced', b'no', b'no', b'no', b'no', b'no', b'no', b'no', 2., 1., b'round', b'lac_central', b'lacunar', b'faint', b'no', b'yes', b'yes', 1., b'metastases'),\n       (b'deformed', b'no', b'no', b'no', b'no', b'yes', b'no', b'yes', 1., 3., b'round', b'lac_central', b'lac_central', b'coarse', b'vesicles', b'no', b'yes', 6., b'malign_lymph'),\n       (b'deformed', b'no', b'no', b'no', b'no', b'no', b'no', b'no', 1., 2., b'oval', b'lac_central', b'lac_margin', b'diluted', b'no', b'yes', b'yes', 1., b'metastases'),\n       (b'deformed', b'yes', b'yes', b'yes', b'yes', b'yes', b'no', b'yes', 1., 2., b'round', b'lac_margin', b'lac_margin', b'coarse', b'vesicles', b'yes', b'yes', 7., b'metastases'),\n       (b'displaced', b'yes', b'no', b'no', b'yes', b'no', b'no', b'yes', 1., 3., b'round', b'lac_margin', b'lac_margin', b'grainy', b'chalices', b'yes', b'yes', 3., b'metastases'),\n       (b'displaced', b'no', b'no', b'no', b'no', b'no', b'no', b'yes', 1., 4., b'oval', b'lacunar', b'lac_central', b'stripped', b'vesicles', b'yes', b'yes', 7., b'malign_lymph'),\n       (b'arched', b'no', b'no', b'no', b'no', b'no', b'no', b'yes', 1., 3., b'oval', b'lacunar', b'lacunar', b'reticular', b'vesicles', b'yes', b'yes', 6., b'malign_lymph'),\n       (b'displaced', b'no', b'no', b'no', b'no', b'no', b'no', b'yes', 1., 4., b'oval', b'lac_central', b'lacunar', b'faint', b'vesicles', b'yes', b'yes', 6., b'malign_lymph'),\n       (b'deformed', b'yes', b'no', b'no', b'no', b'yes', b'no', b'no', 1., 2., b'oval', b'lac_central', b'lac_margin', b'coarse', b'no', b'yes', b'yes', 2., b'metastases'),\n       (b'arched', b'no', b'no', b'no', b'no', b'no', b'no', b'yes', 1., 3., b'oval', b'lac_central', b'lac_central', b'coarse', b'vesicles', b'yes', b'yes', 5., b'malign_lymph'),\n       (b'arched', b'yes', b'no', b'no', b'no', b'no', b'no', b'yes', 1., 4., b'round', b'lac_central', b'lacunar', b'faint', b'chalices', b'no', b'yes', 4., b'metastases'),\n       (b'deformed', b'yes', b'no', b'no', b'no', b'yes', b'no', b'yes', 1., 2., b'round', b'lac_margin', b'lac_margin', b'grainy', b'chalices', b'yes', b'yes', 3., b'metastases'),\n       (b'displaced', b'no', b'no', b'no', b'no', b'no', b'no', b'yes', 1., 2., b'oval', b'lac_margin', b'lac_margin', b'drop_like', b'vesicles', b'yes', b'no', 1., b'malign_lymph'),\n       (b'arched', b'no', b'no', b'no', b'no', b'yes', b'no', b'yes', 1., 3., b'oval', b'lacunar', b'lacunar', b'coarse', b'vesicles', b'no', b'yes', 5., b'malign_lymph'),\n       (b'arched', b'yes', b'no', b'no', b'no', b'yes', b'no', b'yes', 1., 3., b'round', b'lac_margin', b'lac_margin', b'faint', b'vesicles', b'yes', b'yes', 4., b'malign_lymph'),\n       (b'arched', b'no', b'no', b'no', b'no', b'no', b'no', b'no', 1., 1., b'bean', b'lacunar', b'lacunar', b'drop_like', b'no', b'yes', b'yes', 1., b'metastases'),\n       (b'arched', b'yes', b'no', b'no', b'no', b'no', b'no', b'yes', 1., 3., b'oval', b'lacunar', b'lacunar', b'faint', b'vesicles', b'no', b'yes', 5., b'malign_lymph'),\n       (b'displaced', b'yes', b'no', b'no', b'no', b'no', b'no', b'yes', 1., 2., b'oval', b'lacunar', b'lac_margin', b'drop_like', b'chalices', b'yes', b'yes', 1., b'metastases'),\n       (b'deformed', b'no', b'no', b'no', b'no', b'yes', b'no', b'yes', 1., 4., b'oval', b'lac_central', b'lac_central', b'grainy', b'vesicles', b'yes', b'yes', 3., b'malign_lymph'),\n       (b'arched', b'no', b'no', b'no', b'no', b'yes', b'no', b'no', 1., 2., b'oval', b'lacunar', b'lacunar', b'drop_like', b'no', b'no', b'no', 1., b'malign_lymph'),\n       (b'displaced', b'no', b'no', b'no', b'yes', b'yes', b'no', b'yes', 1., 3., b'round', b'lac_margin', b'lac_central', b'diluted', b'vesicles', b'yes', b'yes', 4., b'malign_lymph'),\n       (b'arched', b'yes', b'yes', b'no', b'yes', b'yes', b'no', b'yes', 1., 3., b'oval', b'lac_central', b'lac_margin', b'diluted', b'no', b'yes', b'yes', 3., b'metastases'),\n       (b'deformed', b'yes', b'no', b'no', b'no', b'no', b'no', b'yes', 1., 2., b'round', b'lac_margin', b'lac_margin', b'faint', b'chalices', b'yes', b'yes', 1., b'metastases'),\n       (b'arched', b'yes', b'yes', b'no', b'yes', b'yes', b'no', b'no', 1., 2., b'oval', b'lac_margin', b'lac_margin', b'coarse', b'chalices', b'no', b'yes', 1., b'metastases'),\n       (b'deformed', b'yes', b'yes', b'yes', b'yes', b'yes', b'yes', b'no', 2., 2., b'oval', b'lac_central', b'lacunar', b'coarse', b'vesicles', b'yes', b'yes', 7., b'fibrosis'),\n       (b'displaced', b'no', b'no', b'no', b'no', b'yes', b'no', b'yes', 1., 3., b'round', b'lac_central', b'lacunar', b'coarse', b'vesicles', b'yes', b'yes', 4., b'malign_lymph'),\n       (b'arched', b'no', b'no', b'no', b'no', b'yes', b'no', b'yes', 1., 3., b'round', b'lacunar', b'lacunar', b'coarse', b'vesicles', b'yes', b'yes', 6., b'malign_lymph'),\n       (b'arched', b'yes', b'yes', b'no', b'no', b'yes', b'no', b'no', 1., 2., b'round', b'lacunar', b'lac_margin', b'drop_like', b'chalices', b'no', b'no', 1., b'metastases'),\n       (b'arched', b'yes', b'no', b'no', b'yes', b'yes', b'no', b'no', 1., 3., b'round', b'lac_central', b'lac_margin', b'coarse', b'vesicles', b'no', b'no', 1., b'metastases'),\n       (b'arched', b'no', b'no', b'no', b'no', b'no', b'no', b'no', 1., 1., b'bean', b'no', b'no', b'drop_like', b'no', b'yes', b'yes', 1., b'metastases'),\n       (b'arched', b'no', b'no', b'no', b'no', b'no', b'no', b'yes', 1., 2., b'oval', b'lacunar', b'no', b'stripped', b'no', b'yes', b'yes', 2., b'malign_lymph'),\n       (b'arched', b'yes', b'no', b'no', b'no', b'yes', b'no', b'yes', 1., 2., b'round', b'lac_margin', b'lac_margin', b'diluted', b'vesicles', b'yes', b'yes', 2., b'metastases'),\n       (b'displaced', b'no', b'no', b'no', b'no', b'yes', b'no', b'yes', 1., 4., b'round', b'lac_central', b'lacunar', b'diluted', b'vesicles', b'yes', b'yes', 2., b'malign_lymph'),\n       (b'deformed', b'yes', b'yes', b'no', b'no', b'yes', b'no', b'no', 1., 2., b'round', b'lac_margin', b'lac_margin', b'diluted', b'chalices', b'no', b'yes', 2., b'metastases'),\n       (b'displaced', b'yes', b'yes', b'no', b'no', b'yes', b'no', b'yes', 1., 2., b'oval', b'lac_margin', b'lac_margin', b'faint', b'vesicles', b'yes', b'yes', 2., b'metastases'),\n       (b'deformed', b'yes', b'no', b'no', b'yes', b'yes', b'no', b'yes', 1., 3., b'round', b'lacunar', b'lac_margin', b'coarse', b'chalices', b'yes', b'yes', 2., b'metastases'),\n       (b'arched', b'yes', b'yes', b'no', b'yes', b'yes', b'no', b'yes', 1., 3., b'round', b'lac_central', b'lac_margin', b'coarse', b'vesicles', b'yes', b'yes', 6., b'metastases'),\n       (b'displaced', b'yes', b'yes', b'no', b'yes', b'yes', b'no', b'yes', 1., 3., b'round', b'lac_central', b'lac_margin', b'faint', b'chalices', b'yes', b'yes', 3., b'metastases'),\n       (b'displaced', b'yes', b'no', b'no', b'no', b'no', b'no', b'yes', 1., 2., b'oval', b'lacunar', b'lac_central', b'faint', b'no', b'no', b'yes', 2., b'malign_lymph'),\n       (b'deformed', b'no', b'no', b'no', b'no', b'no', b'no', b'yes', 1., 3., b'oval', b'lacunar', b'lacunar', b'faint', b'no', b'no', b'no', 1., b'metastases'),\n       (b'deformed', b'no', b'no', b'no', b'no', b'no', b'no', b'yes', 2., 1., b'oval', b'lacunar', b'lacunar', b'faint', b'vesicles', b'no', b'yes', 8., b'malign_lymph'),\n       (b'deformed', b'yes', b'yes', b'no', b'yes', b'yes', b'no', b'no', 1., 3., b'round', b'lac_central', b'lac_margin', b'coarse', b'chalices', b'yes', b'yes', 3., b'metastases'),\n       (b'deformed', b'no', b'no', b'no', b'yes', b'yes', b'yes', b'no', 3., 1., b'bean', b'lac_central', b'lacunar', b'diluted', b'vesicles', b'no', b'yes', 4., b'fibrosis'),\n       (b'arched', b'yes', b'no', b'no', b'no', b'no', b'no', b'yes', 1., 3., b'round', b'lac_margin', b'lac_margin', b'drop_like', b'chalices', b'no', b'yes', 1., b'metastases'),\n       (b'deformed', b'no', b'no', b'no', b'no', b'no', b'no', b'yes', 1., 2., b'oval', b'lacunar', b'lac_margin', b'grainy', b'no', b'yes', b'yes', 1., b'metastases'),\n       (b'deformed', b'yes', b'no', b'no', b'no', b'yes', b'no', b'yes', 1., 3., b'oval', b'lac_central', b'lac_margin', b'coarse', b'chalices', b'yes', b'yes', 2., b'metastases'),\n       (b'arched', b'no', b'no', b'no', b'no', b'no', b'no', b'yes', 1., 3., b'round', b'lac_margin', b'lac_margin', b'reticular', b'vesicles', b'no', b'yes', 4., b'metastases'),\n       (b'arched', b'no', b'no', b'no', b'no', b'no', b'no', b'no', 1., 2., b'round', b'lacunar', b'lacunar', b'faint', b'no', b'yes', b'no', 1., b'metastases'),\n       (b'deformed', b'yes', b'no', b'no', b'no', b'yes', b'no', b'yes', 1., 2., b'oval', b'lacunar', b'lacunar', b'no', b'vesicles', b'no', b'no', 1., b'metastases'),\n       (b'arched', b'yes', b'no', b'no', b'no', b'yes', b'no', b'yes', 1., 2., b'round', b'lac_margin', b'lac_margin', b'diluted', b'vesicles', b'yes', b'yes', 1., b'metastases'),\n       (b'arched', b'yes', b'no', b'no', b'no', b'yes', b'no', b'yes', 1., 2., b'oval', b'lac_margin', b'lac_margin', b'coarse', b'chalices', b'no', b'yes', 1., b'metastases'),\n       (b'deformed', b'yes', b'yes', b'yes', b'yes', b'yes', b'yes', b'yes', 1., 4., b'round', b'lac_margin', b'lac_central', b'faint', b'vesicles', b'yes', b'yes', 7., b'malign_lymph'),\n       (b'deformed', b'yes', b'yes', b'no', b'yes', b'yes', b'no', b'yes', 1., 3., b'oval', b'lacunar', b'lac_margin', b'coarse', b'no', b'yes', b'yes', 1., b'metastases'),\n       (b'arched', b'no', b'no', b'no', b'no', b'no', b'no', b'yes', 1., 2., b'oval', b'lacunar', b'lacunar', b'coarse', b'no', b'yes', b'no', 2., b'metastases'),\n       (b'displaced', b'yes', b'no', b'no', b'no', b'yes', b'no', b'no', 1., 2., b'oval', b'lac_margin', b'lac_margin', b'diluted', b'chalices', b'no', b'yes', 1., b'metastases'),\n       (b'arched', b'yes', b'no', b'no', b'no', b'no', b'no', b'yes', 1., 3., b'round', b'lac_margin', b'lac_margin', b'grainy', b'chalices', b'yes', b'no', 1., b'metastases'),\n       (b'arched', b'yes', b'no', b'no', b'no', b'no', b'no', b'yes', 1., 2., b'oval', b'lac_margin', b'lac_margin', b'grainy', b'vesicles', b'yes', b'yes', 2., b'metastases'),\n       (b'deformed', b'no', b'no', b'no', b'yes', b'no', b'no', b'yes', 1., 2., b'round', b'lac_margin', b'lac_margin', b'diluted', b'vesicles', b'no', b'no', 1., b'metastases'),\n       (b'deformed', b'no', b'no', b'no', b'no', b'yes', b'no', b'no', 1., 3., b'oval', b'lac_margin', b'lac_margin', b'faint', b'vesicles', b'yes', b'yes', 2., b'malign_lymph'),\n       (b'displaced', b'yes', b'no', b'no', b'yes', b'yes', b'no', b'yes', 1., 4., b'round', b'lac_central', b'lac_margin', b'coarse', b'chalices', b'yes', b'yes', 2., b'metastases'),\n       (b'displaced', b'yes', b'no', b'no', b'no', b'no', b'no', b'yes', 1., 2., b'oval', b'lacunar', b'lacunar', b'drop_like', b'chalices', b'no', b'no', 1., b'metastases'),\n       (b'arched', b'no', b'no', b'no', b'no', b'no', b'no', b'yes', 1., 2., b'oval', b'lac_central', b'lacunar', b'grainy', b'no', b'yes', b'yes', 1., b'metastases'),\n       (b'deformed', b'yes', b'yes', b'yes', b'yes', b'yes', b'yes', b'yes', 3., 1., b'bean', b'lacunar', b'lacunar', b'faint', b'no', b'yes', b'yes', 4., b'fibrosis'),\n       (b'displaced', b'yes', b'no', b'no', b'no', b'yes', b'no', b'yes', 1., 4., b'round', b'lac_margin', b'lac_margin', b'stripped', b'vesicles', b'yes', b'yes', 3., b'malign_lymph'),\n       (b'deformed', b'yes', b'yes', b'no', b'no', b'yes', b'no', b'no', 1., 3., b'oval', b'lac_margin', b'lac_margin', b'coarse', b'vesicles', b'no', b'yes', 2., b'metastases'),\n       (b'arched', b'no', b'no', b'no', b'no', b'no', b'no', b'yes', 1., 2., b'oval', b'lac_central', b'lac_central', b'faint', b'chalices', b'no', b'yes', 2., b'malign_lymph'),\n       (b'displaced', b'yes', b'no', b'no', b'no', b'yes', b'no', b'no', 1., 2., b'round', b'lacunar', b'lac_margin', b'grainy', b'chalices', b'no', b'no', 1., b'metastases'),\n       (b'arched', b'yes', b'yes', b'no', b'yes', b'yes', b'yes', b'yes', 1., 3., b'round', b'lac_central', b'lac_central', b'diluted', b'vesicles', b'yes', b'yes', 5., b'malign_lymph'),\n       (b'deformed', b'no', b'no', b'no', b'no', b'no', b'no', b'yes', 1., 2., b'oval', b'lac_central', b'lac_central', b'grainy', b'vesicles', b'yes', b'no', 1., b'malign_lymph'),\n       (b'arched', b'yes', b'no', b'no', b'no', b'yes', b'no', b'yes', 1., 2., b'oval', b'lac_central', b'lac_central', b'diluted', b'vesicles', b'yes', b'yes', 1., b'metastases'),\n       (b'arched', b'no', b'no', b'no', b'no', b'yes', b'no', b'yes', 1., 2., b'oval', b'lacunar', b'lacunar', b'faint', b'chalices', b'no', b'yes', 2., b'malign_lymph'),\n       (b'arched', b'yes', b'yes', b'no', b'no', b'no', b'no', b'yes', 1., 2., b'oval', b'lac_central', b'lac_margin', b'faint', b'chalices', b'yes', b'yes', 2., b'metastases'),\n       (b'arched', b'no', b'no', b'no', b'no', b'no', b'no', b'no', 1., 2., b'oval', b'lacunar', b'lac_margin', b'faint', b'chalices', b'no', b'yes', 1., b'metastases'),\n       (b'arched', b'yes', b'no', b'no', b'no', b'no', b'no', b'no', 1., 2., b'round', b'lac_margin', b'lac_margin', b'grainy', b'chalices', b'yes', b'yes', 1., b'metastases'),\n       (b'displaced', b'no', b'no', b'no', b'no', b'no', b'no', b'yes', 1., 3., b'oval', b'lacunar', b'lac_central', b'drop_like', b'chalices', b'yes', b'no', 1., b'malign_lymph'),\n       (b'deformed', b'yes', b'no', b'no', b'yes', b'yes', b'no', b'no', 1., 2., b'oval', b'lac_central', b'lac_margin', b'grainy', b'no', b'yes', b'yes', 3., b'metastases'),\n       (b'arched', b'yes', b'no', b'no', b'no', b'yes', b'no', b'yes', 1., 4., b'round', b'lac_central', b'lac_central', b'faint', b'vesicles', b'yes', b'yes', 7., b'malign_lymph'),\n       (b'deformed', b'yes', b'no', b'no', b'no', b'yes', b'no', b'yes', 1., 2., b'oval', b'lacunar', b'lac_central', b'faint', b'vesicles', b'no', b'yes', 3., b'malign_lymph'),\n       (b'arched', b'yes', b'no', b'no', b'no', b'yes', b'no', b'yes', 1., 2., b'round', b'lacunar', b'lacunar', b'coarse', b'chalices', b'no', b'no', 2., b'metastases'),\n       (b'arched', b'yes', b'yes', b'no', b'yes', b'yes', b'yes', b'yes', 1., 4., b'oval', b'lacunar', b'lacunar', b'coarse', b'vesicles', b'yes', b'yes', 6., b'malign_lymph'),\n       (b'displaced', b'yes', b'no', b'no', b'yes', b'yes', b'no', b'no', 1., 1., b'round', b'lac_margin', b'lac_margin', b'drop_like', b'vesicles', b'yes', b'yes', 3., b'metastases'),\n       (b'arched', b'no', b'no', b'no', b'no', b'no', b'no', b'yes', 1., 2., b'oval', b'lacunar', b'lacunar', b'faint', b'chalices', b'yes', b'yes', 1., b'malign_lymph'),\n       (b'arched', b'no', b'no', b'no', b'no', b'no', b'no', b'yes', 1., 4., b'round', b'lac_central', b'lac_central', b'diluted', b'vesicles', b'yes', b'yes', 5., b'malign_lymph'),\n       (b'arched', b'no', b'no', b'no', b'no', b'no', b'no', b'yes', 1., 3., b'oval', b'lac_margin', b'lac_margin', b'faint', b'vesicles', b'yes', b'yes', 3., b'malign_lymph'),\n       (b'deformed', b'no', b'no', b'no', b'no', b'yes', b'no', b'yes', 1., 4., b'oval', b'lacunar', b'lacunar', b'coarse', b'vesicles', b'yes', b'yes', 7., b'malign_lymph'),\n       (b'arched', b'no', b'no', b'no', b'no', b'no', b'no', b'yes', 1., 2., b'oval', b'lac_margin', b'lac_margin', b'diluted', b'vesicles', b'no', b'no', 2., b'malign_lymph'),\n       (b'arched', b'yes', b'no', b'no', b'no', b'yes', b'no', b'yes', 1., 3., b'round', b'lac_margin', b'lac_central', b'faint', b'vesicles', b'yes', b'yes', 2., b'malign_lymph'),\n       (b'displaced', b'no', b'no', b'no', b'no', b'yes', b'no', b'yes', 1., 4., b'oval', b'lacunar', b'lac_central', b'stripped', b'vesicles', b'yes', b'yes', 2., b'malign_lymph'),\n       (b'deformed', b'yes', b'no', b'no', b'no', b'yes', b'no', b'no', 1., 2., b'round', b'lac_central', b'lacunar', b'coarse', b'no', b'no', b'no', 1., b'metastases'),\n       (b'arched', b'no', b'no', b'no', b'no', b'yes', b'no', b'yes', 1., 2., b'oval', b'lacunar', b'lac_central', b'faint', b'no', b'yes', b'yes', 2., b'malign_lymph'),\n       (b'displaced', b'yes', b'yes', b'yes', b'yes', b'yes', b'yes', b'yes', 1., 4., b'round', b'lac_central', b'lac_central', b'stripped', b'vesicles', b'yes', b'yes', 8., b'malign_lymph'),\n       (b'displaced', b'yes', b'no', b'no', b'no', b'yes', b'no', b'no', 1., 3., b'round', b'lac_central', b'lac_margin', b'faint', b'vesicles', b'yes', b'yes', 2., b'metastases'),\n       (b'displaced', b'yes', b'yes', b'no', b'yes', b'yes', b'no', b'yes', 1., 1., b'oval', b'lacunar', b'no', b'drop_like', b'no', b'yes', b'yes', 2., b'malign_lymph'),\n       (b'deformed', b'no', b'no', b'no', b'no', b'yes', b'no', b'yes', 1., 2., b'oval', b'lac_central', b'lac_margin', b'faint', b'chalices', b'yes', b'yes', 1., b'malign_lymph'),\n       (b'deformed', b'no', b'no', b'no', b'no', b'no', b'no', b'yes', 1., 2., b'oval', b'lac_central', b'lacunar', b'coarse', b'vesicles', b'yes', b'yes', 3., b'malign_lymph'),\n       (b'displaced', b'yes', b'yes', b'no', b'no', b'no', b'no', b'yes', 1., 2., b'oval', b'lacunar', b'lac_margin', b'drop_like', b'chalices', b'yes', b'yes', 2., b'metastases'),\n       (b'deformed', b'yes', b'no', b'no', b'no', b'no', b'no', b'no', 1., 2., b'oval', b'lac_margin', b'lac_margin', b'diluted', b'no', b'no', b'no', 1., b'metastases'),\n       (b'normal', b'no', b'no', b'no', b'no', b'yes', b'no', b'yes', 1., 2., b'oval', b'no', b'no', b'grainy', b'no', b'no', b'no', 2., b'normal'),\n       (b'arched', b'yes', b'no', b'no', b'no', b'yes', b'no', b'yes', 1., 3., b'round', b'lac_central', b'lacunar', b'faint', b'vesicles', b'yes', b'yes', 2., b'malign_lymph'),\n       (b'arched', b'yes', b'no', b'no', b'yes', b'yes', b'no', b'no', 1., 2., b'oval', b'lac_central', b'lacunar', b'faint', b'vesicles', b'yes', b'yes', 1., b'metastases'),\n       (b'deformed', b'no', b'no', b'no', b'no', b'no', b'yes', b'no', 1., 2., b'oval', b'lac_central', b'lac_margin', b'diluted', b'chalices', b'no', b'yes', 1., b'metastases'),\n       (b'arched', b'yes', b'yes', b'no', b'yes', b'yes', b'no', b'yes', 1., 3., b'round', b'lac_margin', b'lac_margin', b'faint', b'vesicles', b'yes', b'yes', 2., b'metastases'),\n       (b'displaced', b'no', b'no', b'no', b'yes', b'no', b'yes', b'yes', 1., 3., b'oval', b'lac_margin', b'lac_central', b'diluted', b'vesicles', b'yes', b'yes', 7., b'malign_lymph'),\n       (b'arched', b'yes', b'no', b'no', b'no', b'no', b'no', b'yes', 1., 2., b'round', b'lac_margin', b'lac_margin', b'diluted', b'chalices', b'no', b'yes', 1., b'metastases'),\n       (b'deformed', b'yes', b'yes', b'no', b'yes', b'yes', b'no', b'yes', 1., 2., b'round', b'lac_margin', b'lac_central', b'grainy', b'chalices', b'yes', b'no', 1., b'metastases'),\n       (b'arched', b'yes', b'no', b'no', b'no', b'no', b'no', b'no', 1., 2., b'oval', b'lac_margin', b'lac_margin', b'diluted', b'chalices', b'yes', b'yes', 1., b'metastases'),\n       (b'deformed', b'yes', b'no', b'no', b'no', b'no', b'no', b'no', 1., 2., b'oval', b'lac_margin', b'lac_margin', b'drop_like', b'vesicles', b'no', b'no', 2., b'metastases'),\n       (b'arched', b'yes', b'no', b'no', b'no', b'no', b'no', b'yes', 1., 2., b'round', b'lac_margin', b'lac_margin', b'diluted', b'vesicles', b'no', b'yes', 1., b'metastases'),\n       (b'arched', b'yes', b'yes', b'yes', b'yes', b'yes', b'no', b'no', 1., 2., b'oval', b'lac_central', b'lac_margin', b'faint', b'chalices', b'yes', b'yes', 3., b'metastases'),\n       (b'arched', b'no', b'no', b'no', b'no', b'no', b'no', b'yes', 1., 3., b'oval', b'lacunar', b'lacunar', b'faint', b'vesicles', b'yes', b'yes', 5., b'malign_lymph'),\n       (b'normal', b'no', b'no', b'no', b'no', b'no', b'no', b'no', 1., 1., b'bean', b'no', b'no', b'no', b'no', b'no', b'no', 1., b'normal'),\n       (b'arched', b'yes', b'no', b'no', b'no', b'no', b'no', b'no', 1., 1., b'oval', b'lacunar', b'lac_margin', b'drop_like', b'no', b'no', b'no', 1., b'metastases'),\n       (b'deformed', b'yes', b'no', b'no', b'no', b'no', b'no', b'yes', 1., 2., b'round', b'lac_margin', b'lac_margin', b'diluted', b'chalices', b'yes', b'no', 1., b'metastases'),\n       (b'displaced', b'yes', b'no', b'no', b'yes', b'yes', b'no', b'yes', 1., 3., b'round', b'lac_central', b'lac_margin', b'coarse', b'vesicles', b'yes', b'yes', 2., b'metastases'),\n       (b'displaced', b'yes', b'no', b'no', b'no', b'no', b'no', b'no', 1., 4., b'round', b'lac_margin', b'lac_margin', b'coarse', b'chalices', b'yes', b'no', 1., b'metastases'),\n       (b'displaced', b'no', b'no', b'no', b'no', b'yes', b'no', b'yes', 1., 4., b'round', b'lac_central', b'lac_margin', b'drop_like', b'vesicles', b'yes', b'yes', 5., b'malign_lymph'),\n       (b'arched', b'no', b'no', b'no', b'no', b'no', b'no', b'no', 1., 2., b'round', b'lacunar', b'lac_margin', b'drop_like', b'chalices', b'yes', b'no', 1., b'malign_lymph'),\n       (b'deformed', b'no', b'no', b'no', b'no', b'no', b'no', b'no', 1., 2., b'oval', b'lacunar', b'lacunar', b'diluted', b'no', b'no', b'yes', 2., b'malign_lymph'),\n       (b'arched', b'yes', b'no', b'no', b'no', b'no', b'no', b'yes', 1., 2., b'oval', b'lacunar', b'lac_margin', b'faint', b'vesicles', b'no', b'yes', 1., b'metastases'),\n       (b'deformed', b'yes', b'no', b'no', b'no', b'no', b'no', b'yes', 1., 2., b'oval', b'lacunar', b'lacunar', b'diluted', b'no', b'no', b'no', 1., b'metastases'),\n       (b'deformed', b'no', b'no', b'no', b'no', b'no', b'no', b'no', 1., 2., b'round', b'lac_margin', b'lac_margin', b'coarse', b'vesicles', b'no', b'yes', 2., b'metastases'),\n       (b'arched', b'no', b'no', b'no', b'no', b'no', b'no', b'no', 1., 2., b'oval', b'lacunar', b'lacunar', b'faint', b'no', b'no', b'no', 1., b'metastases'),\n       (b'arched', b'no', b'no', b'no', b'no', b'yes', b'no', b'yes', 1., 3., b'round', b'lac_central', b'lacunar', b'faint', b'vesicles', b'yes', b'yes', 3., b'malign_lymph'),\n       (b'arched', b'no', b'no', b'no', b'no', b'no', b'no', b'no', 1., 1., b'oval', b'lacunar', b'lac_margin', b'drop_like', b'no', b'yes', b'yes', 1., b'metastases'),\n       (b'arched', b'yes', b'no', b'no', b'no', b'no', b'no', b'no', 1., 2., b'round', b'lac_margin', b'lac_margin', b'drop_like', b'vesicles', b'no', b'yes', 1., b'metastases'),\n       (b'arched', b'yes', b'no', b'no', b'no', b'yes', b'no', b'no', 1., 2., b'oval', b'lacunar', b'lac_margin', b'diluted', b'chalices', b'no', b'yes', 2., b'metastases'),\n       (b'displaced', b'yes', b'yes', b'yes', b'yes', b'yes', b'no', b'yes', 1., 4., b'round', b'lac_central', b'lac_central', b'stripped', b'vesicles', b'yes', b'yes', 6., b'malign_lymph'),\n       (b'displaced', b'yes', b'no', b'no', b'yes', b'yes', b'no', b'yes', 1., 2., b'round', b'lacunar', b'lac_margin', b'grainy', b'vesicles', b'yes', b'yes', 4., b'metastases'),\n       (b'deformed', b'yes', b'no', b'no', b'no', b'yes', b'no', b'yes', 1., 3., b'round', b'lac_margin', b'lac_margin', b'coarse', b'vesicles', b'yes', b'yes', 1., b'metastases'),\n       (b'deformed', b'yes', b'yes', b'no', b'yes', b'no', b'no', b'yes', 1., 2., b'oval', b'lac_margin', b'lac_margin', b'faint', b'vesicles', b'no', b'yes', 1., b'metastases'),\n       (b'arched', b'no', b'no', b'no', b'no', b'no', b'no', b'yes', 1., 3., b'round', b'lacunar', b'lac_margin', b'coarse', b'vesicles', b'yes', b'yes', 2., b'malign_lymph'),\n       (b'arched', b'yes', b'yes', b'no', b'yes', b'yes', b'no', b'yes', 1., 3., b'round', b'lac_margin', b'lac_margin', b'faint', b'vesicles', b'no', b'yes', 2., b'metastases'),\n       (b'displaced', b'no', b'no', b'no', b'no', b'no', b'no', b'yes', 1., 3., b'round', b'lacunar', b'lacunar', b'coarse', b'chalices', b'yes', b'yes', 2., b'metastases'),\n       (b'deformed', b'no', b'no', b'no', b'no', b'yes', b'no', b'yes', 1., 4., b'round', b'lac_central', b'lacunar', b'coarse', b'vesicles', b'yes', b'yes', 6., b'malign_lymph'),\n       (b'deformed', b'yes', b'no', b'no', b'yes', b'yes', b'no', b'yes', 1., 2., b'oval', b'lac_central', b'lac_margin', b'diluted', b'chalices', b'yes', b'yes', 4., b'malign_lymph'),\n       (b'deformed', b'yes', b'no', b'no', b'no', b'no', b'no', b'yes', 1., 3., b'oval', b'lacunar', b'lac_central', b'faint', b'vesicles', b'yes', b'yes', 3., b'malign_lymph'),\n       (b'arched', b'no', b'no', b'no', b'no', b'no', b'no', b'no', 1., 1., b'oval', b'lac_central', b'lac_margin', b'faint', b'chalices', b'yes', b'yes', 2., b'metastases')],\n      dtype=[('lymphatics', 'S9'), ('block_of_affere', 'S3'), ('bl_of_lymph_c', 'S3'), ('bl_of_lymph_s', 'S3'), ('by_pass', 'S3'), ('extravasates', 'S3'), ('regeneration_of', 'S3'), ('early_uptake_in', 'S3'), ('lym_nodes_dimin', '<f8'), ('lym_nodes_enlar', '<f8'), ('changes_in_lym', 'S5'), ('defect_in_node', 'S11'), ('changes_in_node', 'S11'), ('changes_in_stru', 'S9'), ('special_forms', 'S8'), ('dislocation_of', 'S3'), ('exclusion_of_no', 'S3'), ('no_of_nodes_in', '<f8'), ('class', 'S12')])"
     },
     "execution_count": 2,
     "metadata": {},
     "output_type": "execute_result"
    }
   ],
   "source": [
    "DATA_ROOT = '/Users/alv.popov/study/ml/data/OpenML/'\n",
    "DATASET_COUNT = 300\n",
    "\n",
    "datasets_info = pd.read_csv(DATA_ROOT + 'data.csv')\n",
    "datasets = []\n",
    "for dataset_info in datasets_info.itertuples():\n",
    "    try:\n",
    "        data, meta = arff.loadarff(f\"{DATA_ROOT}data/{dataset_info.id}.arff\")\n",
    "    except Exception:\n",
    "        continue\n",
    "\n",
    "    if (dataset_info.target is None or\n",
    "        dataset_info.target not in meta.names() or\n",
    "        meta[dataset_info.target][0] != 'nominal'):\n",
    "        continue\n",
    "\n",
    "    is_numeric = np.asarray(meta.types()) == 'numeric'\n",
    "    is_nominal = np.asarray(meta.types()) == 'nominal'\n",
    "    if (not np.all(np.logical_or(is_numeric, is_nominal)) or\n",
    "        np.all(is_numeric) or\n",
    "        np.all(is_nominal)\n",
    "    ):\n",
    "        continue\n",
    "\n",
    "    datasets.append({\n",
    "        'data': data,\n",
    "        'meta': meta,\n",
    "        'target': dataset_info.target\n",
    "    })\n",
    "    if len(datasets) == DATASET_COUNT:\n",
    "        break\n",
    "\n",
    "datasets[0]['data']"
   ],
   "metadata": {
    "collapsed": false,
    "pycharm": {
     "name": "#%%\n"
    }
   }
  },
  {
   "cell_type": "code",
   "execution_count": 3,
   "outputs": [
    {
     "name": "stdout",
     "output_type": "stream",
     "text": [
      "height: 148\n",
      "width: 19\n",
      "categories_count: 16\n",
      "min_numeric: -0.9348776576678107\n",
      "max_numeric: 3.6268121584064303\n",
      "min_nominal_prob: 0.16554054054054057\n",
      "max_nominal_prob: 0.6169763513513513\n",
      "max_depth: 11\n",
      "mean_linear_coeff: 2.4671622769447922e-17\n"
     ]
    }
   ],
   "source": [
    "# базовые мета-признаки -> число объектов, признаков\n",
    "def height(dataset) -> int:\n",
    "    return len(dataset['data'])\n",
    "\n",
    "def width(dataset) -> int:\n",
    "    return len(dataset['meta'].names())\n",
    "\n",
    "def categories_count(dataset) -> int:\n",
    "    return np.count_nonzero(np.asarray(dataset['meta'].types()) == 'nominal')\n",
    "\n",
    "# числа нормализуем, категории превращаем в массив вероятностей\n",
    "# берем min/max -> среднее\n",
    "def normalize(col: np.ndarray) -> np.ndarray:\n",
    "    centered = col - np.nanmean(col)\n",
    "    return centered if np.isclose(0, np.nanstd(col)) else centered / np.nanstd(col)\n",
    "\n",
    "def one_hot(categories: Iterable, col: np.ndarray) -> List:\n",
    "    cols = []\n",
    "    for category in categories:\n",
    "        cols.append([int(v == category) for v in col])\n",
    "    return cols\n",
    "\n",
    "def calc_stat(dataset, feature_type, f1, f2):\n",
    "    if feature_type != 'numeric' and feature_type != 'nominal':\n",
    "        raise ValueError(\"Invalid feature type\")\n",
    "\n",
    "    stat = []\n",
    "    for i, feature_name in enumerate(dataset['meta']):\n",
    "        col = dataset['data'][feature_name]\n",
    "        feature = dataset['meta'][feature_name]\n",
    "        if feature[0] == feature_type:\n",
    "            stat.append(f1(col))\n",
    "    return f2(stat) if len(stat) > 0 else None\n",
    "\n",
    "def min_numeric(dataset):\n",
    "    return calc_stat(dataset, 'numeric', lambda col: np.nanmin(normalize(col)), np.nanmean)\n",
    "\n",
    "def max_numeric(dataset):\n",
    "    return calc_stat(dataset, 'numeric', lambda col: np.nanmax(normalize(col)), np.nanmean)\n",
    "\n",
    "def min_nominal_prob(dataset):\n",
    "    return calc_stat(dataset, 'nominal', lambda col: min(dict(Counter(col)).values()) / len(col), np.mean)\n",
    "\n",
    "def max_nominal_prob(dataset):\n",
    "    return calc_stat(dataset, 'nominal', lambda col: max(dict(Counter(col)).values()) / len(col), np.mean)\n",
    "\n",
    "# количество значений целевой переменной\n",
    "def unique_targets(dataset) -> int:\n",
    "    return len(dataset['meta'][dataset['target']][1])\n",
    "\n",
    "def get_xy(dataset) -> tuple[np.ndarray, np.ndarray]:\n",
    "    if 'xy' in dataset:\n",
    "        return dataset['xy']\n",
    "\n",
    "    x, y = [], None\n",
    "    for feature_name in dataset['meta']:\n",
    "\n",
    "        feature_meta = dataset['meta'][feature_name]\n",
    "        if feature_meta[0] == 'numeric':\n",
    "            col = pd.Series(normalize(dataset['data'][feature_name]))\n",
    "            col = col.fillna(col.mean()).to_numpy()\n",
    "            x.append(col)\n",
    "        else:\n",
    "            col = pd.Series(dataset['data'][feature_name])\n",
    "            col = col.fillna(col.mode()[0]).to_numpy()\n",
    "\n",
    "            if feature_name == dataset['target']:\n",
    "                y = col\n",
    "            else:\n",
    "                categories_bin = map(lambda c: c.encode('utf-8'), feature_meta[1])\n",
    "                x.append(one_hot(categories_bin, col)[0])\n",
    "\n",
    "    if y is None:\n",
    "        raise ValueError(dataset['meta'])\n",
    "\n",
    "    dataset['xy'] = np.asarray(x).T, y\n",
    "\n",
    "    return dataset['xy']\n",
    "\n",
    "# дерево решений -> максимальная глубина\n",
    "def max_depth(dataset) -> int:\n",
    "    x, y = get_xy(dataset)\n",
    "    clf = DecisionTreeClassifier(random_state=0)\n",
    "    clf.fit(x, y)\n",
    "    return clf.get_depth()\n",
    "\n",
    "# коэффициенты линейной модели -> среднее + среднее\n",
    "def mean_linear_coeff(dataset):\n",
    "    x, y = get_xy(dataset)\n",
    "    reg = LogisticRegression(random_state=0, max_iter=200)\n",
    "    reg.fit(x, y)\n",
    "    return np.mean(reg.coef_)\n",
    "\n",
    "funcs = [\n",
    "    height,\n",
    "    width,\n",
    "    categories_count,\n",
    "    min_numeric,\n",
    "    max_numeric,\n",
    "    min_nominal_prob,\n",
    "    max_nominal_prob,\n",
    "    max_depth,\n",
    "    mean_linear_coeff\n",
    "]\n",
    "\n",
    "for func in funcs:\n",
    "    print(f'{func.__name__}: {func(datasets[0])}')"
   ],
   "metadata": {
    "collapsed": false,
    "pycharm": {
     "name": "#%%\n"
    }
   }
  },
  {
   "cell_type": "code",
   "execution_count": 4,
   "outputs": [
    {
     "name": "stdout",
     "output_type": "stream",
     "text": [
      "done\n"
     ]
    }
   ],
   "source": [
    "# от порядка строк/столбцов/категорий метапризнаки не меняются\n",
    "original_dataset = datasets[0]\n",
    "changed_dataset = copy.deepcopy(original_dataset)\n",
    "target_values = changed_dataset['meta'][changed_dataset['target']][1]\n",
    "target2ind = {v.encode('utf-8'): i for i, v in zip(range(15, 15 + len(target_values)), target_values)}\n",
    "changed_dataset['data'][changed_dataset['target']] = np.vectorize(lambda b: target2ind[b])(changed_dataset['data'][changed_dataset['target']])\n",
    "np.random.shuffle(changed_dataset['data'])\n",
    "np.random.shuffle(changed_dataset['data'].T)\n",
    "\n",
    "for func in funcs:\n",
    "    assert np.isclose(func(original_dataset), func(changed_dataset))\n",
    "print('done')"
   ],
   "metadata": {
    "collapsed": false,
    "pycharm": {
     "name": "#%%\n"
    }
   }
  },
  {
   "cell_type": "code",
   "execution_count": 5,
   "outputs": [],
   "source": [
    "meta_dataset = pd.DataFrame({\n",
    "    func.__name__: [\n",
    "        func(dataset) for dataset in datasets\n",
    "    ] for func in funcs\n",
    "})"
   ],
   "metadata": {
    "collapsed": false,
    "pycharm": {
     "name": "#%%\n"
    }
   }
  },
  {
   "cell_type": "code",
   "execution_count": 6,
   "outputs": [
    {
     "data": {
      "text/plain": "  0%|          | 0/300 [00:00<?, ?it/s]",
      "application/vnd.jupyter.widget-view+json": {
       "version_major": 2,
       "version_minor": 0,
       "model_id": "135a905cfbb8421db24e4f292674e355"
      }
     },
     "metadata": {},
     "output_type": "display_data"
    },
    {
     "data": {
      "text/plain": "     height  width  categories_count  min_numeric  max_numeric  \\\n0       148     19                16    -0.934878     3.626812   \n1       214     10                 1    -1.968487     4.832826   \n2       148     19                16    -0.934878     3.626812   \n3       107     13                10    -1.594198     3.035985   \n4        63     32                 5    -1.277364     3.529887   \n..      ...    ...               ...          ...          ...   \n295      87     11                 3    -2.665234     2.345240   \n296     250     11                 1    -1.845884     2.203507   \n297      60      8                 2    -2.954480     1.787283   \n298     100      4                 3    -1.155026     1.124631   \n299     100     26                 1    -1.696882     1.902212   \n\n     min_nominal_prob  max_nominal_prob  max_depth  mean_linear_coeff  \\\n0            0.165541          0.616976         11       2.467162e-17   \n1            0.355140          0.644860         10      -2.475235e-01   \n2            0.192990          0.616976         11      -2.837156e-01   \n3            0.068224          0.506542         11      -5.415209e-01   \n4            0.269841          0.396825          6      -7.405965e-02   \n..                ...               ...        ...                ...   \n295          0.406130          0.593870          8      -3.700526e-01   \n296          0.468000          0.532000          8      -6.289213e-02   \n297          0.475000          0.525000          8      -3.396893e-01   \n298          0.030000          0.496667          6      -3.071355e-01   \n299          0.460000          0.540000          5      -4.235413e-02   \n\n                 model  \n0                  svc  \n1    gradient_boosting  \n2                  svc  \n3        random_forest  \n4                  svc  \n..                 ...  \n295      random_forest  \n296      random_forest  \n297      random_forest  \n298                svc  \n299  gradient_boosting  \n\n[300 rows x 10 columns]",
      "text/html": "<div>\n<style scoped>\n    .dataframe tbody tr th:only-of-type {\n        vertical-align: middle;\n    }\n\n    .dataframe tbody tr th {\n        vertical-align: top;\n    }\n\n    .dataframe thead th {\n        text-align: right;\n    }\n</style>\n<table border=\"1\" class=\"dataframe\">\n  <thead>\n    <tr style=\"text-align: right;\">\n      <th></th>\n      <th>height</th>\n      <th>width</th>\n      <th>categories_count</th>\n      <th>min_numeric</th>\n      <th>max_numeric</th>\n      <th>min_nominal_prob</th>\n      <th>max_nominal_prob</th>\n      <th>max_depth</th>\n      <th>mean_linear_coeff</th>\n      <th>model</th>\n    </tr>\n  </thead>\n  <tbody>\n    <tr>\n      <th>0</th>\n      <td>148</td>\n      <td>19</td>\n      <td>16</td>\n      <td>-0.934878</td>\n      <td>3.626812</td>\n      <td>0.165541</td>\n      <td>0.616976</td>\n      <td>11</td>\n      <td>2.467162e-17</td>\n      <td>svc</td>\n    </tr>\n    <tr>\n      <th>1</th>\n      <td>214</td>\n      <td>10</td>\n      <td>1</td>\n      <td>-1.968487</td>\n      <td>4.832826</td>\n      <td>0.355140</td>\n      <td>0.644860</td>\n      <td>10</td>\n      <td>-2.475235e-01</td>\n      <td>gradient_boosting</td>\n    </tr>\n    <tr>\n      <th>2</th>\n      <td>148</td>\n      <td>19</td>\n      <td>16</td>\n      <td>-0.934878</td>\n      <td>3.626812</td>\n      <td>0.192990</td>\n      <td>0.616976</td>\n      <td>11</td>\n      <td>-2.837156e-01</td>\n      <td>svc</td>\n    </tr>\n    <tr>\n      <th>3</th>\n      <td>107</td>\n      <td>13</td>\n      <td>10</td>\n      <td>-1.594198</td>\n      <td>3.035985</td>\n      <td>0.068224</td>\n      <td>0.506542</td>\n      <td>11</td>\n      <td>-5.415209e-01</td>\n      <td>random_forest</td>\n    </tr>\n    <tr>\n      <th>4</th>\n      <td>63</td>\n      <td>32</td>\n      <td>5</td>\n      <td>-1.277364</td>\n      <td>3.529887</td>\n      <td>0.269841</td>\n      <td>0.396825</td>\n      <td>6</td>\n      <td>-7.405965e-02</td>\n      <td>svc</td>\n    </tr>\n    <tr>\n      <th>...</th>\n      <td>...</td>\n      <td>...</td>\n      <td>...</td>\n      <td>...</td>\n      <td>...</td>\n      <td>...</td>\n      <td>...</td>\n      <td>...</td>\n      <td>...</td>\n      <td>...</td>\n    </tr>\n    <tr>\n      <th>295</th>\n      <td>87</td>\n      <td>11</td>\n      <td>3</td>\n      <td>-2.665234</td>\n      <td>2.345240</td>\n      <td>0.406130</td>\n      <td>0.593870</td>\n      <td>8</td>\n      <td>-3.700526e-01</td>\n      <td>random_forest</td>\n    </tr>\n    <tr>\n      <th>296</th>\n      <td>250</td>\n      <td>11</td>\n      <td>1</td>\n      <td>-1.845884</td>\n      <td>2.203507</td>\n      <td>0.468000</td>\n      <td>0.532000</td>\n      <td>8</td>\n      <td>-6.289213e-02</td>\n      <td>random_forest</td>\n    </tr>\n    <tr>\n      <th>297</th>\n      <td>60</td>\n      <td>8</td>\n      <td>2</td>\n      <td>-2.954480</td>\n      <td>1.787283</td>\n      <td>0.475000</td>\n      <td>0.525000</td>\n      <td>8</td>\n      <td>-3.396893e-01</td>\n      <td>random_forest</td>\n    </tr>\n    <tr>\n      <th>298</th>\n      <td>100</td>\n      <td>4</td>\n      <td>3</td>\n      <td>-1.155026</td>\n      <td>1.124631</td>\n      <td>0.030000</td>\n      <td>0.496667</td>\n      <td>6</td>\n      <td>-3.071355e-01</td>\n      <td>svc</td>\n    </tr>\n    <tr>\n      <th>299</th>\n      <td>100</td>\n      <td>26</td>\n      <td>1</td>\n      <td>-1.696882</td>\n      <td>1.902212</td>\n      <td>0.460000</td>\n      <td>0.540000</td>\n      <td>5</td>\n      <td>-4.235413e-02</td>\n      <td>gradient_boosting</td>\n    </tr>\n  </tbody>\n</table>\n<p>300 rows × 10 columns</p>\n</div>"
     },
     "execution_count": 6,
     "metadata": {},
     "output_type": "execute_result"
    }
   ],
   "source": [
    "models = [\n",
    "    ('svc', SVC),\n",
    "    ('random_forest', RandomForestClassifier),\n",
    "    ('gradient_boosting', GradientBoostingClassifier)\n",
    "]\n",
    "\n",
    "def kfold(x, y, model) -> float:\n",
    "    score = []\n",
    "    for train_index, test_index in KFold(random_state=0, shuffle=True).split(x, y):\n",
    "        model.fit(x[train_index], y[train_index])\n",
    "        y_pred = model.predict(x[test_index])\n",
    "        score.append(accuracy_score(y[test_index], y_pred))\n",
    "    return np.mean(score)\n",
    "\n",
    "def get_score(x, y, model) -> float:\n",
    "    x_train, x_test, y_train, y_test = train_test_split(x, y, random_state=0)\n",
    "    model.fit(x_train, y_train)\n",
    "    y_pred = model.predict(x_test)\n",
    "    return accuracy_score(y_test, y_pred)\n",
    "\n",
    "def get_best_model(dataset) -> str:\n",
    "    results = []\n",
    "    x, y = get_xy(dataset)\n",
    "    for name, model in models:\n",
    "        results.append((kfold(x, y, model(random_state=0)), name))\n",
    "    return max(results, key=lambda x: x[0])[1]\n",
    "\n",
    "meta_dataset['model'] = [get_best_model(dataset) for dataset in tqdm(datasets)]\n",
    "meta_dataset"
   ],
   "metadata": {
    "collapsed": false,
    "pycharm": {
     "name": "#%%\n"
    }
   }
  },
  {
   "cell_type": "code",
   "execution_count": 7,
   "outputs": [
    {
     "data": {
      "text/plain": "Counter({'svc': 131, 'gradient_boosting': 76, 'random_forest': 93})"
     },
     "execution_count": 7,
     "metadata": {},
     "output_type": "execute_result"
    }
   ],
   "source": [
    "Counter(meta_dataset.model)"
   ],
   "metadata": {
    "collapsed": false,
    "pycharm": {
     "name": "#%%\n"
    }
   }
  },
  {
   "cell_type": "code",
   "execution_count": 8,
   "outputs": [
    {
     "data": {
      "text/plain": "<Figure size 640x480 with 1 Axes>",
      "image/png": "[encoded data removed]"
     },
     "metadata": {},
     "output_type": "display_data"
    }
   ],
   "source": [
    "x = meta_dataset.drop('model', axis=1)\n",
    "embedding = UMAP(random_state=0).fit_transform(x)\n",
    "\n",
    "color_mapper = {\n",
    "    'svc': 0,\n",
    "    'random_forest': 1,\n",
    "    'gradient_boosting': 2\n",
    "}\n",
    "\n",
    "plt.scatter(\n",
    "    embedding[:, 0],\n",
    "    embedding[:, 1],\n",
    "    c=[color_mapper[model] for model in meta_dataset.model]\n",
    ")\n",
    "plt.show()"
   ],
   "metadata": {
    "collapsed": false,
    "pycharm": {
     "name": "#%%\n"
    }
   }
  },
  {
   "cell_type": "code",
   "execution_count": 9,
   "outputs": [
    {
     "name": "stdout",
     "output_type": "stream",
     "text": [
      "--- Accuracy ---\n",
      "Naive:  0.43666666666666665\n",
      "BernoulliNB:  0.43666666666666665\n",
      "SVC:  0.43666666666666665\n"
     ]
    }
   ],
   "source": [
    "from sklearn.naive_bayes import BernoulliNB\n",
    "from sklearn.linear_model import SGDClassifier\n",
    "\n",
    "# наивный - возьмем алгоритм с лучшей точностью\n",
    "class Naive:\n",
    "    best = None\n",
    "\n",
    "    def fit(self, _, y):\n",
    "        self.best = mode(y).mode[0]\n",
    "\n",
    "    def predict(self, x):\n",
    "        return [self.best for _ in range(len(x))]\n",
    "\n",
    "x, y = meta_dataset.drop('model', axis=1).to_numpy(), meta_dataset.model.to_numpy()\n",
    "print(\"--- Accuracy ---\")\n",
    "print(\"Naive: \", kfold(x, y, Naive()))\n",
    "print(\"BernoulliNB: \", kfold(x, y, BernoulliNB()))\n",
    "print(\"SVC: \", kfold(x, y, SVC()))"
   ],
   "metadata": {
    "collapsed": false,
    "pycharm": {
     "name": "#%%\n"
    }
   }
  },
  {
   "cell_type": "code",
   "execution_count": 9,
   "outputs": [],
   "source": [],
   "metadata": {
    "collapsed": false,
    "pycharm": {
     "name": "#%%\n"
    }
   }
  }
 ],
 "metadata": {
  "kernelspec": {
   "display_name": "Python 3",
   "language": "python",
   "name": "python3"
  },
  "language_info": {
   "codemirror_mode": {
    "name": "ipython",
    "version": 2
   },
   "file_extension": ".py",
   "mimetype": "text/x-python",
   "name": "python",
   "nbconvert_exporter": "python",
   "pygments_lexer": "ipython2",
   "version": "2.7.6"
  }
 },
 "nbformat": 4,
 "nbformat_minor": 0
}