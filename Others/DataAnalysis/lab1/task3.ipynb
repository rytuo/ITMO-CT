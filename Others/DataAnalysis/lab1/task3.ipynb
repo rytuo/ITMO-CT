{
 "cells": [
  {
   "cell_type": "code",
   "execution_count": 1,
   "id": "a0fde696-01a4-46d0-b8a6-61627f9a4351",
   "metadata": {},
   "outputs": [],
   "source": [
    "import numpy as np\n",
    "import matplotlib.pyplot as plt\n",
    "from typing import List, Tuple, Union\n",
    "from math import floor"
   ]
  },
  {
   "cell_type": "code",
   "execution_count": 2,
   "id": "2b637f2f-c8db-41f6-989d-a953ff10fcf4",
   "metadata": {},
   "outputs": [],
   "source": [
    "# имитация plt.hist через plt.bar\n",
    "\n",
    "def fast_hist(arr: List[Union[int, float]],\n",
    "              bins: int, rwidth=1) -> Tuple[List[int], List[float]]:\n",
    "    start, end = min(arr), max(arr)\n",
    "    width = (end - start) / bins\n",
    "    labels = [(start + i * width) for i in range(bins + 1)]\n",
    "    counts = [0 for i in range(bins)]\n",
    "    for x in arr:\n",
    "        ind = floor((x - start) / width)\n",
    "        if ind == len(counts):\n",
    "            ind = ind - 1\n",
    "        counts[ind] = counts[ind] + 1\n",
    "    \n",
    "    centers = [(labels[i] + labels[i + 1]) / 2 for i in range(bins)]\n",
    "    plt.bar(x = centers, height=counts, width = width*rwidth)\n",
    "    \n",
    "    return counts, labels"
   ]
  },
  {
   "cell_type": "code",
   "execution_count": 3,
   "id": "4056caa3-13d0-47bf-af56-5a3e84aba1ff",
   "metadata": {},
   "outputs": [
    {
     "data": {
      "image/png": "[encoded data removed]",
      "text/plain": [
       "<Figure size 432x288 with 1 Axes>"
      ]
     },
     "metadata": {
      "needs_background": "light"
     },
     "output_type": "display_data"
    },
    {
     "data": {
      "image/png": "[encoded data removed]",
      "text/plain": [
       "<Figure size 432x288 with 1 Axes>"
      ]
     },
     "metadata": {
      "needs_background": "light"
     },
     "output_type": "display_data"
    },
    {
     "name": "stdout",
     "output_type": "stream",
     "text": [
      "True\n",
      "True\n"
     ]
    }
   ],
   "source": [
    "# проверка на случайных данных\n",
    "np.random.seed(12345)\n",
    "\n",
    "array = np.random.normal(scale=10, size=60)\n",
    "\n",
    "t1, t2 = fast_hist(array, bins=len(set(array)), rwidth=0.9)\n",
    "plt.show()\n",
    "t3, t4, t5 = plt.hist(array, bins=len(set(array)), rwidth=0.9)\n",
    "plt.show()\n",
    "\n",
    "print(np.all(t1 == t3))\n",
    "print(np.all(t2 == t4))"
   ]
  },
  {
   "cell_type": "code",
   "execution_count": 4,
   "id": "7ae46baa-50e0-4e25-ab88-aa2a02b5347f",
   "metadata": {},
   "outputs": [
    {
     "name": "stdout",
     "output_type": "stream",
     "text": [
      "42.4 ms ± 965 µs per loop (mean ± std. dev. of 7 runs, 10 loops each)\n"
     ]
    },
    {
     "data": {
      "image/png": "[encoded data removed]",
      "text/plain": [
       "<Figure size 432x288 with 1 Axes>"
      ]
     },
     "metadata": {
      "needs_background": "light"
     },
     "output_type": "display_data"
    },
    {
     "name": "stdout",
     "output_type": "stream",
     "text": [
      "59.2 ms ± 813 µs per loop (mean ± std. dev. of 7 runs, 10 loops each)\n"
     ]
    },
    {
     "data": {
      "image/png": "[encoded data removed]",
      "text/plain": [
       "<Figure size 432x288 with 1 Axes>"
      ]
     },
     "metadata": {
      "needs_background": "light"
     },
     "output_type": "display_data"
    }
   ],
   "source": [
    "# сравнение по времени через timeit\n",
    "\n",
    "array = np.random.normal(scale=10, size=100)\n",
    "\n",
    "%timeit fast_hist(array, bins=len(set(array)), rwidth=0.9)\n",
    "plt.show()\n",
    "\n",
    "%timeit plt.hist(array, bins=len(set(array)), rwidth=0.9) \n",
    "plt.show()"
   ]
  },
  {
   "cell_type": "markdown",
   "id": "ecf7b5c7-3a8b-4829-9b3b-40b877e60ffd",
   "metadata": {},
   "source": [
    "<h4><b>Вывод</b>: моя функция работает чуть быстрее библиотечного аналога за счет уменьшенного функционала.</h4>"
   ]
  },
  {
   "cell_type": "code",
   "execution_count": null,
   "id": "8220bca5-a7f3-46ca-a3d1-c0ea28b9fa6e",
   "metadata": {},
   "outputs": [],
   "source": []
  }
 ],
 "metadata": {
  "kernelspec": {
   "display_name": "Python 3 (ipykernel)",
   "language": "python",
   "name": "python3"
  },
  "language_info": {
   "codemirror_mode": {
    "name": "ipython",
    "version": 3
   },
   "file_extension": ".py",
   "mimetype": "text/x-python",
   "name": "python",
   "nbconvert_exporter": "python",
   "pygments_lexer": "ipython3",
   "version": "3.9.7"
  }
 },
 "nbformat": 4,
 "nbformat_minor": 5
}