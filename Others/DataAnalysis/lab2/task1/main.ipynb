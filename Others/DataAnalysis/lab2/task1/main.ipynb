{
 "cells": [
  {
   "cell_type": "code",
   "execution_count": 13,
   "metadata": {
    "tags": []
   },
   "outputs": [],
   "source": [
    "# делаю через setuptools\n",
    "import setuptools"
   ]
  },
  {
   "cell_type": "code",
   "execution_count": 14,
   "metadata": {},
   "outputs": [
    {
     "name": "stdout",
     "output_type": "stream",
     "text": [
      "Defaulting to user installation because normal site-packages is not writeable\n",
      "Processing /home/rytuo/projects/dataAnalysis/lab2/task1/rytuo_package\n",
      "  Preparing metadata (setup.py) ... \u001b[?25ldone\n",
      "\u001b[?25hRequirement already satisfied: numpy in /home/rytuo/.local/lib/python3.9/site-packages (from rytuo-package==0.1.0) (1.21.2)\n",
      "Requirement already satisfied: matplotlib in /home/rytuo/.local/lib/python3.9/site-packages (from rytuo-package==0.1.0) (3.4.3)\n",
      "Requirement already satisfied: typing in /home/rytuo/.local/lib/python3.9/site-packages (from rytuo-package==0.1.0) (3.7.4.3)\n",
      "Requirement already satisfied: pillow>=6.2.0 in /usr/lib/python3.9/site-packages (from matplotlib->rytuo-package==0.1.0) (8.3.2)\n",
      "Requirement already satisfied: pyparsing>=2.2.1 in /usr/lib/python3.9/site-packages (from matplotlib->rytuo-package==0.1.0) (2.4.7)\n",
      "Requirement already satisfied: python-dateutil>=2.7 in /home/rytuo/.local/lib/python3.9/site-packages (from matplotlib->rytuo-package==0.1.0) (2.8.2)\n",
      "Requirement already satisfied: kiwisolver>=1.0.1 in /home/rytuo/.local/lib/python3.9/site-packages (from matplotlib->rytuo-package==0.1.0) (1.3.2)\n",
      "Requirement already satisfied: cycler>=0.10 in /home/rytuo/.local/lib/python3.9/site-packages (from matplotlib->rytuo-package==0.1.0) (0.10.0)\n",
      "Requirement already satisfied: six in /usr/lib/python3.9/site-packages (from cycler>=0.10->matplotlib->rytuo-package==0.1.0) (1.16.0)\n",
      "Building wheels for collected packages: rytuo-package\n",
      "  Building wheel for rytuo-package (setup.py) ... \u001b[?25ldone\n",
      "\u001b[?25h  Created wheel for rytuo-package: filename=rytuo_package-0.1.0-py3-none-any.whl size=2758 sha256=2ebceaebe890e348497d1fb7728f1db7d781ef83259ed68159ed5a1b9380f61b\n",
      "  Stored in directory: /tmp/pip-ephem-wheel-cache-mewcmovd/wheels/ec/8d/70/5cdd6fb1c9dc19a9e04f97cae68bcbcb6508d6c7a46639cc05\n",
      "Successfully built rytuo-package\n",
      "Installing collected packages: rytuo-package\n",
      "Successfully installed rytuo-package-0.1.0\n"
     ]
    }
   ],
   "source": [
    "# Билд + установка локально\n",
    "\n",
    "! cd rytuo_package && pip install --upgrade ."
   ]
  },
  {
   "cell_type": "code",
   "execution_count": 15,
   "metadata": {},
   "outputs": [
    {
     "data": {
      "image/png": "[encoded data removed]",
      "text/plain": [
       "<Figure size 432x288 with 1 Axes>"
      ]
     },
     "metadata": {
      "needs_background": "light"
     },
     "output_type": "display_data"
    }
   ],
   "source": [
    "# Работает!\n",
    "\n",
    "import rytuo_package.fast_hist as fh\n",
    "import numpy as np\n",
    "import matplotlib.pyplot as plt\n",
    "\n",
    "np.random.seed(12345)\n",
    "array = np.random.normal(scale=10, size=60)\n",
    "\n",
    "fh.fast_hist(array, bins=len(set(array)), rwidth=0.9)\n",
    "plt.show()"
   ]
  },
  {
   "cell_type": "markdown",
   "metadata": {},
   "source": [
    "pip uninstall rytuo_package\n",
    "\n",
    "Found existing installation: rytuo-package 0.1.0\n",
    "Uninstalling rytuo-package-0.1.0:\n",
    "  Would remove:\n",
    "    /home/rytuo/.local/lib/python3.9/site-packages/rytuo_package-0.1.0-py3.9.egg-info\n",
    "    /home/rytuo/.local/lib/python3.9/site-packages/rytuo_package/*\n",
    "Proceed (Y/n)? y\n",
    "  Successfully uninstalled rytuo-package-0.1.0"
   ]
  },
  {
   "cell_type": "code",
   "execution_count": null,
   "metadata": {},
   "outputs": [],
   "source": []
  },
  {
   "cell_type": "code",
   "execution_count": 17,
   "metadata": {},
   "outputs": [
    {
     "name": "stdout",
     "output_type": "stream",
     "text": [
      "Defaulting to user installation because normal site-packages is not writeable\n",
      "Requirement already satisfied: twine in /usr/lib/python3.9/site-packages (3.4.2)\n",
      "Requirement already satisfied: setuptools>=45 in /usr/lib/python3.9/site-packages (from twine) (57.4.0)\n",
      "Requirement already satisfied: setuptools-scm[toml]>=6.0 in /home/rytuo/.local/lib/python3.9/site-packages (from twine) (6.3.2)\n",
      "Requirement already satisfied: wheel in /home/rytuo/.local/lib/python3.9/site-packages (from twine) (0.37.0)\n",
      "Requirement already satisfied: tomli>=1.0.0 in /usr/lib/python3.9/site-packages (from setuptools-scm[toml]>=6.0->twine) (1.2.1)\n",
      "Requirement already satisfied: packaging>=20.0 in /usr/lib/python3.9/site-packages (from setuptools-scm[toml]>=6.0->twine) (20.9)\n",
      "Requirement already satisfied: pyparsing>=2.0.2 in /usr/lib/python3.9/site-packages (from packaging>=20.0->setuptools-scm[toml]>=6.0->twine) (2.4.7)\n"
     ]
    }
   ],
   "source": [
    "! pip install twine"
   ]
  },
  {
   "cell_type": "code",
   "execution_count": 18,
   "metadata": {},
   "outputs": [
    {
     "name": "stdout",
     "output_type": "stream",
     "text": [
      "running sdist\n",
      "running egg_info\n",
      "writing rytuo_package.egg-info/PKG-INFO\n",
      "writing dependency_links to rytuo_package.egg-info/dependency_links.txt\n",
      "writing requirements to rytuo_package.egg-info/requires.txt\n",
      "writing top-level names to rytuo_package.egg-info/top_level.txt\n",
      "listing git files failed - pretending there aren't any\n",
      "reading manifest file 'rytuo_package.egg-info/SOURCES.txt'\n",
      "adding license file 'LICENSE'\n",
      "writing manifest file 'rytuo_package.egg-info/SOURCES.txt'\n",
      "running check\n",
      "creating rytuo_package-0.1.0\n",
      "creating rytuo_package-0.1.0/rytuo_package\n",
      "creating rytuo_package-0.1.0/rytuo_package.egg-info\n",
      "copying files to rytuo_package-0.1.0...\n",
      "copying LICENSE -> rytuo_package-0.1.0\n",
      "copying README.md -> rytuo_package-0.1.0\n",
      "copying setup.py -> rytuo_package-0.1.0\n",
      "copying rytuo_package/__init__.py -> rytuo_package-0.1.0/rytuo_package\n",
      "copying rytuo_package/fast_hist.py -> rytuo_package-0.1.0/rytuo_package\n",
      "copying rytuo_package.egg-info/PKG-INFO -> rytuo_package-0.1.0/rytuo_package.egg-info\n",
      "copying rytuo_package.egg-info/SOURCES.txt -> rytuo_package-0.1.0/rytuo_package.egg-info\n",
      "copying rytuo_package.egg-info/dependency_links.txt -> rytuo_package-0.1.0/rytuo_package.egg-info\n",
      "copying rytuo_package.egg-info/requires.txt -> rytuo_package-0.1.0/rytuo_package.egg-info\n",
      "copying rytuo_package.egg-info/top_level.txt -> rytuo_package-0.1.0/rytuo_package.egg-info\n",
      "Writing rytuo_package-0.1.0/setup.cfg\n",
      "Creating tar archive\n",
      "removing 'rytuo_package-0.1.0' (and everything under it)\n"
     ]
    }
   ],
   "source": [
    "! cd rytuo_package && python setup.py sdist"
   ]
  },
  {
   "cell_type": "markdown",
   "metadata": {},
   "source": [
    "twine upload rytuo_package/dist/*\n",
    "\n",
    "Uploading distributions to https://upload.pypi.org/legacy/\n",
    "Enter your username: Rytuo\n",
    "Enter your password: \n",
    "Uploading rytuo_package-0.1.0.tar.gz\n",
    "100%|████████████████████████████████████████████████████████████████████████████████████████████████████████████████████████████████████| 5.31k/5.31k [00:02<00:00, 2.01kB/s]\n",
    "\n",
    "View at:\n",
    "https://pypi.org/project/rytuo-package/0.1.0/"
   ]
  },
  {
   "cell_type": "code",
   "execution_count": 19,
   "metadata": {},
   "outputs": [
    {
     "name": "stdout",
     "output_type": "stream",
     "text": [
      "Defaulting to user installation because normal site-packages is not writeable\n",
      "Collecting rytuo_package\n",
      "  Using cached rytuo_package-0.1.0-py3-none-any.whl\n",
      "Requirement already satisfied: matplotlib in /home/rytuo/.local/lib/python3.9/site-packages (from rytuo_package) (3.4.3)\n",
      "Requirement already satisfied: numpy in /home/rytuo/.local/lib/python3.9/site-packages (from rytuo_package) (1.21.2)\n",
      "Requirement already satisfied: typing in /home/rytuo/.local/lib/python3.9/site-packages (from rytuo_package) (3.7.4.3)\n",
      "Requirement already satisfied: cycler>=0.10 in /home/rytuo/.local/lib/python3.9/site-packages (from matplotlib->rytuo_package) (0.10.0)\n",
      "Requirement already satisfied: python-dateutil>=2.7 in /home/rytuo/.local/lib/python3.9/site-packages (from matplotlib->rytuo_package) (2.8.2)\n",
      "Requirement already satisfied: pillow>=6.2.0 in /usr/lib/python3.9/site-packages (from matplotlib->rytuo_package) (8.3.2)\n",
      "Requirement already satisfied: kiwisolver>=1.0.1 in /home/rytuo/.local/lib/python3.9/site-packages (from matplotlib->rytuo_package) (1.3.2)\n",
      "Requirement already satisfied: pyparsing>=2.2.1 in /usr/lib/python3.9/site-packages (from matplotlib->rytuo_package) (2.4.7)\n",
      "Requirement already satisfied: six in /usr/lib/python3.9/site-packages (from cycler>=0.10->matplotlib->rytuo_package) (1.16.0)\n",
      "Installing collected packages: rytuo-package\n",
      "Successfully installed rytuo-package-0.1.0\n"
     ]
    },
    {
     "data": {
      "image/png": "[encoded data removed]",
      "text/plain": [
       "<Figure size 432x288 with 1 Axes>"
      ]
     },
     "metadata": {
      "needs_background": "light"
     },
     "output_type": "display_data"
    }
   ],
   "source": [
    "# Тоже работает!\n",
    "! pip install rytuo_package\n",
    "\n",
    "import rytuo_package.fast_hist as fh\n",
    "import numpy as np\n",
    "import matplotlib.pyplot as plt\n",
    "\n",
    "np.random.seed(12345)\n",
    "array = np.random.normal(scale=10, size=60)\n",
    "\n",
    "fh.fast_hist(array, bins=len(set(array)), rwidth=0.9)\n",
    "plt.show()"
   ]
  },
  {
   "cell_type": "code",
   "execution_count": null,
   "metadata": {},
   "outputs": [],
   "source": []
  }
 ],
 "metadata": {
  "kernelspec": {
   "display_name": "Python 3 (ipykernel)",
   "language": "python",
   "name": "python3"
  },
  "language_info": {
   "codemirror_mode": {
    "name": "ipython",
    "version": 3
   },
   "file_extension": ".py",
   "mimetype": "text/x-python",
   "name": "python",
   "nbconvert_exporter": "python",
   "pygments_lexer": "ipython3",
   "version": "3.9.7"
  }
 },
 "nbformat": 4,
 "nbformat_minor": 4
}
