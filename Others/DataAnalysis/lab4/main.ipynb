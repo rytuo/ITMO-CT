{
 "cells": [
  {
   "cell_type": "code",
   "execution_count": 1,
   "id": "d1abfa42-4901-46b2-a3e8-fc68462105e1",
   "metadata": {},
   "outputs": [],
   "source": [
    "import pandas as pd\n",
    "import numpy as np\n",
    "import matplotlib.pyplot as plt\n",
    "from scipy import stats\n",
    "import umap\n",
    "\n",
    "from typing import Tuple\n",
    "from sklearn.ensemble import RandomForestClassifier\n",
    "from sklearn.model_selection import train_test_split\n",
    "\n",
    "from sklearn.metrics import precision_recall_curve, recall_score, precision_score, f1_score\n",
    "\n",
    "plt.rcParams['figure.figsize'] = [14, 3]"
   ]
  },
  {
   "cell_type": "code",
   "execution_count": 2,
   "id": "b122fcee-e331-4b1c-a6c4-c1e2bc69eacd",
   "metadata": {},
   "outputs": [
    {
     "name": "stdout",
     "output_type": "stream",
     "text": [
      "dataset shape: (26271, 10)\n"
     ]
    },
    {
     "data": {
      "text/html": [
       "<div>\n",
       "<style scoped>\n",
       "    .dataframe tbody tr th:only-of-type {\n",
       "        vertical-align: middle;\n",
       "    }\n",
       "\n",
       "    .dataframe tbody tr th {\n",
       "        vertical-align: top;\n",
       "    }\n",
       "\n",
       "    .dataframe thead th {\n",
       "        text-align: right;\n",
       "    }\n",
       "</style>\n",
       "<table border=\"1\" class=\"dataframe\">\n",
       "  <thead>\n",
       "    <tr style=\"text-align: right;\">\n",
       "      <th></th>\n",
       "      <th>code</th>\n",
       "      <th>province</th>\n",
       "      <th>date</th>\n",
       "      <th>avg_temp</th>\n",
       "      <th>min_temp</th>\n",
       "      <th>max_temp</th>\n",
       "      <th>precipitation</th>\n",
       "      <th>max_wind_speed</th>\n",
       "      <th>most_wind_direction</th>\n",
       "      <th>avg_relative_humidity</th>\n",
       "    </tr>\n",
       "  </thead>\n",
       "  <tbody>\n",
       "    <tr>\n",
       "      <th>0</th>\n",
       "      <td>10000</td>\n",
       "      <td>Seoul</td>\n",
       "      <td>2016-01-01</td>\n",
       "      <td>1.2</td>\n",
       "      <td>-3.3</td>\n",
       "      <td>4.0</td>\n",
       "      <td>0.0</td>\n",
       "      <td>3.5</td>\n",
       "      <td>90.0</td>\n",
       "      <td>73.0</td>\n",
       "    </tr>\n",
       "    <tr>\n",
       "      <th>1</th>\n",
       "      <td>11000</td>\n",
       "      <td>Busan</td>\n",
       "      <td>2016-01-01</td>\n",
       "      <td>5.3</td>\n",
       "      <td>1.1</td>\n",
       "      <td>10.9</td>\n",
       "      <td>0.0</td>\n",
       "      <td>7.4</td>\n",
       "      <td>340.0</td>\n",
       "      <td>52.1</td>\n",
       "    </tr>\n",
       "    <tr>\n",
       "      <th>2</th>\n",
       "      <td>12000</td>\n",
       "      <td>Daegu</td>\n",
       "      <td>2016-01-01</td>\n",
       "      <td>1.7</td>\n",
       "      <td>-4.0</td>\n",
       "      <td>8.0</td>\n",
       "      <td>0.0</td>\n",
       "      <td>3.7</td>\n",
       "      <td>270.0</td>\n",
       "      <td>70.5</td>\n",
       "    </tr>\n",
       "    <tr>\n",
       "      <th>3</th>\n",
       "      <td>13000</td>\n",
       "      <td>Gwangju</td>\n",
       "      <td>2016-01-01</td>\n",
       "      <td>3.2</td>\n",
       "      <td>-1.5</td>\n",
       "      <td>8.1</td>\n",
       "      <td>0.0</td>\n",
       "      <td>2.7</td>\n",
       "      <td>230.0</td>\n",
       "      <td>73.1</td>\n",
       "    </tr>\n",
       "    <tr>\n",
       "      <th>4</th>\n",
       "      <td>14000</td>\n",
       "      <td>Incheon</td>\n",
       "      <td>2016-01-01</td>\n",
       "      <td>3.1</td>\n",
       "      <td>-0.4</td>\n",
       "      <td>5.7</td>\n",
       "      <td>0.0</td>\n",
       "      <td>5.3</td>\n",
       "      <td>180.0</td>\n",
       "      <td>83.9</td>\n",
       "    </tr>\n",
       "    <tr>\n",
       "      <th>5</th>\n",
       "      <td>15000</td>\n",
       "      <td>Daejeon</td>\n",
       "      <td>2016-01-01</td>\n",
       "      <td>1.6</td>\n",
       "      <td>-4.2</td>\n",
       "      <td>7.7</td>\n",
       "      <td>0.0</td>\n",
       "      <td>4.4</td>\n",
       "      <td>320.0</td>\n",
       "      <td>77.4</td>\n",
       "    </tr>\n",
       "    <tr>\n",
       "      <th>6</th>\n",
       "      <td>16000</td>\n",
       "      <td>Ulsan</td>\n",
       "      <td>2016-01-01</td>\n",
       "      <td>4.0</td>\n",
       "      <td>-1.6</td>\n",
       "      <td>12.0</td>\n",
       "      <td>0.0</td>\n",
       "      <td>2.7</td>\n",
       "      <td>320.0</td>\n",
       "      <td>53.3</td>\n",
       "    </tr>\n",
       "  </tbody>\n",
       "</table>\n",
       "</div>"
      ],
      "text/plain": [
       "    code province        date  avg_temp  min_temp  max_temp  precipitation  \\\n",
       "0  10000    Seoul  2016-01-01       1.2      -3.3       4.0            0.0   \n",
       "1  11000    Busan  2016-01-01       5.3       1.1      10.9            0.0   \n",
       "2  12000    Daegu  2016-01-01       1.7      -4.0       8.0            0.0   \n",
       "3  13000  Gwangju  2016-01-01       3.2      -1.5       8.1            0.0   \n",
       "4  14000  Incheon  2016-01-01       3.1      -0.4       5.7            0.0   \n",
       "5  15000  Daejeon  2016-01-01       1.6      -4.2       7.7            0.0   \n",
       "6  16000    Ulsan  2016-01-01       4.0      -1.6      12.0            0.0   \n",
       "\n",
       "   max_wind_speed  most_wind_direction  avg_relative_humidity  \n",
       "0             3.5                 90.0                   73.0  \n",
       "1             7.4                340.0                   52.1  \n",
       "2             3.7                270.0                   70.5  \n",
       "3             2.7                230.0                   73.1  \n",
       "4             5.3                180.0                   83.9  \n",
       "5             4.4                320.0                   77.4  \n",
       "6             2.7                320.0                   53.3  "
      ]
     },
     "execution_count": 2,
     "metadata": {},
     "output_type": "execute_result"
    }
   ],
   "source": [
    "# загружаем датасет\n",
    "data = pd.read_csv('data/raw/Weather.csv')\n",
    "print(f'dataset shape: {data.shape}')\n",
    "data.head(7)"
   ]
  },
  {
   "cell_type": "code",
   "execution_count": 3,
   "id": "6ff6d5a2-d001-4960-8300-81ce5e519ccd",
   "metadata": {},
   "outputs": [
    {
     "data": {
      "text/html": [
       "<div>\n",
       "<style scoped>\n",
       "    .dataframe tbody tr th:only-of-type {\n",
       "        vertical-align: middle;\n",
       "    }\n",
       "\n",
       "    .dataframe tbody tr th {\n",
       "        vertical-align: top;\n",
       "    }\n",
       "\n",
       "    .dataframe thead th {\n",
       "        text-align: right;\n",
       "    }\n",
       "</style>\n",
       "<table border=\"1\" class=\"dataframe\">\n",
       "  <thead>\n",
       "    <tr style=\"text-align: right;\">\n",
       "      <th></th>\n",
       "      <th>code</th>\n",
       "      <th>province</th>\n",
       "      <th>avg_temp</th>\n",
       "      <th>min_temp</th>\n",
       "      <th>max_temp</th>\n",
       "      <th>precipitation</th>\n",
       "      <th>max_wind_speed</th>\n",
       "      <th>most_wind_direction</th>\n",
       "      <th>avg_relative_humidity</th>\n",
       "    </tr>\n",
       "    <tr>\n",
       "      <th>date</th>\n",
       "      <th></th>\n",
       "      <th></th>\n",
       "      <th></th>\n",
       "      <th></th>\n",
       "      <th></th>\n",
       "      <th></th>\n",
       "      <th></th>\n",
       "      <th></th>\n",
       "      <th></th>\n",
       "    </tr>\n",
       "  </thead>\n",
       "  <tbody>\n",
       "    <tr>\n",
       "      <th>2016-01-01</th>\n",
       "      <td>10000</td>\n",
       "      <td>Seoul</td>\n",
       "      <td>1.2</td>\n",
       "      <td>-3.3</td>\n",
       "      <td>4.0</td>\n",
       "      <td>0.0</td>\n",
       "      <td>3.5</td>\n",
       "      <td>90.0</td>\n",
       "      <td>73.0</td>\n",
       "    </tr>\n",
       "    <tr>\n",
       "      <th>2016-01-02</th>\n",
       "      <td>10000</td>\n",
       "      <td>Seoul</td>\n",
       "      <td>5.7</td>\n",
       "      <td>1.0</td>\n",
       "      <td>9.5</td>\n",
       "      <td>0.0</td>\n",
       "      <td>4.5</td>\n",
       "      <td>320.0</td>\n",
       "      <td>76.9</td>\n",
       "    </tr>\n",
       "    <tr>\n",
       "      <th>2016-01-03</th>\n",
       "      <td>10000</td>\n",
       "      <td>Seoul</td>\n",
       "      <td>6.5</td>\n",
       "      <td>5.1</td>\n",
       "      <td>9.4</td>\n",
       "      <td>0.0</td>\n",
       "      <td>4.0</td>\n",
       "      <td>320.0</td>\n",
       "      <td>80.6</td>\n",
       "    </tr>\n",
       "    <tr>\n",
       "      <th>2016-01-04</th>\n",
       "      <td>10000</td>\n",
       "      <td>Seoul</td>\n",
       "      <td>2.0</td>\n",
       "      <td>-2.5</td>\n",
       "      <td>5.3</td>\n",
       "      <td>0.0</td>\n",
       "      <td>5.1</td>\n",
       "      <td>320.0</td>\n",
       "      <td>54.4</td>\n",
       "    </tr>\n",
       "    <tr>\n",
       "      <th>2016-01-05</th>\n",
       "      <td>10000</td>\n",
       "      <td>Seoul</td>\n",
       "      <td>-2.7</td>\n",
       "      <td>-4.8</td>\n",
       "      <td>1.5</td>\n",
       "      <td>0.0</td>\n",
       "      <td>4.6</td>\n",
       "      <td>20.0</td>\n",
       "      <td>39.4</td>\n",
       "    </tr>\n",
       "  </tbody>\n",
       "</table>\n",
       "</div>"
      ],
      "text/plain": [
       "             code province  avg_temp  min_temp  max_temp  precipitation  \\\n",
       "date                                                                      \n",
       "2016-01-01  10000    Seoul       1.2      -3.3       4.0            0.0   \n",
       "2016-01-02  10000    Seoul       5.7       1.0       9.5            0.0   \n",
       "2016-01-03  10000    Seoul       6.5       5.1       9.4            0.0   \n",
       "2016-01-04  10000    Seoul       2.0      -2.5       5.3            0.0   \n",
       "2016-01-05  10000    Seoul      -2.7      -4.8       1.5            0.0   \n",
       "\n",
       "            max_wind_speed  most_wind_direction  avg_relative_humidity  \n",
       "date                                                                    \n",
       "2016-01-01             3.5                 90.0                   73.0  \n",
       "2016-01-02             4.5                320.0                   76.9  \n",
       "2016-01-03             4.0                320.0                   80.6  \n",
       "2016-01-04             5.1                320.0                   54.4  \n",
       "2016-01-05             4.6                 20.0                   39.4  "
      ]
     },
     "execution_count": 3,
     "metadata": {},
     "output_type": "execute_result"
    }
   ],
   "source": [
    "data = data[data['province'] == 'Seoul']\n",
    "data['date'] = pd.to_datetime(data['date'], format='%Y-%m-%d')\n",
    "data = data.set_index(['date']).sort_index()\n",
    "data.fillna(method='ffill')\n",
    "data.head()"
   ]
  },
  {
   "cell_type": "code",
   "execution_count": 4,
   "id": "0d1b99df-40f4-43e7-ab51-d6ba73263dc6",
   "metadata": {},
   "outputs": [
    {
     "name": "stdout",
     "output_type": "stream",
     "text": [
      "<class 'pandas.core.frame.DataFrame'>\n",
      "DatetimeIndex: 1642 entries, 2016-01-01 to 2020-06-29\n",
      "Data columns (total 9 columns):\n",
      " #   Column                 Non-Null Count  Dtype  \n",
      "---  ------                 --------------  -----  \n",
      " 0   code                   1642 non-null   int64  \n",
      " 1   province               1642 non-null   object \n",
      " 2   avg_temp               1642 non-null   float64\n",
      " 3   min_temp               1642 non-null   float64\n",
      " 4   max_temp               1641 non-null   float64\n",
      " 5   precipitation          1642 non-null   float64\n",
      " 6   max_wind_speed         1640 non-null   float64\n",
      " 7   most_wind_direction    1639 non-null   float64\n",
      " 8   avg_relative_humidity  1642 non-null   float64\n",
      "dtypes: float64(7), int64(1), object(1)\n",
      "memory usage: 128.3+ KB\n"
     ]
    }
   ],
   "source": [
    "data.info()"
   ]
  },
  {
   "cell_type": "code",
   "execution_count": 5,
   "id": "ec116acf-f3eb-4aec-8c89-755335831a2a",
   "metadata": {},
   "outputs": [
    {
     "data": {
      "text/plain": [
       "<AxesSubplot:xlabel='date'>"
      ]
     },
     "execution_count": 5,
     "metadata": {},
     "output_type": "execute_result"
    },
    {
     "data": {
      "image/png": "[encoded data removed]",
      "text/plain": [
       "<Figure size 1008x216 with 1 Axes>"
      ]
     },
     "metadata": {
      "needs_background": "light"
     },
     "output_type": "display_data"
    }
   ],
   "source": [
    "# наш признак\n",
    "data['avg_temp'].plot()"
   ]
  },
  {
   "cell_type": "code",
   "execution_count": 6,
   "id": "96352a19-f628-4594-922d-24e9e45d528e",
   "metadata": {},
   "outputs": [
    {
     "data": {
      "text/plain": [
       "<AxesSubplot:>"
      ]
     },
     "execution_count": 6,
     "metadata": {},
     "output_type": "execute_result"
    },
    {
     "data": {
      "image/png": "[encoded data removed]",
      "text/plain": [
       "<Figure size 1008x216 with 1 Axes>"
      ]
     },
     "metadata": {
      "needs_background": "light"
     },
     "output_type": "display_data"
    }
   ],
   "source": [
    "# дискретизируем его\n",
    "data['avg_temp_n'] = data['avg_temp'].apply(lambda x: 'high' if x > 15 else 'medium' if x > 0 else 'low')\n",
    "data['avg_temp_n'].hist()"
   ]
  },
  {
   "cell_type": "code",
   "execution_count": 7,
   "id": "879c1b68-38e6-48dd-bdd0-7d4f6c7433a0",
   "metadata": {},
   "outputs": [],
   "source": [
    "# выбираем нужные нам признаки\n",
    "x_features = ['avg_relative_humidity', 'precipitation', 'max_wind_speed', 'most_wind_direction']\n",
    "y_feature  = 'avg_temp_n'"
   ]
  },
  {
   "cell_type": "code",
   "execution_count": 8,
   "id": "b3fa5a7a-0ee6-4afd-8a28-170eaf989b12",
   "metadata": {},
   "outputs": [
    {
     "data": {
      "text/plain": [
       "<AxesSubplot:>"
      ]
     },
     "execution_count": 8,
     "metadata": {},
     "output_type": "execute_result"
    },
    {
     "data": {
      "image/png": "[encoded data removed]",
      "text/plain": [
       "<Figure size 1008x216 with 1 Axes>"
      ]
     },
     "metadata": {
      "needs_background": "light"
     },
     "output_type": "display_data"
    }
   ],
   "source": [
    "(data['avg_relative_humidity']).hist()"
   ]
  },
  {
   "cell_type": "code",
   "execution_count": 81,
   "id": "38608268-0b29-4bd8-b2de-5feb92483c34",
   "metadata": {},
   "outputs": [
    {
     "data": {
      "text/plain": [
       "NormaltestResult(statistic=0.23825470244061997, pvalue=0.8876947445541982)"
      ]
     },
     "execution_count": 81,
     "metadata": {},
     "output_type": "execute_result"
    }
   ],
   "source": [
    "stats.normaltest(data['avg_relative_humidity'].sample(100))"
   ]
  },
  {
   "cell_type": "code",
   "execution_count": 104,
   "id": "6f7b37d7-7019-44eb-b6c1-2333018c1d2c",
   "metadata": {},
   "outputs": [
    {
     "name": "stdout",
     "output_type": "stream",
     "text": [
      "NormaltestResult(statistic=171.65690210117444, pvalue=5.311012437028955e-38)\n",
      "NormaltestResult(statistic=2.1440545808495846, pvalue=0.34231384392610176)\n",
      "NormaltestResult(statistic=19.743731339298655, pvalue=5.160635832841064e-05)\n",
      "NormaltestResult(statistic=26.576045118259984, pvalue=1.6946699444520489e-06)\n"
     ]
    }
   ],
   "source": [
    "print(stats.normaltest(data['precipitation'].sample(100)))\n",
    "print(stats.normaltest(data['max_wind_speed'].sample(100)))\n",
    "print(stats.normaltest(data['most_wind_direction'].sample(100)))\n",
    "print(stats.normaltest(data['avg_temp'].sample(100)))"
   ]
  },
  {
   "cell_type": "code",
   "execution_count": 9,
   "id": "82d6f6f8-952d-4524-9bbd-0fb7a45cef36",
   "metadata": {},
   "outputs": [],
   "source": [
    "# введем значение ошибки - разница теоретического и практического количества\n",
    "# особей в классе относительно теоретической величины самого класса\n",
    "def get_err(pred: list, trueth: list) -> np.ndarray:\n",
    "    uniqueT, countsT = np.unique(trueth, return_counts=True)\n",
    "    uniqueP, countsP = np.unique(pred, return_counts=True)\n",
    "    err = 0\n",
    "    for i in range(len(countsT)):\n",
    "        err = err + abs(countsP[i] - countsT[i]) / countsT[i]\n",
    "    return err"
   ]
  },
  {
   "cell_type": "code",
   "execution_count": 10,
   "id": "db6cf73e-7289-4661-b6a4-f80179d8153f",
   "metadata": {},
   "outputs": [],
   "source": [
    "# запустим модель и сравним предсказанные данные с тренировочной выборкой\n",
    "\n",
    "# разделим выборку на тренировочную и тестовую\n",
    "train, test = train_test_split(data, \n",
    "                               shuffle=True,\n",
    "                               test_size=0.2, \n",
    "                               random_state=0)\n",
    "\n",
    "def make_xy(data: pd.DataFrame) -> Tuple[pd.DataFrame, pd.Series]:\n",
    "    x = data[x_features].fillna(method='ffill')\n",
    "    y = data[y_feature]\n",
    "    return x, y\n",
    "\n",
    "# Обучим модель\n",
    "x_train, y_train = make_xy(train)\n",
    "trained_model = RandomForestClassifier().fit(x_train, y_train)\n",
    "\n",
    "# Предскажем тестовые данные\n",
    "x_test, y_test = make_xy(test)\n",
    "y_pred = trained_model.predict(x_test)"
   ]
  },
  {
   "cell_type": "code",
   "execution_count": 11,
   "id": "cf183307-57e2-4fe4-8dee-5d75e1174f09",
   "metadata": {},
   "outputs": [
    {
     "name": "stdout",
     "output_type": "stream",
     "text": [
      "0.31313155731760384\n"
     ]
    },
    {
     "data": {
      "image/png": "[encoded data removed]",
      "text/plain": [
       "<Figure size 1008x216 with 1 Axes>"
      ]
     },
     "metadata": {
      "needs_background": "light"
     },
     "output_type": "display_data"
    }
   ],
   "source": [
    "print(get_err(y_pred, y_test))\n",
    "\n",
    "plt.hist([y_test, y_pred])\n",
    "plt.show()"
   ]
  },
  {
   "cell_type": "markdown",
   "id": "3d7bc94b-34f8-4ccb-9aa6-371364b8fd31",
   "metadata": {},
   "source": [
    "Вывод: ошибка мала, значит качесто предсказания довольно высокое"
   ]
  },
  {
   "cell_type": "code",
   "execution_count": null,
   "id": "dd3b68ac-0a6e-4c59-9740-edce0fa875f5",
   "metadata": {},
   "outputs": [],
   "source": []
  }
 ],
 "metadata": {
  "kernelspec": {
   "display_name": "Python 3 (ipykernel)",
   "language": "python",
   "name": "python3"
  },
  "language_info": {
   "codemirror_mode": {
    "name": "ipython",
    "version": 3
   },
   "file_extension": ".py",
   "mimetype": "text/x-python",
   "name": "python",
   "nbconvert_exporter": "python",
   "pygments_lexer": "ipython3",
   "version": "3.9.7"
  }
 },
 "nbformat": 4,
 "nbformat_minor": 5
}
