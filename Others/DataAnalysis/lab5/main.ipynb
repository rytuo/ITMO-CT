{
 "cells": [
  {
   "cell_type": "code",
   "execution_count": 1,
   "id": "d6384ed1-7a37-4d0d-9beb-3c953b6c2032",
   "metadata": {},
   "outputs": [],
   "source": [
    "import pandas as pd\n",
    "import numpy as np\n",
    "import matplotlib.pyplot as plt\n",
    "from scipy import stats\n",
    "import umap\n",
    "\n",
    "from typing import Tuple\n",
    "from sklearn.cluster import KMeans\n",
    "\n",
    "plt.rcParams['figure.figsize'] = [14, 3]"
   ]
  },
  {
   "cell_type": "code",
   "execution_count": 2,
   "id": "e4f0fde0-9661-4d22-ac25-dc311ca3f89c",
   "metadata": {
    "tags": []
   },
   "outputs": [
    {
     "name": "stdout",
     "output_type": "stream",
     "text": [
      "dataset shape: (26271, 10)\n"
     ]
    },
    {
     "data": {
      "text/html": [
       "<div>\n",
       "<style scoped>\n",
       "    .dataframe tbody tr th:only-of-type {\n",
       "        vertical-align: middle;\n",
       "    }\n",
       "\n",
       "    .dataframe tbody tr th {\n",
       "        vertical-align: top;\n",
       "    }\n",
       "\n",
       "    .dataframe thead th {\n",
       "        text-align: right;\n",
       "    }\n",
       "</style>\n",
       "<table border=\"1\" class=\"dataframe\">\n",
       "  <thead>\n",
       "    <tr style=\"text-align: right;\">\n",
       "      <th></th>\n",
       "      <th>code</th>\n",
       "      <th>province</th>\n",
       "      <th>date</th>\n",
       "      <th>avg_temp</th>\n",
       "      <th>min_temp</th>\n",
       "      <th>max_temp</th>\n",
       "      <th>precipitation</th>\n",
       "      <th>max_wind_speed</th>\n",
       "      <th>most_wind_direction</th>\n",
       "      <th>avg_relative_humidity</th>\n",
       "    </tr>\n",
       "  </thead>\n",
       "  <tbody>\n",
       "    <tr>\n",
       "      <th>0</th>\n",
       "      <td>10000</td>\n",
       "      <td>Seoul</td>\n",
       "      <td>2016-01-01</td>\n",
       "      <td>1.2</td>\n",
       "      <td>-3.3</td>\n",
       "      <td>4.0</td>\n",
       "      <td>0.0</td>\n",
       "      <td>3.5</td>\n",
       "      <td>90.0</td>\n",
       "      <td>73.0</td>\n",
       "    </tr>\n",
       "    <tr>\n",
       "      <th>1</th>\n",
       "      <td>11000</td>\n",
       "      <td>Busan</td>\n",
       "      <td>2016-01-01</td>\n",
       "      <td>5.3</td>\n",
       "      <td>1.1</td>\n",
       "      <td>10.9</td>\n",
       "      <td>0.0</td>\n",
       "      <td>7.4</td>\n",
       "      <td>340.0</td>\n",
       "      <td>52.1</td>\n",
       "    </tr>\n",
       "    <tr>\n",
       "      <th>2</th>\n",
       "      <td>12000</td>\n",
       "      <td>Daegu</td>\n",
       "      <td>2016-01-01</td>\n",
       "      <td>1.7</td>\n",
       "      <td>-4.0</td>\n",
       "      <td>8.0</td>\n",
       "      <td>0.0</td>\n",
       "      <td>3.7</td>\n",
       "      <td>270.0</td>\n",
       "      <td>70.5</td>\n",
       "    </tr>\n",
       "    <tr>\n",
       "      <th>3</th>\n",
       "      <td>13000</td>\n",
       "      <td>Gwangju</td>\n",
       "      <td>2016-01-01</td>\n",
       "      <td>3.2</td>\n",
       "      <td>-1.5</td>\n",
       "      <td>8.1</td>\n",
       "      <td>0.0</td>\n",
       "      <td>2.7</td>\n",
       "      <td>230.0</td>\n",
       "      <td>73.1</td>\n",
       "    </tr>\n",
       "    <tr>\n",
       "      <th>4</th>\n",
       "      <td>14000</td>\n",
       "      <td>Incheon</td>\n",
       "      <td>2016-01-01</td>\n",
       "      <td>3.1</td>\n",
       "      <td>-0.4</td>\n",
       "      <td>5.7</td>\n",
       "      <td>0.0</td>\n",
       "      <td>5.3</td>\n",
       "      <td>180.0</td>\n",
       "      <td>83.9</td>\n",
       "    </tr>\n",
       "    <tr>\n",
       "      <th>5</th>\n",
       "      <td>15000</td>\n",
       "      <td>Daejeon</td>\n",
       "      <td>2016-01-01</td>\n",
       "      <td>1.6</td>\n",
       "      <td>-4.2</td>\n",
       "      <td>7.7</td>\n",
       "      <td>0.0</td>\n",
       "      <td>4.4</td>\n",
       "      <td>320.0</td>\n",
       "      <td>77.4</td>\n",
       "    </tr>\n",
       "    <tr>\n",
       "      <th>6</th>\n",
       "      <td>16000</td>\n",
       "      <td>Ulsan</td>\n",
       "      <td>2016-01-01</td>\n",
       "      <td>4.0</td>\n",
       "      <td>-1.6</td>\n",
       "      <td>12.0</td>\n",
       "      <td>0.0</td>\n",
       "      <td>2.7</td>\n",
       "      <td>320.0</td>\n",
       "      <td>53.3</td>\n",
       "    </tr>\n",
       "  </tbody>\n",
       "</table>\n",
       "</div>"
      ],
      "text/plain": [
       "    code province        date  avg_temp  min_temp  max_temp  precipitation  \\\n",
       "0  10000    Seoul  2016-01-01       1.2      -3.3       4.0            0.0   \n",
       "1  11000    Busan  2016-01-01       5.3       1.1      10.9            0.0   \n",
       "2  12000    Daegu  2016-01-01       1.7      -4.0       8.0            0.0   \n",
       "3  13000  Gwangju  2016-01-01       3.2      -1.5       8.1            0.0   \n",
       "4  14000  Incheon  2016-01-01       3.1      -0.4       5.7            0.0   \n",
       "5  15000  Daejeon  2016-01-01       1.6      -4.2       7.7            0.0   \n",
       "6  16000    Ulsan  2016-01-01       4.0      -1.6      12.0            0.0   \n",
       "\n",
       "   max_wind_speed  most_wind_direction  avg_relative_humidity  \n",
       "0             3.5                 90.0                   73.0  \n",
       "1             7.4                340.0                   52.1  \n",
       "2             3.7                270.0                   70.5  \n",
       "3             2.7                230.0                   73.1  \n",
       "4             5.3                180.0                   83.9  \n",
       "5             4.4                320.0                   77.4  \n",
       "6             2.7                320.0                   53.3  "
      ]
     },
     "execution_count": 2,
     "metadata": {},
     "output_type": "execute_result"
    }
   ],
   "source": [
    "# загружаем датасет\n",
    "\n",
    "df = pd.read_csv('data/raw/Weather.csv')\n",
    "print(f'dataset shape: {df.shape}')\n",
    "df.head(7)"
   ]
  },
  {
   "cell_type": "code",
   "execution_count": 3,
   "id": "3171424b-d9db-44c7-83ba-aa86513a54e1",
   "metadata": {
    "tags": []
   },
   "outputs": [
    {
     "data": {
      "text/html": [
       "<div>\n",
       "<style scoped>\n",
       "    .dataframe tbody tr th:only-of-type {\n",
       "        vertical-align: middle;\n",
       "    }\n",
       "\n",
       "    .dataframe tbody tr th {\n",
       "        vertical-align: top;\n",
       "    }\n",
       "\n",
       "    .dataframe thead th {\n",
       "        text-align: right;\n",
       "    }\n",
       "</style>\n",
       "<table border=\"1\" class=\"dataframe\">\n",
       "  <thead>\n",
       "    <tr style=\"text-align: right;\">\n",
       "      <th></th>\n",
       "      <th>code</th>\n",
       "      <th>province</th>\n",
       "      <th>avg_temp</th>\n",
       "      <th>min_temp</th>\n",
       "      <th>max_temp</th>\n",
       "      <th>precipitation</th>\n",
       "      <th>max_wind_speed</th>\n",
       "      <th>most_wind_direction</th>\n",
       "      <th>avg_relative_humidity</th>\n",
       "    </tr>\n",
       "    <tr>\n",
       "      <th>date</th>\n",
       "      <th></th>\n",
       "      <th></th>\n",
       "      <th></th>\n",
       "      <th></th>\n",
       "      <th></th>\n",
       "      <th></th>\n",
       "      <th></th>\n",
       "      <th></th>\n",
       "      <th></th>\n",
       "    </tr>\n",
       "  </thead>\n",
       "  <tbody>\n",
       "    <tr>\n",
       "      <th>2016-01-01</th>\n",
       "      <td>10000</td>\n",
       "      <td>Seoul</td>\n",
       "      <td>1.2</td>\n",
       "      <td>-3.3</td>\n",
       "      <td>4.0</td>\n",
       "      <td>0.0</td>\n",
       "      <td>3.5</td>\n",
       "      <td>90.0</td>\n",
       "      <td>73.0</td>\n",
       "    </tr>\n",
       "    <tr>\n",
       "      <th>2016-01-02</th>\n",
       "      <td>10000</td>\n",
       "      <td>Seoul</td>\n",
       "      <td>5.7</td>\n",
       "      <td>1.0</td>\n",
       "      <td>9.5</td>\n",
       "      <td>0.0</td>\n",
       "      <td>4.5</td>\n",
       "      <td>320.0</td>\n",
       "      <td>76.9</td>\n",
       "    </tr>\n",
       "    <tr>\n",
       "      <th>2016-01-03</th>\n",
       "      <td>10000</td>\n",
       "      <td>Seoul</td>\n",
       "      <td>6.5</td>\n",
       "      <td>5.1</td>\n",
       "      <td>9.4</td>\n",
       "      <td>0.0</td>\n",
       "      <td>4.0</td>\n",
       "      <td>320.0</td>\n",
       "      <td>80.6</td>\n",
       "    </tr>\n",
       "    <tr>\n",
       "      <th>2016-01-04</th>\n",
       "      <td>10000</td>\n",
       "      <td>Seoul</td>\n",
       "      <td>2.0</td>\n",
       "      <td>-2.5</td>\n",
       "      <td>5.3</td>\n",
       "      <td>0.0</td>\n",
       "      <td>5.1</td>\n",
       "      <td>320.0</td>\n",
       "      <td>54.4</td>\n",
       "    </tr>\n",
       "    <tr>\n",
       "      <th>2016-01-05</th>\n",
       "      <td>10000</td>\n",
       "      <td>Seoul</td>\n",
       "      <td>-2.7</td>\n",
       "      <td>-4.8</td>\n",
       "      <td>1.5</td>\n",
       "      <td>0.0</td>\n",
       "      <td>4.6</td>\n",
       "      <td>20.0</td>\n",
       "      <td>39.4</td>\n",
       "    </tr>\n",
       "  </tbody>\n",
       "</table>\n",
       "</div>"
      ],
      "text/plain": [
       "             code province  avg_temp  min_temp  max_temp  precipitation  \\\n",
       "date                                                                      \n",
       "2016-01-01  10000    Seoul       1.2      -3.3       4.0            0.0   \n",
       "2016-01-02  10000    Seoul       5.7       1.0       9.5            0.0   \n",
       "2016-01-03  10000    Seoul       6.5       5.1       9.4            0.0   \n",
       "2016-01-04  10000    Seoul       2.0      -2.5       5.3            0.0   \n",
       "2016-01-05  10000    Seoul      -2.7      -4.8       1.5            0.0   \n",
       "\n",
       "            max_wind_speed  most_wind_direction  avg_relative_humidity  \n",
       "date                                                                    \n",
       "2016-01-01             3.5                 90.0                   73.0  \n",
       "2016-01-02             4.5                320.0                   76.9  \n",
       "2016-01-03             4.0                320.0                   80.6  \n",
       "2016-01-04             5.1                320.0                   54.4  \n",
       "2016-01-05             4.6                 20.0                   39.4  "
      ]
     },
     "execution_count": 3,
     "metadata": {},
     "output_type": "execute_result"
    }
   ],
   "source": [
    "# готовим данные\n",
    "\n",
    "df = df[df['province'] == 'Seoul']\n",
    "df['date'] = pd.to_datetime(df['date'], format='%Y-%m-%d')\n",
    "df = df.set_index(['date']).sort_index()\n",
    "df = df.fillna(method='ffill')\n",
    "df.head()"
   ]
  },
  {
   "cell_type": "code",
   "execution_count": 4,
   "id": "912571a5-4fe6-48b9-a4a0-b7d531c9f78a",
   "metadata": {},
   "outputs": [
    {
     "name": "stdout",
     "output_type": "stream",
     "text": [
      "<class 'pandas.core.frame.DataFrame'>\n",
      "DatetimeIndex: 1642 entries, 2016-01-01 to 2020-06-29\n",
      "Data columns (total 9 columns):\n",
      " #   Column                 Non-Null Count  Dtype  \n",
      "---  ------                 --------------  -----  \n",
      " 0   code                   1642 non-null   int64  \n",
      " 1   province               1642 non-null   object \n",
      " 2   avg_temp               1642 non-null   float64\n",
      " 3   min_temp               1642 non-null   float64\n",
      " 4   max_temp               1642 non-null   float64\n",
      " 5   precipitation          1642 non-null   float64\n",
      " 6   max_wind_speed         1642 non-null   float64\n",
      " 7   most_wind_direction    1642 non-null   float64\n",
      " 8   avg_relative_humidity  1642 non-null   float64\n",
      "dtypes: float64(7), int64(1), object(1)\n",
      "memory usage: 128.3+ KB\n"
     ]
    }
   ],
   "source": [
    "df.info()"
   ]
  },
  {
   "cell_type": "code",
   "execution_count": 5,
   "id": "26e22f2a-fa17-4d03-b40f-192e07e14113",
   "metadata": {},
   "outputs": [
    {
     "data": {
      "text/plain": [
       "<AxesSubplot:>"
      ]
     },
     "execution_count": 5,
     "metadata": {},
     "output_type": "execute_result"
    },
    {
     "data": {
      "image/png": "[encoded data removed]",
      "text/plain": [
       "<Figure size 1008x216 with 1 Axes>"
      ]
     },
     "metadata": {
      "needs_background": "light"
     },
     "output_type": "display_data"
    }
   ],
   "source": [
    "# дискретизируем признак\n",
    "\n",
    "df['avg_temp_n'] = df['avg_temp'].apply(lambda x: 'high' if x > 15 else 'medium' if x > 0 else 'low')\n",
    "df['avg_temp_n'].hist()"
   ]
  },
  {
   "cell_type": "code",
   "execution_count": 6,
   "id": "55f8a41d-744e-4d1e-bd3e-83e748339d20",
   "metadata": {},
   "outputs": [],
   "source": [
    "# выделяем признаки\n",
    "\n",
    "x_features = ['avg_relative_humidity', 'precipitation', 'max_wind_speed', 'most_wind_direction']\n",
    "y_feature  = 'avg_temp_n'"
   ]
  },
  {
   "cell_type": "code",
   "execution_count": 7,
   "id": "1b126789-d62c-4eb5-ab84-966dc695f8d7",
   "metadata": {},
   "outputs": [
    {
     "data": {
      "image/png": "[encoded data removed]",
      "text/plain": [
       "<Figure size 900x750 with 1 Axes>"
      ]
     },
     "metadata": {
      "needs_background": "light"
     },
     "output_type": "display_data"
    }
   ],
   "source": [
    "# спроецируем тренировочные данные в 2D пространство\n",
    "\n",
    "embedding = umap.UMAP(random_state=0, n_components=2, min_dist=0.2).fit_transform(df[x_features])\n",
    "\n",
    "color = df[y_feature].apply(lambda x: '#ff0000' if x == 'high'else '#ffa500' if x == 'medium' else '#ffff00').tolist()\n",
    "\n",
    "plt.figure(figsize=(6, 5), dpi=150)\n",
    "plt.scatter(embedding[:, 0], embedding[:, 1], s=13, c=color)\n",
    "plt.show()"
   ]
  },
  {
   "cell_type": "code",
   "execution_count": 8,
   "id": "109dc123-de5f-4d41-8d07-1d5447817c21",
   "metadata": {},
   "outputs": [
    {
     "data": {
      "image/png": "[encoded data removed]",
      "text/plain": [
       "<Figure size 1008x216 with 1 Axes>"
      ]
     },
     "metadata": {
      "needs_background": "light"
     },
     "output_type": "display_data"
    }
   ],
   "source": [
    "# применим алгоритм кластеризации к данным\n",
    "\n",
    "labels_pred = KMeans(n_clusters=3, random_state=0).fit_predict(embedding)\n",
    "\n",
    "n_high = 0\n",
    "for i in df[y_feature]:\n",
    "    if i == 'high':\n",
    "        break\n",
    "    n_high += 1\n",
    "    \n",
    "n_med = 0\n",
    "for i in df[y_feature]:\n",
    "    if i == 'medium':\n",
    "        break\n",
    "    n_med += 1\n",
    "    \n",
    "n_high = labels_pred[n_high]\n",
    "n_med = labels_pred[n_med]\n",
    "\n",
    "y_pred = list(map(lambda x: 'high' if x == n_high else 'medium' if x == n_med else 'low', labels_pred))\n",
    "\n",
    "plt.hist([y_pred, df[y_feature].tolist()])\n",
    "plt.show()"
   ]
  },
  {
   "cell_type": "code",
   "execution_count": 12,
   "id": "7a96d5d2-8fc4-4a31-83d2-1196ea464ca0",
   "metadata": {},
   "outputs": [
    {
     "data": {
      "image/png": "[encoded data removed]",
      "text/plain": [
       "<Figure size 1008x216 with 1 Axes>"
      ]
     },
     "metadata": {
      "needs_background": "light"
     },
     "output_type": "display_data"
    }
   ],
   "source": [
    "color_pred = labels_pred * 100\n",
    "plt.scatter(embedding[:, 0], embedding[:, 1], s=13, c=color_pred)\n",
    "plt.show()"
   ]
  },
  {
   "cell_type": "code",
   "execution_count": 13,
   "id": "0a7050d2-1558-404b-aa3b-a89f1d2761be",
   "metadata": {},
   "outputs": [
    {
     "name": "stdout",
     "output_type": "stream",
     "text": [
      "Среднее внутрикластерное расстояние: 88.40260338536882\n",
      "Среднее межкластерное расстояние 391.0505518705914\n"
     ]
    }
   ],
   "source": [
    "# посчитаем внутрикластерное и межкластерное расстояния\n",
    "# внутрикластерное == среднее расстояние по каждой паре точек одного кластера\n",
    "# межкластерное == среднее расстояние по каждой паре точек разных кластеров\n",
    "\n",
    "def r(p1, p2) -> float:\n",
    "    return (p1[0] - p2[0])**2 + (p1[1] - p2[1])**2\n",
    "\n",
    "def average_intracluster_distance(embedding, labels) -> float:\n",
    "    c1 = list(map(lambda x: x[0], filter(lambda x: x[1] == 0, zip(embedding, labels))))\n",
    "    c2 = list(map(lambda x: x[0], filter(lambda x: x[1] == 1, zip(embedding, labels))))\n",
    "    c3 = list(map(lambda x: x[0], filter(lambda x: x[1] == 2, zip(embedding, labels))))\n",
    "\n",
    "    sumIntraclusterDist = 0\n",
    "\n",
    "    for i in range(len(c1)):\n",
    "        for j in range(i + 1, len(c1)):\n",
    "              sumIntraclusterDist = sumIntraclusterDist + r(c1[i], c1[j])\n",
    "              \n",
    "    for i in range(len(c2)):\n",
    "        for j in range(i + 1, len(c2)):\n",
    "              sumIntraclusterDist = sumIntraclusterDist + r(c2[i], c2[j])\n",
    "              \n",
    "    for i in range(len(c3)):\n",
    "        for j in range(i + 1, len(c3)):\n",
    "              sumIntraclusterDist = sumIntraclusterDist + r(c3[i], c3[j])\n",
    "              \n",
    "    return sumIntraclusterDist / ((len(c1) * (len(c1) - 1) / 2) + (len(c2) * (len(c2) - 1) / 2) + (len(c3) * (len(c3) - 1) / 2))\n",
    "              \n",
    "\n",
    "def average_intercluster_dist(embedding, labels) -> float:\n",
    "    c1 = list(map(lambda x: x[0], filter(lambda x: x[1] == 0, zip(embedding, labels))))\n",
    "    c2 = list(map(lambda x: x[0], filter(lambda x: x[1] == 1, zip(embedding, labels))))\n",
    "    c3 = list(map(lambda x: x[0], filter(lambda x: x[1] == 2, zip(embedding, labels))))\n",
    "\n",
    "    sumInterclusterDist = 0\n",
    "\n",
    "    for i in c1:\n",
    "        for j in c2:\n",
    "                sumInterclusterDist = sumInterclusterDist + r(i, j)\n",
    "\n",
    "    for i in c1:\n",
    "        for j in c3:\n",
    "                sumInterclusterDist = sumInterclusterDist + r(i, j)\n",
    "\n",
    "    for i in c2:\n",
    "        for j in c3:\n",
    "                sumInterclusterDist = sumInterclusterDist + r(i, j)\n",
    "              \n",
    "    return sumInterclusterDist / (len(c1) * len(c2) +  len(c1) * len(c3) + len(c2) * len(c3))\n",
    "\n",
    "print('Среднее внутрикластерное расстояние:', average_intracluster_distance(embedding, labels_pred))\n",
    "print('Среднее межкластерное расстояние', average_intercluster_dist(embedding, labels_pred))"
   ]
  },
  {
   "cell_type": "markdown",
   "id": "415212c6-62b0-4009-bf4e-028d05347c66",
   "metadata": {},
   "source": [
    "Вывод: предсказывает хуже, но все еще ок"
   ]
  },
  {
   "cell_type": "code",
   "execution_count": null,
   "id": "0fbd0242-ace7-447d-af5f-e0632b74d21c",
   "metadata": {},
   "outputs": [],
   "source": []
  }
 ],
 "metadata": {
  "kernelspec": {
   "display_name": "Python 3 (ipykernel)",
   "language": "python",
   "name": "python3"
  },
  "language_info": {
   "codemirror_mode": {
    "name": "ipython",
    "version": 3
   },
   "file_extension": ".py",
   "mimetype": "text/x-python",
   "name": "python",
   "nbconvert_exporter": "python",
   "pygments_lexer": "ipython3",
   "version": "3.9.7"
  }
 },
 "nbformat": 4,
 "nbformat_minor": 5
}
