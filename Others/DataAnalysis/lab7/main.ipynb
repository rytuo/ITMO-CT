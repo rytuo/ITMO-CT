{
 "cells": [
  {
   "cell_type": "code",
   "execution_count": 1,
   "id": "60497c04-08f4-4764-8917-0d152e9ba171",
   "metadata": {},
   "outputs": [
    {
     "name": "stderr",
     "output_type": "stream",
     "text": [
      "/usr/lib/python3.9/site-packages/IPython/core/interactiveshell.py:3444: DtypeWarning: Columns (0) have mixed types.Specify dtype option on import or set low_memory=False.\n",
      "  exec(code_obj, self.user_global_ns, self.user_ns)\n"
     ]
    }
   ],
   "source": [
    "import pandas as pd\n",
    "\n",
    "df = pd.read_csv('data/shopee_reviews.csv')"
   ]
  },
  {
   "cell_type": "code",
   "execution_count": 2,
   "id": "0a54c8c4-6967-4e53-8755-6af8c596ea22",
   "metadata": {},
   "outputs": [
    {
     "name": "stdout",
     "output_type": "stream",
     "text": [
      "<class 'pandas.core.frame.DataFrame'>\n",
      "RangeIndex: 1502575 entries, 0 to 1502574\n",
      "Data columns (total 2 columns):\n",
      " #   Column  Non-Null Count    Dtype \n",
      "---  ------  --------------    ----- \n",
      " 0   label   1502575 non-null  object\n",
      " 1   text    1502575 non-null  object\n",
      "dtypes: object(2)\n",
      "memory usage: 22.9+ MB\n"
     ]
    }
   ],
   "source": [
    "df.info()"
   ]
  },
  {
   "cell_type": "code",
   "execution_count": 3,
   "id": "504c35fc-be75-45d5-bed5-3144de243659",
   "metadata": {},
   "outputs": [
    {
     "data": {
      "text/html": [
       "<div>\n",
       "<style scoped>\n",
       "    .dataframe tbody tr th:only-of-type {\n",
       "        vertical-align: middle;\n",
       "    }\n",
       "\n",
       "    .dataframe tbody tr th {\n",
       "        vertical-align: top;\n",
       "    }\n",
       "\n",
       "    .dataframe thead th {\n",
       "        text-align: right;\n",
       "    }\n",
       "</style>\n",
       "<table border=\"1\" class=\"dataframe\">\n",
       "  <thead>\n",
       "    <tr style=\"text-align: right;\">\n",
       "      <th></th>\n",
       "      <th>label</th>\n",
       "      <th>text</th>\n",
       "    </tr>\n",
       "  </thead>\n",
       "  <tbody>\n",
       "    <tr>\n",
       "      <th>0</th>\n",
       "      <td>5</td>\n",
       "      <td>Looks ok. Not like so durable. Will hv to use ...</td>\n",
       "    </tr>\n",
       "    <tr>\n",
       "      <th>1</th>\n",
       "      <td>5</td>\n",
       "      <td>Tried, the current can be very powerful depend...</td>\n",
       "    </tr>\n",
       "    <tr>\n",
       "      <th>2</th>\n",
       "      <td>5</td>\n",
       "      <td>Item received after a week. Looks smaller than...</td>\n",
       "    </tr>\n",
       "    <tr>\n",
       "      <th>3</th>\n",
       "      <td>5</td>\n",
       "      <td>Thanks!!! Works as describe no complaints. Not...</td>\n",
       "    </tr>\n",
       "    <tr>\n",
       "      <th>4</th>\n",
       "      <td>5</td>\n",
       "      <td>Fast delivery considering it’s from overseas a...</td>\n",
       "    </tr>\n",
       "    <tr>\n",
       "      <th>5</th>\n",
       "      <td>5</td>\n",
       "      <td>Fast delivery good service</td>\n",
       "    </tr>\n",
       "    <tr>\n",
       "      <th>6</th>\n",
       "      <td>5</td>\n",
       "      <td>Got my order and it came well packaged. Have y...</td>\n",
       "    </tr>\n",
       "    <tr>\n",
       "      <th>7</th>\n",
       "      <td>5</td>\n",
       "      <td>Items received in a nice box. Have not used it...</td>\n",
       "    </tr>\n",
       "    <tr>\n",
       "      <th>8</th>\n",
       "      <td>5</td>\n",
       "      <td>Received in good condition, tried so far so go...</td>\n",
       "    </tr>\n",
       "    <tr>\n",
       "      <th>9</th>\n",
       "      <td>1</td>\n",
       "      <td>Item doesn’t work . \\n\\nAsked me to send a ref...</td>\n",
       "    </tr>\n",
       "  </tbody>\n",
       "</table>\n",
       "</div>"
      ],
      "text/plain": [
       "  label                                               text\n",
       "0     5  Looks ok. Not like so durable. Will hv to use ...\n",
       "1     5  Tried, the current can be very powerful depend...\n",
       "2     5  Item received after a week. Looks smaller than...\n",
       "3     5  Thanks!!! Works as describe no complaints. Not...\n",
       "4     5  Fast delivery considering it’s from overseas a...\n",
       "5     5                        Fast delivery good service \n",
       "6     5  Got my order and it came well packaged. Have y...\n",
       "7     5  Items received in a nice box. Have not used it...\n",
       "8     5  Received in good condition, tried so far so go...\n",
       "9     1  Item doesn’t work . \\n\\nAsked me to send a ref..."
      ]
     },
     "execution_count": 3,
     "metadata": {},
     "output_type": "execute_result"
    }
   ],
   "source": [
    "df[:10]"
   ]
  },
  {
   "cell_type": "code",
   "execution_count": 4,
   "id": "9cef4a1c-181a-4508-bd22-11d0cf59f305",
   "metadata": {},
   "outputs": [
    {
     "data": {
      "text/plain": [
       "(1502575,)"
      ]
     },
     "execution_count": 4,
     "metadata": {},
     "output_type": "execute_result"
    }
   ],
   "source": [
    "reviews = df['text']\n",
    "reviews.shape"
   ]
  },
  {
   "cell_type": "markdown",
   "id": "e239d9a7-b071-4b9c-b235-a66f9f300b6c",
   "metadata": {},
   "source": [
    "#### Предобработка текста"
   ]
  },
  {
   "cell_type": "code",
   "execution_count": 5,
   "id": "e0cf44ae-116e-476b-a39d-7c26fc7412cf",
   "metadata": {},
   "outputs": [],
   "source": [
    "from typing import List\n",
    "from collections import Counter\n",
    "from itertools import chain\n",
    "\n",
    "def build_vocab(texts: List[str]) -> Counter:\n",
    "    words = list(chain.from_iterable([text.split() for text in texts]))\n",
    "    vocab = Counter(words)\n",
    "    return vocab"
   ]
  },
  {
   "cell_type": "code",
   "execution_count": 6,
   "id": "e0d26f38-d759-429b-88b5-08518a137104",
   "metadata": {},
   "outputs": [
    {
     "name": "stdout",
     "output_type": "stream",
     "text": [
      "342808\n"
     ]
    },
    {
     "data": {
      "text/plain": [
       "[('Looks', 23179),\n",
       " ('ok.', 15341),\n",
       " ('Not', 32351),\n",
       " ('like', 63581),\n",
       " ('so', 102367),\n",
       " ('durable.', 1222),\n",
       " ('Will', 84734),\n",
       " ('hv', 1257),\n",
       " ('to', 473417),\n",
       " ('use', 42793)]"
      ]
     },
     "execution_count": 6,
     "metadata": {},
     "output_type": "execute_result"
    }
   ],
   "source": [
    "vocab = build_vocab(reviews)\n",
    "print(len(vocab))\n",
    "# слова разного регистра\n",
    "list(vocab.items())[:10]"
   ]
  },
  {
   "cell_type": "code",
   "execution_count": 7,
   "id": "b2f6209f-56b9-493a-bff0-6316491241b3",
   "metadata": {},
   "outputs": [
    {
     "name": "stdout",
     "output_type": "stream",
     "text": [
      "179\n"
     ]
    },
    {
     "name": "stderr",
     "output_type": "stream",
     "text": [
      "[nltk_data] Downloading package stopwords to /home/rytuo/nltk_data...\n",
      "[nltk_data]   Package stopwords is already up-to-date!\n"
     ]
    },
    {
     "data": {
      "text/plain": [
       "['i', 'me', 'my', 'myself', 'we', 'our', 'ours', 'ourselves', 'you', \"you're\"]"
      ]
     },
     "execution_count": 7,
     "metadata": {},
     "output_type": "execute_result"
    }
   ],
   "source": [
    "# natural language toolkit\n",
    "import nltk\n",
    "nltk.download('stopwords')\n",
    "\n",
    "from nltk.corpus import stopwords\n",
    "\n",
    "eng_stopwords = stopwords.words('english')\n",
    "print(len(eng_stopwords))\n",
    "eng_stopwords[:10]"
   ]
  },
  {
   "cell_type": "code",
   "execution_count": 8,
   "id": "75eeeb5e-de08-44f3-b1b1-eca83c464a36",
   "metadata": {},
   "outputs": [],
   "source": [
    "# удалим стоп-слова\n",
    "eng_stopwords = set(eng_stopwords)\n",
    "\n",
    "def preprocess_text(text: str) -> str:\n",
    "    text = text.lower()\n",
    "    is_allowed_char = lambda c: c.isalpha() or c == ' '\n",
    "    text = ''.join(list(filter(is_allowed_char, text)))\n",
    "    \n",
    "    is_stopword = lambda word: word not in eng_stopwords\n",
    "    text = ' '.join(list(filter(is_stopword, text.split())))\n",
    "    return text\n",
    "\n",
    "\n",
    "reviews = [preprocess_text(review) for review in reviews]"
   ]
  },
  {
   "cell_type": "code",
   "execution_count": 9,
   "id": "6b18b641-b698-4090-bf3f-62800b98a6a6",
   "metadata": {},
   "outputs": [
    {
     "name": "stdout",
     "output_type": "stream",
     "text": [
      "155590\n"
     ]
    },
    {
     "data": {
      "text/plain": [
       "[('good', 617936),\n",
       " ('delivery', 401430),\n",
       " ('received', 396088),\n",
       " ('fast', 323513),\n",
       " ('item', 246937),\n",
       " ('well', 214772),\n",
       " ('seller', 214642),\n",
       " ('condition', 210077),\n",
       " ('quality', 183978),\n",
       " ('nice', 133451)]"
      ]
     },
     "execution_count": 9,
     "metadata": {},
     "output_type": "execute_result"
    }
   ],
   "source": [
    "vocab = build_vocab(reviews)\n",
    "        \n",
    "print(len(vocab))\n",
    "# уже лучше. Но есть стоп-слова самого корпуса\n",
    "vocab.most_common(10)"
   ]
  },
  {
   "cell_type": "code",
   "execution_count": 10,
   "id": "cff2d25f-da86-4014-a091-5b1585bf23c1",
   "metadata": {},
   "outputs": [
    {
     "data": {
      "text/plain": [
       "155591"
      ]
     },
     "execution_count": 10,
     "metadata": {},
     "output_type": "execute_result"
    }
   ],
   "source": [
    "# Посмотрим сколько уникальных слов\n",
    "\n",
    "def merge_reviews(reviews: list[str]) -> str:\n",
    "    return ' '.join(reviews)\n",
    "    \n",
    "    \n",
    "unique_words =list(set(merge_reviews(reviews).split(' ')))\n",
    "len(unique_words)"
   ]
  },
  {
   "cell_type": "code",
   "execution_count": 11,
   "id": "d6c1e710-f285-4613-ba02-b9e920197969",
   "metadata": {},
   "outputs": [
    {
     "data": {
      "image/png": "[encoded data removed]",
      "text/plain": [
       "<Figure size 432x288 with 1 Axes>"
      ]
     },
     "metadata": {
      "needs_background": "light"
     },
     "output_type": "display_data"
    }
   ],
   "source": [
    "import matplotlib.pyplot as plt\n",
    "# Оставим частые слова\n",
    "\n",
    "from collections import Counter\n",
    "\n",
    "counts = Counter(merge_reviews(reviews).split(' '))\n",
    "freqs = list(counts.values())\n",
    "plt.hist(freqs, bins=100)\n",
    "plt.show()"
   ]
  },
  {
   "cell_type": "code",
   "execution_count": 12,
   "id": "951423ba-4670-4b4d-8dd8-a286ff64ba0d",
   "metadata": {},
   "outputs": [
    {
     "data": {
      "image/png": "[encoded data removed]",
      "text/plain": [
       "<Figure size 432x288 with 1 Axes>"
      ]
     },
     "metadata": {
      "needs_background": "light"
     },
     "output_type": "display_data"
    }
   ],
   "source": [
    "import numpy as np\n",
    "\n",
    "plt.hist(np.log2(freqs), bins=100)\n",
    "plt.show()"
   ]
  },
  {
   "cell_type": "code",
   "execution_count": 13,
   "id": "6f2c7474-0bd7-4917-82b8-81f59a6627fa",
   "metadata": {},
   "outputs": [
    {
     "name": "stderr",
     "output_type": "stream",
     "text": [
      "[nltk_data] Downloading package wordnet to /home/rytuo/nltk_data...\n",
      "[nltk_data]   Package wordnet is already up-to-date!\n",
      "[nltk_data] Downloading package omw-1.4 to /home/rytuo/nltk_data...\n",
      "[nltk_data]   Package omw-1.4 is already up-to-date!\n",
      "100%|██████████████████████████████| 1502575/1502575 [01:02<00:00, 24068.91it/s]\n"
     ]
    },
    {
     "data": {
      "text/plain": [
       "['look ok like durable hv use recommend others worth',\n",
       " 'tried current powerful depending setting dont dare go higher go higher sure muscle become sore see effect faster',\n",
       " 'item received week look smaller expected cant wait try',\n",
       " 'thanks work describe complaint really expecting life changing result thanks',\n",
       " 'fast delivery considering overseas tried sure result yet',\n",
       " 'fast delivery good service',\n",
       " 'got order came well packaged yet try look good far thanks',\n",
       " 'item received nice box used yet hopefully work',\n",
       " 'received good condition tried far good bad',\n",
       " 'item doesnt work asked send refund show non working machine deem enough evidence dont waste time buying']"
      ]
     },
     "execution_count": 13,
     "metadata": {},
     "output_type": "execute_result"
    }
   ],
   "source": [
    "from tqdm import tqdm\n",
    "nltk.download('wordnet')\n",
    "nltk.download('omw-1.4')\n",
    "from nltk.stem import WordNetLemmatizer\n",
    "\n",
    "lemmatizer = WordNetLemmatizer()\n",
    "\n",
    "def lemmatizing(text):\n",
    "    text = ' '.join(list(map(lemmatizer.lemmatize, text.split())))\n",
    "    return text\n",
    "\n",
    "reviews_lem = [lemmatizing(review) for review in tqdm(reviews, leave=True, position=0)]\n",
    "reviews_lem[:10]"
   ]
  },
  {
   "cell_type": "markdown",
   "id": "0dd0cc65-f2d0-49a4-9497-48c11fa21e9a",
   "metadata": {},
   "source": [
    "### gensim"
   ]
  },
  {
   "cell_type": "code",
   "execution_count": 14,
   "id": "72d6e6c3-e447-4d20-88ef-bc587b1d2ef7",
   "metadata": {},
   "outputs": [
    {
     "name": "stdout",
     "output_type": "stream",
     "text": [
      "размерность векторов слов в модели: (150387, 100)\n"
     ]
    }
   ],
   "source": [
    "# Для простоты реализации воспользуемся библиотекой gensim\n",
    "\n",
    "from gensim.models import Word2Vec\n",
    "\n",
    "sentences = [review.split() for review in reviews_lem]\n",
    "model = Word2Vec(sentences=sentences,\n",
    "                 sg=False,  # cbow model\n",
    "                 vector_size=100,\n",
    "                 window=5,\n",
    "                 seed=42,\n",
    "                 epochs=15, \n",
    "                 min_count=1\n",
    "                 )\n",
    "print('размерность векторов слов в модели:', model.wv.vectors.shape)"
   ]
  },
  {
   "cell_type": "markdown",
   "id": "0aeca0cd-07ac-4983-896b-26141b36aa1a",
   "metadata": {},
   "source": [
    "### BERT"
   ]
  },
  {
   "cell_type": "code",
   "execution_count": 23,
   "id": "fd473e1d-0260-45c8-9c75-d38d9b228dcd",
   "metadata": {},
   "outputs": [
    {
     "name": "stderr",
     "output_type": "stream",
     "text": [
      "Some weights of the model checkpoint at bert-base-uncased were not used when initializing BertModel: ['cls.predictions.transform.LayerNorm.weight', 'cls.seq_relationship.weight', 'cls.predictions.transform.dense.bias', 'cls.predictions.transform.dense.weight', 'cls.predictions.bias', 'cls.predictions.transform.LayerNorm.bias', 'cls.predictions.decoder.weight', 'cls.seq_relationship.bias']\n",
      "- This IS expected if you are initializing BertModel from the checkpoint of a model trained on another task or with another architecture (e.g. initializing a BertForSequenceClassification model from a BertForPreTraining model).\n",
      "- This IS NOT expected if you are initializing BertModel from the checkpoint of a model that you expect to be exactly identical (initializing a BertForSequenceClassification model from a BertForSequenceClassification model).\n"
     ]
    },
    {
     "name": "stdout",
     "output_type": "stream",
     "text": [
      "done\n"
     ]
    }
   ],
   "source": [
    "import torch\n",
    "from transformers import BertTokenizer, BertModel\n",
    "\n",
    "tokenizer = BertTokenizer.from_pretrained('bert-base-uncased')\n",
    "\n",
    "# Load pre-trained model (weights)\n",
    "model_bert = BertModel.from_pretrained('bert-base-uncased',\n",
    "                                  output_hidden_states = True, # возращать эмбеддинги каждого слова\n",
    "                                  )\n",
    "model_bert.eval()\n",
    "print('done')"
   ]
  },
  {
   "cell_type": "markdown",
   "id": "d37eaafa-d22f-4376-9410-1e3af5df43cd",
   "metadata": {
    "tags": []
   },
   "source": [
    "# Tests"
   ]
  },
  {
   "cell_type": "markdown",
   "id": "19748724-1fa8-4a91-b39d-942b95a5a70c",
   "metadata": {
    "tags": []
   },
   "source": [
    "## gensim"
   ]
  },
  {
   "cell_type": "markdown",
   "id": "e39815c4-7fee-4564-954e-871c3fdf5b45",
   "metadata": {},
   "source": [
    "взятие ближайшего"
   ]
  },
  {
   "cell_type": "code",
   "execution_count": 62,
   "id": "4d85944f-2fa7-40bf-8aff-9c6f9091c95f",
   "metadata": {
    "tags": []
   },
   "outputs": [
    {
     "data": {
      "text/plain": [
       "[('girl', 0.940083384513855),\n",
       " ('son', 0.9233588576316833),\n",
       " ('daughter', 0.914170503616333),\n",
       " ('gal', 0.9084888100624084),\n",
       " ('kid', 0.8560245037078857)]"
      ]
     },
     "execution_count": 62,
     "metadata": {},
     "output_type": "execute_result"
    }
   ],
   "source": [
    "model.wv.most_similar(positive=lemmatizing('boy'), topn=5)"
   ]
  },
  {
   "cell_type": "code",
   "execution_count": 63,
   "id": "61398d90-4942-4d5c-a548-c1472e7ba380",
   "metadata": {},
   "outputs": [
    {
     "data": {
      "text/plain": [
       "[('quick', 0.8983880877494812),\n",
       " ('speedy', 0.8327916264533997),\n",
       " ('prompt', 0.7884963154792786),\n",
       " ('swift', 0.6818633079528809),\n",
       " ('fastthe', 0.6715322732925415)]"
      ]
     },
     "execution_count": 63,
     "metadata": {},
     "output_type": "execute_result"
    }
   ],
   "source": [
    "model.wv.most_similar(positive=lemmatizing('fast'), topn=5)"
   ]
  },
  {
   "cell_type": "markdown",
   "id": "91978f05-b3be-4263-91a7-8ee1ad9ebd1e",
   "metadata": {},
   "source": [
    "взятие дальнейшего"
   ]
  },
  {
   "cell_type": "code",
   "execution_count": 64,
   "id": "3e77547a-c801-4a65-bbf5-46f7f8570add",
   "metadata": {},
   "outputs": [
    {
     "data": {
      "text/plain": [
       "[('gooooooooooooooooooooooooooddddd', 0.3776337802410126),\n",
       " ('loca', 0.34653955698013306),\n",
       " ('bubblewrapped', 0.3448903262615204),\n",
       " ('newfresh', 0.3386460244655609),\n",
       " ('wellpackaged', 0.32754573225975037)]"
      ]
     },
     "execution_count": 64,
     "metadata": {},
     "output_type": "execute_result"
    }
   ],
   "source": [
    "model.wv.most_similar(negative=lemmatizing('boy'), topn=5)"
   ]
  },
  {
   "cell_type": "code",
   "execution_count": 65,
   "id": "47612bc0-7107-4f2b-b965-437eeb5c2359",
   "metadata": {},
   "outputs": [
    {
     "data": {
      "text/plain": [
       "[('soonnewborn', 0.38630419969558716),\n",
       " ('deliverywill', 0.366961270570755),\n",
       " ('delirverythks', 0.3538437783718109),\n",
       " ('delievry', 0.3526564836502075),\n",
       " ('deliveryand', 0.3521786332130432)]"
      ]
     },
     "execution_count": 65,
     "metadata": {},
     "output_type": "execute_result"
    }
   ],
   "source": [
    "model.wv.most_similar(negative=lemmatizing('fast'), topn=5)"
   ]
  },
  {
   "cell_type": "code",
   "execution_count": 66,
   "id": "b3ea3adc-052d-47b0-aebe-721ee229cbda",
   "metadata": {},
   "outputs": [],
   "source": [
    "def sum_words_gensim(w1, w2):\n",
    "    w1 = lemmatizing(w1)\n",
    "    w2 = lemmatizing(w2)\n",
    "    return model.wv.get_vector(w1) + model.wv.get_vector(w2)\n",
    "\n",
    "def sub_words_gensim(w1, w2):\n",
    "    w1 = lemmatizing(w1)\n",
    "    w2 = lemmatizing(w2)\n",
    "    return model.wv.get_vector(w1) - model.wv.get_vector(w2)"
   ]
  },
  {
   "cell_type": "markdown",
   "id": "00cb4ff6-253b-4bbb-b48e-603270427e71",
   "metadata": {},
   "source": [
    "сумма"
   ]
  },
  {
   "cell_type": "code",
   "execution_count": 67,
   "id": "04d32485-8830-4493-97c5-c310d60dd827",
   "metadata": {},
   "outputs": [
    {
     "data": {
      "text/plain": [
       "[('delivery', 0.6081157326698303),\n",
       " ('fast', 0.6070573329925537),\n",
       " ('efficient', 0.5202959775924683),\n",
       " ('quick', 0.5065531134605408),\n",
       " ('shipping', 0.5040369033813477)]"
      ]
     },
     "execution_count": 67,
     "metadata": {},
     "output_type": "execute_result"
    }
   ],
   "source": [
    "model.wv.most_similar(positive=sum_words_gensim('fast', 'delivery'), topn=5)"
   ]
  },
  {
   "cell_type": "code",
   "execution_count": 68,
   "id": "104d871d-c680-4581-afdd-582541311072",
   "metadata": {},
   "outputs": [
    {
     "data": {
      "text/plain": [
       "[('kid', 0.896405041217804),\n",
       " ('child', 0.8603538274765015),\n",
       " ('girl', 0.799560010433197),\n",
       " ('boy', 0.7986191511154175),\n",
       " ('toddler', 0.783473551273346)]"
      ]
     },
     "execution_count": 68,
     "metadata": {},
     "output_type": "execute_result"
    }
   ],
   "source": [
    "model.wv.most_similar(positive=sum_words_gensim('male', 'kid'), topn=5)"
   ]
  },
  {
   "cell_type": "markdown",
   "id": "a2da12bc-576b-4017-99f6-28cf6c8a4aec",
   "metadata": {},
   "source": [
    "разность"
   ]
  },
  {
   "cell_type": "code",
   "execution_count": 69,
   "id": "ea2312ed-c184-46f4-93c9-699bfdde0fe4",
   "metadata": {},
   "outputs": [
    {
     "data": {
      "text/plain": [
       "[('fast', 0.794016420841217),\n",
       " ('quick', 0.7430314421653748),\n",
       " ('speedy', 0.7336267232894897),\n",
       " ('prompt', 0.6393364071846008),\n",
       " ('swift', 0.60210782289505)]"
      ]
     },
     "execution_count": 69,
     "metadata": {},
     "output_type": "execute_result"
    }
   ],
   "source": [
    "model.wv.most_similar(positive=sub_words_gensim('fast', 'delivery'), topn=5)"
   ]
  },
  {
   "cell_type": "code",
   "execution_count": 70,
   "id": "faccfdd3-babc-4106-a438-c01ff864615e",
   "metadata": {},
   "outputs": [
    {
     "data": {
      "text/plain": [
       "[('lowtheres', 0.448456734418869),\n",
       " ('breezyrecommend', 0.4029383957386017),\n",
       " ('dermomed', 0.3838895559310913),\n",
       " ('lululemon', 0.3699968755245209),\n",
       " ('longhonestly', 0.3615322709083557)]"
      ]
     },
     "execution_count": 70,
     "metadata": {},
     "output_type": "execute_result"
    }
   ],
   "source": [
    "model.wv.most_similar(positive=sub_words_gensim('male', 'kid'), topn=5)"
   ]
  },
  {
   "cell_type": "code",
   "execution_count": 71,
   "id": "532f1460-3436-4d02-b69f-8230ec7ba241",
   "metadata": {
    "tags": []
   },
   "outputs": [
    {
     "data": {
      "text/plain": [
       "[('kid', 0.8290750980377197),\n",
       " ('child', 0.792592465877533),\n",
       " ('son', 0.7472835779190063),\n",
       " ('kiddos', 0.7196148037910461),\n",
       " ('daughter', 0.7028495669364929)]"
      ]
     },
     "execution_count": 71,
     "metadata": {},
     "output_type": "execute_result"
    }
   ],
   "source": [
    "model.wv.most_similar(positive=sub_words_gensim('kid', 'male'), topn=5)"
   ]
  },
  {
   "cell_type": "markdown",
   "id": "332d60b9-d7b9-43bd-b1c5-a7e7540697d3",
   "metadata": {
    "tags": []
   },
   "source": [
    "## Bert"
   ]
  },
  {
   "cell_type": "code",
   "execution_count": 24,
   "id": "24723f0e-6879-4b5a-8289-9749273e5235",
   "metadata": {},
   "outputs": [
    {
     "data": {
      "text/plain": [
       "155590"
      ]
     },
     "execution_count": 24,
     "metadata": {},
     "output_type": "execute_result"
    }
   ],
   "source": [
    "from itertools import chain\n",
    "from tqdm import tqdm\n",
    "\n",
    "words = list(chain.from_iterable([text.split() for text in reviews]))\n",
    "words = list(set(words))\n",
    "len(words)"
   ]
  },
  {
   "cell_type": "code",
   "execution_count": 25,
   "id": "726a2422-127c-42c1-b2d8-481dfc3ea348",
   "metadata": {},
   "outputs": [
    {
     "name": "stderr",
     "output_type": "stream",
     "text": [
      "100%|█████████████████████████████████████████| 500/500 [00:24<00:00, 20.01it/s]\n"
     ]
    }
   ],
   "source": [
    "# incapsulate to function\n",
    "\n",
    "def get_word_embedding(word: str) -> torch.Tensor:\n",
    "    # Получим индексы токенов\n",
    "    tokenized_word = tokenizer.tokenize(word)\n",
    "    indexed_tokens = tokenizer.convert_tokens_to_ids(tokenized_word)\n",
    "    segments_ids = [1] * len(indexed_tokens)\n",
    "    \n",
    "    # to tensor \n",
    "    tokens_tensor = torch.tensor([indexed_tokens])\n",
    "    segments_tensors = torch.tensor([segments_ids])\n",
    "    \n",
    "    # calc embeddings\n",
    "    outputs = model_bert(tokens_tensor, segments_tensors)\n",
    "    embeddings = outputs[2]\n",
    "    last_layer_embs = embeddings[-1]\n",
    "    word_embedding = last_layer_embs.squeeze(0).sum(dim=0)\n",
    "    return word_embedding\n",
    "\n",
    "word_embs = []\n",
    "\n",
    "get_word_embedding('testing')\n",
    "\n",
    "for word in tqdm(words[:500], leave=True, position=0):\n",
    "    emb = get_word_embedding(word)\n",
    "    word_embs.append(emb)"
   ]
  },
  {
   "cell_type": "code",
   "execution_count": 26,
   "id": "65ce4116-4ad7-4f17-bcca-153a8c0a3512",
   "metadata": {},
   "outputs": [
    {
     "data": {
      "text/plain": [
       "torch.Size([500, 768])"
      ]
     },
     "execution_count": 26,
     "metadata": {},
     "output_type": "execute_result"
    }
   ],
   "source": [
    "words_embs = torch.stack(word_embs)\n",
    "\n",
    "words_embs.size()"
   ]
  },
  {
   "cell_type": "code",
   "execution_count": 49,
   "id": "633bbcfa-ab13-4d38-9963-b4e90c6b1d5a",
   "metadata": {},
   "outputs": [],
   "source": [
    "def get_similar_bert(word_emb, topn=5):\n",
    "    li = torch.nn.functional.cosine_similarity(word_emb, words_embs).tolist()\n",
    "    inds = sorted(range(len(li)), key=lambda k: li[k], reverse=True)[:topn]\n",
    "    return [words[ind] for ind in inds]\n",
    "\n",
    "def get_opposite_bert(word_emb, topn=5):\n",
    "    li = torch.nn.functional.cosine_similarity(word_emb, words_embs).tolist()\n",
    "    inds = sorted(range(len(li)), key=lambda k: li[k])[:topn]\n",
    "    return [words[ind] for ind in inds[:topn]]\n",
    "\n",
    "def sum_words_bert(w1, w2):\n",
    "    return get_word_embedding(w1) + get_word_embedding(w2)\n",
    "\n",
    "def sub_words_bert(w1, w2):\n",
    "    return get_word_embedding(w1) - get_word_embedding(w2)"
   ]
  },
  {
   "cell_type": "markdown",
   "id": "d8d3c8cf-4732-4606-be59-fac5fe0dc133",
   "metadata": {},
   "source": [
    "взятие ближайшего"
   ]
  },
  {
   "cell_type": "code",
   "execution_count": 51,
   "id": "d15f7121-0277-4779-a339-2f6b1b5471b0",
   "metadata": {},
   "outputs": [
    {
     "data": {
      "text/plain": [
       "['fishtank', 'okaround', 'slove', 'flood', 'panelvery']"
      ]
     },
     "execution_count": 51,
     "metadata": {},
     "output_type": "execute_result"
    }
   ],
   "source": [
    "get_similar_bert(get_word_embedding('boy'))"
   ]
  },
  {
   "cell_type": "code",
   "execution_count": 52,
   "id": "3940490f-86b5-42dc-9600-6a3cfdd1da7d",
   "metadata": {},
   "outputs": [
    {
     "data": {
      "text/plain": [
       "['fastpleased', 'tooeach', 'thephone', 'homebuttonpower', 'lightrefresh']"
      ]
     },
     "execution_count": 52,
     "metadata": {},
     "output_type": "execute_result"
    }
   ],
   "source": [
    "get_similar_bert(get_word_embedding('fast'))"
   ]
  },
  {
   "cell_type": "markdown",
   "id": "40f8d2f0-3ae7-4821-844b-51a32b514657",
   "metadata": {},
   "source": [
    "взятие дальнейшего"
   ]
  },
  {
   "cell_type": "code",
   "execution_count": 53,
   "id": "fe255d41-2095-4f99-bc6a-6a20503a47eb",
   "metadata": {},
   "outputs": [
    {
     "data": {
      "text/plain": [
       "['symbolize', 'thinq', 'sellerkeep', 'discountpromo', 'decprice']"
      ]
     },
     "execution_count": 53,
     "metadata": {},
     "output_type": "execute_result"
    }
   ],
   "source": [
    "get_opposite_bert(get_word_embedding('boy'))"
   ]
  },
  {
   "cell_type": "code",
   "execution_count": 54,
   "id": "a0e40171-1901-40ce-98eb-24136171bf0d",
   "metadata": {},
   "outputs": [
    {
     "data": {
      "text/plain": [
       "['emirates',\n",
       " 'complains',\n",
       " '很漂亮颜色和图片的一样质量也ok只是号码偏大了我已经买小一号了可是还是大了',\n",
       " 'xhpg',\n",
       " '希望这个产品能让我的宝贝的背快快变好']"
      ]
     },
     "execution_count": 54,
     "metadata": {},
     "output_type": "execute_result"
    }
   ],
   "source": [
    "get_opposite_bert(get_word_embedding('fast'))"
   ]
  },
  {
   "cell_type": "code",
   "execution_count": 55,
   "id": "1bbc7434-04be-4e80-8a10-41734e35f500",
   "metadata": {},
   "outputs": [
    {
     "data": {
      "text/plain": [
       "['pictureoverall', 'cracknot', 'deliverylong', 'fishtank', 'necklines']"
      ]
     },
     "execution_count": 55,
     "metadata": {},
     "output_type": "execute_result"
    }
   ],
   "source": [
    "get_similar_bert(sum_words_bert('fast', 'delivery'))"
   ]
  },
  {
   "cell_type": "code",
   "execution_count": 56,
   "id": "41d69530-0250-45d3-af1e-d6794749afe0",
   "metadata": {},
   "outputs": [
    {
     "data": {
      "text/plain": [
       "['rumi', 'iu', 'pipi', 'advertisementand', 'promptlythank']"
      ]
     },
     "execution_count": 56,
     "metadata": {},
     "output_type": "execute_result"
    }
   ],
   "source": [
    "get_similar_bert(sum_words_bert('male', 'kid'))"
   ]
  },
  {
   "cell_type": "code",
   "execution_count": 57,
   "id": "907c7d12-6a04-4068-a676-7f855c027807",
   "metadata": {},
   "outputs": [
    {
     "data": {
      "text/plain": [
       "['clouded', 'gsk', 'koreanotified', 'wooorth', 'gavin']"
      ]
     },
     "execution_count": 57,
     "metadata": {},
     "output_type": "execute_result"
    }
   ],
   "source": [
    "get_similar_bert(sub_words_bert('fast', 'delivery'))"
   ]
  },
  {
   "cell_type": "code",
   "execution_count": 58,
   "id": "9d7bcbbe-006a-46a4-bf8d-3a33a2ba9095",
   "metadata": {},
   "outputs": [
    {
     "data": {
      "text/plain": [
       "['advertisedtks', 'aromatica', 'assets', 'ofr', 'orangeyd']"
      ]
     },
     "execution_count": 58,
     "metadata": {},
     "output_type": "execute_result"
    }
   ],
   "source": [
    "get_similar_bert(sub_words_bert('wonderful', 'fast'))"
   ]
  },
  {
   "cell_type": "markdown",
   "id": "ff69dd3a-c929-4d7e-bfd9-136ecf2f89ea",
   "metadata": {},
   "source": [
    "Вывод: берт натренировать сложнее, поэтому word2vec получился более рабочий"
   ]
  },
  {
   "cell_type": "code",
   "execution_count": 55,
   "id": "a7b7d05a-0a43-4db6-96fa-14d6519f12d8",
   "metadata": {},
   "outputs": [
    {
     "name": "stderr",
     "output_type": "stream",
     "text": [
      "/tmp/ipykernel_9867/2054020519.py:11: DeprecationWarning: Call to deprecated `word_vec` (Use get_vector instead).\n",
      "  popular_words_wv = [model.wv.word_vec(word) for word in popular_words]\n"
     ]
    }
   ],
   "source": [
    "word2cnt = dict()\n",
    "\n",
    "for sentence in sentences:\n",
    "    for word in sentence:\n",
    "        if word2cnt.get(word) is None:\n",
    "            word2cnt[word] = 0\n",
    "        word2cnt[word] = word2cnt[word] + 1\n",
    "        \n",
    "popular_words = list(map(lambda x: x[0], sorted(list(word2cnt.items()), key=lambda x: x[1])[-2000:]))\n",
    "\n",
    "popular_words_wv = [model.wv.word_vec(word) for word in popular_words]"
   ]
  },
  {
   "cell_type": "code",
   "execution_count": 56,
   "id": "c8acf515-8624-47a2-8ab1-57edf5813120",
   "metadata": {},
   "outputs": [],
   "source": [
    "from tensorboardX import SummaryWriter\n",
    "\n",
    "writer = SummaryWriter('popular_gensim')\n",
    "writer.add_embedding(popular_words_wv, metadata=popular_words)\n",
    "writer.close()"
   ]
  },
  {
   "cell_type": "code",
   "execution_count": null,
   "id": "d0a1dded-e3cb-43ef-9ce1-a3f904c62435",
   "metadata": {},
   "outputs": [],
   "source": [
    "from tensorboardX import SummaryWriter\n",
    "\n",
    "writer = SummaryWriter('gensim')\n",
    "writer.add_embedding(model.wv.vectors, metadata=model.wv.index_to_key)\n",
    "writer.close()"
   ]
  }
 ],
 "metadata": {
  "kernelspec": {
   "display_name": "Python 3 (ipykernel)",
   "language": "python",
   "name": "python3"
  },
  "language_info": {
   "codemirror_mode": {
    "name": "ipython",
    "version": 3
   },
   "file_extension": ".py",
   "mimetype": "text/x-python",
   "name": "python",
   "nbconvert_exporter": "python",
   "pygments_lexer": "ipython3",
   "version": "3.9.7"
  }
 },
 "nbformat": 4,
 "nbformat_minor": 5
}
