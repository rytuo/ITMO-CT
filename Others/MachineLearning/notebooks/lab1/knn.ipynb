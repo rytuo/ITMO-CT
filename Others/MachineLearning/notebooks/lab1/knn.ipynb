{
 "cells": [
  {
   "cell_type": "markdown",
   "source": [
    "### init"
   ],
   "metadata": {
    "collapsed": false,
    "pycharm": {
     "name": "#%% md\n"
    }
   }
  },
  {
   "cell_type": "code",
   "execution_count": 2,
   "outputs": [],
   "source": [
    "import math\n",
    "import numpy as np\n",
    "import pandas as pd\n",
    "from sklearn.datasets import fetch_openml\n",
    "from typing import Callable, Optional\n",
    "from tqdm.notebook import tqdm\n",
    "from matplotlib import pyplot as plt"
   ],
   "metadata": {
    "collapsed": false,
    "pycharm": {
     "name": "#%%\n"
    }
   }
  },
  {
   "cell_type": "markdown",
   "source": [
    "### read data"
   ],
   "metadata": {
    "collapsed": false,
    "pycharm": {
     "name": "#%% md\n"
    }
   }
  },
  {
   "cell_type": "code",
   "execution_count": 3,
   "outputs": [
    {
     "data": {
      "text/plain": "  buying  maint doors persons lug_boot safety\n0  vhigh  vhigh     2       2    small    low\n1  vhigh  vhigh     2       2    small    med\n2  vhigh  vhigh     2       2    small   high\n3  vhigh  vhigh     2       2      med    low\n4  vhigh  vhigh     2       2      med    med",
      "text/html": "<div>\n<style scoped>\n    .dataframe tbody tr th:only-of-type {\n        vertical-align: middle;\n    }\n\n    .dataframe tbody tr th {\n        vertical-align: top;\n    }\n\n    .dataframe thead th {\n        text-align: right;\n    }\n</style>\n<table border=\"1\" class=\"dataframe\">\n  <thead>\n    <tr style=\"text-align: right;\">\n      <th></th>\n      <th>buying</th>\n      <th>maint</th>\n      <th>doors</th>\n      <th>persons</th>\n      <th>lug_boot</th>\n      <th>safety</th>\n    </tr>\n  </thead>\n  <tbody>\n    <tr>\n      <th>0</th>\n      <td>vhigh</td>\n      <td>vhigh</td>\n      <td>2</td>\n      <td>2</td>\n      <td>small</td>\n      <td>low</td>\n    </tr>\n    <tr>\n      <th>1</th>\n      <td>vhigh</td>\n      <td>vhigh</td>\n      <td>2</td>\n      <td>2</td>\n      <td>small</td>\n      <td>med</td>\n    </tr>\n    <tr>\n      <th>2</th>\n      <td>vhigh</td>\n      <td>vhigh</td>\n      <td>2</td>\n      <td>2</td>\n      <td>small</td>\n      <td>high</td>\n    </tr>\n    <tr>\n      <th>3</th>\n      <td>vhigh</td>\n      <td>vhigh</td>\n      <td>2</td>\n      <td>2</td>\n      <td>med</td>\n      <td>low</td>\n    </tr>\n    <tr>\n      <th>4</th>\n      <td>vhigh</td>\n      <td>vhigh</td>\n      <td>2</td>\n      <td>2</td>\n      <td>med</td>\n      <td>med</td>\n    </tr>\n  </tbody>\n</table>\n</div>"
     },
     "execution_count": 3,
     "metadata": {},
     "output_type": "execute_result"
    }
   ],
   "source": [
    "raw_dataset = fetch_openml(data_id=40975)\n",
    "raw_data = raw_dataset.data.copy()\n",
    "raw_data.head()"
   ],
   "metadata": {
    "collapsed": false,
    "pycharm": {
     "name": "#%%\n"
    }
   }
  },
  {
   "cell_type": "markdown",
   "source": [
    "### normalize data"
   ],
   "metadata": {
    "collapsed": false,
    "pycharm": {
     "name": "#%% md\n"
    }
   }
  },
  {
   "cell_type": "code",
   "execution_count": 4,
   "outputs": [
    {
     "data": {
      "text/plain": "      buying  maint  doors  persons  lug_boot  safety\n0        0.0    0.0    0.0      0.0       0.0     0.0\n1        0.0    0.0    0.0      0.0       0.0     0.5\n2        0.0    0.0    0.0      0.0       0.0     1.0\n3        0.0    0.0    0.0      0.0       0.5     0.0\n4        0.0    0.0    0.0      0.0       0.5     0.5\n...      ...    ...    ...      ...       ...     ...\n1723     1.0    1.0    1.0      1.0       0.5     0.5\n1724     1.0    1.0    1.0      1.0       0.5     1.0\n1725     1.0    1.0    1.0      1.0       1.0     0.0\n1726     1.0    1.0    1.0      1.0       1.0     0.5\n1727     1.0    1.0    1.0      1.0       1.0     1.0\n\n[1728 rows x 6 columns]",
      "text/html": "<div>\n<style scoped>\n    .dataframe tbody tr th:only-of-type {\n        vertical-align: middle;\n    }\n\n    .dataframe tbody tr th {\n        vertical-align: top;\n    }\n\n    .dataframe thead th {\n        text-align: right;\n    }\n</style>\n<table border=\"1\" class=\"dataframe\">\n  <thead>\n    <tr style=\"text-align: right;\">\n      <th></th>\n      <th>buying</th>\n      <th>maint</th>\n      <th>doors</th>\n      <th>persons</th>\n      <th>lug_boot</th>\n      <th>safety</th>\n    </tr>\n  </thead>\n  <tbody>\n    <tr>\n      <th>0</th>\n      <td>0.0</td>\n      <td>0.0</td>\n      <td>0.0</td>\n      <td>0.0</td>\n      <td>0.0</td>\n      <td>0.0</td>\n    </tr>\n    <tr>\n      <th>1</th>\n      <td>0.0</td>\n      <td>0.0</td>\n      <td>0.0</td>\n      <td>0.0</td>\n      <td>0.0</td>\n      <td>0.5</td>\n    </tr>\n    <tr>\n      <th>2</th>\n      <td>0.0</td>\n      <td>0.0</td>\n      <td>0.0</td>\n      <td>0.0</td>\n      <td>0.0</td>\n      <td>1.0</td>\n    </tr>\n    <tr>\n      <th>3</th>\n      <td>0.0</td>\n      <td>0.0</td>\n      <td>0.0</td>\n      <td>0.0</td>\n      <td>0.5</td>\n      <td>0.0</td>\n    </tr>\n    <tr>\n      <th>4</th>\n      <td>0.0</td>\n      <td>0.0</td>\n      <td>0.0</td>\n      <td>0.0</td>\n      <td>0.5</td>\n      <td>0.5</td>\n    </tr>\n    <tr>\n      <th>...</th>\n      <td>...</td>\n      <td>...</td>\n      <td>...</td>\n      <td>...</td>\n      <td>...</td>\n      <td>...</td>\n    </tr>\n    <tr>\n      <th>1723</th>\n      <td>1.0</td>\n      <td>1.0</td>\n      <td>1.0</td>\n      <td>1.0</td>\n      <td>0.5</td>\n      <td>0.5</td>\n    </tr>\n    <tr>\n      <th>1724</th>\n      <td>1.0</td>\n      <td>1.0</td>\n      <td>1.0</td>\n      <td>1.0</td>\n      <td>0.5</td>\n      <td>1.0</td>\n    </tr>\n    <tr>\n      <th>1725</th>\n      <td>1.0</td>\n      <td>1.0</td>\n      <td>1.0</td>\n      <td>1.0</td>\n      <td>1.0</td>\n      <td>0.0</td>\n    </tr>\n    <tr>\n      <th>1726</th>\n      <td>1.0</td>\n      <td>1.0</td>\n      <td>1.0</td>\n      <td>1.0</td>\n      <td>1.0</td>\n      <td>0.5</td>\n    </tr>\n    <tr>\n      <th>1727</th>\n      <td>1.0</td>\n      <td>1.0</td>\n      <td>1.0</td>\n      <td>1.0</td>\n      <td>1.0</td>\n      <td>1.0</td>\n    </tr>\n  </tbody>\n</table>\n<p>1728 rows × 6 columns</p>\n</div>"
     },
     "execution_count": 4,
     "metadata": {},
     "output_type": "execute_result"
    }
   ],
   "source": [
    "# preprocessing\n",
    "def f(row: pd.Series) -> pd.Series:\n",
    "    unique_values = row.unique()\n",
    "    values_dict = dict()\n",
    "    for i, x in enumerate(unique_values):\n",
    "        values_dict[x] = i\n",
    "\n",
    "    # vectorisation\n",
    "    row = row.apply(lambda v: values_dict[v]).astype('float')\n",
    "\n",
    "    # min max scaling\n",
    "    min_val, max_val = row.min(), row.max()\n",
    "    row = row.apply(lambda v: (v - min_val) / (max_val - min_val))\n",
    "\n",
    "    return row\n",
    "\n",
    "data = raw_data.apply(f)\n",
    "data"
   ],
   "metadata": {
    "collapsed": false,
    "pycharm": {
     "name": "#%%\n"
    }
   }
  },
  {
   "cell_type": "code",
   "execution_count": 5,
   "outputs": [
    {
     "data": {
      "text/plain": "      unacc  acc  vgood  good\n0         1    0      0     0\n1         1    0      0     0\n2         1    0      0     0\n3         1    0      0     0\n4         1    0      0     0\n...     ...  ...    ...   ...\n1723      0    0      0     1\n1724      0    0      1     0\n1725      1    0      0     0\n1726      0    0      0     1\n1727      0    0      1     0\n\n[1728 rows x 4 columns]",
      "text/html": "<div>\n<style scoped>\n    .dataframe tbody tr th:only-of-type {\n        vertical-align: middle;\n    }\n\n    .dataframe tbody tr th {\n        vertical-align: top;\n    }\n\n    .dataframe thead th {\n        text-align: right;\n    }\n</style>\n<table border=\"1\" class=\"dataframe\">\n  <thead>\n    <tr style=\"text-align: right;\">\n      <th></th>\n      <th>unacc</th>\n      <th>acc</th>\n      <th>vgood</th>\n      <th>good</th>\n    </tr>\n  </thead>\n  <tbody>\n    <tr>\n      <th>0</th>\n      <td>1</td>\n      <td>0</td>\n      <td>0</td>\n      <td>0</td>\n    </tr>\n    <tr>\n      <th>1</th>\n      <td>1</td>\n      <td>0</td>\n      <td>0</td>\n      <td>0</td>\n    </tr>\n    <tr>\n      <th>2</th>\n      <td>1</td>\n      <td>0</td>\n      <td>0</td>\n      <td>0</td>\n    </tr>\n    <tr>\n      <th>3</th>\n      <td>1</td>\n      <td>0</td>\n      <td>0</td>\n      <td>0</td>\n    </tr>\n    <tr>\n      <th>4</th>\n      <td>1</td>\n      <td>0</td>\n      <td>0</td>\n      <td>0</td>\n    </tr>\n    <tr>\n      <th>...</th>\n      <td>...</td>\n      <td>...</td>\n      <td>...</td>\n      <td>...</td>\n    </tr>\n    <tr>\n      <th>1723</th>\n      <td>0</td>\n      <td>0</td>\n      <td>0</td>\n      <td>1</td>\n    </tr>\n    <tr>\n      <th>1724</th>\n      <td>0</td>\n      <td>0</td>\n      <td>1</td>\n      <td>0</td>\n    </tr>\n    <tr>\n      <th>1725</th>\n      <td>1</td>\n      <td>0</td>\n      <td>0</td>\n      <td>0</td>\n    </tr>\n    <tr>\n      <th>1726</th>\n      <td>0</td>\n      <td>0</td>\n      <td>0</td>\n      <td>1</td>\n    </tr>\n    <tr>\n      <th>1727</th>\n      <td>0</td>\n      <td>0</td>\n      <td>1</td>\n      <td>0</td>\n    </tr>\n  </tbody>\n</table>\n<p>1728 rows × 4 columns</p>\n</div>"
     },
     "execution_count": 5,
     "metadata": {},
     "output_type": "execute_result"
    }
   ],
   "source": [
    "# one-hot\n",
    "target = raw_dataset.target\n",
    "classes = target.unique()\n",
    "target_df = pd.DataFrame()\n",
    "for c in classes:\n",
    "    target_df[c] = target.apply(lambda x: int(x == c)).astype('int')\n",
    "target_df"
   ],
   "metadata": {
    "collapsed": false,
    "pycharm": {
     "name": "#%%\n"
    }
   }
  },
  {
   "cell_type": "markdown",
   "source": [
    "### algorithm"
   ],
   "metadata": {
    "collapsed": false,
    "pycharm": {
     "name": "#%% md\n"
    }
   }
  },
  {
   "cell_type": "code",
   "execution_count": 6,
   "outputs": [],
   "source": [
    "class KNN:\n",
    "    def __init__(\n",
    "            self,\n",
    "            train_x: pd.DataFrame,\n",
    "            train_y: pd.DataFrame,\n",
    "            ker: Callable[[float], float],\n",
    "            dist_f: Callable[[np.ndarray, np.ndarray], float],\n",
    "            window_h: Optional[float] = None,\n",
    "            window_k: Optional[int] = None\n",
    "    ):\n",
    "        self.train_x = train_x.to_numpy()\n",
    "        self.train_y = train_y.to_numpy()\n",
    "        self.ker = ker\n",
    "        self.dist_f = dist_f\n",
    "        self.window_h = window_h\n",
    "        self.window_k = window_k\n",
    "\n",
    "    def fit_predict(self, x: np.ndarray) -> np.ndarray:\n",
    "        numerator, denominator = np.zeros(self.train_y.shape[1]), 0\n",
    "\n",
    "        dist_x = np.asarray(list(map(lambda xi: self.dist_f(x, xi), self.train_x)))\n",
    "        bound = self.window_h if self.window_h else np.partition(dist_x, self.window_k)[self.window_k]\n",
    "        valuable_ind = list(filter(lambda i: dist_x[i] < bound, range(len(dist_x))))\n",
    "\n",
    "        if len(valuable_ind) == 0:\n",
    "            return np.average(y_train)\n",
    "\n",
    "        for i in valuable_ind:\n",
    "            w = self.ker(dist_x[i] / bound)\n",
    "            numerator += self.train_y[i] * w\n",
    "            denominator += w\n",
    "\n",
    "        return numerator / denominator"
   ],
   "metadata": {
    "collapsed": false,
    "pycharm": {
     "name": "#%%\n"
    }
   }
  },
  {
   "cell_type": "markdown",
   "source": [
    "### hyperparameters"
   ],
   "metadata": {
    "collapsed": false,
    "pycharm": {
     "name": "#%% md\n"
    }
   }
  },
  {
   "cell_type": "code",
   "execution_count": 7,
   "outputs": [],
   "source": [
    "# distances\n",
    "def euclidean(p1: np.ndarray, p2: np.ndarray) -> float:\n",
    "    return np.sqrt(np.sum((p1 - p2)**2))\n",
    "\n",
    "def manhattan(p1: np.ndarray, p2: np.ndarray) -> float:\n",
    "    return sum(np.abs(p1 - p2))\n",
    "\n",
    "def chebyshev(p1: np.ndarray, p2: np.ndarray) -> float:\n",
    "    return max(np.abs(p1 - p2))\n",
    "\n",
    "# kernel functions\n",
    "def uniform(u: float) -> float:\n",
    "    return 1/2\n",
    "\n",
    "def triangular(u: float) -> float:\n",
    "    return 1 - abs(u)\n",
    "\n",
    "def epanechnikov(u: float) -> float:\n",
    "    return 3/4 * (1 - u**2)\n",
    "\n",
    "def quartic(u: float) -> float:\n",
    "    return 15/16 * (1 - u**2)**2\n",
    "\n",
    "# window\n",
    "sqrt_len = math.sqrt(len(data))\n",
    "k_range = range(int(sqrt_len))\n",
    "\n",
    "def get_h_range(dist_f: Callable[[np.ndarray, np.ndarray], float]) -> np.ndarray:\n",
    "    min_dist, max_dist = None, None\n",
    "    m = data.to_numpy()\n",
    "\n",
    "    for i1 in range(len(data)):\n",
    "        for i2 in range(i1):\n",
    "            dist1 = dist_f(m[i1], m[i2])\n",
    "            if max_dist is None or dist1 > max_dist:\n",
    "                max_dist = dist1\n",
    "            if min_dist is None or dist1 < min_dist:\n",
    "                min_dist = dist1\n",
    "\n",
    "    step = max_dist / sqrt_len\n",
    "    return np.arange(max(step, min_dist), max_dist + step/2, step)"
   ],
   "metadata": {
    "collapsed": false,
    "pycharm": {
     "name": "#%%\n"
    }
   }
  },
  {
   "cell_type": "markdown",
   "source": [
    "### F-score"
   ],
   "metadata": {
    "collapsed": false,
    "pycharm": {
     "name": "#%% md\n"
    }
   }
  },
  {
   "cell_type": "code",
   "execution_count": 8,
   "outputs": [],
   "source": [
    "def f_score(y_test: np.ndarray, y_pred: np.ndarray, b: int = 1) -> float:\n",
    "    test_ind = np.argmax(y_test)  # actual class\n",
    "    pred_ind = np.argmax(y_pred)  # predicted class\n",
    "    s = 0\n",
    "    for i in range(len(y_test)):  # f_score for class i\n",
    "        true_positive = int(i == test_ind == pred_ind)\n",
    "        false_positive = int((test_ind != i) and (pred_ind == i))\n",
    "        true_negative = int((test_ind == i) and (pred_ind != i))\n",
    "        false_negative = int((test_ind != i) and (pred_ind != i))\n",
    "\n",
    "        if true_positive + false_positive == 0 or true_positive + false_negative == 0:\n",
    "            continue\n",
    "\n",
    "        precision = true_positive / (true_positive + false_positive)\n",
    "        recall = true_positive / (true_positive + false_negative)\n",
    "\n",
    "        if precision == recall == 0:\n",
    "            continue\n",
    "        s += (1 + b**2) * precision * recall / ((b**2 * precision) + recall)\n",
    "    return s / len(y_test)"
   ],
   "metadata": {
    "collapsed": false,
    "pycharm": {
     "name": "#%%\n"
    }
   }
  },
  {
   "cell_type": "markdown",
   "source": [
    "### leave-one-out"
   ],
   "metadata": {
    "collapsed": false,
    "pycharm": {
     "name": "#%% md\n"
    }
   }
  },
  {
   "cell_type": "code",
   "execution_count": 9,
   "outputs": [],
   "source": [
    "def find_best_params():\n",
    "    score = 0\n",
    "    best_params = [None, None, None]\n",
    "\n",
    "    for dist_f in [euclidean, manhattan, chebyshev]:\n",
    "        for ker in [uniform, triangular, epanechnikov, quartic]:\n",
    "            for window_h in get_h_range(dist_f):\n",
    "                print(\"Testing: \", dist_f.__name__, ker.__name__, f\"H{window_h}\")\n",
    "\n",
    "                f = 0\n",
    "                for i in tqdm(range(len(data))):\n",
    "                    x_train, x_test = data.drop(i), data.iloc[i].to_numpy()\n",
    "                    y_train, y_test = target_df.drop(i), target_df.iloc[i].to_numpy()\n",
    "                    model = KNN(x_train, y_train, ker, dist_f, window_h=window_h)\n",
    "                    y_pred = model.fit_predict(x_test)\n",
    "                    f += f_score(y_test, y_pred)\n",
    "\n",
    "                f /= len(data)\n",
    "\n",
    "                if f > score:\n",
    "                    score = f\n",
    "                    best_params = [dist_f, ker, [\"H\", window_h]]\n",
    "\n",
    "            for window_k in k_range:\n",
    "                print(\"Testing: \", dist_f.__name__, ker.__name__, f\"K{window_k}\")\n",
    "\n",
    "                f = 0\n",
    "                for i in tqdm(range(len(data))):\n",
    "                    x_train, x_test = data.drop(i), data.iloc[i].tolist()\n",
    "                    y_train, y_test = target_df.drop(i), target_df.iloc[i].tolist()\n",
    "                    model = KNN(x_train, y_train, ker, dist_f, window_k=window_k)\n",
    "                    y_pred = model.fit_predict(x_test)\n",
    "                    f += f_score(y_test, y_pred)\n",
    "\n",
    "                f /= len(data)\n",
    "\n",
    "                if f > score:\n",
    "                    score = f\n",
    "                    best_params = [dist_f, ker, [\"K\", window_k]]\n",
    "\n",
    "    return best_params\n",
    "\n",
    "# best_params = find_best_params()\n",
    "best_params = [manhattan, triangular, ['K', 12]]"
   ],
   "metadata": {
    "collapsed": false,
    "pycharm": {
     "name": "#%%\n"
    }
   }
  },
  {
   "cell_type": "markdown",
   "source": [
    "### analyse"
   ],
   "metadata": {
    "collapsed": false,
    "pycharm": {
     "name": "#%% md\n"
    }
   }
  },
  {
   "cell_type": "code",
   "execution_count": 10,
   "outputs": [
    {
     "name": "stdout",
     "output_type": "stream",
     "text": [
      "41\n"
     ]
    },
    {
     "data": {
      "text/plain": "  0%|          | 0/1728 [00:00<?, ?it/s]",
      "application/vnd.jupyter.widget-view+json": {
       "version_major": 2,
       "version_minor": 0,
       "model_id": "c7574847476d4ecba90f02a397833758"
      }
     },
     "metadata": {},
     "output_type": "display_data"
    },
    {
     "data": {
      "text/plain": "  0%|          | 0/1728 [00:00<?, ?it/s]",
      "application/vnd.jupyter.widget-view+json": {
       "version_major": 2,
       "version_minor": 0,
       "model_id": "eb35f6e2688c4c6897a4454ee07ed515"
      }
     },
     "metadata": {},
     "output_type": "display_data"
    },
    {
     "data": {
      "text/plain": "  0%|          | 0/1728 [00:00<?, ?it/s]",
      "application/vnd.jupyter.widget-view+json": {
       "version_major": 2,
       "version_minor": 0,
       "model_id": "8b2df77c83b74c58924e11a2bfcee774"
      }
     },
     "metadata": {},
     "output_type": "display_data"
    },
    {
     "data": {
      "text/plain": "  0%|          | 0/1728 [00:00<?, ?it/s]",
      "application/vnd.jupyter.widget-view+json": {
       "version_major": 2,
       "version_minor": 0,
       "model_id": "d8868da423e7491b9674249bb20884a2"
      }
     },
     "metadata": {},
     "output_type": "display_data"
    },
    {
     "data": {
      "text/plain": "  0%|          | 0/1728 [00:00<?, ?it/s]",
      "application/vnd.jupyter.widget-view+json": {
       "version_major": 2,
       "version_minor": 0,
       "model_id": "f1791f6c3e8143f2bff6196f4decaa91"
      }
     },
     "metadata": {},
     "output_type": "display_data"
    },
    {
     "data": {
      "text/plain": "  0%|          | 0/1728 [00:00<?, ?it/s]",
      "application/vnd.jupyter.widget-view+json": {
       "version_major": 2,
       "version_minor": 0,
       "model_id": "00d05a3e1b3d40c383eaeaafa42c4aef"
      }
     },
     "metadata": {},
     "output_type": "display_data"
    },
    {
     "data": {
      "text/plain": "  0%|          | 0/1728 [00:00<?, ?it/s]",
      "application/vnd.jupyter.widget-view+json": {
       "version_major": 2,
       "version_minor": 0,
       "model_id": "13467fad8fa54bcf9a768983aa254eb6"
      }
     },
     "metadata": {},
     "output_type": "display_data"
    },
    {
     "data": {
      "text/plain": "  0%|          | 0/1728 [00:00<?, ?it/s]",
      "application/vnd.jupyter.widget-view+json": {
       "version_major": 2,
       "version_minor": 0,
       "model_id": "f1217d9a94d842d096dc6e02d778085c"
      }
     },
     "metadata": {},
     "output_type": "display_data"
    },
    {
     "data": {
      "text/plain": "  0%|          | 0/1728 [00:00<?, ?it/s]",
      "application/vnd.jupyter.widget-view+json": {
       "version_major": 2,
       "version_minor": 0,
       "model_id": "6bd3bcac0a404050b1c6e762feac920b"
      }
     },
     "metadata": {},
     "output_type": "display_data"
    },
    {
     "data": {
      "text/plain": "  0%|          | 0/1728 [00:00<?, ?it/s]",
      "application/vnd.jupyter.widget-view+json": {
       "version_major": 2,
       "version_minor": 0,
       "model_id": "b7592a12598748eaa535fbc537969614"
      }
     },
     "metadata": {},
     "output_type": "display_data"
    },
    {
     "data": {
      "text/plain": "  0%|          | 0/1728 [00:00<?, ?it/s]",
      "application/vnd.jupyter.widget-view+json": {
       "version_major": 2,
       "version_minor": 0,
       "model_id": "161253f215a54403b4ae1cb7086ba51f"
      }
     },
     "metadata": {},
     "output_type": "display_data"
    },
    {
     "data": {
      "text/plain": "  0%|          | 0/1728 [00:00<?, ?it/s]",
      "application/vnd.jupyter.widget-view+json": {
       "version_major": 2,
       "version_minor": 0,
       "model_id": "35c5a2a4229d4a7cac163312b8eb4436"
      }
     },
     "metadata": {},
     "output_type": "display_data"
    },
    {
     "data": {
      "text/plain": "  0%|          | 0/1728 [00:00<?, ?it/s]",
      "application/vnd.jupyter.widget-view+json": {
       "version_major": 2,
       "version_minor": 0,
       "model_id": "19e1f8551db54de88aa66d2d1473750b"
      }
     },
     "metadata": {},
     "output_type": "display_data"
    },
    {
     "data": {
      "text/plain": "  0%|          | 0/1728 [00:00<?, ?it/s]",
      "application/vnd.jupyter.widget-view+json": {
       "version_major": 2,
       "version_minor": 0,
       "model_id": "6403d4bd24094de4aba7456f2b0e1aa8"
      }
     },
     "metadata": {},
     "output_type": "display_data"
    },
    {
     "data": {
      "text/plain": "  0%|          | 0/1728 [00:00<?, ?it/s]",
      "application/vnd.jupyter.widget-view+json": {
       "version_major": 2,
       "version_minor": 0,
       "model_id": "78e1e3e0356b44f18de946e2dc3e6678"
      }
     },
     "metadata": {},
     "output_type": "display_data"
    },
    {
     "data": {
      "text/plain": "  0%|          | 0/1728 [00:00<?, ?it/s]",
      "application/vnd.jupyter.widget-view+json": {
       "version_major": 2,
       "version_minor": 0,
       "model_id": "74d3b2868cc142cc9fd1a117470f1600"
      }
     },
     "metadata": {},
     "output_type": "display_data"
    },
    {
     "data": {
      "text/plain": "  0%|          | 0/1728 [00:00<?, ?it/s]",
      "application/vnd.jupyter.widget-view+json": {
       "version_major": 2,
       "version_minor": 0,
       "model_id": "cd8d5fb4f3224cd285a322a55a2a048b"
      }
     },
     "metadata": {},
     "output_type": "display_data"
    },
    {
     "data": {
      "text/plain": "  0%|          | 0/1728 [00:00<?, ?it/s]",
      "application/vnd.jupyter.widget-view+json": {
       "version_major": 2,
       "version_minor": 0,
       "model_id": "f3419e4d06934727af5f31cdfe829c24"
      }
     },
     "metadata": {},
     "output_type": "display_data"
    },
    {
     "data": {
      "text/plain": "  0%|          | 0/1728 [00:00<?, ?it/s]",
      "application/vnd.jupyter.widget-view+json": {
       "version_major": 2,
       "version_minor": 0,
       "model_id": "8917446ee9544015842c54355f10696d"
      }
     },
     "metadata": {},
     "output_type": "display_data"
    },
    {
     "data": {
      "text/plain": "  0%|          | 0/1728 [00:00<?, ?it/s]",
      "application/vnd.jupyter.widget-view+json": {
       "version_major": 2,
       "version_minor": 0,
       "model_id": "ef1ae3e06f794c29a0fa5d0c745ca0c2"
      }
     },
     "metadata": {},
     "output_type": "display_data"
    },
    {
     "data": {
      "text/plain": "  0%|          | 0/1728 [00:00<?, ?it/s]",
      "application/vnd.jupyter.widget-view+json": {
       "version_major": 2,
       "version_minor": 0,
       "model_id": "23e5048bbbe24789944821005cb02341"
      }
     },
     "metadata": {},
     "output_type": "display_data"
    },
    {
     "data": {
      "text/plain": "  0%|          | 0/1728 [00:00<?, ?it/s]",
      "application/vnd.jupyter.widget-view+json": {
       "version_major": 2,
       "version_minor": 0,
       "model_id": "ab42886fbfc644a3b17539483d8235ca"
      }
     },
     "metadata": {},
     "output_type": "display_data"
    },
    {
     "data": {
      "text/plain": "  0%|          | 0/1728 [00:00<?, ?it/s]",
      "application/vnd.jupyter.widget-view+json": {
       "version_major": 2,
       "version_minor": 0,
       "model_id": "10ae69163f424e31a76527ee27296a50"
      }
     },
     "metadata": {},
     "output_type": "display_data"
    },
    {
     "data": {
      "text/plain": "  0%|          | 0/1728 [00:00<?, ?it/s]",
      "application/vnd.jupyter.widget-view+json": {
       "version_major": 2,
       "version_minor": 0,
       "model_id": "bddf7b919b334ece90069ab910cbc383"
      }
     },
     "metadata": {},
     "output_type": "display_data"
    },
    {
     "data": {
      "text/plain": "  0%|          | 0/1728 [00:00<?, ?it/s]",
      "application/vnd.jupyter.widget-view+json": {
       "version_major": 2,
       "version_minor": 0,
       "model_id": "c2c3cb81d49f49658036594cecec26fb"
      }
     },
     "metadata": {},
     "output_type": "display_data"
    },
    {
     "data": {
      "text/plain": "  0%|          | 0/1728 [00:00<?, ?it/s]",
      "application/vnd.jupyter.widget-view+json": {
       "version_major": 2,
       "version_minor": 0,
       "model_id": "aefddd9d24b04ef7b1f23821ec50629c"
      }
     },
     "metadata": {},
     "output_type": "display_data"
    },
    {
     "data": {
      "text/plain": "  0%|          | 0/1728 [00:00<?, ?it/s]",
      "application/vnd.jupyter.widget-view+json": {
       "version_major": 2,
       "version_minor": 0,
       "model_id": "2480fbdc389746b0a8d826e042c5bd3a"
      }
     },
     "metadata": {},
     "output_type": "display_data"
    },
    {
     "data": {
      "text/plain": "  0%|          | 0/1728 [00:00<?, ?it/s]",
      "application/vnd.jupyter.widget-view+json": {
       "version_major": 2,
       "version_minor": 0,
       "model_id": "d3694d3f1c844a47ba071226a7147dea"
      }
     },
     "metadata": {},
     "output_type": "display_data"
    },
    {
     "data": {
      "text/plain": "  0%|          | 0/1728 [00:00<?, ?it/s]",
      "application/vnd.jupyter.widget-view+json": {
       "version_major": 2,
       "version_minor": 0,
       "model_id": "7ff764e8b94e43a58a07cba54ab239f8"
      }
     },
     "metadata": {},
     "output_type": "display_data"
    },
    {
     "data": {
      "text/plain": "  0%|          | 0/1728 [00:00<?, ?it/s]",
      "application/vnd.jupyter.widget-view+json": {
       "version_major": 2,
       "version_minor": 0,
       "model_id": "1d611cc6ecaa411f8e1da2ad5eb16506"
      }
     },
     "metadata": {},
     "output_type": "display_data"
    },
    {
     "data": {
      "text/plain": "  0%|          | 0/1728 [00:00<?, ?it/s]",
      "application/vnd.jupyter.widget-view+json": {
       "version_major": 2,
       "version_minor": 0,
       "model_id": "18ad804de3d644848edb0572215b841b"
      }
     },
     "metadata": {},
     "output_type": "display_data"
    },
    {
     "data": {
      "text/plain": "  0%|          | 0/1728 [00:00<?, ?it/s]",
      "application/vnd.jupyter.widget-view+json": {
       "version_major": 2,
       "version_minor": 0,
       "model_id": "36051a9fe4524f37ac089d699a537284"
      }
     },
     "metadata": {},
     "output_type": "display_data"
    },
    {
     "data": {
      "text/plain": "  0%|          | 0/1728 [00:00<?, ?it/s]",
      "application/vnd.jupyter.widget-view+json": {
       "version_major": 2,
       "version_minor": 0,
       "model_id": "5ec80863f8a54f4f9c5cd6691cdba490"
      }
     },
     "metadata": {},
     "output_type": "display_data"
    },
    {
     "data": {
      "text/plain": "  0%|          | 0/1728 [00:00<?, ?it/s]",
      "application/vnd.jupyter.widget-view+json": {
       "version_major": 2,
       "version_minor": 0,
       "model_id": "84c3800a92b6406d89a751096ffdb674"
      }
     },
     "metadata": {},
     "output_type": "display_data"
    },
    {
     "data": {
      "text/plain": "  0%|          | 0/1728 [00:00<?, ?it/s]",
      "application/vnd.jupyter.widget-view+json": {
       "version_major": 2,
       "version_minor": 0,
       "model_id": "25bbaaf0344d4bf087c42dd860e1539b"
      }
     },
     "metadata": {},
     "output_type": "display_data"
    },
    {
     "data": {
      "text/plain": "  0%|          | 0/1728 [00:00<?, ?it/s]",
      "application/vnd.jupyter.widget-view+json": {
       "version_major": 2,
       "version_minor": 0,
       "model_id": "83c71c2063d34d4db11c6671d8192c8a"
      }
     },
     "metadata": {},
     "output_type": "display_data"
    },
    {
     "data": {
      "text/plain": "  0%|          | 0/1728 [00:00<?, ?it/s]",
      "application/vnd.jupyter.widget-view+json": {
       "version_major": 2,
       "version_minor": 0,
       "model_id": "ede065b6301d495fa4b15bdff0030aa3"
      }
     },
     "metadata": {},
     "output_type": "display_data"
    },
    {
     "data": {
      "text/plain": "  0%|          | 0/1728 [00:00<?, ?it/s]",
      "application/vnd.jupyter.widget-view+json": {
       "version_major": 2,
       "version_minor": 0,
       "model_id": "986363663b8b4e63b292ea604922a73d"
      }
     },
     "metadata": {},
     "output_type": "display_data"
    },
    {
     "data": {
      "text/plain": "  0%|          | 0/1728 [00:00<?, ?it/s]",
      "application/vnd.jupyter.widget-view+json": {
       "version_major": 2,
       "version_minor": 0,
       "model_id": "12a999a4fc604567bd225aa6feca4cdb"
      }
     },
     "metadata": {},
     "output_type": "display_data"
    },
    {
     "data": {
      "text/plain": "  0%|          | 0/1728 [00:00<?, ?it/s]",
      "application/vnd.jupyter.widget-view+json": {
       "version_major": 2,
       "version_minor": 0,
       "model_id": "95ddd60ad10240959191af1998681df9"
      }
     },
     "metadata": {},
     "output_type": "display_data"
    },
    {
     "data": {
      "text/plain": "  0%|          | 0/1728 [00:00<?, ?it/s]",
      "application/vnd.jupyter.widget-view+json": {
       "version_major": 2,
       "version_minor": 0,
       "model_id": "1eb1302d0ca44884a6c933bd48a391c8"
      }
     },
     "metadata": {},
     "output_type": "display_data"
    },
    {
     "data": {
      "text/plain": "<Figure size 432x288 with 1 Axes>",
      "image/png": "[encoded data removed]"
     },
     "metadata": {
      "needs_background": "light"
     },
     "output_type": "display_data"
    }
   ],
   "source": [
    "dist_f, ker, window = best_params\n",
    "f_curve = []\n",
    "\n",
    "window_range = get_h_range(dist_f) if window[0] == \"H\" else k_range\n",
    "print(len(window_range))\n",
    "for window_param in window_range:\n",
    "    f = 0\n",
    "    for i in tqdm(range(len(data))):\n",
    "        x_train, x_test = data.drop(i), data.iloc[i].tolist()\n",
    "        y_train, y_test = target_df.drop(i), target_df.iloc[i].tolist()\n",
    "        if window[0] == \"H\":\n",
    "            model = KNN(x_train, y_train, ker, dist_f, window_h=window_param)\n",
    "        else:\n",
    "            model = KNN(x_train, y_train, ker, dist_f, window_k=window_param)\n",
    "        y_pred = model.fit_predict(x_test)\n",
    "        f += f_score(y_test, y_pred)\n",
    "    f_curve.append(f / len(data))\n",
    "\n",
    "plt.plot(window_range, f_curve)\n",
    "plt.show()"
   ],
   "metadata": {
    "collapsed": false,
    "pycharm": {
     "name": "#%%\n"
    }
   }
  },
  {
   "cell_type": "code",
   "execution_count": 10,
   "outputs": [],
   "source": [],
   "metadata": {
    "collapsed": false,
    "pycharm": {
     "name": "#%%\n"
    }
   }
  }
 ],
 "metadata": {
  "kernelspec": {
   "display_name": "Python 3",
   "language": "python",
   "name": "python3"
  },
  "language_info": {
   "codemirror_mode": {
    "name": "ipython",
    "version": 2
   },
   "file_extension": ".py",
   "mimetype": "text/x-python",
   "name": "python",
   "nbconvert_exporter": "python",
   "pygments_lexer": "ipython2",
   "version": "2.7.6"
  }
 },
 "nbformat": 4,
 "nbformat_minor": 0
}