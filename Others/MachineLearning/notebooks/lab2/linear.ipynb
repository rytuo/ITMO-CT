{
 "cells": [
  {
   "cell_type": "code",
   "execution_count": 1,
   "metadata": {
    "collapsed": true
   },
   "outputs": [],
   "source": [
    "import math\n",
    "import numpy as np\n",
    "from typing import Callable, Union\n",
    "from matplotlib import pyplot as plt\n",
    "import optuna"
   ]
  },
  {
   "cell_type": "code",
   "execution_count": 2,
   "outputs": [
    {
     "data": {
      "text/plain": "(428, 1164, 256)"
     },
     "execution_count": 2,
     "metadata": {},
     "output_type": "execute_result"
    }
   ],
   "source": [
    "filename = \"/Users/alv.popov/study/ml/data/lab2/1.txt\"\n",
    "with open(filename) as file:\n",
    "    m = int(file.readline())\n",
    "\n",
    "    n = int(file.readline())\n",
    "    train_data = np.asarray([list(map(float, file.readline().split())) for _ in range(n)])\n",
    "    x_train, y_train = train_data[:, :-1], train_data[:, -1]\n",
    "\n",
    "    k = int(file.readline())\n",
    "    test_data = np.asarray([list(map(float, file.readline().split())) for _ in range(k)])\n",
    "    x_test, y_test = test_data[:, :-1], test_data[:, -1]\n",
    "\n",
    "m, n, k"
   ],
   "metadata": {
    "collapsed": false,
    "pycharm": {
     "name": "#%%\n"
    }
   }
  },
  {
   "cell_type": "markdown",
   "source": [
    "### Нормализация"
   ],
   "metadata": {
    "collapsed": false,
    "pycharm": {
     "name": "#%% md\n"
    }
   }
  },
  {
   "cell_type": "code",
   "execution_count": 3,
   "outputs": [
    {
     "data": {
      "text/plain": "array([[0.98495183, 0.3803681 , 0.        , ..., 0.        , 1.        ,\n        1.        ],\n       [0.93262423, 0.30674847, 0.        , ..., 0.        , 0.99523637,\n        1.        ],\n       [0.99781398, 0.60122699, 0.        , ..., 0.        , 0.94380125,\n        1.        ],\n       [1.        , 0.41717791, 0.        , ..., 0.        , 0.8947781 ,\n        1.        ],\n       [0.80422089, 0.25153374, 0.        , ..., 0.        , 0.9406657 ,\n        1.        ]])"
     },
     "execution_count": 3,
     "metadata": {},
     "output_type": "execute_result"
    }
   ],
   "source": [
    "x_train_new, x_test_new = [], []\n",
    "for i in range(m):\n",
    "    feature = x_train[:, i]\n",
    "    feature_min, feature_max = min(feature), max(feature)\n",
    "    if feature_min == feature_max:\n",
    "        x_train_new.append(np.zeros(n))\n",
    "        x_test_new.append(np.zeros(k))\n",
    "    else:\n",
    "        x_train_new.append((x_train[:, i] - feature_min) / (feature_max - feature_min))\n",
    "        x_test_new.append((x_test[:, i] - feature_min) / (feature_max - feature_min))\n",
    "\n",
    "x_train_new.append(np.ones(n))\n",
    "x_test_new.append(np.ones(k))\n",
    "\n",
    "x_train = np.array(x_train_new).transpose()\n",
    "x_test = np.array(x_test_new).transpose()\n",
    "x_train[:5]"
   ],
   "metadata": {
    "collapsed": false,
    "pycharm": {
     "name": "#%%\n"
    }
   }
  },
  {
   "cell_type": "code",
   "execution_count": 4,
   "outputs": [
    {
     "data": {
      "text/plain": "array([0.34053142, 0.57740031, 0.70695032, 0.39321106, 0.70924757])"
     },
     "execution_count": 4,
     "metadata": {},
     "output_type": "execute_result"
    }
   ],
   "source": [
    "y_min, y_max = min(y_test), max(y_test)\n",
    "if y_min == y_max:\n",
    "    y_test = y_train\n",
    "else:\n",
    "    y_test = (y_test - y_min) / (y_max - y_min)\n",
    "    y_train = (y_train - y_min) / (y_max - y_min)\n",
    "\n",
    "y_test[:5]"
   ],
   "metadata": {
    "collapsed": false,
    "pycharm": {
     "name": "#%%\n"
    }
   }
  },
  {
   "cell_type": "markdown",
   "source": [
    "## Функции ошибки"
   ],
   "metadata": {
    "collapsed": false
   }
  },
  {
   "cell_type": "code",
   "execution_count": 5,
   "outputs": [],
   "source": [
    "def mse(y_true: np.ndarray, y_pred: np.ndarray) -> float:\n",
    "    return float(np.mean((y_true - y_pred)**2))\n",
    "\n",
    "def mse_grad1(y_true: float, y_pred: float, x: np.ndarray) -> np.ndarray:\n",
    "    return x * 2 * (y_pred - y_true)\n",
    "\n",
    "def nrmse(y_true: np.ndarray, y_pred: np.ndarray) -> float:\n",
    "    l = max(y_true) - min(y_true)\n",
    "    rmse = math.sqrt(mse(y_true, y_pred))\n",
    "    return rmse / l if l > 0 else rmse\n",
    "\n",
    "def smape(y_true: np.ndarray, y_pred: np.ndarray) -> float:\n",
    "    return float(np.mean(np.abs(y_true - y_pred) / (np.abs(y_true) + np.abs(y_pred))))\n",
    "\n",
    "def smape_grad1(y_true: float, y_pred: float, xi: np.ndarray) -> np.ndarray:\n",
    "    coeff = (np.sign(y_pred - y_true) * (np.abs(y_true) + np.abs(y_pred)) - np.abs(y_true - y_pred) * np.sign(y_pred)) / ((np.abs(y_true) + np.abs(y_pred))**2)\n",
    "    return xi * coeff"
   ],
   "metadata": {
    "collapsed": false,
    "pycharm": {
     "name": "#%%\n"
    }
   }
  },
  {
   "cell_type": "markdown",
   "source": [
    "## МНК"
   ],
   "metadata": {
    "collapsed": false,
    "pycharm": {
     "name": "#%% md\n"
    }
   }
  },
  {
   "cell_type": "code",
   "execution_count": 6,
   "outputs": [],
   "source": [
    "class Lsm:\n",
    "    def __init__(self, x: np.ndarray, y: np.ndarray, t : float = 0):\n",
    "        v, d, u_t = np.linalg.svd(x, full_matrices=False)\n",
    "        f_plus = u_t.T @ np.linalg.inv((np.diag(d))**2 + t * np.eye(len(d))) @ np.diag(d) @ v.T\n",
    "        self.a = f_plus @ y\n",
    "\n",
    "    def predict(self, x: Union[np.ndarray, float]) -> Union[np.ndarray, float]:\n",
    "        return x @ self.a"
   ],
   "metadata": {
    "collapsed": false,
    "pycharm": {
     "name": "#%%\n"
    }
   }
  },
  {
   "cell_type": "markdown",
   "source": [
    "## градиент"
   ],
   "metadata": {
    "collapsed": false,
    "pycharm": {
     "name": "#%% md\n"
    }
   }
  },
  {
   "cell_type": "code",
   "execution_count": 7,
   "outputs": [],
   "source": [
    "class Sgd:\n",
    "    def __init__(\n",
    "        self,\n",
    "        x: np.ndarray,\n",
    "        y: np.ndarray,\n",
    "        loss: Callable[[np.ndarray, np.ndarray], float],\n",
    "        grad1: Callable[[float, float, np.ndarray], np.ndarray],\n",
    "        t : float = 0,\n",
    "        step : float = 1,\n",
    "        decay : float = 0,\n",
    "        limit : int = 2000,\n",
    "        b: int = 20,\n",
    "        eps : float = 10**-8,\n",
    "    ):\n",
    "        n, m = x.shape\n",
    "        w = np.random.uniform(-1 / (2 * n), 1 / (2 * n), m)\n",
    "        q = loss(y, x @ w)\n",
    "        self.ma_q = [q]\n",
    "\n",
    "        for i in range(limit):\n",
    "            ind = np.random.randint(0, n, b)\n",
    "            y_pred = x[ind] @ w\n",
    "            dw = - step * (sum([grad1(yi, ypi, xi) for yi, ypi, xi in zip(y[ind], y_pred, x[ind])]) + t * w)\n",
    "\n",
    "            if np.all(np.abs(dw) < eps):\n",
    "                break\n",
    "\n",
    "            w += dw\n",
    "            e = loss(y[ind], x[ind] @ w)\n",
    "            dq = decay * (e - q)\n",
    "\n",
    "            if abs(dq) < eps:\n",
    "                break\n",
    "\n",
    "            q += dq\n",
    "            self.ma_q.append(q)\n",
    "\n",
    "        self.w = w\n",
    "\n",
    "    def predict(self, x: np.ndarray) -> Union[np.ndarray, float]:\n",
    "        return x @ self.w\n",
    "\n",
    "class MseSgd(Sgd):\n",
    "    def __init__(\n",
    "        self,\n",
    "        x: np.ndarray,\n",
    "        y: np.ndarray,\n",
    "        t : float = 0,\n",
    "        step : float = 1,\n",
    "        decay : float = 0,\n",
    "        limit : int = 2000,\n",
    "        b: int = 20,\n",
    "        eps : float = 10**-8,\n",
    "    ):\n",
    "        super().__init__(x, y, mse, mse_grad1, t, step, decay, limit, b, eps)\n",
    "\n",
    "class SmapeSgd(Sgd):\n",
    "    def __init__(\n",
    "        self,\n",
    "        x: np.ndarray,\n",
    "        y: np.ndarray,\n",
    "        t : float = 0,\n",
    "        step : float = 1,\n",
    "        decay : float = 0,\n",
    "        limit : int = 2000,\n",
    "        b: int = 20,\n",
    "        eps : float = 10**-8,\n",
    "    ):\n",
    "        super().__init__(x, y, smape, smape_grad1, t, step, decay, limit, b, eps)"
   ],
   "metadata": {
    "collapsed": false,
    "pycharm": {
     "name": "#%%\n"
    }
   }
  },
  {
   "cell_type": "markdown",
   "source": [
    "## Настройка"
   ],
   "metadata": {
    "collapsed": false,
    "pycharm": {
     "name": "#%% md\n"
    }
   }
  },
  {
   "cell_type": "code",
   "execution_count": 8,
   "outputs": [
    {
     "name": "stderr",
     "output_type": "stream",
     "text": [
      "\u001B[32m[I 2022-06-01 03:14:22,018]\u001B[0m A new study created in memory with name: no-name-06ab2745-0a18-4bc4-9f4a-08db69ee1fbd\u001B[0m\n",
      "\u001B[32m[I 2022-06-01 03:14:22,185]\u001B[0m Trial 0 finished with value: 1.2466251594459563e-09 and parameters: {'t': -1.1571445063943138}. Best is trial 0 with value: 1.2466251594459563e-09.\u001B[0m\n",
      "\u001B[32m[I 2022-06-01 03:14:22,305]\u001B[0m Trial 1 finished with value: 4.710079120799739e-10 and parameters: {'t': -2.7374785104439345}. Best is trial 1 with value: 4.710079120799739e-10.\u001B[0m\n",
      "\u001B[32m[I 2022-06-01 03:14:22,436]\u001B[0m Trial 2 finished with value: 2.88769191193904e-10 and parameters: {'t': -4.4496243881970114}. Best is trial 2 with value: 2.88769191193904e-10.\u001B[0m\n",
      "\u001B[32m[I 2022-06-01 03:14:22,575]\u001B[0m Trial 3 finished with value: 3.435745073187348e-10 and parameters: {'t': -3.9135930091327173}. Best is trial 2 with value: 2.88769191193904e-10.\u001B[0m\n",
      "\u001B[32m[I 2022-06-01 03:14:22,711]\u001B[0m Trial 4 finished with value: 1.5611218888433945e-10 and parameters: {'t': -7.870089865708944}. Best is trial 4 with value: 1.5611218888433945e-10.\u001B[0m\n",
      "\u001B[32m[I 2022-06-01 03:14:22,854]\u001B[0m Trial 5 finished with value: 1.549903049806488e-10 and parameters: {'t': -8.125178807484286}. Best is trial 5 with value: 1.549903049806488e-10.\u001B[0m\n",
      "\u001B[32m[I 2022-06-01 03:14:23,000]\u001B[0m Trial 6 finished with value: 1.7402190133811852e-10 and parameters: {'t': -6.614974342600252}. Best is trial 5 with value: 1.549903049806488e-10.\u001B[0m\n",
      "\u001B[32m[I 2022-06-01 03:14:23,132]\u001B[0m Trial 7 finished with value: 1.7294730893587228e-09 and parameters: {'t': -0.9189302868561597}. Best is trial 5 with value: 1.549903049806488e-10.\u001B[0m\n",
      "\u001B[32m[I 2022-06-01 03:14:23,288]\u001B[0m Trial 8 finished with value: 5.569544371345564e-09 and parameters: {'t': -0.2308041577117237}. Best is trial 5 with value: 1.549903049806488e-10.\u001B[0m\n",
      "\u001B[32m[I 2022-06-01 03:14:23,393]\u001B[0m Trial 9 finished with value: 1.6654513792712888e-10 and parameters: {'t': -6.978835205970922}. Best is trial 5 with value: 1.549903049806488e-10.\u001B[0m\n",
      "\u001B[32m[I 2022-06-01 03:14:23,491]\u001B[0m Trial 10 finished with value: 1.5577562590625474e-10 and parameters: {'t': -8.930911494173246}. Best is trial 5 with value: 1.549903049806488e-10.\u001B[0m\n",
      "\u001B[32m[I 2022-06-01 03:14:23,583]\u001B[0m Trial 11 finished with value: 1.5605835733561352e-10 and parameters: {'t': -8.9882290694353}. Best is trial 5 with value: 1.549903049806488e-10.\u001B[0m\n",
      "\u001B[32m[I 2022-06-01 03:14:23,661]\u001B[0m Trial 12 finished with value: 1.8885463425435276e-10 and parameters: {'t': -6.08198367141935}. Best is trial 5 with value: 1.549903049806488e-10.\u001B[0m\n",
      "\u001B[32m[I 2022-06-01 03:14:23,784]\u001B[0m Trial 13 finished with value: 1.556712553688529e-10 and parameters: {'t': -8.90809098248625}. Best is trial 5 with value: 1.549903049806488e-10.\u001B[0m\n",
      "\u001B[32m[I 2022-06-01 03:14:23,894]\u001B[0m Trial 14 finished with value: 2.114550697660355e-10 and parameters: {'t': -5.522168698129777}. Best is trial 5 with value: 1.549903049806488e-10.\u001B[0m\n",
      "\u001B[32m[I 2022-06-01 03:14:23,987]\u001B[0m Trial 15 finished with value: 1.5513271108029357e-10 and parameters: {'t': -8.08086663102281}. Best is trial 5 with value: 1.549903049806488e-10.\u001B[0m\n",
      "\u001B[32m[I 2022-06-01 03:14:24,061]\u001B[0m Trial 16 finished with value: 1.5849856440938453e-10 and parameters: {'t': -7.563382507967898}. Best is trial 5 with value: 1.549903049806488e-10.\u001B[0m\n",
      "\u001B[32m[I 2022-06-01 03:14:24,206]\u001B[0m Trial 17 finished with value: 1.997076567554253e-10 and parameters: {'t': -5.785142365155288}. Best is trial 5 with value: 1.549903049806488e-10.\u001B[0m\n",
      "\u001B[32m[I 2022-06-01 03:14:24,290]\u001B[0m Trial 18 finished with value: 1.574900967808228e-10 and parameters: {'t': -7.675197146613103}. Best is trial 5 with value: 1.549903049806488e-10.\u001B[0m\n",
      "\u001B[32m[I 2022-06-01 03:14:24,362]\u001B[0m Trial 19 finished with value: 4.296127475587384e-10 and parameters: {'t': -3.1078768246190567}. Best is trial 5 with value: 1.549903049806488e-10.\u001B[0m\n",
      "\u001B[32m[I 2022-06-01 03:14:24,523]\u001B[0m Trial 20 finished with value: 2.550468251816886e-10 and parameters: {'t': -4.835579677301966}. Best is trial 5 with value: 1.549903049806488e-10.\u001B[0m\n",
      "\u001B[32m[I 2022-06-01 03:14:24,602]\u001B[0m Trial 21 finished with value: 1.5470950827992746e-10 and parameters: {'t': -8.245282244901134}. Best is trial 21 with value: 1.5470950827992746e-10.\u001B[0m\n",
      "\u001B[32m[I 2022-06-01 03:14:24,676]\u001B[0m Trial 22 finished with value: 1.5534848371465605e-10 and parameters: {'t': -8.023658838672354}. Best is trial 21 with value: 1.5470950827992746e-10.\u001B[0m\n",
      "\u001B[32m[I 2022-06-01 03:14:24,749]\u001B[0m Trial 23 finished with value: 1.69837652865198e-10 and parameters: {'t': -6.80673046113094}. Best is trial 21 with value: 1.5470950827992746e-10.\u001B[0m\n",
      "\u001B[32m[I 2022-06-01 03:14:24,865]\u001B[0m Trial 24 finished with value: 1.5466362988239766e-10 and parameters: {'t': -8.274631434152921}. Best is trial 24 with value: 1.5466362988239766e-10.\u001B[0m\n",
      "\u001B[32m[I 2022-06-01 03:14:24,990]\u001B[0m Trial 25 finished with value: 1.5459228372944908e-10 and parameters: {'t': -8.340448121317866}. Best is trial 25 with value: 1.5459228372944908e-10.\u001B[0m\n",
      "\u001B[32m[I 2022-06-01 03:14:25,129]\u001B[0m Trial 26 finished with value: 1.6291089620334528e-10 and parameters: {'t': -7.201903279529842}. Best is trial 25 with value: 1.5459228372944908e-10.\u001B[0m\n",
      "\u001B[32m[I 2022-06-01 03:14:25,247]\u001B[0m Trial 27 finished with value: 1.8676665323443032e-10 and parameters: {'t': -6.146712526848608}. Best is trial 25 with value: 1.5459228372944908e-10.\u001B[0m\n",
      "\u001B[32m[I 2022-06-01 03:14:25,333]\u001B[0m Trial 28 finished with value: 1.546670349032e-10 and parameters: {'t': -8.566514718383145}. Best is trial 25 with value: 1.5459228372944908e-10.\u001B[0m\n",
      "\u001B[32m[I 2022-06-01 03:14:25,403]\u001B[0m Trial 29 finished with value: 6.389477111449245e-10 and parameters: {'t': -1.9027103003145287}. Best is trial 25 with value: 1.5459228372944908e-10.\u001B[0m\n",
      "\u001B[32m[I 2022-06-01 03:14:25,489]\u001B[0m Trial 30 finished with value: 1.5465325499851883e-10 and parameters: {'t': -8.556278795608495}. Best is trial 25 with value: 1.5459228372944908e-10.\u001B[0m\n",
      "\u001B[32m[I 2022-06-01 03:14:25,560]\u001B[0m Trial 31 finished with value: 1.5456389960170024e-10 and parameters: {'t': -8.404520918669572}. Best is trial 31 with value: 1.5456389960170024e-10.\u001B[0m\n",
      "\u001B[32m[I 2022-06-01 03:14:25,636]\u001B[0m Trial 32 finished with value: 1.6132124735073277e-10 and parameters: {'t': -7.316187408268615}. Best is trial 31 with value: 1.5456389960170024e-10.\u001B[0m\n",
      "\u001B[32m[I 2022-06-01 03:14:25,777]\u001B[0m Trial 33 finished with value: 1.5461905542072764e-10 and parameters: {'t': -8.526867545441473}. Best is trial 31 with value: 1.5456389960170024e-10.\u001B[0m\n",
      "\u001B[32m[I 2022-06-01 03:14:25,897]\u001B[0m Trial 34 finished with value: 1.7883008094206208e-10 and parameters: {'t': -6.421283123728043}. Best is trial 31 with value: 1.5456389960170024e-10.\u001B[0m\n",
      "\u001B[32m[I 2022-06-01 03:14:26,024]\u001B[0m Trial 35 finished with value: 1.5478849337271478e-10 and parameters: {'t': -8.637227900868112}. Best is trial 31 with value: 1.5456389960170024e-10.\u001B[0m\n",
      "\u001B[32m[I 2022-06-01 03:14:26,111]\u001B[0m Trial 36 finished with value: 2.2410774390641682e-10 and parameters: {'t': -5.286574907832936}. Best is trial 31 with value: 1.5456389960170024e-10.\u001B[0m\n",
      "\u001B[32m[I 2022-06-01 03:14:26,186]\u001B[0m Trial 37 finished with value: 1.588485556619339e-10 and parameters: {'t': -7.528329961702067}. Best is trial 31 with value: 1.5456389960170024e-10.\u001B[0m\n",
      "\u001B[32m[I 2022-06-01 03:14:26,255]\u001B[0m Trial 38 finished with value: 3.058235881949143e-10 and parameters: {'t': -4.275520012912922}. Best is trial 31 with value: 1.5456389960170024e-10.\u001B[0m\n",
      "\u001B[32m[I 2022-06-01 03:14:26,332]\u001B[0m Trial 39 finished with value: 1.546450989393259e-10 and parameters: {'t': -8.549852800654286}. Best is trial 31 with value: 1.5456389960170024e-10.\u001B[0m\n",
      "\u001B[32m[I 2022-06-01 03:14:26,403]\u001B[0m Trial 40 finished with value: 3.875913093386799e-10 and parameters: {'t': -3.5032390896998904}. Best is trial 31 with value: 1.5456389960170024e-10.\u001B[0m\n",
      "\u001B[32m[I 2022-06-01 03:14:26,488]\u001B[0m Trial 41 finished with value: 1.5459774553555654e-10 and parameters: {'t': -8.503658369397787}. Best is trial 31 with value: 1.5456389960170024e-10.\u001B[0m\n",
      "\u001B[32m[I 2022-06-01 03:14:26,564]\u001B[0m Trial 42 finished with value: 1.5619763053767156e-10 and parameters: {'t': -7.855754300032428}. Best is trial 31 with value: 1.5456389960170024e-10.\u001B[0m\n",
      "\u001B[32m[I 2022-06-01 03:14:26,657]\u001B[0m Trial 43 finished with value: 1.5457027844087544e-10 and parameters: {'t': -8.379352364097805}. Best is trial 31 with value: 1.5456389960170024e-10.\u001B[0m\n",
      "\u001B[32m[I 2022-06-01 03:14:26,768]\u001B[0m Trial 44 finished with value: 1.6554639118248618e-10 and parameters: {'t': -7.035989940002247}. Best is trial 31 with value: 1.5456389960170024e-10.\u001B[0m\n",
      "\u001B[32m[I 2022-06-01 03:14:26,885]\u001B[0m Trial 45 finished with value: 1.560628330451818e-10 and parameters: {'t': -8.989090781039417}. Best is trial 31 with value: 1.5456389960170024e-10.\u001B[0m\n",
      "\u001B[32m[I 2022-06-01 03:14:27,014]\u001B[0m Trial 46 finished with value: 1.563323275662844e-10 and parameters: {'t': -7.833951460554866}. Best is trial 31 with value: 1.5456389960170024e-10.\u001B[0m\n",
      "\u001B[32m[I 2022-06-01 03:14:27,148]\u001B[0m Trial 47 finished with value: 1.7384156136046146e-10 and parameters: {'t': -6.6227412818821225}. Best is trial 31 with value: 1.5456389960170024e-10.\u001B[0m\n",
      "\u001B[32m[I 2022-06-01 03:14:27,306]\u001B[0m Trial 48 finished with value: 1.5466380692493043e-10 and parameters: {'t': -8.274506070505785}. Best is trial 31 with value: 1.5456389960170024e-10.\u001B[0m\n",
      "\u001B[32m[I 2022-06-01 03:14:27,489]\u001B[0m Trial 49 finished with value: 1.6049661769503077e-10 and parameters: {'t': -7.381316587285217}. Best is trial 31 with value: 1.5456389960170024e-10.\u001B[0m\n",
      "\u001B[32m[I 2022-06-01 03:14:27,625]\u001B[0m Trial 50 finished with value: 5.176843800015674e-10 and parameters: {'t': -2.4009912180093025}. Best is trial 31 with value: 1.5456389960170024e-10.\u001B[0m\n",
      "\u001B[32m[I 2022-06-01 03:14:27,783]\u001B[0m Trial 51 finished with value: 1.546150447379379e-10 and parameters: {'t': -8.522888065239274}. Best is trial 31 with value: 1.5456389960170024e-10.\u001B[0m\n",
      "\u001B[32m[I 2022-06-01 03:14:27,973]\u001B[0m Trial 52 finished with value: 1.5470651571339782e-10 and parameters: {'t': -8.592602699818508}. Best is trial 31 with value: 1.5456389960170024e-10.\u001B[0m\n",
      "\u001B[32m[I 2022-06-01 03:14:28,125]\u001B[0m Trial 53 finished with value: 1.5560266585590536e-10 and parameters: {'t': -7.966112170839193}. Best is trial 31 with value: 1.5456389960170024e-10.\u001B[0m\n",
      "\u001B[32m[I 2022-06-01 03:14:28,259]\u001B[0m Trial 54 finished with value: 1.5461575036238733e-10 and parameters: {'t': -8.314006865070162}. Best is trial 31 with value: 1.5456389960170024e-10.\u001B[0m\n",
      "\u001B[32m[I 2022-06-01 03:14:28,410]\u001B[0m Trial 55 finished with value: 1.5706413162430822e-10 and parameters: {'t': -7.7287633869426315}. Best is trial 31 with value: 1.5456389960170024e-10.\u001B[0m\n",
      "\u001B[32m[I 2022-06-01 03:14:28,542]\u001B[0m Trial 56 finished with value: 1.5592382596519972e-10 and parameters: {'t': -8.961698764135015}. Best is trial 31 with value: 1.5456389960170024e-10.\u001B[0m\n",
      "\u001B[32m[I 2022-06-01 03:14:28,675]\u001B[0m Trial 57 finished with value: 1.547717444061217e-10 and parameters: {'t': -8.212227553875596}. Best is trial 31 with value: 1.5456389960170024e-10.\u001B[0m\n",
      "\u001B[32m[I 2022-06-01 03:14:28,814]\u001B[0m Trial 58 finished with value: 1.5941800032702995e-10 and parameters: {'t': -7.474502340288852}. Best is trial 31 with value: 1.5456389960170024e-10.\u001B[0m\n",
      "\u001B[32m[I 2022-06-01 03:14:28,975]\u001B[0m Trial 59 finished with value: 1.6583820516860723e-10 and parameters: {'t': -7.019010673015633}. Best is trial 31 with value: 1.5456389960170024e-10.\u001B[0m\n",
      "\u001B[32m[I 2022-06-01 03:14:29,195]\u001B[0m Trial 60 finished with value: 1.5461259899323284e-10 and parameters: {'t': -8.31714839323126}. Best is trial 31 with value: 1.5456389960170024e-10.\u001B[0m\n",
      "\u001B[32m[I 2022-06-01 03:14:29,386]\u001B[0m Trial 61 finished with value: 1.5470112878864958e-10 and parameters: {'t': -8.250248187234016}. Best is trial 31 with value: 1.5456389960170024e-10.\u001B[0m\n",
      "\u001B[32m[I 2022-06-01 03:14:29,505]\u001B[0m Trial 62 finished with value: 1.5488259589920485e-10 and parameters: {'t': -8.679396305417022}. Best is trial 31 with value: 1.5456389960170024e-10.\u001B[0m\n",
      "\u001B[32m[I 2022-06-01 03:14:29,618]\u001B[0m Trial 63 finished with value: 1.5556587051539734e-10 and parameters: {'t': -7.973939699214285}. Best is trial 31 with value: 1.5456389960170024e-10.\u001B[0m\n",
      "\u001B[32m[I 2022-06-01 03:14:29,772]\u001B[0m Trial 64 finished with value: 1.5458102926302326e-10 and parameters: {'t': -8.357134094860209}. Best is trial 31 with value: 1.5456389960170024e-10.\u001B[0m\n",
      "\u001B[32m[I 2022-06-01 03:14:29,900]\u001B[0m Trial 65 finished with value: 1.550805901329463e-10 and parameters: {'t': -8.751472756040235}. Best is trial 31 with value: 1.5456389960170024e-10.\u001B[0m\n",
      "\u001B[32m[I 2022-06-01 03:14:30,001]\u001B[0m Trial 66 finished with value: 1.5770662093264889e-10 and parameters: {'t': -7.649598678427255}. Best is trial 31 with value: 1.5456389960170024e-10.\u001B[0m\n",
      "\u001B[32m[I 2022-06-01 03:14:30,104]\u001B[0m Trial 67 finished with value: 1.624074940699335e-10 and parameters: {'t': -7.23670227825569}. Best is trial 31 with value: 1.5456389960170024e-10.\u001B[0m\n",
      "\u001B[32m[I 2022-06-01 03:14:30,244]\u001B[0m Trial 68 finished with value: 1.5458411367281756e-10 and parameters: {'t': -8.35213517622895}. Best is trial 31 with value: 1.5456389960170024e-10.\u001B[0m\n",
      "\u001B[32m[I 2022-06-01 03:14:30,434]\u001B[0m Trial 69 finished with value: 1.5540882008969331e-10 and parameters: {'t': -8.00919749077189}. Best is trial 31 with value: 1.5456389960170024e-10.\u001B[0m\n",
      "\u001B[32m[I 2022-06-01 03:14:30,613]\u001B[0m Trial 70 finished with value: 1.6944036781809845e-10 and parameters: {'t': -6.826356530881535}. Best is trial 31 with value: 1.5456389960170024e-10.\u001B[0m\n",
      "\u001B[32m[I 2022-06-01 03:14:30,783]\u001B[0m Trial 71 finished with value: 1.5504870710586e-10 and parameters: {'t': -8.740927665914322}. Best is trial 31 with value: 1.5456389960170024e-10.\u001B[0m\n",
      "\u001B[32m[I 2022-06-01 03:14:30,930]\u001B[0m Trial 72 finished with value: 1.5458718093089064e-10 and parameters: {'t': -8.489442646917741}. Best is trial 31 with value: 1.5456389960170024e-10.\u001B[0m\n",
      "\u001B[32m[I 2022-06-01 03:14:31,090]\u001B[0m Trial 73 finished with value: 1.5456464098476183e-10 and parameters: {'t': -8.399733789430389}. Best is trial 31 with value: 1.5456389960170024e-10.\u001B[0m\n",
      "\u001B[32m[I 2022-06-01 03:14:31,240]\u001B[0m Trial 74 finished with value: 4.626265737467534e-09 and parameters: {'t': -0.3315591556702344}. Best is trial 31 with value: 1.5456389960170024e-10.\u001B[0m\n",
      "\u001B[32m[I 2022-06-01 03:14:31,413]\u001B[0m Trial 75 finished with value: 1.5456344170898953e-10 and parameters: {'t': -8.408613087053112}. Best is trial 75 with value: 1.5456344170898953e-10.\u001B[0m\n",
      "\u001B[32m[I 2022-06-01 03:14:31,517]\u001B[0m Trial 76 finished with value: 1.571638275529976e-10 and parameters: {'t': -7.715806098218516}. Best is trial 75 with value: 1.5456344170898953e-10.\u001B[0m\n",
      "\u001B[32m[I 2022-06-01 03:14:31,612]\u001B[0m Trial 77 finished with value: 1.5538744171605555e-10 and parameters: {'t': -8.839980711032435}. Best is trial 75 with value: 1.5456344170898953e-10.\u001B[0m\n",
      "\u001B[32m[I 2022-06-01 03:14:31,713]\u001B[0m Trial 78 finished with value: 1.5523959628642822e-10 and parameters: {'t': -8.051324475425606}. Best is trial 75 with value: 1.5456344170898953e-10.\u001B[0m\n",
      "\u001B[32m[I 2022-06-01 03:14:31,810]\u001B[0m Trial 79 finished with value: 1.545652724770525e-10 and parameters: {'t': -8.396473090841221}. Best is trial 75 with value: 1.5456344170898953e-10.\u001B[0m\n",
      "\u001B[32m[I 2022-06-01 03:14:31,916]\u001B[0m Trial 80 finished with value: 1.5609195175381344e-10 and parameters: {'t': -8.994665963108703}. Best is trial 75 with value: 1.5456344170898953e-10.\u001B[0m\n",
      "\u001B[32m[I 2022-06-01 03:14:32,053]\u001B[0m Trial 81 finished with value: 1.5460934299058584e-10 and parameters: {'t': -8.3205021666984}. Best is trial 75 with value: 1.5456344170898953e-10.\u001B[0m\n",
      "\u001B[32m[I 2022-06-01 03:14:32,218]\u001B[0m Trial 82 finished with value: 1.5456584730518638e-10 and parameters: {'t': -8.393881808335681}. Best is trial 75 with value: 1.5456344170898953e-10.\u001B[0m\n",
      "\u001B[32m[I 2022-06-01 03:14:32,360]\u001B[0m Trial 83 finished with value: 1.552217743548496e-10 and parameters: {'t': -8.056070456831668}. Best is trial 75 with value: 1.5456344170898953e-10.\u001B[0m\n",
      "\u001B[32m[I 2022-06-01 03:14:32,472]\u001B[0m Trial 84 finished with value: 1.5800623323553505e-10 and parameters: {'t': -7.615718585263461}. Best is trial 75 with value: 1.5456344170898953e-10.\u001B[0m\n",
      "\u001B[32m[I 2022-06-01 03:14:32,576]\u001B[0m Trial 85 finished with value: 1.5510225417614796e-10 and parameters: {'t': -8.758456249503112}. Best is trial 75 with value: 1.5456344170898953e-10.\u001B[0m\n",
      "\u001B[32m[I 2022-06-01 03:14:32,675]\u001B[0m Trial 86 finished with value: 1.5456431335801239e-10 and parameters: {'t': -8.434765408291936}. Best is trial 75 with value: 1.5456344170898953e-10.\u001B[0m\n",
      "\u001B[32m[I 2022-06-01 03:14:32,794]\u001B[0m Trial 87 finished with value: 1.5655202216916165e-10 and parameters: {'t': -7.800233321959187}. Best is trial 75 with value: 1.5456344170898953e-10.\u001B[0m\n",
      "\u001B[32m[I 2022-06-01 03:14:32,899]\u001B[0m Trial 88 finished with value: 1.6055740316094897e-10 and parameters: {'t': -7.376352997066973}. Best is trial 75 with value: 1.5456344170898953e-10.\u001B[0m\n",
      "\u001B[32m[I 2022-06-01 03:14:33,027]\u001B[0m Trial 89 finished with value: 1.5499083177711377e-10 and parameters: {'t': -8.12500160503917}. Best is trial 75 with value: 1.5456344170898953e-10.\u001B[0m\n",
      "\u001B[32m[I 2022-06-01 03:14:33,184]\u001B[0m Trial 90 finished with value: 1.545653231687793e-10 and parameters: {'t': -8.440233287305325}. Best is trial 75 with value: 1.5456344170898953e-10.\u001B[0m\n",
      "\u001B[32m[I 2022-06-01 03:14:33,306]\u001B[0m Trial 91 finished with value: 1.5456519527147738e-10 and parameters: {'t': -8.396845035947639}. Best is trial 75 with value: 1.5456344170898953e-10.\u001B[0m\n",
      "\u001B[32m[I 2022-06-01 03:14:33,417]\u001B[0m Trial 92 finished with value: 1.5595313957336407e-10 and parameters: {'t': -7.897955027478291}. Best is trial 75 with value: 1.5456344170898953e-10.\u001B[0m\n",
      "\u001B[32m[I 2022-06-01 03:14:33,530]\u001B[0m Trial 93 finished with value: 1.545820883403855e-10 and parameters: {'t': -8.481473124631254}. Best is trial 75 with value: 1.5456344170898953e-10.\u001B[0m\n",
      "\u001B[32m[I 2022-06-01 03:14:33,637]\u001B[0m Trial 94 finished with value: 1.552953970127562e-10 and parameters: {'t': -8.815455297609338}. Best is trial 75 with value: 1.5456344170898953e-10.\u001B[0m\n",
      "\u001B[32m[I 2022-06-01 03:14:33,757]\u001B[0m Trial 95 finished with value: 1.5456880063462022e-10 and parameters: {'t': -8.453032357118206}. Best is trial 75 with value: 1.5456344170898953e-10.\u001B[0m\n",
      "\u001B[32m[I 2022-06-01 03:14:33,897]\u001B[0m Trial 96 finished with value: 2.4568825696303095e-10 and parameters: {'t': -4.958498017686834}. Best is trial 75 with value: 1.5456344170898953e-10.\u001B[0m\n",
      "\u001B[32m[I 2022-06-01 03:14:34,060]\u001B[0m Trial 97 finished with value: 1.5495335908205285e-10 and parameters: {'t': -8.137895467509866}. Best is trial 75 with value: 1.5456344170898953e-10.\u001B[0m\n",
      "\u001B[32m[I 2022-06-01 03:14:34,193]\u001B[0m Trial 98 finished with value: 1.5500785360433183e-10 and parameters: {'t': -8.726904440264391}. Best is trial 75 with value: 1.5456344170898953e-10.\u001B[0m\n",
      "\u001B[32m[I 2022-06-01 03:14:34,305]\u001B[0m Trial 99 finished with value: 1.5888764275436067e-10 and parameters: {'t': -7.52451422343576}. Best is trial 75 with value: 1.5456344170898953e-10.\u001B[0m\n"
     ]
    },
    {
     "data": {
      "text/plain": "{'t': -8.408613087053112}"
     },
     "execution_count": 8,
     "metadata": {},
     "output_type": "execute_result"
    }
   ],
   "source": [
    "study = optuna.create_study()\n",
    "\n",
    "def objective(trial: optuna.Trial) -> float:\n",
    "    t_log = trial.suggest_uniform(\"t\", -9, 0)\n",
    "    model = Lsm(x_train, y_train, t=math.exp(t_log))\n",
    "    y_pred = model.predict(x_test)\n",
    "    error = mse(y_test, y_pred)\n",
    "    return error\n",
    "\n",
    "study.optimize(objective, n_trials=100)\n",
    "\n",
    "mse_lsm_params = study.best_params\n",
    "mse_lsm_params"
   ],
   "metadata": {
    "collapsed": false,
    "pycharm": {
     "name": "#%%\n"
    }
   }
  },
  {
   "cell_type": "code",
   "execution_count": 9,
   "outputs": [
    {
     "name": "stderr",
     "output_type": "stream",
     "text": [
      "\u001B[32m[I 2022-06-01 03:14:34,322]\u001B[0m A new study created in memory with name: no-name-bfe950d3-4e79-4ba4-8808-86db78344d15\u001B[0m\n",
      "\u001B[32m[I 2022-06-01 03:14:34,628]\u001B[0m Trial 0 finished with value: 1.5186362814895874e-05 and parameters: {'t': -8.03775529567452, 'step': -7.904397039254345, 'decay': -1.7715755214333555}. Best is trial 0 with value: 1.5186362814895874e-05.\u001B[0m\n",
      "\u001B[32m[I 2022-06-01 03:14:35,612]\u001B[0m Trial 1 finished with value: 2.163367835175079e-07 and parameters: {'t': -1.8739291539859808, 'step': -7.727786874751119, 'decay': -5.360569133882288}. Best is trial 1 with value: 2.163367835175079e-07.\u001B[0m\n",
      "\u001B[32m[I 2022-06-01 03:14:36,867]\u001B[0m Trial 2 finished with value: 1.3596810748210634e-06 and parameters: {'t': -7.399802196867384, 'step': -8.662178059672831, 'decay': -7.5104082184769405}. Best is trial 1 with value: 2.163367835175079e-07.\u001B[0m\n",
      "\u001B[32m[I 2022-06-01 03:14:37,589]\u001B[0m Trial 3 finished with value: 0.03138287933425738 and parameters: {'t': -4.216871660808554, 'step': -14.74465734180935, 'decay': -6.558555694379944}. Best is trial 1 with value: 2.163367835175079e-07.\u001B[0m\n",
      "\u001B[32m[I 2022-06-01 03:14:38,014]\u001B[0m Trial 4 finished with value: 8.627034741337799e-05 and parameters: {'t': -6.024843704604269, 'step': -9.51183551516302, 'decay': -4.570950714274941}. Best is trial 1 with value: 2.163367835175079e-07.\u001B[0m\n",
      "\u001B[32m[I 2022-06-01 03:14:38,587]\u001B[0m Trial 5 finished with value: 0.0018301599693208257 and parameters: {'t': -2.3985318779586766, 'step': -12.072238829261954, 'decay': -6.884845407946029}. Best is trial 1 with value: 2.163367835175079e-07.\u001B[0m\n",
      "\u001B[32m[I 2022-06-01 03:14:38,778]\u001B[0m Trial 6 finished with value: 3.304983958269094e-05 and parameters: {'t': -0.19787857453498603, 'step': -7.8876851705257245, 'decay': -3.606135070148402}. Best is trial 1 with value: 2.163367835175079e-07.\u001B[0m\n",
      "\u001B[32m[I 2022-06-01 03:14:39,529]\u001B[0m Trial 7 finished with value: 0.03614088405394768 and parameters: {'t': -4.7580775291035575, 'step': -14.914664986238884, 'decay': -1.259018833436789}. Best is trial 1 with value: 2.163367835175079e-07.\u001B[0m\n",
      "\u001B[32m[I 2022-06-01 03:14:40,102]\u001B[0m Trial 8 finished with value: 0.0021022999898838764 and parameters: {'t': -6.657913830484652, 'step': -12.106932342396057, 'decay': -2.543330751825403}. Best is trial 1 with value: 2.163367835175079e-07.\u001B[0m\n",
      "\u001B[32m[I 2022-06-01 03:14:40,237]\u001B[0m Trial 9 finished with value: 2.911253352786663e-05 and parameters: {'t': -1.2322382737608333, 'step': -7.745356332377567, 'decay': -2.0314995697148674}. Best is trial 1 with value: 2.163367835175079e-07.\u001B[0m\n",
      "\u001B[32m[I 2022-06-01 03:14:40,673]\u001B[0m Trial 10 finished with value: 0.00011158871416108758 and parameters: {'t': -2.76346890992498, 'step': -10.267735756640635, 'decay': -5.217465777531622}. Best is trial 1 with value: 2.163367835175079e-07.\u001B[0m\n",
      "\u001B[32m[I 2022-06-01 03:14:41,262]\u001B[0m Trial 11 finished with value: 1.1934055480921918e-05 and parameters: {'t': -8.696998159014536, 'step': -9.207143240657455, 'decay': -8.97761670087916}. Best is trial 1 with value: 2.163367835175079e-07.\u001B[0m\n",
      "\u001B[32m[I 2022-06-01 03:14:41,869]\u001B[0m Trial 12 finished with value: 6.199909235256887e-06 and parameters: {'t': -3.675023753318487, 'step': -9.007715622769943, 'decay': -8.455246934132026}. Best is trial 1 with value: 2.163367835175079e-07.\u001B[0m\n",
      "\u001B[32m[I 2022-06-01 03:14:42,425]\u001B[0m Trial 13 finished with value: 1.484264431692078e+277 and parameters: {'t': -5.713135851819397, 'step': -7.135536072765428, 'decay': -6.8065210090212815}. Best is trial 1 with value: 2.163367835175079e-07.\u001B[0m\n",
      "\u001B[32m[I 2022-06-01 03:14:43,076]\u001B[0m Trial 14 finished with value: 0.00015547095481524561 and parameters: {'t': -7.335185724970426, 'step': -10.937855143211973, 'decay': -5.728755767737344}. Best is trial 1 with value: 2.163367835175079e-07.\u001B[0m\n",
      "\u001B[32m[I 2022-06-01 03:14:43,715]\u001B[0m Trial 15 finished with value: 7.903853167036725e-07 and parameters: {'t': -1.7530831819317019, 'step': -8.404682111373319, 'decay': -7.703797881384572}. Best is trial 1 with value: 2.163367835175079e-07.\u001B[0m\n",
      "\u001B[32m[I 2022-06-01 03:14:44,327]\u001B[0m Trial 16 finished with value: 8.072025177806929e-05 and parameters: {'t': -1.4873388673247803, 'step': -10.191941365587635, 'decay': -0.030019001971299808}. Best is trial 1 with value: 2.163367835175079e-07.\u001B[0m\n",
      "/Users/alv.popov/study/ml/venv/lib/python3.9/site-packages/numpy/core/_methods.py:179: RuntimeWarning: overflow encountered in reduce\n",
      "  ret = umr_sum(arr, axis, dtype, out, keepdims, where=where)\n",
      "/var/folders/3s/h732c42d1jn2zbf_qxt6wv540000gp/T/ipykernel_19444/3848222870.py:2: RuntimeWarning: overflow encountered in square\n",
      "  return float(np.mean((y_true - y_pred)**2))\n",
      "\u001B[32m[I 2022-06-01 03:14:44,891]\u001B[0m Trial 17 finished with value: inf and parameters: {'t': -0.2989445658036125, 'step': -7.089750796847289, 'decay': -7.834747055694297}. Best is trial 1 with value: 2.163367835175079e-07.\u001B[0m\n",
      "\u001B[32m[I 2022-06-01 03:14:45,526]\u001B[0m Trial 18 finished with value: 0.008057320918250498 and parameters: {'t': -2.78526437387636, 'step': -12.819567383013286, 'decay': -3.9464253280140715}. Best is trial 1 with value: 2.163367835175079e-07.\u001B[0m\n",
      "\u001B[32m[I 2022-06-01 03:14:46,303]\u001B[0m Trial 19 finished with value: 4.786741951524023e-07 and parameters: {'t': -1.5078246280315342, 'step': -8.088002072503013, 'decay': -5.797101230344949}. Best is trial 1 with value: 2.163367835175079e-07.\u001B[0m\n",
      "\u001B[32m[I 2022-06-01 03:14:46,857]\u001B[0m Trial 20 finished with value: 5.526664835597714e-05 and parameters: {'t': -3.499464320477709, 'step': -9.88840501807109, 'decay': -5.948008695121667}. Best is trial 1 with value: 2.163367835175079e-07.\u001B[0m\n",
      "\u001B[32m[I 2022-06-01 03:14:47,544]\u001B[0m Trial 21 finished with value: 1.2889167833635197e-06 and parameters: {'t': -1.4619275637726212, 'step': -8.457129314541358, 'decay': -5.146057315140197}. Best is trial 1 with value: 2.163367835175079e-07.\u001B[0m\n",
      "\u001B[32m[I 2022-06-01 03:14:48,158]\u001B[0m Trial 22 finished with value: 7.101749599587052e-07 and parameters: {'t': -2.0915508237758695, 'step': -8.412216525505334, 'decay': -7.7641899818237405}. Best is trial 1 with value: 2.163367835175079e-07.\u001B[0m\n",
      "/Users/alv.popov/study/ml/venv/lib/python3.9/site-packages/numpy/core/_methods.py:179: RuntimeWarning: overflow encountered in reduce\n",
      "  ret = umr_sum(arr, axis, dtype, out, keepdims, where=where)\n",
      "/var/folders/3s/h732c42d1jn2zbf_qxt6wv540000gp/T/ipykernel_19444/3848222870.py:2: RuntimeWarning: overflow encountered in square\n",
      "  return float(np.mean((y_true - y_pred)**2))\n",
      "\u001B[32m[I 2022-06-01 03:14:48,825]\u001B[0m Trial 23 finished with value: inf and parameters: {'t': -0.7902144990588137, 'step': -7.029382470441076, 'decay': -3.3465070041952254}. Best is trial 1 with value: 2.163367835175079e-07.\u001B[0m\n",
      "\u001B[32m[I 2022-06-01 03:14:49,515]\u001B[0m Trial 24 finished with value: 9.181444985047441e-08 and parameters: {'t': -2.258056161392617, 'step': -7.783508102578677, 'decay': -6.2403416568337}. Best is trial 24 with value: 9.181444985047441e-08.\u001B[0m\n",
      "\u001B[32m[I 2022-06-01 03:14:49,938]\u001B[0m Trial 25 finished with value: 1.5401111801693967e-07 and parameters: {'t': -3.3631225278671706, 'step': -7.7752550079413, 'decay': -4.574147955533033}. Best is trial 24 with value: 9.181444985047441e-08.\u001B[0m\n",
      "\u001B[32m[I 2022-06-01 03:14:50,426]\u001B[0m Trial 26 finished with value: 1.8028115772571778e-08 and parameters: {'t': -3.3545076855279747, 'step': -7.500943029220584, 'decay': -4.8228953367479015}. Best is trial 26 with value: 1.8028115772571778e-08.\u001B[0m\n",
      "\u001B[32m[I 2022-06-01 03:14:50,658]\u001B[0m Trial 27 finished with value: 0.0021875870982219683 and parameters: {'t': -5.150769729041049, 'step': -10.967389054777417, 'decay': -4.401404741098198}. Best is trial 26 with value: 1.8028115772571778e-08.\u001B[0m\n",
      "\u001B[32m[I 2022-06-01 03:14:51,033]\u001B[0m Trial 28 finished with value: 6.736948128915883e-08 and parameters: {'t': -3.380891780633732, 'step': -7.481230346643702, 'decay': -4.411429085332708}. Best is trial 26 with value: 1.8028115772571778e-08.\u001B[0m\n",
      "\u001B[32m[I 2022-06-01 03:14:51,617]\u001B[0m Trial 29 finished with value: 0.018855739626417574 and parameters: {'t': -4.1572127170855735, 'step': -13.710772093061907, 'decay': -3.2062739781763243}. Best is trial 26 with value: 1.8028115772571778e-08.\u001B[0m\n",
      "\u001B[32m[I 2022-06-01 03:14:52,237]\u001B[0m Trial 30 finished with value: 6.133991964395352e-06 and parameters: {'t': -3.224049597201953, 'step': -8.973040045916093, 'decay': -6.343164521775068}. Best is trial 26 with value: 1.8028115772571778e-08.\u001B[0m\n",
      "\u001B[32m[I 2022-06-01 03:14:52,680]\u001B[0m Trial 31 finished with value: 4.6393110562795675e-08 and parameters: {'t': -3.036397721885456, 'step': -7.594626014371948, 'decay': -4.668601183393205}. Best is trial 26 with value: 1.8028115772571778e-08.\u001B[0m\n",
      "\u001B[32m[I 2022-06-01 03:14:53,222]\u001B[0m Trial 32 finished with value: 4.899896906403105e-08 and parameters: {'t': -2.816385091752142, 'step': -7.42338928120889, 'decay': -4.9826904677300154}. Best is trial 26 with value: 1.8028115772571778e-08.\u001B[0m\n",
      "\u001B[32m[I 2022-06-01 03:14:53,565]\u001B[0m Trial 33 finished with value: 2.181602571827052e-07 and parameters: {'t': -3.9236412714946893, 'step': -7.476229198442088, 'decay': -4.089291149094207}. Best is trial 26 with value: 1.8028115772571778e-08.\u001B[0m\n",
      "\u001B[32m[I 2022-06-01 03:14:54,920]\u001B[0m Trial 34 finished with value: 4.342320393498353e-09 and parameters: {'t': -4.75214016062881, 'step': -7.407521959901584, 'decay': -4.9308398279272545}. Best is trial 34 with value: 4.342320393498353e-09.\u001B[0m\n",
      "\u001B[32m[I 2022-06-01 03:14:56,003]\u001B[0m Trial 35 finished with value: 1.3082309927345757e-07 and parameters: {'t': -4.588112185370795, 'step': -8.21513776748447, 'decay': -4.999783876241194}. Best is trial 34 with value: 4.342320393498353e-09.\u001B[0m\n",
      "\u001B[32m[I 2022-06-01 03:14:56,354]\u001B[0m Trial 36 finished with value: 7.915254255114136e-05 and parameters: {'t': -5.248304678092109, 'step': -8.817179003972047, 'decay': -2.9103777894550786}. Best is trial 34 with value: 4.342320393498353e-09.\u001B[0m\n",
      "\u001B[32m[I 2022-06-01 03:14:56,901]\u001B[0m Trial 37 finished with value: 5.179275338996002e-05 and parameters: {'t': -2.8554737461393036, 'step': -9.441324456359952, 'decay': -4.874572867517553}. Best is trial 34 with value: 4.342320393498353e-09.\u001B[0m\n",
      "\u001B[32m[I 2022-06-01 03:14:57,284]\u001B[0m Trial 38 finished with value: 1.3336501857410751e-06 and parameters: {'t': -4.410802423448436, 'step': -7.347506269490587, 'decay': -3.811823704479047}. Best is trial 34 with value: 4.342320393498353e-09.\u001B[0m\n",
      "\u001B[32m[I 2022-06-01 03:14:58,093]\u001B[0m Trial 39 finished with value: 3.6097947591105426e-08 and parameters: {'t': -6.439882664185703, 'step': -8.121364897422044, 'decay': -5.536044839996777}. Best is trial 34 with value: 4.342320393498353e-09.\u001B[0m\n",
      "\u001B[32m[I 2022-06-01 03:14:58,747]\u001B[0m Trial 40 finished with value: 2.4963931396367068e-08 and parameters: {'t': -6.458395319252494, 'step': -8.086738673701632, 'decay': -7.187485397852247}. Best is trial 34 with value: 4.342320393498353e-09.\u001B[0m\n",
      "\u001B[32m[I 2022-06-01 03:14:59,492]\u001B[0m Trial 41 finished with value: 2.401097213424114e-08 and parameters: {'t': -6.319343852531214, 'step': -8.079801721058432, 'decay': -7.273658403255424}. Best is trial 34 with value: 4.342320393498353e-09.\u001B[0m\n",
      "\u001B[32m[I 2022-06-01 03:15:00,066]\u001B[0m Trial 42 finished with value: 2.5439174779410564e-08 and parameters: {'t': -6.7057821862690545, 'step': -8.103822322944314, 'decay': -7.280563647200162}. Best is trial 34 with value: 4.342320393498353e-09.\u001B[0m\n",
      "\u001B[32m[I 2022-06-01 03:15:00,740]\u001B[0m Trial 43 finished with value: 2.0883910171350942e-06 and parameters: {'t': -7.021415279975731, 'step': -8.736508532083816, 'decay': -7.219150113404662}. Best is trial 34 with value: 4.342320393498353e-09.\u001B[0m\n",
      "\u001B[32m[I 2022-06-01 03:15:01,362]\u001B[0m Trial 44 finished with value: 3.099223201832382e-05 and parameters: {'t': -8.029654992528128, 'step': -9.57152427023739, 'decay': -6.943389411806148}. Best is trial 34 with value: 4.342320393498353e-09.\u001B[0m\n",
      "\u001B[32m[I 2022-06-01 03:15:02,184]\u001B[0m Trial 45 finished with value: 1.454629452701546e-08 and parameters: {'t': -6.050690863119202, 'step': -7.989848548594665, 'decay': -8.464019059075145}. Best is trial 34 with value: 4.342320393498353e-09.\u001B[0m\n",
      "\u001B[32m[I 2022-06-01 03:15:03,037]\u001B[0m Trial 46 finished with value: 1.407762386579395e-05 and parameters: {'t': -6.2325538044061926, 'step': -9.22998308313346, 'decay': -8.897953435301064}. Best is trial 34 with value: 4.342320393498353e-09.\u001B[0m\n",
      "\u001B[32m[I 2022-06-01 03:15:03,669]\u001B[0m Trial 47 finished with value: 0.0009050662070506711 and parameters: {'t': -5.721934880219375, 'step': -11.812622270794451, 'decay': -8.257909880761916}. Best is trial 34 with value: 4.342320393498353e-09.\u001B[0m\n",
      "\u001B[32m[I 2022-06-01 03:15:04,282]\u001B[0m Trial 48 finished with value: 8.818863412750421e-07 and parameters: {'t': -4.939076251349654, 'step': -8.572101008101617, 'decay': -8.261306427659077}. Best is trial 34 with value: 4.342320393498353e-09.\u001B[0m\n",
      "\u001B[32m[I 2022-06-01 03:15:04,874]\u001B[0m Trial 49 finished with value: 0.0248932148134105 and parameters: {'t': -5.665563354476353, 'step': -14.300690036605008, 'decay': -6.611177095164525}. Best is trial 34 with value: 4.342320393498353e-09.\u001B[0m\n",
      "\u001B[32m[I 2022-06-01 03:15:05,501]\u001B[0m Trial 50 finished with value: 2.6646347166139565e-09 and parameters: {'t': -7.723412519682766, 'step': -7.8460939534988725, 'decay': -8.62871289749364}. Best is trial 50 with value: 2.6646347166139565e-09.\u001B[0m\n",
      "\u001B[32m[I 2022-06-01 03:15:06,153]\u001B[0m Trial 51 finished with value: 3.5240283531666908e-09 and parameters: {'t': -7.97655368359071, 'step': -7.77619299871034, 'decay': -8.54216692396073}. Best is trial 50 with value: 2.6646347166139565e-09.\u001B[0m\n",
      "\u001B[32m[I 2022-06-01 03:15:06,892]\u001B[0m Trial 52 finished with value: 4.323906724470851e-09 and parameters: {'t': -8.022219377395016, 'step': -7.881397624696091, 'decay': -8.624745515559773}. Best is trial 50 with value: 2.6646347166139565e-09.\u001B[0m\n",
      "\u001B[32m[I 2022-06-01 03:15:07,640]\u001B[0m Trial 53 finished with value: 3.450828650171218e+54 and parameters: {'t': -8.728126911271268, 'step': -7.203371391511525, 'decay': -8.5786328858471}. Best is trial 50 with value: 2.6646347166139565e-09.\u001B[0m\n",
      "\u001B[32m[I 2022-06-01 03:15:08,187]\u001B[0m Trial 54 finished with value: 1.8710670525290656e-09 and parameters: {'t': -7.906106718049236, 'step': -7.730116930646278, 'decay': -8.168877721865789}. Best is trial 54 with value: 1.8710670525290656e-09.\u001B[0m\n",
      "\u001B[32m[I 2022-06-01 03:15:08,710]\u001B[0m Trial 55 finished with value: 1.140825201961338e-09 and parameters: {'t': -8.068623507183975, 'step': -7.730779151647491, 'decay': -8.041348232471542}. Best is trial 55 with value: 1.140825201961338e-09.\u001B[0m\n",
      "/Users/alv.popov/study/ml/venv/lib/python3.9/site-packages/numpy/core/_methods.py:179: RuntimeWarning: overflow encountered in reduce\n",
      "  ret = umr_sum(arr, axis, dtype, out, keepdims, where=where)\n",
      "/var/folders/3s/h732c42d1jn2zbf_qxt6wv540000gp/T/ipykernel_19444/3848222870.py:2: RuntimeWarning: overflow encountered in square\n",
      "  return float(np.mean((y_true - y_pred)**2))\n",
      "\u001B[32m[I 2022-06-01 03:15:09,330]\u001B[0m Trial 56 finished with value: inf and parameters: {'t': -8.022144391021337, 'step': -7.047930963567238, 'decay': -7.982026831603515}. Best is trial 55 with value: 1.140825201961338e-09.\u001B[0m\n",
      "\u001B[32m[I 2022-06-01 03:15:10,108]\u001B[0m Trial 57 finished with value: 4.191391255489426e-09 and parameters: {'t': -7.613696767070038, 'step': -7.747956602442859, 'decay': -8.986929488072487}. Best is trial 55 with value: 1.140825201961338e-09.\u001B[0m\n",
      "\u001B[32m[I 2022-06-01 03:15:10,732]\u001B[0m Trial 58 finished with value: 2.825860623453546e-09 and parameters: {'t': -8.279970344801617, 'step': -7.83673001525074, 'decay': -8.824279965284644}. Best is trial 55 with value: 1.140825201961338e-09.\u001B[0m\n",
      "\u001B[32m[I 2022-06-01 03:15:11,332]\u001B[0m Trial 59 finished with value: 2.921846931962896e-07 and parameters: {'t': -7.59805666423652, 'step': -8.416830744337537, 'decay': -8.822954233160264}. Best is trial 55 with value: 1.140825201961338e-09.\u001B[0m\n",
      "\u001B[32m[I 2022-06-01 03:15:11,932]\u001B[0m Trial 60 finished with value: 1.2120457809220297e-09 and parameters: {'t': -8.404572050977235, 'step': -7.733240855800262, 'decay': -8.069246288656117}. Best is trial 55 with value: 1.140825201961338e-09.\u001B[0m\n",
      "\u001B[32m[I 2022-06-01 03:15:12,526]\u001B[0m Trial 61 finished with value: 2.741291194027861e-09 and parameters: {'t': -8.449819402798276, 'step': -7.855519677551624, 'decay': -8.150850104192564}. Best is trial 55 with value: 1.140825201961338e-09.\u001B[0m\n",
      "\u001B[32m[I 2022-06-01 03:15:13,138]\u001B[0m Trial 62 finished with value: 1.5527794673884882e-06 and parameters: {'t': -8.978825682684668, 'step': -8.679133349543985, 'decay': -7.9882311002536674}. Best is trial 55 with value: 1.140825201961338e-09.\u001B[0m\n",
      "\u001B[32m[I 2022-06-01 03:15:13,704]\u001B[0m Trial 63 finished with value: 1.9622180563299437e-07 and parameters: {'t': -8.438263669904213, 'step': -8.35407502012213, 'decay': -7.586789778509685}. Best is trial 55 with value: 1.140825201961338e-09.\u001B[0m\n",
      "\u001B[32m[I 2022-06-01 03:15:14,266]\u001B[0m Trial 64 finished with value: 3.1833145519678143e-09 and parameters: {'t': -8.42396749254666, 'step': -7.741194079720644, 'decay': -7.964525717338282}. Best is trial 55 with value: 1.140825201961338e-09.\u001B[0m\n",
      "\u001B[32m[I 2022-06-01 03:15:14,836]\u001B[0m Trial 65 finished with value: 0.00011377721394036731 and parameters: {'t': -8.455555927470659, 'step': -10.510715033200979, 'decay': -8.156023362905026}. Best is trial 55 with value: 1.140825201961338e-09.\u001B[0m\n",
      "\u001B[32m[I 2022-06-01 03:15:15,429]\u001B[0m Trial 66 finished with value: 5.071402848574151e-06 and parameters: {'t': -7.269371923527084, 'step': -8.976563984707226, 'decay': -7.577002225526666}. Best is trial 55 with value: 1.140825201961338e-09.\u001B[0m\n",
      "\u001B[32m[I 2022-06-01 03:15:15,988]\u001B[0m Trial 67 finished with value: 4.2342780402462964e+110 and parameters: {'t': -8.361830151576973, 'step': -7.186257114381221, 'decay': -7.924251702706604}. Best is trial 55 with value: 1.140825201961338e-09.\u001B[0m\n",
      "\u001B[32m[I 2022-06-01 03:15:16,560]\u001B[0m Trial 68 finished with value: 0.0005317748070400321 and parameters: {'t': -8.993553381085999, 'step': -11.610500989388886, 'decay': -8.255966349457577}. Best is trial 55 with value: 1.140825201961338e-09.\u001B[0m\n",
      "\u001B[32m[I 2022-06-01 03:15:17,132]\u001B[0m Trial 69 finished with value: 7.027135290448048e-10 and parameters: {'t': -7.718416535485168, 'step': -7.6272491967779406, 'decay': -8.685500066886586}. Best is trial 69 with value: 7.027135290448048e-10.\u001B[0m\n",
      "\u001B[32m[I 2022-06-01 03:15:17,724]\u001B[0m Trial 70 finished with value: 0.00936211388016985 and parameters: {'t': -7.726286834609317, 'step': -12.915178315459135, 'decay': -1.4002073184370913}. Best is trial 69 with value: 7.027135290448048e-10.\u001B[0m\n",
      "\u001B[32m[I 2022-06-01 03:15:18,442]\u001B[0m Trial 71 finished with value: 6.355311324283726e-10 and parameters: {'t': -8.283341190028882, 'step': -7.58785343271273, 'decay': -8.740778998888965}. Best is trial 71 with value: 6.355311324283726e-10.\u001B[0m\n",
      "\u001B[32m[I 2022-06-01 03:15:19,003]\u001B[0m Trial 72 finished with value: 8.548264313244341e-10 and parameters: {'t': -6.926519550263735, 'step': -7.656416915474512, 'decay': -8.637837113462252}. Best is trial 71 with value: 6.355311324283726e-10.\u001B[0m\n",
      "\u001B[32m[I 2022-06-01 03:15:19,725]\u001B[0m Trial 73 finished with value: 8.962457906739588e-10 and parameters: {'t': -7.1002917472724185, 'step': -7.5704513289650635, 'decay': -8.67248017823568}. Best is trial 71 with value: 6.355311324283726e-10.\u001B[0m\n",
      "\u001B[32m[I 2022-06-01 03:15:20,351]\u001B[0m Trial 74 finished with value: 6.13162857132358e-10 and parameters: {'t': -7.053905511674946, 'step': -7.317109179750257, 'decay': -8.706595039012942}. Best is trial 74 with value: 6.13162857132358e-10.\u001B[0m\n",
      "\u001B[32m[I 2022-06-01 03:15:20,886]\u001B[0m Trial 75 finished with value: 1.952960758148836e-09 and parameters: {'t': -6.87327902789784, 'step': -7.291137086363458, 'decay': -8.401332261633975}. Best is trial 74 with value: 6.13162857132358e-10.\u001B[0m\n",
      "\u001B[32m[I 2022-06-01 03:15:21,409]\u001B[0m Trial 76 finished with value: 7.257555395081358e-10 and parameters: {'t': -7.207195558883184, 'step': -7.570995694740089, 'decay': -7.72124646790267}. Best is trial 74 with value: 6.13162857132358e-10.\u001B[0m\n",
      "\u001B[32m[I 2022-06-01 03:15:21,609]\u001B[0m Trial 77 finished with value: 1.4051165761956696e-06 and parameters: {'t': -6.980805621062679, 'step': -7.569726380132563, 'decay': -0.3989910258538325}. Best is trial 74 with value: 6.13162857132358e-10.\u001B[0m\n",
      "\u001B[32m[I 2022-06-01 03:15:22,118]\u001B[0m Trial 78 finished with value: 2.885977032369101e-09 and parameters: {'t': -7.292375921023867, 'step': -7.335354114029126, 'decay': -7.654840866905741}. Best is trial 74 with value: 6.13162857132358e-10.\u001B[0m\n",
      "\u001B[32m[I 2022-06-01 03:15:22,632]\u001B[0m Trial 79 finished with value: 1.0051278170837386e-07 and parameters: {'t': -7.231192988465393, 'step': -8.255259318285368, 'decay': -8.811777812921123}. Best is trial 74 with value: 6.13162857132358e-10.\u001B[0m\n",
      "/Users/alv.popov/study/ml/venv/lib/python3.9/site-packages/numpy/core/_methods.py:179: RuntimeWarning: overflow encountered in reduce\n",
      "  ret = umr_sum(arr, axis, dtype, out, keepdims, where=where)\n",
      "/var/folders/3s/h732c42d1jn2zbf_qxt6wv540000gp/T/ipykernel_19444/3848222870.py:2: RuntimeWarning: overflow encountered in square\n",
      "  return float(np.mean((y_true - y_pred)**2))\n",
      "/var/folders/3s/h732c42d1jn2zbf_qxt6wv540000gp/T/ipykernel_19444/3389491726.py:23: RuntimeWarning: overflow encountered in add\n",
      "  dw = - step * (sum([grad1(yi, ypi, xi) for yi, ypi, xi in zip(y[ind], y_pred, x[ind])]) + t * w)\n",
      "/var/folders/3s/h732c42d1jn2zbf_qxt6wv540000gp/T/ipykernel_19444/3848222870.py:5: RuntimeWarning: invalid value encountered in multiply\n",
      "  return x * 2 * (y_pred - y_true)\n",
      "/var/folders/3s/h732c42d1jn2zbf_qxt6wv540000gp/T/ipykernel_19444/3389491726.py:28: RuntimeWarning: invalid value encountered in add\n",
      "  w += dw\n",
      "\u001B[33m[W 2022-06-01 03:15:23,246]\u001B[0m Trial 80 failed, because the objective function returned nan.\u001B[0m\n",
      "\u001B[32m[I 2022-06-01 03:15:24,004]\u001B[0m Trial 81 finished with value: 6.666308471173042e-10 and parameters: {'t': -6.729943085489705, 'step': -7.580219720850895, 'decay': -7.440853787659079}. Best is trial 74 with value: 6.13162857132358e-10.\u001B[0m\n",
      "\u001B[32m[I 2022-06-01 03:15:24,595]\u001B[0m Trial 82 finished with value: 1.5959585588729105e-09 and parameters: {'t': -6.824284828914864, 'step': -7.574212291790138, 'decay': -7.010236776945252}. Best is trial 74 with value: 6.13162857132358e-10.\u001B[0m\n",
      "/Users/alv.popov/study/ml/venv/lib/python3.9/site-packages/numpy/core/_methods.py:179: RuntimeWarning: overflow encountered in reduce\n",
      "  ret = umr_sum(arr, axis, dtype, out, keepdims, where=where)\n",
      "/var/folders/3s/h732c42d1jn2zbf_qxt6wv540000gp/T/ipykernel_19444/3848222870.py:2: RuntimeWarning: overflow encountered in square\n",
      "  return float(np.mean((y_true - y_pred)**2))\n",
      "/var/folders/3s/h732c42d1jn2zbf_qxt6wv540000gp/T/ipykernel_19444/3389491726.py:23: RuntimeWarning: overflow encountered in add\n",
      "  dw = - step * (sum([grad1(yi, ypi, xi) for yi, ypi, xi in zip(y[ind], y_pred, x[ind])]) + t * w)\n",
      "/var/folders/3s/h732c42d1jn2zbf_qxt6wv540000gp/T/ipykernel_19444/3848222870.py:5: RuntimeWarning: invalid value encountered in multiply\n",
      "  return x * 2 * (y_pred - y_true)\n",
      "/var/folders/3s/h732c42d1jn2zbf_qxt6wv540000gp/T/ipykernel_19444/3389491726.py:28: RuntimeWarning: invalid value encountered in add\n",
      "  w += dw\n",
      "\u001B[33m[W 2022-06-01 03:15:25,398]\u001B[0m Trial 83 failed, because the objective function returned nan.\u001B[0m\n",
      "\u001B[32m[I 2022-06-01 03:15:26,685]\u001B[0m Trial 84 finished with value: 7.065132084878296e+211 and parameters: {'t': -7.4591633700760305, 'step': -7.155535935234993, 'decay': -7.4805911313146725}. Best is trial 74 with value: 6.13162857132358e-10.\u001B[0m\n",
      "\u001B[32m[I 2022-06-01 03:15:27,288]\u001B[0m Trial 85 finished with value: 9.090028668494111e-09 and parameters: {'t': -6.644270181886755, 'step': -7.456116116389192, 'decay': -7.808910359267045}. Best is trial 74 with value: 6.13162857132358e-10.\u001B[0m\n",
      "/Users/alv.popov/study/ml/venv/lib/python3.9/site-packages/numpy/core/_methods.py:179: RuntimeWarning: overflow encountered in reduce\n",
      "  ret = umr_sum(arr, axis, dtype, out, keepdims, where=where)\n",
      "/var/folders/3s/h732c42d1jn2zbf_qxt6wv540000gp/T/ipykernel_19444/3848222870.py:2: RuntimeWarning: overflow encountered in square\n",
      "  return float(np.mean((y_true - y_pred)**2))\n",
      "\u001B[32m[I 2022-06-01 03:15:28,075]\u001B[0m Trial 86 finished with value: inf and parameters: {'t': -7.162627025082406, 'step': -7.052626920476616, 'decay': -8.424014696504925}. Best is trial 74 with value: 6.13162857132358e-10.\u001B[0m\n",
      "\u001B[32m[I 2022-06-01 03:15:28,824]\u001B[0m Trial 87 finished with value: 7.837902101378447e-08 and parameters: {'t': -8.738367444685775, 'step': -8.215678727990106, 'decay': -7.415344717296554}. Best is trial 74 with value: 6.13162857132358e-10.\u001B[0m\n",
      "\u001B[32m[I 2022-06-01 03:15:29,383]\u001B[0m Trial 88 finished with value: 9.769566661131827e-10 and parameters: {'t': -8.185362234578761, 'step': -7.58453401317487, 'decay': -8.727795188359517}. Best is trial 74 with value: 6.13162857132358e-10.\u001B[0m\n",
      "\u001B[32m[I 2022-06-01 03:15:30,107]\u001B[0m Trial 89 finished with value: 1.1543908295242232e-08 and parameters: {'t': -7.481690202842721, 'step': -7.9991360937780955, 'decay': -8.70423963033876}. Best is trial 74 with value: 6.13162857132358e-10.\u001B[0m\n",
      "\u001B[32m[I 2022-06-01 03:15:30,732]\u001B[0m Trial 90 finished with value: 8.073480364177084e-09 and parameters: {'t': -7.818873264603773, 'step': -7.586035306564257, 'decay': -8.398607431384782}. Best is trial 74 with value: 6.13162857132358e-10.\u001B[0m\n",
      "/Users/alv.popov/study/ml/venv/lib/python3.9/site-packages/numpy/core/_methods.py:179: RuntimeWarning: overflow encountered in reduce\n",
      "  ret = umr_sum(arr, axis, dtype, out, keepdims, where=where)\n",
      "/var/folders/3s/h732c42d1jn2zbf_qxt6wv540000gp/T/ipykernel_19444/3848222870.py:2: RuntimeWarning: overflow encountered in square\n",
      "  return float(np.mean((y_true - y_pred)**2))\n",
      "/var/folders/3s/h732c42d1jn2zbf_qxt6wv540000gp/T/ipykernel_19444/3389491726.py:23: RuntimeWarning: overflow encountered in add\n",
      "  dw = - step * (sum([grad1(yi, ypi, xi) for yi, ypi, xi in zip(y[ind], y_pred, x[ind])]) + t * w)\n",
      "/var/folders/3s/h732c42d1jn2zbf_qxt6wv540000gp/T/ipykernel_19444/3848222870.py:5: RuntimeWarning: invalid value encountered in multiply\n",
      "  return x * 2 * (y_pred - y_true)\n",
      "/var/folders/3s/h732c42d1jn2zbf_qxt6wv540000gp/T/ipykernel_19444/3389491726.py:28: RuntimeWarning: invalid value encountered in add\n",
      "  w += dw\n",
      "\u001B[33m[W 2022-06-01 03:15:31,490]\u001B[0m Trial 91 failed, because the objective function returned nan.\u001B[0m\n",
      "\u001B[32m[I 2022-06-01 03:15:32,307]\u001B[0m Trial 92 finished with value: 5.421766924607766e-09 and parameters: {'t': -7.091813985879379, 'step': -7.27423492148686, 'decay': -8.982626309336702}. Best is trial 74 with value: 6.13162857132358e-10.\u001B[0m\n",
      "\u001B[32m[I 2022-06-01 03:15:33,026]\u001B[0m Trial 93 finished with value: 2.1541187192407757e-09 and parameters: {'t': -6.603474932638017, 'step': -7.401939627397733, 'decay': -7.784101771445465}. Best is trial 74 with value: 6.13162857132358e-10.\u001B[0m\n",
      "/Users/alv.popov/study/ml/venv/lib/python3.9/site-packages/numpy/core/_methods.py:179: RuntimeWarning: overflow encountered in reduce\n",
      "  ret = umr_sum(arr, axis, dtype, out, keepdims, where=where)\n",
      "/var/folders/3s/h732c42d1jn2zbf_qxt6wv540000gp/T/ipykernel_19444/3848222870.py:2: RuntimeWarning: overflow encountered in square\n",
      "  return float(np.mean((y_true - y_pred)**2))\n",
      "/var/folders/3s/h732c42d1jn2zbf_qxt6wv540000gp/T/ipykernel_19444/3389491726.py:23: RuntimeWarning: overflow encountered in add\n",
      "  dw = - step * (sum([grad1(yi, ypi, xi) for yi, ypi, xi in zip(y[ind], y_pred, x[ind])]) + t * w)\n",
      "/var/folders/3s/h732c42d1jn2zbf_qxt6wv540000gp/T/ipykernel_19444/3848222870.py:5: RuntimeWarning: invalid value encountered in multiply\n",
      "  return x * 2 * (y_pred - y_true)\n",
      "/var/folders/3s/h732c42d1jn2zbf_qxt6wv540000gp/T/ipykernel_19444/3389491726.py:28: RuntimeWarning: invalid value encountered in add\n",
      "  w += dw\n",
      "\u001B[33m[W 2022-06-01 03:15:34,600]\u001B[0m Trial 94 failed, because the objective function returned nan.\u001B[0m\n",
      "\u001B[32m[I 2022-06-01 03:15:35,493]\u001B[0m Trial 95 finished with value: 2.8949599840084358e-09 and parameters: {'t': -8.149077666156616, 'step': -7.616120928728116, 'decay': -8.637201416975365}. Best is trial 74 with value: 6.13162857132358e-10.\u001B[0m\n",
      "\u001B[32m[I 2022-06-01 03:15:36,299]\u001B[0m Trial 96 finished with value: 5.094719200549531e-07 and parameters: {'t': -8.17714218144244, 'step': -8.49530323190302, 'decay': -8.060778646562305}. Best is trial 74 with value: 6.13162857132358e-10.\u001B[0m\n",
      "\u001B[32m[I 2022-06-01 03:15:36,904]\u001B[0m Trial 97 finished with value: 1.2170109201194883e-08 and parameters: {'t': -8.684840639207746, 'step': -8.010836442234277, 'decay': -8.31195198909522}. Best is trial 74 with value: 6.13162857132358e-10.\u001B[0m\n",
      "/Users/alv.popov/study/ml/venv/lib/python3.9/site-packages/numpy/core/_methods.py:179: RuntimeWarning: overflow encountered in reduce\n",
      "  ret = umr_sum(arr, axis, dtype, out, keepdims, where=where)\n",
      "/var/folders/3s/h732c42d1jn2zbf_qxt6wv540000gp/T/ipykernel_19444/3848222870.py:2: RuntimeWarning: overflow encountered in square\n",
      "  return float(np.mean((y_true - y_pred)**2))\n",
      "\u001B[32m[I 2022-06-01 03:15:37,834]\u001B[0m Trial 98 finished with value: inf and parameters: {'t': -7.446012359422461, 'step': -7.046337060741174, 'decay': -8.708630527596426}. Best is trial 74 with value: 6.13162857132358e-10.\u001B[0m\n",
      "\u001B[32m[I 2022-06-01 03:15:39,207]\u001B[0m Trial 99 finished with value: 1.1225240057677205e-07 and parameters: {'t': -6.025464560043479, 'step': -8.264159316659306, 'decay': -6.691680978324726}. Best is trial 74 with value: 6.13162857132358e-10.\u001B[0m\n"
     ]
    },
    {
     "data": {
      "text/plain": "{'t': -7.053905511674946,\n 'step': -7.317109179750257,\n 'decay': -8.706595039012942}"
     },
     "execution_count": 9,
     "metadata": {},
     "output_type": "execute_result"
    }
   ],
   "source": [
    "study = optuna.create_study()\n",
    "\n",
    "def objective(trial: optuna.Trial) -> float:\n",
    "    t_log = trial.suggest_uniform(\"t\", -9, 0)\n",
    "    step_log = trial.suggest_uniform(\"step\", -15, -7)\n",
    "    decay_log = trial.suggest_uniform(\"decay\", -9, 0)\n",
    "\n",
    "    model = MseSgd(x_train, y_train, math.exp(t_log), math.exp(step_log), math.exp(decay_log))\n",
    "    y_pred = model.predict(x_test)\n",
    "    error = mse(y_test, y_pred)\n",
    "    return error\n",
    "\n",
    "study.optimize(objective, n_trials=100)\n",
    "mse_sgd_params = study.best_params\n",
    "mse_sgd_params"
   ],
   "metadata": {
    "collapsed": false,
    "pycharm": {
     "name": "#%%\n"
    }
   }
  },
  {
   "cell_type": "code",
   "execution_count": 14,
   "outputs": [
    {
     "name": "stderr",
     "output_type": "stream",
     "text": [
      "\u001B[32m[I 2022-06-01 03:18:10,301]\u001B[0m A new study created in memory with name: no-name-728deff6-c5f6-4580-b3e0-fdca0012fc79\u001B[0m\n",
      "\u001B[32m[I 2022-06-01 03:18:10,307]\u001B[0m Trial 0 finished with value: 0.999995513608475 and parameters: {'t': -3.1577659858400438, 'step': -14.55896011838821, 'decay': -7.984539728938507}. Best is trial 0 with value: 0.999995513608475.\u001B[0m\n",
      "\u001B[32m[I 2022-06-01 03:18:11,992]\u001B[0m Trial 1 finished with value: 0.02692943920131776 and parameters: {'t': -4.946765506062569, 'step': -13.116844105386166, 'decay': -4.409707761981711}. Best is trial 1 with value: 0.02692943920131776.\u001B[0m\n",
      "\u001B[32m[I 2022-06-01 03:18:13,231]\u001B[0m Trial 2 finished with value: 0.037553913025783515 and parameters: {'t': -6.435100851093903, 'step': -9.540550154304045, 'decay': -1.6730065374152048}. Best is trial 1 with value: 0.02692943920131776.\u001B[0m\n",
      "\u001B[32m[I 2022-06-01 03:18:14,270]\u001B[0m Trial 3 finished with value: 0.7720614588775083 and parameters: {'t': -8.518323391468247, 'step': -18.584183266934907, 'decay': -3.697884263237893}. Best is trial 1 with value: 0.02692943920131776.\u001B[0m\n",
      "\u001B[32m[I 2022-06-01 03:18:15,390]\u001B[0m Trial 4 finished with value: 0.1601692517881821 and parameters: {'t': -0.8934600364033027, 'step': -15.85708452883507, 'decay': -0.5592628215218163}. Best is trial 1 with value: 0.02692943920131776.\u001B[0m\n",
      "\u001B[32m[I 2022-06-01 03:18:15,398]\u001B[0m Trial 5 finished with value: 0.9998856789888162 and parameters: {'t': -6.067426543772315, 'step': -17.49311257735625, 'decay': -1.2612251493442264}. Best is trial 1 with value: 0.02692943920131776.\u001B[0m\n",
      "\u001B[32m[I 2022-06-01 03:18:16,547]\u001B[0m Trial 6 finished with value: 0.06681144402146982 and parameters: {'t': -3.9504605109132074, 'step': -13.570915400669367, 'decay': -2.1243936470257534}. Best is trial 1 with value: 0.02692943920131776.\u001B[0m\n",
      "\u001B[32m[I 2022-06-01 03:18:17,751]\u001B[0m Trial 7 finished with value: 0.018421331660410788 and parameters: {'t': -2.4280828367048084, 'step': -10.148053625296129, 'decay': -2.73369782397495}. Best is trial 7 with value: 0.018421331660410788.\u001B[0m\n",
      "\u001B[32m[I 2022-06-01 03:18:18,637]\u001B[0m Trial 8 finished with value: 0.5368158136923905 and parameters: {'t': -2.1141753490011235, 'step': -17.563607043385137, 'decay': -4.10784234760496}. Best is trial 7 with value: 0.018421331660410788.\u001B[0m\n",
      "\u001B[32m[I 2022-06-01 03:18:19,500]\u001B[0m Trial 9 finished with value: 1.0 and parameters: {'t': -2.6280435587683, 'step': -8.245245267323588, 'decay': -4.461805030982723}. Best is trial 7 with value: 0.018421331660410788.\u001B[0m\n",
      "\u001B[32m[I 2022-06-01 03:18:20,375]\u001B[0m Trial 10 finished with value: 1.0 and parameters: {'t': -0.31225327765099387, 'step': -5.880324808127756, 'decay': -7.067274681592638}. Best is trial 7 with value: 0.018421331660410788.\u001B[0m\n",
      "\u001B[32m[I 2022-06-01 03:18:21,236]\u001B[0m Trial 11 finished with value: 0.014450653914442214 and parameters: {'t': -5.344372364901675, 'step': -11.506882775497358, 'decay': -5.888609438841918}. Best is trial 11 with value: 0.014450653914442214.\u001B[0m\n",
      "\u001B[32m[I 2022-06-01 03:18:22,097]\u001B[0m Trial 12 finished with value: 0.007925954295510566 and parameters: {'t': -5.276167992818856, 'step': -10.097332140651366, 'decay': -6.0767991824345495}. Best is trial 12 with value: 0.007925954295510566.\u001B[0m\n",
      "\u001B[32m[I 2022-06-01 03:18:22,964]\u001B[0m Trial 13 finished with value: 0.016110953885917087 and parameters: {'t': -7.546697841470967, 'step': -11.11221768822762, 'decay': -6.252905275265602}. Best is trial 12 with value: 0.007925954295510566.\u001B[0m\n",
      "\u001B[32m[I 2022-06-01 03:18:22,976]\u001B[0m Trial 14 finished with value: 0.9999913342275623 and parameters: {'t': -5.19518294349801, 'step': -7.211579035476976, 'decay': -5.896104094352918}. Best is trial 12 with value: 0.007925954295510566.\u001B[0m\n",
      "\u001B[32m[I 2022-06-01 03:18:23,835]\u001B[0m Trial 15 finished with value: 0.00667890607978804 and parameters: {'t': -6.484954214978181, 'step': -11.548270317005933, 'decay': -8.830933636969139}. Best is trial 15 with value: 0.00667890607978804.\u001B[0m\n",
      "\u001B[32m[I 2022-06-01 03:18:23,846]\u001B[0m Trial 16 finished with value: 0.9999945804563324 and parameters: {'t': -7.175428276984014, 'step': -8.68842475395578, 'decay': -8.934387103048001}. Best is trial 15 with value: 0.00667890607978804.\u001B[0m\n",
      "\u001B[32m[I 2022-06-01 03:18:23,858]\u001B[0m Trial 17 finished with value: 1.0 and parameters: {'t': -3.912236457053319, 'step': -11.83424437733494, 'decay': -8.671782542969574}. Best is trial 15 with value: 0.00667890607978804.\u001B[0m\n",
      "\u001B[32m[I 2022-06-01 03:18:24,748]\u001B[0m Trial 18 finished with value: 1.0 and parameters: {'t': -8.870073569847952, 'step': -5.433174108852447, 'decay': -7.222489564077064}. Best is trial 15 with value: 0.00667890607978804.\u001B[0m\n",
      "\u001B[32m[I 2022-06-01 03:18:25,620]\u001B[0m Trial 19 finished with value: 0.10599827360828812 and parameters: {'t': -6.390146752648372, 'step': -14.376867168940787, 'decay': -5.3625816408352165}. Best is trial 15 with value: 0.00667890607978804.\u001B[0m\n",
      "\u001B[32m[I 2022-06-01 03:18:26,485]\u001B[0m Trial 20 finished with value: 0.01227319113989091 and parameters: {'t': -7.112000494902713, 'step': -10.58500216229558, 'decay': -7.538098712357265}. Best is trial 15 with value: 0.00667890607978804.\u001B[0m\n",
      "\u001B[32m[I 2022-06-01 03:18:27,351]\u001B[0m Trial 21 finished with value: 0.02249581593217906 and parameters: {'t': -7.556090217946791, 'step': -10.465995829453615, 'decay': -7.700779640366248}. Best is trial 15 with value: 0.00667890607978804.\u001B[0m\n",
      "\u001B[32m[I 2022-06-01 03:18:28,270]\u001B[0m Trial 22 finished with value: 0.006997606905634078 and parameters: {'t': -5.930089617771863, 'step': -12.40699537035004, 'decay': -6.772082143733121}. Best is trial 15 with value: 0.00667890607978804.\u001B[0m\n",
      "\u001B[32m[I 2022-06-01 03:18:29,127]\u001B[0m Trial 23 finished with value: 0.007615802467764065 and parameters: {'t': -5.792977846593335, 'step': -12.474510068115839, 'decay': -6.637863227828366}. Best is trial 15 with value: 0.00667890607978804.\u001B[0m\n",
      "\u001B[32m[I 2022-06-01 03:18:29,982]\u001B[0m Trial 24 finished with value: 0.010860028014089406 and parameters: {'t': -5.92137189615044, 'step': -12.567825176719905, 'decay': -8.345858387706265}. Best is trial 15 with value: 0.00667890607978804.\u001B[0m\n",
      "\u001B[32m[I 2022-06-01 03:18:29,995]\u001B[0m Trial 25 finished with value: 1.0 and parameters: {'t': -4.3845165205486945, 'step': -15.30470433939435, 'decay': -6.965596910889639}. Best is trial 15 with value: 0.00667890607978804.\u001B[0m\n",
      "\u001B[32m[I 2022-06-01 03:18:30,856]\u001B[0m Trial 26 finished with value: 0.006749454752956676 and parameters: {'t': -7.937678765616241, 'step': -12.346975626415327, 'decay': -5.291112651434215}. Best is trial 15 with value: 0.00667890607978804.\u001B[0m\n",
      "\u001B[32m[I 2022-06-01 03:18:30,869]\u001B[0m Trial 27 finished with value: 1.0 and parameters: {'t': -8.049702241803342, 'step': -16.27883318820129, 'decay': -5.3847009947818325}. Best is trial 15 with value: 0.00667890607978804.\u001B[0m\n",
      "\u001B[32m[I 2022-06-01 03:18:31,747]\u001B[0m Trial 28 finished with value: 0.07258262746526528 and parameters: {'t': -6.833600633326224, 'step': -13.65579325082967, 'decay': -5.133368198103522}. Best is trial 15 with value: 0.00667890607978804.\u001B[0m\n",
      "\u001B[32m[I 2022-06-01 03:18:31,760]\u001B[0m Trial 29 finished with value: 1.0 and parameters: {'t': -7.92038903158436, 'step': -14.93083032114585, 'decay': -8.271897257619237}. Best is trial 15 with value: 0.00667890607978804.\u001B[0m\n",
      "\u001B[32m[I 2022-06-01 03:18:31,774]\u001B[0m Trial 30 finished with value: 1.0 and parameters: {'t': -8.473927164076091, 'step': -8.91049479659675, 'decay': -3.279049225350723}. Best is trial 15 with value: 0.00667890607978804.\u001B[0m\n",
      "\u001B[32m[I 2022-06-01 03:18:31,790]\u001B[0m Trial 31 finished with value: 1.0 and parameters: {'t': -5.91323670971607, 'step': -12.289678544684387, 'decay': -6.654579484644759}. Best is trial 15 with value: 0.00667890607978804.\u001B[0m\n",
      "\u001B[32m[I 2022-06-01 03:18:32,684]\u001B[0m Trial 32 finished with value: 0.017710911128905393 and parameters: {'t': -6.642068811691602, 'step': -13.020557294486673, 'decay': -5.03984190954612}. Best is trial 15 with value: 0.00667890607978804.\u001B[0m\n",
      "\u001B[32m[I 2022-06-01 03:18:32,696]\u001B[0m Trial 33 finished with value: 1.0 and parameters: {'t': -5.63379790150076, 'step': -14.057840801883223, 'decay': -6.556910921042222}. Best is trial 15 with value: 0.00667890607978804.\u001B[0m\n",
      "\u001B[32m[I 2022-06-01 03:18:33,576]\u001B[0m Trial 34 finished with value: 0.005574981720748282 and parameters: {'t': -4.375689007220242, 'step': -12.32852151995825, 'decay': -7.694691338270152}. Best is trial 34 with value: 0.005574981720748282.\u001B[0m\n",
      "\u001B[32m[I 2022-06-01 03:18:33,589]\u001B[0m Trial 35 finished with value: 1.0 and parameters: {'t': -4.5612543580560425, 'step': -11.279271976958697, 'decay': -7.869016515585846}. Best is trial 34 with value: 0.005574981720748282.\u001B[0m\n",
      "\u001B[32m[I 2022-06-01 03:18:33,603]\u001B[0m Trial 36 finished with value: 0.9999797961403858 and parameters: {'t': -3.2523117340195755, 'step': -13.121364390921798, 'decay': -8.440752909011657}. Best is trial 34 with value: 0.005574981720748282.\u001B[0m\n",
      "\u001B[32m[I 2022-06-01 03:18:33,619]\u001B[0m Trial 37 finished with value: 1.0 and parameters: {'t': -4.71652622003927, 'step': -9.211992300537819, 'decay': -8.968769785528558}. Best is trial 34 with value: 0.005574981720748282.\u001B[0m\n",
      "\u001B[32m[I 2022-06-01 03:18:34,504]\u001B[0m Trial 38 finished with value: 0.05697087729438149 and parameters: {'t': -6.349913289039682, 'step': -7.739387668774534, 'decay': -7.408794747713946}. Best is trial 34 with value: 0.005574981720748282.\u001B[0m\n",
      "\u001B[32m[I 2022-06-01 03:18:35,359]\u001B[0m Trial 39 finished with value: 0.18906545151090043 and parameters: {'t': -3.732826532240198, 'step': -16.099691237894117, 'decay': -8.2495740211062}. Best is trial 34 with value: 0.005574981720748282.\u001B[0m\n",
      "\u001B[32m[I 2022-06-01 03:18:35,373]\u001B[0m Trial 40 finished with value: 0.9999700598286507 and parameters: {'t': -7.3608423349736505, 'step': -11.813666972557215, 'decay': -7.90325264147717}. Best is trial 34 with value: 0.005574981720748282.\u001B[0m\n",
      "\u001B[32m[I 2022-06-01 03:18:35,387]\u001B[0m Trial 41 finished with value: 0.9999857588677891 and parameters: {'t': -5.674324514826081, 'step': -12.520277136976711, 'decay': -6.501918121278698}. Best is trial 34 with value: 0.005574981720748282.\u001B[0m\n",
      "\u001B[32m[I 2022-06-01 03:18:35,405]\u001B[0m Trial 42 finished with value: 1.0 and parameters: {'t': -5.018351732050825, 'step': -13.282412387032211, 'decay': -0.1987347760672904}. Best is trial 34 with value: 0.005574981720748282.\u001B[0m\n",
      "\u001B[32m[I 2022-06-01 03:18:36,295]\u001B[0m Trial 43 finished with value: 0.04855220581107751 and parameters: {'t': -6.170159254281118, 'step': -9.733804161832797, 'decay': -5.68126874429821}. Best is trial 34 with value: 0.005574981720748282.\u001B[0m\n",
      "\u001B[32m[I 2022-06-01 03:18:36,310]\u001B[0m Trial 44 finished with value: 0.9998887153120299 and parameters: {'t': -4.249697732018183, 'step': -19.957872197816506, 'decay': -4.764039149517719}. Best is trial 34 with value: 0.005574981720748282.\u001B[0m\n",
      "\u001B[32m[I 2022-06-01 03:18:36,326]\u001B[0m Trial 45 finished with value: 1.0 and parameters: {'t': -7.877505257920185, 'step': -10.81581784129306, 'decay': -6.849188710748806}. Best is trial 34 with value: 0.005574981720748282.\u001B[0m\n",
      "\u001B[32m[I 2022-06-01 03:18:36,342]\u001B[0m Trial 46 finished with value: 1.0 and parameters: {'t': -1.5975741541957893, 'step': -12.28688732559151, 'decay': -6.220759666525244}. Best is trial 34 with value: 0.005574981720748282.\u001B[0m\n",
      "\u001B[32m[I 2022-06-01 03:18:37,235]\u001B[0m Trial 47 finished with value: 0.08588385378692794 and parameters: {'t': -6.778214783395919, 'step': -13.88767143125682, 'decay': -4.11515730506424}. Best is trial 34 with value: 0.005574981720748282.\u001B[0m\n",
      "\u001B[32m[I 2022-06-01 03:18:38,095]\u001B[0m Trial 48 finished with value: 0.008120010466182683 and parameters: {'t': -3.5372490260152505, 'step': -11.679034312659242, 'decay': -7.551161959053419}. Best is trial 34 with value: 0.005574981720748282.\u001B[0m\n",
      "\u001B[32m[I 2022-06-01 03:18:38,108]\u001B[0m Trial 49 finished with value: 1.0 and parameters: {'t': -5.568884453264828, 'step': -14.871942464245418, 'decay': -7.1828773820607354}. Best is trial 34 with value: 0.005574981720748282.\u001B[0m\n",
      "\u001B[32m[I 2022-06-01 03:18:38,973]\u001B[0m Trial 50 finished with value: 0.008287587668668321 and parameters: {'t': -4.9244790047767415, 'step': -11.183340890051074, 'decay': -5.687736670409832}. Best is trial 34 with value: 0.005574981720748282.\u001B[0m\n",
      "\u001B[32m[I 2022-06-01 03:18:38,988]\u001B[0m Trial 51 finished with value: 1.0 and parameters: {'t': -5.353577304904091, 'step': -10.24998552187504, 'decay': -6.213047171533708}. Best is trial 34 with value: 0.005574981720748282.\u001B[0m\n",
      "\u001B[32m[I 2022-06-01 03:18:39,856]\u001B[0m Trial 52 finished with value: 0.008441713811259636 and parameters: {'t': -4.084277438817023, 'step': -12.509798684440065, 'decay': -5.910039801567028}. Best is trial 34 with value: 0.005574981720748282.\u001B[0m\n",
      "\u001B[32m[I 2022-06-01 03:18:40,713]\u001B[0m Trial 53 finished with value: 0.04555314113769241 and parameters: {'t': -4.779515155612282, 'step': -9.751692612208718, 'decay': -4.703933287439549}. Best is trial 34 with value: 0.005574981720748282.\u001B[0m\n",
      "\u001B[32m[I 2022-06-01 03:18:41,579]\u001B[0m Trial 54 finished with value: 0.0464613826099664 and parameters: {'t': -8.984927931542417, 'step': -11.90939284900685, 'decay': -8.602430552033752}. Best is trial 34 with value: 0.005574981720748282.\u001B[0m\n",
      "\u001B[32m[I 2022-06-01 03:18:42,442]\u001B[0m Trial 55 finished with value: 0.0726855176959866 and parameters: {'t': -5.1900900221477615, 'step': -10.93630341106127, 'decay': -6.968890175215754}. Best is trial 34 with value: 0.005574981720748282.\u001B[0m\n",
      "\u001B[32m[I 2022-06-01 03:18:43,315]\u001B[0m Trial 56 finished with value: 0.013718776694259019 and parameters: {'t': -6.0265219957450515, 'step': -12.938265147630972, 'decay': -8.05509664853669}. Best is trial 34 with value: 0.005574981720748282.\u001B[0m\n",
      "\u001B[32m[I 2022-06-01 03:18:43,329]\u001B[0m Trial 57 finished with value: 1.0 and parameters: {'t': -6.94321499294955, 'step': -14.32990694619284, 'decay': -7.205712029128138}. Best is trial 34 with value: 0.005574981720748282.\u001B[0m\n",
      "\u001B[32m[I 2022-06-01 03:18:43,343]\u001B[0m Trial 58 finished with value: 0.9999943643063891 and parameters: {'t': -6.539179704551691, 'step': -10.021443604126956, 'decay': -6.303485156337935}. Best is trial 34 with value: 0.005574981720748282.\u001B[0m\n",
      "\u001B[32m[I 2022-06-01 03:18:43,359]\u001B[0m Trial 59 finished with value: 1.0 and parameters: {'t': -5.423515894043864, 'step': -8.509575698564873, 'decay': -1.7030408455634727}. Best is trial 34 with value: 0.005574981720748282.\u001B[0m\n",
      "\u001B[32m[I 2022-06-01 03:18:44,130]\u001B[0m Trial 60 finished with value: 0.14173909605665586 and parameters: {'t': -2.8715581890773816, 'step': -15.457979011418962, 'decay': -5.308171326671344}. Best is trial 34 with value: 0.005574981720748282.\u001B[0m\n",
      "\u001B[32m[I 2022-06-01 03:18:44,997]\u001B[0m Trial 61 finished with value: 0.007235647426790283 and parameters: {'t': -3.306834035488735, 'step': -11.769969827849222, 'decay': -7.57351484533158}. Best is trial 34 with value: 0.005574981720748282.\u001B[0m\n",
      "\u001B[32m[I 2022-06-01 03:18:45,010]\u001B[0m Trial 62 finished with value: 1.0 and parameters: {'t': -8.465764634128044, 'step': -11.498697711237076, 'decay': -6.696572297578877}. Best is trial 34 with value: 0.005574981720748282.\u001B[0m\n",
      "\u001B[32m[I 2022-06-01 03:18:45,024]\u001B[0m Trial 63 finished with value: 0.9999641856329337 and parameters: {'t': -2.351633198098468, 'step': -13.563233188294534, 'decay': -7.379096151930812}. Best is trial 34 with value: 0.005574981720748282.\u001B[0m\n",
      "\u001B[32m[I 2022-06-01 03:18:45,042]\u001B[0m Trial 64 finished with value: 1.0 and parameters: {'t': -3.4187376429641154, 'step': -12.274560819086673, 'decay': -7.641991460769557}. Best is trial 34 with value: 0.005574981720748282.\u001B[0m\n",
      "\u001B[32m[I 2022-06-01 03:18:45,059]\u001B[0m Trial 65 finished with value: 1.0 and parameters: {'t': -5.776560174088118, 'step': -9.268648809339695, 'decay': -5.898998604834287}. Best is trial 34 with value: 0.005574981720748282.\u001B[0m\n",
      "\u001B[32m[I 2022-06-01 03:18:45,077]\u001B[0m Trial 66 finished with value: 1.0 and parameters: {'t': -1.8184224575924282, 'step': -6.668431690631776, 'decay': -8.727347640285023}. Best is trial 34 with value: 0.005574981720748282.\u001B[0m\n",
      "\u001B[32m[I 2022-06-01 03:18:45,988]\u001B[0m Trial 67 finished with value: 0.02736172377918418 and parameters: {'t': -2.831370650448236, 'step': -10.440589802957058, 'decay': -7.833260020664176}. Best is trial 34 with value: 0.005574981720748282.\u001B[0m\n",
      "\u001B[32m[I 2022-06-01 03:18:46,845]\u001B[0m Trial 68 finished with value: 0.01146835458356302 and parameters: {'t': -4.475038429119309, 'step': -12.791717545246213, 'decay': -8.168336376085673}. Best is trial 34 with value: 0.005574981720748282.\u001B[0m\n",
      "\u001B[32m[I 2022-06-01 03:18:47,717]\u001B[0m Trial 69 finished with value: 0.04291511891445049 and parameters: {'t': -6.308269873592787, 'step': -12.058307373313632, 'decay': -5.605470689799852}. Best is trial 34 with value: 0.005574981720748282.\u001B[0m\n",
      "\u001B[32m[I 2022-06-01 03:18:49,211]\u001B[0m Trial 70 finished with value: 0.009257658333161873 and parameters: {'t': -3.8087389974648165, 'step': -10.971502585900858, 'decay': -6.323099593336648}. Best is trial 34 with value: 0.005574981720748282.\u001B[0m\n",
      "\u001B[32m[I 2022-06-01 03:18:50,204]\u001B[0m Trial 71 finished with value: 0.07254763040863704 and parameters: {'t': -3.519103653689489, 'step': -11.444306807930564, 'decay': -6.804722133478301}. Best is trial 34 with value: 0.005574981720748282.\u001B[0m\n",
      "\u001B[32m[I 2022-06-01 03:18:51,350]\u001B[0m Trial 72 finished with value: 0.005625855112998382 and parameters: {'t': -3.1945921200878034, 'step': -11.738725716088904, 'decay': -7.396600252289231}. Best is trial 34 with value: 0.005574981720748282.\u001B[0m\n",
      "\u001B[32m[I 2022-06-01 03:18:52,445]\u001B[0m Trial 73 finished with value: 0.04376420739094479 and parameters: {'t': -2.921484083915757, 'step': -13.284226879372051, 'decay': -7.083582113521525}. Best is trial 34 with value: 0.005574981720748282.\u001B[0m\n",
      "\u001B[32m[I 2022-06-01 03:18:52,461]\u001B[0m Trial 74 finished with value: 1.0 and parameters: {'t': -3.1259676216832752, 'step': -10.61734498676162, 'decay': -7.6432230952639575}. Best is trial 34 with value: 0.005574981720748282.\u001B[0m\n",
      "\u001B[32m[I 2022-06-01 03:18:52,476]\u001B[0m Trial 75 finished with value: 1.0 and parameters: {'t': -4.036667378170981, 'step': -11.958870929954518, 'decay': -6.052071910194182}. Best is trial 34 with value: 0.005574981720748282.\u001B[0m\n",
      "\u001B[32m[I 2022-06-01 03:18:53,467]\u001B[0m Trial 76 finished with value: 0.012991125009106909 and parameters: {'t': -5.126194778332112, 'step': -12.856352390747753, 'decay': -6.587161133554044}. Best is trial 34 with value: 0.005574981720748282.\u001B[0m\n",
      "\u001B[32m[I 2022-06-01 03:18:54,212]\u001B[0m Trial 77 finished with value: 0.006457461762544525 and parameters: {'t': -7.222459654251876, 'step': -11.404235795252, 'decay': -7.434286352325405}. Best is trial 34 with value: 0.005574981720748282.\u001B[0m\n",
      "\u001B[32m[I 2022-06-01 03:18:54,967]\u001B[0m Trial 78 finished with value: 0.007133484216291689 and parameters: {'t': -7.574431851942506, 'step': -11.36928157859468, 'decay': -8.451233427717643}. Best is trial 34 with value: 0.005574981720748282.\u001B[0m\n",
      "\u001B[32m[I 2022-06-01 03:18:55,735]\u001B[0m Trial 79 finished with value: 0.022302000110974704 and parameters: {'t': -7.559334637392893, 'step': -11.195919165594377, 'decay': -8.549945923893802}. Best is trial 34 with value: 0.005574981720748282.\u001B[0m\n",
      "\u001B[32m[I 2022-06-01 03:18:55,753]\u001B[0m Trial 80 finished with value: 1.0 and parameters: {'t': -7.16856247585925, 'step': -11.504749744974648, 'decay': -8.00511797764308}. Best is trial 34 with value: 0.005574981720748282.\u001B[0m\n",
      "\u001B[32m[I 2022-06-01 03:18:56,634]\u001B[0m Trial 81 finished with value: 0.0051050616451186765 and parameters: {'t': -8.151293484464457, 'step': -12.159836175956391, 'decay': -8.817036071968271}. Best is trial 81 with value: 0.0051050616451186765.\u001B[0m\n",
      "\u001B[32m[I 2022-06-01 03:18:56,648]\u001B[0m Trial 82 finished with value: 1.0 and parameters: {'t': -7.751611282017489, 'step': -13.519387395006419, 'decay': -8.864291664519403}. Best is trial 81 with value: 0.0051050616451186765.\u001B[0m\n",
      "\u001B[32m[I 2022-06-01 03:18:57,486]\u001B[0m Trial 83 finished with value: 0.0063758287132201314 and parameters: {'t': -8.3233036935936, 'step': -12.150433035834002, 'decay': -8.393654727559122}. Best is trial 81 with value: 0.0051050616451186765.\u001B[0m\n",
      "\u001B[32m[I 2022-06-01 03:18:58,256]\u001B[0m Trial 84 finished with value: 0.05298803887885281 and parameters: {'t': -8.261505706863439, 'step': -12.232605939703328, 'decay': -8.417294655775473}. Best is trial 81 with value: 0.0051050616451186765.\u001B[0m\n",
      "\u001B[32m[I 2022-06-01 03:18:58,991]\u001B[0m Trial 85 finished with value: 0.00986704001987427 and parameters: {'t': -8.712373821991694, 'step': -12.652710428576418, 'decay': -8.958931332396538}. Best is trial 81 with value: 0.0051050616451186765.\u001B[0m\n",
      "\u001B[32m[I 2022-06-01 03:18:59,004]\u001B[0m Trial 86 finished with value: 1.0 and parameters: {'t': -8.20235479106362, 'step': -10.792361902542385, 'decay': -3.294680778730762}. Best is trial 81 with value: 0.0051050616451186765.\u001B[0m\n",
      "\u001B[32m[I 2022-06-01 03:18:59,018]\u001B[0m Trial 87 finished with value: 0.9999159080525204 and parameters: {'t': -7.4429481252726095, 'step': -13.267617124728806, 'decay': -8.25226455961409}. Best is trial 81 with value: 0.0051050616451186765.\u001B[0m\n",
      "\u001B[32m[I 2022-06-01 03:18:59,739]\u001B[0m Trial 88 finished with value: 0.09153239547148317 and parameters: {'t': -8.248435276316933, 'step': -13.987860190957809, 'decay': -8.710875014324284}. Best is trial 81 with value: 0.0051050616451186765.\u001B[0m\n",
      "\u001B[32m[I 2022-06-01 03:19:00,448]\u001B[0m Trial 89 finished with value: 0.013290479700716066 and parameters: {'t': -7.647663071550419, 'step': -11.26900730327441, 'decay': -7.830166551723514}. Best is trial 81 with value: 0.0051050616451186765.\u001B[0m\n",
      "\u001B[32m[I 2022-06-01 03:19:01,169]\u001B[0m Trial 90 finished with value: 0.02467117700361922 and parameters: {'t': -7.304499601457039, 'step': -10.172837160776272, 'decay': -8.439242322810097}. Best is trial 81 with value: 0.0051050616451186765.\u001B[0m\n",
      "\u001B[32m[I 2022-06-01 03:19:01,908]\u001B[0m Trial 91 finished with value: 0.012887348216533753 and parameters: {'t': -7.969516125749848, 'step': -12.013125643729513, 'decay': -7.435073422255817}. Best is trial 81 with value: 0.0051050616451186765.\u001B[0m\n",
      "\u001B[32m[I 2022-06-01 03:19:01,921]\u001B[0m Trial 92 finished with value: 0.9999865378124658 and parameters: {'t': -6.964686486679727, 'step': -11.732876796340959, 'decay': -8.064938204410776}. Best is trial 81 with value: 0.0051050616451186765.\u001B[0m\n",
      "\u001B[32m[I 2022-06-01 03:19:02,647]\u001B[0m Trial 93 finished with value: 0.00849017410906759 and parameters: {'t': -8.633655272374432, 'step': -12.552760830381873, 'decay': -7.74578348580959}. Best is trial 81 with value: 0.0051050616451186765.\u001B[0m\n",
      "\u001B[32m[I 2022-06-01 03:19:02,660]\u001B[0m Trial 94 finished with value: 0.999942250703383 and parameters: {'t': -0.0005021544189531824, 'step': -11.68340897602195, 'decay': -7.341829360310941}. Best is trial 81 with value: 0.0051050616451186765.\u001B[0m\n",
      "\u001B[32m[I 2022-06-01 03:19:03,395]\u001B[0m Trial 95 finished with value: 0.013685185309466937 and parameters: {'t': -6.736063699882288, 'step': -12.25927566040701, 'decay': -8.76029939012094}. Best is trial 81 with value: 0.0051050616451186765.\u001B[0m\n",
      "\u001B[32m[I 2022-06-01 03:19:03,409]\u001B[0m Trial 96 finished with value: 1.0 and parameters: {'t': -8.09153460246175, 'step': -13.086967412724878, 'decay': -8.234924549910778}. Best is trial 81 with value: 0.0051050616451186765.\u001B[0m\n",
      "\u001B[32m[I 2022-06-01 03:19:04,136]\u001B[0m Trial 97 finished with value: 0.018484473732351958 and parameters: {'t': -7.677240946429767, 'step': -11.077994012841687, 'decay': -8.546526820970417}. Best is trial 81 with value: 0.0051050616451186765.\u001B[0m\n",
      "\u001B[32m[I 2022-06-01 03:19:06,202]\u001B[0m Trial 98 finished with value: 0.011362101088130154 and parameters: {'t': -7.850913593380142, 'step': -11.565410126502883, 'decay': -8.039437770049949}. Best is trial 81 with value: 0.0051050616451186765.\u001B[0m\n",
      "\u001B[32m[I 2022-06-01 03:19:07,868]\u001B[0m Trial 99 finished with value: 0.016800840596433074 and parameters: {'t': -2.461596791896142, 'step': -10.748538127549685, 'decay': -7.539448919351106}. Best is trial 81 with value: 0.0051050616451186765.\u001B[0m\n",
      "\u001B[32m[I 2022-06-01 03:19:08,791]\u001B[0m Trial 100 finished with value: 0.01195414701271711 and parameters: {'t': -7.03898861501872, 'step': -12.807134467423674, 'decay': -7.032532921565284}. Best is trial 81 with value: 0.0051050616451186765.\u001B[0m\n",
      "\u001B[32m[I 2022-06-01 03:19:08,804]\u001B[0m Trial 101 finished with value: 1.0 and parameters: {'t': -8.456586685932422, 'step': -11.968588737362223, 'decay': -7.2246034833986466}. Best is trial 81 with value: 0.0051050616451186765.\u001B[0m\n",
      "\u001B[32m[I 2022-06-01 03:19:09,667]\u001B[0m Trial 102 finished with value: 0.0061726692878669685 and parameters: {'t': -6.453922305235293, 'step': -12.338187542074769, 'decay': -6.859467269450681}. Best is trial 81 with value: 0.0051050616451186765.\u001B[0m\n",
      "\u001B[32m[I 2022-06-01 03:19:10,585]\u001B[0m Trial 103 finished with value: 0.007441339837384247 and parameters: {'t': -6.55565211758165, 'step': -12.166995463006046, 'decay': -4.145703071450827}. Best is trial 81 with value: 0.0051050616451186765.\u001B[0m\n",
      "\u001B[32m[I 2022-06-01 03:19:11,551]\u001B[0m Trial 104 finished with value: 0.008543096956950443 and parameters: {'t': -7.318668301665022, 'step': -12.558482216789804, 'decay': -6.857111884375461}. Best is trial 81 with value: 0.0051050616451186765.\u001B[0m\n",
      "\u001B[32m[I 2022-06-01 03:19:12,556]\u001B[0m Trial 105 finished with value: 0.3706626006378493 and parameters: {'t': -6.265814734436536, 'step': -16.935990424853944, 'decay': -8.335182854674485}. Best is trial 81 with value: 0.0051050616451186765.\u001B[0m\n",
      "\u001B[32m[I 2022-06-01 03:19:13,982]\u001B[0m Trial 106 finished with value: 0.016422241867397564 and parameters: {'t': -6.018725538425753, 'step': -11.245702577730787, 'decay': -7.6647919044114055}. Best is trial 81 with value: 0.0051050616451186765.\u001B[0m\n",
      "\u001B[32m[I 2022-06-01 03:19:15,155]\u001B[0m Trial 107 finished with value: 0.07317731626147096 and parameters: {'t': -1.170103228497441, 'step': -13.670843223313225, 'decay': -6.46444326270127}. Best is trial 81 with value: 0.0051050616451186765.\u001B[0m\n",
      "\u001B[32m[I 2022-06-01 03:19:16,056]\u001B[0m Trial 108 finished with value: 0.009324613811536512 and parameters: {'t': -4.230491157727159, 'step': -11.83428552836646, 'decay': -8.986452642509718}. Best is trial 81 with value: 0.0051050616451186765.\u001B[0m\n",
      "\u001B[32m[I 2022-06-01 03:19:16,776]\u001B[0m Trial 109 finished with value: 0.019725744671737284 and parameters: {'t': -6.5082352276765905, 'step': -10.44189921422516, 'decay': -7.897548704047045}. Best is trial 81 with value: 0.0051050616451186765.\u001B[0m\n",
      "\u001B[32m[I 2022-06-01 03:19:17,484]\u001B[0m Trial 110 finished with value: 0.021842025779566898 and parameters: {'t': -7.2242934643396755, 'step': -9.835629426797567, 'decay': -2.4643305954599786}. Best is trial 81 with value: 0.0051050616451186765.\u001B[0m\n",
      "\u001B[32m[I 2022-06-01 03:19:19,127]\u001B[0m Trial 111 finished with value: 0.010614928239380038 and parameters: {'t': -6.686438027731454, 'step': -12.27383087596444, 'decay': -8.60616096456117}. Best is trial 81 with value: 0.0051050616451186765.\u001B[0m\n",
      "\u001B[32m[I 2022-06-01 03:19:19,170]\u001B[0m Trial 112 finished with value: 1.0 and parameters: {'t': -6.970142585702386, 'step': -12.09428165576498, 'decay': -4.184060622674258}. Best is trial 81 with value: 0.0051050616451186765.\u001B[0m\n",
      "\u001B[32m[I 2022-06-01 03:19:19,198]\u001B[0m Trial 113 finished with value: 1.0 and parameters: {'t': -6.541204394339145, 'step': -12.426633352440652, 'decay': -3.1397087761046354}. Best is trial 81 with value: 0.0051050616451186765.\u001B[0m\n",
      "\u001B[32m[I 2022-06-01 03:19:20,900]\u001B[0m Trial 114 finished with value: 0.01112107123738994 and parameters: {'t': -6.161185949310247, 'step': -11.395798051613575, 'decay': -3.8347232337389165}. Best is trial 81 with value: 0.0051050616451186765.\u001B[0m\n",
      "\u001B[32m[I 2022-06-01 03:19:22,248]\u001B[0m Trial 115 finished with value: 0.014086819854183922 and parameters: {'t': -3.159747979088854, 'step': -12.910831715851009, 'decay': -4.573611314085462}. Best is trial 81 with value: 0.0051050616451186765.\u001B[0m\n",
      "\u001B[32m[I 2022-06-01 03:19:23,416]\u001B[0m Trial 116 finished with value: 0.010321092262038721 and parameters: {'t': -8.099529757635791, 'step': -11.743299185677863, 'decay': -3.8384323880555833}. Best is trial 81 with value: 0.0051050616451186765.\u001B[0m\n",
      "\u001B[32m[I 2022-06-01 03:19:23,458]\u001B[0m Trial 117 finished with value: 1.0 and parameters: {'t': -7.433146246118722, 'step': -13.379254420287378, 'decay': -8.169347026566566}. Best is trial 81 with value: 0.0051050616451186765.\u001B[0m\n",
      "\u001B[32m[I 2022-06-01 03:19:25,317]\u001B[0m Trial 118 finished with value: 0.012067038283864951 and parameters: {'t': -8.794711871014403, 'step': -10.876595422241623, 'decay': -7.362027873063747}. Best is trial 81 with value: 0.0051050616451186765.\u001B[0m\n",
      "\u001B[32m[I 2022-06-01 03:19:25,335]\u001B[0m Trial 119 finished with value: 1.0 and parameters: {'t': -8.418394582652954, 'step': -13.025529324999363, 'decay': -5.026575216869137}. Best is trial 81 with value: 0.0051050616451186765.\u001B[0m\n",
      "\u001B[32m[I 2022-06-01 03:19:25,351]\u001B[0m Trial 120 finished with value: 1.0 and parameters: {'t': -6.406827959592748, 'step': -12.685097663382244, 'decay': -1.0171788065788907}. Best is trial 81 with value: 0.0051050616451186765.\u001B[0m\n",
      "\u001B[32m[I 2022-06-01 03:19:25,369]\u001B[0m Trial 121 finished with value: 1.0 and parameters: {'t': -5.495665020155986, 'step': -12.089443949917507, 'decay': -6.810829222497691}. Best is trial 81 with value: 0.0051050616451186765.\u001B[0m\n",
      "\u001B[32m[I 2022-06-01 03:19:26,676]\u001B[0m Trial 122 finished with value: 0.008567667774662818 and parameters: {'t': -6.827963020357985, 'step': -12.465478885984265, 'decay': -4.2740092559510865}. Best is trial 81 with value: 0.0051050616451186765.\u001B[0m\n",
      "\u001B[32m[I 2022-06-01 03:19:27,553]\u001B[0m Trial 123 finished with value: 0.006320783682269519 and parameters: {'t': -5.8709303832623565, 'step': -11.665027697102575, 'decay': -7.0206059358703685}. Best is trial 81 with value: 0.0051050616451186765.\u001B[0m\n",
      "\u001B[32m[I 2022-06-01 03:19:28,487]\u001B[0m Trial 124 finished with value: 0.010871477926684093 and parameters: {'t': -5.661229212632705, 'step': -11.112848760958958, 'decay': -7.197897624840495}. Best is trial 81 with value: 0.0051050616451186765.\u001B[0m\n",
      "\u001B[32m[I 2022-06-01 03:19:29,508]\u001B[0m Trial 125 finished with value: 0.025464939360947243 and parameters: {'t': -3.6407377755960386, 'step': -11.552706782360413, 'decay': -7.443867822429063}. Best is trial 81 with value: 0.0051050616451186765.\u001B[0m\n",
      "\u001B[32m[I 2022-06-01 03:19:29,523]\u001B[0m Trial 126 finished with value: 1.0 and parameters: {'t': -7.815943140290662, 'step': -11.424495487163712, 'decay': -7.010729033364007}. Best is trial 81 with value: 0.0051050616451186765.\u001B[0m\n",
      "\u001B[32m[I 2022-06-01 03:19:30,373]\u001B[0m Trial 127 finished with value: 0.007094275984128928 and parameters: {'t': -5.898940732474769, 'step': -11.873550357858441, 'decay': -8.796788476630136}. Best is trial 81 with value: 0.0051050616451186765.\u001B[0m\n",
      "\u001B[32m[I 2022-06-01 03:19:30,387]\u001B[0m Trial 128 finished with value: 1.0 and parameters: {'t': -5.910744740601896, 'step': -11.818890303949773, 'decay': -8.800913523187539}. Best is trial 81 with value: 0.0051050616451186765.\u001B[0m\n",
      "\u001B[32m[I 2022-06-01 03:19:31,242]\u001B[0m Trial 129 finished with value: 0.02581581976216512 and parameters: {'t': -6.105398547091762, 'step': -10.638218070132224, 'decay': -8.43937176403793}. Best is trial 81 with value: 0.0051050616451186765.\u001B[0m\n",
      "\u001B[32m[I 2022-06-01 03:19:32,116]\u001B[0m Trial 130 finished with value: 0.012810851831335346 and parameters: {'t': -3.357728150749319, 'step': -11.662449026611787, 'decay': -7.9367875859563775}. Best is trial 81 with value: 0.0051050616451186765.\u001B[0m\n",
      "\u001B[32m[I 2022-06-01 03:19:33,056]\u001B[0m Trial 131 finished with value: 0.014236534357938244 and parameters: {'t': -6.324242732358192, 'step': -12.201571286163333, 'decay': -8.573058948872442}. Best is trial 81 with value: 0.0051050616451186765.\u001B[0m\n",
      "\u001B[32m[I 2022-06-01 03:19:34,061]\u001B[0m Trial 132 finished with value: 0.008611139692244729 and parameters: {'t': -5.74778091511991, 'step': -11.943582816146538, 'decay': -8.809463916842702}. Best is trial 81 with value: 0.0051050616451186765.\u001B[0m\n",
      "\u001B[32m[I 2022-06-01 03:19:35,422]\u001B[0m Trial 133 finished with value: 0.006980395217284701 and parameters: {'t': -2.615971127678145, 'step': -11.111774346075448, 'decay': -7.651790350471124}. Best is trial 81 with value: 0.0051050616451186765.\u001B[0m\n",
      "\u001B[32m[I 2022-06-01 03:19:36,569]\u001B[0m Trial 134 finished with value: 0.016679581216994824 and parameters: {'t': -2.731624756169678, 'step': -11.072308141779603, 'decay': -7.25133182124007}. Best is trial 81 with value: 0.0051050616451186765.\u001B[0m\n",
      "\u001B[32m[I 2022-06-01 03:19:36,600]\u001B[0m Trial 135 finished with value: 1.0 and parameters: {'t': -4.738042145314882, 'step': -10.37591789949257, 'decay': -7.764758395490816}. Best is trial 81 with value: 0.0051050616451186765.\u001B[0m\n",
      "\u001B[32m[I 2022-06-01 03:19:38,758]\u001B[0m Trial 136 finished with value: 0.010710599912573763 and parameters: {'t': -2.5254900800680935, 'step': -12.702367538518219, 'decay': -8.093646464376013}. Best is trial 81 with value: 0.0051050616451186765.\u001B[0m\n",
      "\u001B[32m[I 2022-06-01 03:19:40,206]\u001B[0m Trial 137 finished with value: 0.01611088946131306 and parameters: {'t': -2.2251304988673133, 'step': -11.506116605645957, 'decay': -7.5736381279038145}. Best is trial 81 with value: 0.0051050616451186765.\u001B[0m\n",
      "\u001B[32m[I 2022-06-01 03:19:41,304]\u001B[0m Trial 138 finished with value: 0.026527754781089444 and parameters: {'t': -3.070013872049427, 'step': -11.226460027422926, 'decay': -8.311470803798132}. Best is trial 81 with value: 0.0051050616451186765.\u001B[0m\n",
      "\u001B[32m[I 2022-06-01 03:19:41,325]\u001B[0m Trial 139 finished with value: 1.0 and parameters: {'t': -5.360164190078434, 'step': -10.781811861846375, 'decay': -8.988201106047569}. Best is trial 81 with value: 0.0051050616451186765.\u001B[0m\n",
      "\u001B[32m[I 2022-06-01 03:19:43,053]\u001B[0m Trial 140 finished with value: 0.007965174423946328 and parameters: {'t': -7.931218878780931, 'step': -12.480069804643218, 'decay': -6.718432135828512}. Best is trial 81 with value: 0.0051050616451186765.\u001B[0m\n",
      "\u001B[32m[I 2022-06-01 03:19:44,253]\u001B[0m Trial 141 finished with value: 0.005915157248650547 and parameters: {'t': -5.837978533790116, 'step': -12.24883110771191, 'decay': -7.014935576076675}. Best is trial 81 with value: 0.0051050616451186765.\u001B[0m\n",
      "\u001B[32m[I 2022-06-01 03:19:44,272]\u001B[0m Trial 142 finished with value: 1.0 and parameters: {'t': -1.9201215775485494, 'step': -11.809581969995541, 'decay': -7.116192088612035}. Best is trial 81 with value: 0.0051050616451186765.\u001B[0m\n",
      "\u001B[32m[I 2022-06-01 03:19:45,288]\u001B[0m Trial 143 finished with value: 0.020376444583025316 and parameters: {'t': -5.011408174960219, 'step': -13.05692133467987, 'decay': -6.959041027971762}. Best is trial 81 with value: 0.0051050616451186765.\u001B[0m\n",
      "\u001B[32m[I 2022-06-01 03:19:46,287]\u001B[0m Trial 144 finished with value: 0.012720360328230181 and parameters: {'t': -5.920554110552677, 'step': -12.242533576331693, 'decay': -7.555072878029666}. Best is trial 81 with value: 0.0051050616451186765.\u001B[0m\n",
      "\u001B[32m[I 2022-06-01 03:19:48,064]\u001B[0m Trial 145 finished with value: 0.7490570661991636 and parameters: {'t': -8.21678253234849, 'step': -18.52695271826933, 'decay': -7.723044135694368}. Best is trial 81 with value: 0.0051050616451186765.\u001B[0m\n",
      "\u001B[32m[I 2022-06-01 03:19:49,179]\u001B[0m Trial 146 finished with value: 0.006815438102496568 and parameters: {'t': -5.527185381129873, 'step': -11.373534096667111, 'decay': -6.37574649130171}. Best is trial 81 with value: 0.0051050616451186765.\u001B[0m\n",
      "\u001B[32m[I 2022-06-01 03:19:49,204]\u001B[0m Trial 147 finished with value: 0.9997884786993742 and parameters: {'t': -5.547525854861479, 'step': -10.98756169183754, 'decay': -6.87663445516908}. Best is trial 81 with value: 0.0051050616451186765.\u001B[0m\n",
      "\u001B[32m[I 2022-06-01 03:19:49,231]\u001B[0m Trial 148 finished with value: 1.0 and parameters: {'t': -5.888987377393858, 'step': -11.353955097685116, 'decay': -6.52847226038788}. Best is trial 81 with value: 0.0051050616451186765.\u001B[0m\n",
      "\u001B[32m[I 2022-06-01 03:19:50,233]\u001B[0m Trial 149 finished with value: 0.0349238814867287 and parameters: {'t': -5.748354714444555, 'step': -12.371104475641653, 'decay': -6.368179425689609}. Best is trial 81 with value: 0.0051050616451186765.\u001B[0m\n",
      "\u001B[32m[I 2022-06-01 03:19:51,273]\u001B[0m Trial 150 finished with value: 0.0058781244078067 and parameters: {'t': -7.614473893398304, 'step': -11.902664544508086, 'decay': -8.662303494279724}. Best is trial 81 with value: 0.0051050616451186765.\u001B[0m\n",
      "\u001B[32m[I 2022-06-01 03:19:52,161]\u001B[0m Trial 151 finished with value: 0.008774267718758378 and parameters: {'t': -7.569019541855328, 'step': -11.592380791466244, 'decay': -8.712100739249724}. Best is trial 81 with value: 0.0051050616451186765.\u001B[0m\n",
      "\u001B[32m[I 2022-06-01 03:19:53,035]\u001B[0m Trial 152 finished with value: 0.006108352314742168 and parameters: {'t': -7.695447735777463, 'step': -12.086746758552488, 'decay': -8.519071324572385}. Best is trial 81 with value: 0.0051050616451186765.\u001B[0m\n",
      "\u001B[32m[I 2022-06-01 03:19:54,082]\u001B[0m Trial 153 finished with value: 0.011275592555033437 and parameters: {'t': -6.133784142564712, 'step': -12.768928485222794, 'decay': -6.136933600176534}. Best is trial 81 with value: 0.0051050616451186765.\u001B[0m\n",
      "\u001B[32m[I 2022-06-01 03:19:54,099]\u001B[0m Trial 154 finished with value: 1.0 and parameters: {'t': -8.361987591625795, 'step': -11.995312863155723, 'decay': -6.681965552176621}. Best is trial 81 with value: 0.0051050616451186765.\u001B[0m\n",
      "\u001B[32m[I 2022-06-01 03:19:55,121]\u001B[0m Trial 155 finished with value: 0.009592232754626333 and parameters: {'t': -5.264567354788588, 'step': -11.97806602642573, 'decay': -8.65256922841493}. Best is trial 81 with value: 0.0051050616451186765.\u001B[0m\n",
      "\u001B[32m[I 2022-06-01 03:19:56,005]\u001B[0m Trial 156 finished with value: 0.010558867278661522 and parameters: {'t': -8.645285202877366, 'step': -12.693751479107389, 'decay': -8.812497138882282}. Best is trial 81 with value: 0.0051050616451186765.\u001B[0m\n",
      "\u001B[32m[I 2022-06-01 03:19:56,875]\u001B[0m Trial 157 finished with value: 0.007033928618667535 and parameters: {'t': -7.086344382567542, 'step': -12.4111497404865, 'decay': -8.417720516041927}. Best is trial 81 with value: 0.0051050616451186765.\u001B[0m\n",
      "\u001B[32m[I 2022-06-01 03:19:56,892]\u001B[0m Trial 158 finished with value: 1.0 and parameters: {'t': -7.096216344720526, 'step': -13.165507983331926, 'decay': -7.34331791530856}. Best is trial 81 with value: 0.0051050616451186765.\u001B[0m\n",
      "\u001B[32m[I 2022-06-01 03:19:56,908]\u001B[0m Trial 159 finished with value: 0.9999763574452821 and parameters: {'t': -7.41390183576629, 'step': -12.3256943856725, 'decay': -8.219383539080194}. Best is trial 81 with value: 0.0051050616451186765.\u001B[0m\n",
      "\u001B[32m[I 2022-06-01 03:19:57,989]\u001B[0m Trial 160 finished with value: 0.007899803488487235 and parameters: {'t': -7.718927849676352, 'step': -12.488516853814998, 'decay': -7.947025451978487}. Best is trial 81 with value: 0.0051050616451186765.\u001B[0m\n",
      "\u001B[32m[I 2022-06-01 03:19:58,917]\u001B[0m Trial 161 finished with value: 0.012517101437367749 and parameters: {'t': -8.037975787648666, 'step': -11.74597551289353, 'decay': -8.536843684727897}. Best is trial 81 with value: 0.0051050616451186765.\u001B[0m\n",
      "\u001B[32m[I 2022-06-01 03:19:59,908]\u001B[0m Trial 162 finished with value: 0.006411168033082948 and parameters: {'t': -6.758096162956474, 'step': -12.074922394832145, 'decay': -8.384684131437869}. Best is trial 81 with value: 0.0051050616451186765.\u001B[0m\n",
      "\u001B[32m[I 2022-06-01 03:20:00,894]\u001B[0m Trial 163 finished with value: 0.005708066843340967 and parameters: {'t': -6.929657065106091, 'step': -12.161013686106312, 'decay': -8.36981723800617}. Best is trial 81 with value: 0.0051050616451186765.\u001B[0m\n",
      "\u001B[32m[I 2022-06-01 03:20:01,872]\u001B[0m Trial 164 finished with value: 0.005260131257093721 and parameters: {'t': -6.832588431050015, 'step': -12.028521669986377, 'decay': -8.107336372600923}. Best is trial 81 with value: 0.0051050616451186765.\u001B[0m\n",
      "\u001B[32m[I 2022-06-01 03:20:02,852]\u001B[0m Trial 165 finished with value: 0.009296589656435466 and parameters: {'t': -6.774450802498915, 'step': -12.078257394013383, 'decay': -8.262792001595116}. Best is trial 81 with value: 0.0051050616451186765.\u001B[0m\n",
      "\u001B[32m[I 2022-06-01 03:20:03,732]\u001B[0m Trial 166 finished with value: 0.010653769002450464 and parameters: {'t': -6.927002276489726, 'step': -11.389947768368286, 'decay': -8.0899197422499}. Best is trial 81 with value: 0.0051050616451186765.\u001B[0m\n",
      "\u001B[32m[I 2022-06-01 03:20:04,606]\u001B[0m Trial 167 finished with value: 0.009853407951352307 and parameters: {'t': -7.248266860619914, 'step': -11.050970865879377, 'decay': -7.9602063348666965}. Best is trial 81 with value: 0.0051050616451186765.\u001B[0m\n",
      "\u001B[32m[I 2022-06-01 03:20:05,610]\u001B[0m Trial 168 finished with value: 0.008916274823425155 and parameters: {'t': -6.719452406995856, 'step': -11.576436759713845, 'decay': -8.423949882810655}. Best is trial 81 with value: 0.0051050616451186765.\u001B[0m\n",
      "\u001B[32m[I 2022-06-01 03:20:06,550]\u001B[0m Trial 169 finished with value: 0.008934379658846569 and parameters: {'t': -6.610387104863567, 'step': -12.075956584001043, 'decay': -8.551759569922163}. Best is trial 81 with value: 0.0051050616451186765.\u001B[0m\n",
      "\u001B[32m[I 2022-06-01 03:20:07,468]\u001B[0m Trial 170 finished with value: 0.00900900054095325 and parameters: {'t': -6.330879136775184, 'step': -11.317441824023948, 'decay': -7.77485705003016}. Best is trial 81 with value: 0.0051050616451186765.\u001B[0m\n",
      "\u001B[32m[I 2022-06-01 03:20:07,485]\u001B[0m Trial 171 finished with value: 1.0 and parameters: {'t': -6.930582619198957, 'step': -12.834887417661703, 'decay': -7.101564287950575}. Best is trial 81 with value: 0.0051050616451186765.\u001B[0m\n",
      "\u001B[32m[I 2022-06-01 03:20:07,503]\u001B[0m Trial 172 finished with value: 1.0 and parameters: {'t': -6.415404706152473, 'step': -12.237065859116006, 'decay': -7.4612542105313615}. Best is trial 81 with value: 0.0051050616451186765.\u001B[0m\n",
      "\u001B[32m[I 2022-06-01 03:20:07,522]\u001B[0m Trial 173 finished with value: 0.9999867423231685 and parameters: {'t': -6.1714845081225125, 'step': -11.731050081832707, 'decay': -8.237181615808032}. Best is trial 81 with value: 0.0051050616451186765.\u001B[0m\n",
      "\u001B[32m[I 2022-06-01 03:20:07,542]\u001B[0m Trial 174 finished with value: 1.0 and parameters: {'t': -7.835284023758851, 'step': -12.591056656178349, 'decay': -7.257741181007579}. Best is trial 81 with value: 0.0051050616451186765.\u001B[0m\n",
      "\u001B[32m[I 2022-06-01 03:20:08,584]\u001B[0m Trial 175 finished with value: 0.007493119073715326 and parameters: {'t': -7.510512682549019, 'step': -11.932124980294713, 'decay': -6.892227524805053}. Best is trial 81 with value: 0.0051050616451186765.\u001B[0m\n",
      "\u001B[32m[I 2022-06-01 03:20:10,004]\u001B[0m Trial 176 finished with value: 0.005832340378963728 and parameters: {'t': -6.556161838074962, 'step': -12.215164728714058, 'decay': -8.630875680700537}. Best is trial 81 with value: 0.0051050616451186765.\u001B[0m\n",
      "\u001B[32m[I 2022-06-01 03:20:11,375]\u001B[0m Trial 177 finished with value: 0.007308517087480659 and parameters: {'t': -7.198435436295241, 'step': -11.681369128063414, 'decay': -8.660806004837058}. Best is trial 81 with value: 0.0051050616451186765.\u001B[0m\n",
      "\u001B[32m[I 2022-06-01 03:20:11,393]\u001B[0m Trial 178 finished with value: 1.0 and parameters: {'t': -6.604522802130689, 'step': -12.243977626292839, 'decay': -8.960391397778858}. Best is trial 81 with value: 0.0051050616451186765.\u001B[0m\n",
      "\u001B[32m[I 2022-06-01 03:20:11,413]\u001B[0m Trial 179 finished with value: 0.9997648637542816 and parameters: {'t': -6.901374390976386, 'step': -12.94846881934535, 'decay': -8.319571691935094}. Best is trial 81 with value: 0.0051050616451186765.\u001B[0m\n",
      "\u001B[32m[I 2022-06-01 03:20:12,569]\u001B[0m Trial 180 finished with value: 0.03395257737308612 and parameters: {'t': -6.527448457866012, 'step': -10.657395719100487, 'decay': -8.140752514763358}. Best is trial 81 with value: 0.0051050616451186765.\u001B[0m\n",
      "\u001B[32m[I 2022-06-01 03:20:13,814]\u001B[0m Trial 181 finished with value: 0.005699094512435757 and parameters: {'t': -6.265840015095902, 'step': -12.110376232875128, 'decay': -8.663701345449411}. Best is trial 81 with value: 0.0051050616451186765.\u001B[0m\n",
      "\u001B[32m[I 2022-06-01 03:20:14,756]\u001B[0m Trial 182 finished with value: 0.007507231009990331 and parameters: {'t': -6.3043269879962684, 'step': -12.088737638096088, 'decay': -8.638586151479334}. Best is trial 81 with value: 0.0051050616451186765.\u001B[0m\n",
      "\u001B[32m[I 2022-06-01 03:20:15,835]\u001B[0m Trial 183 finished with value: 0.011231246120426489 and parameters: {'t': -6.129529716287988, 'step': -11.569074125505, 'decay': -8.420549486460656}. Best is trial 81 with value: 0.0051050616451186765.\u001B[0m\n",
      "\u001B[32m[I 2022-06-01 03:20:16,786]\u001B[0m Trial 184 finished with value: 0.008912100161848383 and parameters: {'t': -6.758059130510387, 'step': -12.551976150063568, 'decay': -8.659306164533081}. Best is trial 81 with value: 0.0051050616451186765.\u001B[0m\n",
      "\u001B[32m[I 2022-06-01 03:20:17,931]\u001B[0m Trial 185 finished with value: 0.01195925543169053 and parameters: {'t': -6.471498160196417, 'step': -11.218120437123126, 'decay': -8.794050797887552}. Best is trial 81 with value: 0.0051050616451186765.\u001B[0m\n",
      "\u001B[32m[I 2022-06-01 03:20:20,125]\u001B[0m Trial 186 finished with value: 0.010850105418142887 and parameters: {'t': -7.0599101807450335, 'step': -11.786990277647249, 'decay': -5.472514206657465}. Best is trial 81 with value: 0.0051050616451186765.\u001B[0m\n",
      "\u001B[32m[I 2022-06-01 03:20:21,222]\u001B[0m Trial 187 finished with value: 0.015415989541047706 and parameters: {'t': -7.346793249762714, 'step': -12.09344077412514, 'decay': -7.816268920950061}. Best is trial 81 with value: 0.0051050616451186765.\u001B[0m\n",
      "\u001B[32m[I 2022-06-01 03:20:21,976]\u001B[0m Trial 188 finished with value: 0.0105287844105293 and parameters: {'t': -8.007371153770642, 'step': -12.359690467798211, 'decay': -8.501130976430552}. Best is trial 81 with value: 0.0051050616451186765.\u001B[0m\n",
      "\u001B[32m[I 2022-06-01 03:20:23,550]\u001B[0m Trial 189 finished with value: 0.007257207206188541 and parameters: {'t': -7.6600210589983755, 'step': -11.486195056376003, 'decay': -8.982082703854552}. Best is trial 81 with value: 0.0051050616451186765.\u001B[0m\n",
      "\u001B[32m[I 2022-06-01 03:20:24,328]\u001B[0m Trial 190 finished with value: 0.007925095223053938 and parameters: {'t': -3.9089952929006113, 'step': -10.932358512689207, 'decay': -8.013584753499403}. Best is trial 81 with value: 0.0051050616451186765.\u001B[0m\n",
      "\u001B[32m[I 2022-06-01 03:20:25,103]\u001B[0m Trial 191 finished with value: 0.0105135810899105 and parameters: {'t': -5.97888762432077, 'step': -12.706986897687873, 'decay': -6.612966849427008}. Best is trial 81 with value: 0.0051050616451186765.\u001B[0m\n",
      "\u001B[32m[I 2022-06-01 03:20:25,936]\u001B[0m Trial 192 finished with value: 0.008915085211133662 and parameters: {'t': -5.674035272950275, 'step': -11.966221892390232, 'decay': -7.04914756980179}. Best is trial 81 with value: 0.0051050616451186765.\u001B[0m\n",
      "\u001B[32m[I 2022-06-01 03:20:26,685]\u001B[0m Trial 193 finished with value: 0.008371498574974937 and parameters: {'t': -1.4001833143080291, 'step': -12.494185529228, 'decay': -7.557831576130552}. Best is trial 81 with value: 0.0051050616451186765.\u001B[0m\n",
      "\u001B[32m[I 2022-06-01 03:20:27,713]\u001B[0m Trial 194 finished with value: 0.03304197377307634 and parameters: {'t': -6.230126150416942, 'step': -13.18188080202213, 'decay': -8.321283082892977}. Best is trial 81 with value: 0.0051050616451186765.\u001B[0m\n",
      "\u001B[32m[I 2022-06-01 03:20:28,851]\u001B[0m Trial 195 finished with value: 0.008841988080569487 and parameters: {'t': -6.697042458087235, 'step': -11.814778423420993, 'decay': -8.837044642292152}. Best is trial 81 with value: 0.0051050616451186765.\u001B[0m\n",
      "\u001B[32m[I 2022-06-01 03:20:29,801]\u001B[0m Trial 196 finished with value: 0.010036767836005777 and parameters: {'t': -0.7383351746769349, 'step': -12.32466370204508, 'decay': -4.86158794703753}. Best is trial 81 with value: 0.0051050616451186765.\u001B[0m\n",
      "\u001B[32m[I 2022-06-01 03:20:30,676]\u001B[0m Trial 197 finished with value: 0.009261342918043935 and parameters: {'t': -4.3388201934223956, 'step': -11.325324314304643, 'decay': -7.283680944169106}. Best is trial 81 with value: 0.0051050616451186765.\u001B[0m\n",
      "\u001B[32m[I 2022-06-01 03:20:31,645]\u001B[0m Trial 198 finished with value: 0.013038270160120262 and parameters: {'t': -6.398234530573278, 'step': -12.890007263147872, 'decay': -8.556314194388282}. Best is trial 81 with value: 0.0051050616451186765.\u001B[0m\n",
      "\u001B[32m[I 2022-06-01 03:20:32,695]\u001B[0m Trial 199 finished with value: 0.00665890236312541 and parameters: {'t': -5.867941170372191, 'step': -12.195653533118458, 'decay': -6.800339010051668}. Best is trial 81 with value: 0.0051050616451186765.\u001B[0m\n",
      "\u001B[32m[I 2022-06-01 03:20:33,717]\u001B[0m Trial 200 finished with value: 0.009996899590071408 and parameters: {'t': -5.4817010051225905, 'step': -12.086031854183606, 'decay': -8.12557960971404}. Best is trial 81 with value: 0.0051050616451186765.\u001B[0m\n",
      "\u001B[32m[I 2022-06-01 03:20:34,705]\u001B[0m Trial 201 finished with value: 0.009732208505289748 and parameters: {'t': -6.100559053504794, 'step': -11.799930672887557, 'decay': -6.775916364698104}. Best is trial 81 with value: 0.0051050616451186765.\u001B[0m\n",
      "\u001B[32m[I 2022-06-01 03:20:35,622]\u001B[0m Trial 202 finished with value: 0.005544815090482478 and parameters: {'t': -5.960801501236765, 'step': -12.312026555147213, 'decay': -7.135903817883889}. Best is trial 81 with value: 0.0051050616451186765.\u001B[0m\n",
      "\u001B[32m[I 2022-06-01 03:20:35,637]\u001B[0m Trial 203 finished with value: 1.0 and parameters: {'t': -5.8060437674638194, 'step': -12.212959451455207, 'decay': -7.4440164980906545}. Best is trial 81 with value: 0.0051050616451186765.\u001B[0m\n",
      "\u001B[32m[I 2022-06-01 03:20:36,945]\u001B[0m Trial 204 finished with value: 0.009742583098071822 and parameters: {'t': -8.190417408147104, 'step': -12.613674042211912, 'decay': -6.999516690535559}. Best is trial 81 with value: 0.0051050616451186765.\u001B[0m\n",
      "\u001B[32m[I 2022-06-01 03:20:36,961]\u001B[0m Trial 205 finished with value: 1.0 and parameters: {'t': -6.017123479263052, 'step': -11.535727568730174, 'decay': -7.169433053215909}. Best is trial 81 with value: 0.0051050616451186765.\u001B[0m\n",
      "\u001B[32m[I 2022-06-01 03:20:37,930]\u001B[0m Trial 206 finished with value: 0.005677978111562618 and parameters: {'t': -6.569619877362954, 'step': -11.962145077638347, 'decay': -6.509133550282126}. Best is trial 81 with value: 0.0051050616451186765.\u001B[0m\n",
      "\u001B[32m[I 2022-06-01 03:20:38,803]\u001B[0m Trial 207 finished with value: 0.01340787485801738 and parameters: {'t': -6.551608472113177, 'step': -11.927675090230604, 'decay': -6.325189146782234}. Best is trial 81 with value: 0.0051050616451186765.\u001B[0m\n",
      "\u001B[32m[I 2022-06-01 03:20:39,774]\u001B[0m Trial 208 finished with value: 0.007216272265737328 and parameters: {'t': -6.720756424384926, 'step': -12.438328105168313, 'decay': -6.0535012824874475}. Best is trial 81 with value: 0.0051050616451186765.\u001B[0m\n",
      "\u001B[32m[I 2022-06-01 03:20:39,788]\u001B[0m Trial 209 finished with value: 0.9999983125889028 and parameters: {'t': -6.287794141529477, 'step': -12.081545629525419, 'decay': -6.756136924442842}. Best is trial 81 with value: 0.0051050616451186765.\u001B[0m\n",
      "\u001B[32m[I 2022-06-01 03:20:40,854]\u001B[0m Trial 210 finished with value: 0.008223841194213679 and parameters: {'t': -6.900127608293303, 'step': -11.717725424456708, 'decay': -6.887859311789692}. Best is trial 81 with value: 0.0051050616451186765.\u001B[0m\n",
      "\u001B[32m[I 2022-06-01 03:20:41,924]\u001B[0m Trial 211 finished with value: 0.0061089092884189684 and parameters: {'t': -6.408755833625154, 'step': -12.35986611992319, 'decay': -6.44383585189169}. Best is trial 81 with value: 0.0051050616451186765.\u001B[0m\n",
      "\u001B[32m[I 2022-06-01 03:20:42,838]\u001B[0m Trial 212 finished with value: 0.005542746974837347 and parameters: {'t': -6.457359001845126, 'step': -12.260079823316635, 'decay': -6.5242331756942935}. Best is trial 81 with value: 0.0051050616451186765.\u001B[0m\n",
      "\u001B[32m[I 2022-06-01 03:20:43,723]\u001B[0m Trial 213 finished with value: 0.010808938418568387 and parameters: {'t': -6.455904706859455, 'step': -12.700468351764258, 'decay': -6.599005864369797}. Best is trial 81 with value: 0.0051050616451186765.\u001B[0m\n",
      "\u001B[32m[I 2022-06-01 03:20:44,585]\u001B[0m Trial 214 finished with value: 0.0053493767308465 and parameters: {'t': -6.663591224876895, 'step': -12.306690002114708, 'decay': -6.587588152160741}. Best is trial 81 with value: 0.0051050616451186765.\u001B[0m\n",
      "\u001B[32m[I 2022-06-01 03:20:44,600]\u001B[0m Trial 215 finished with value: 0.9999947372518447 and parameters: {'t': -6.645590667797675, 'step': -12.228185534634479, 'decay': -6.586196506198402}. Best is trial 81 with value: 0.0051050616451186765.\u001B[0m\n",
      "\u001B[32m[I 2022-06-01 03:20:45,474]\u001B[0m Trial 216 finished with value: 0.007416386930814614 and parameters: {'t': -6.473016592032145, 'step': -12.461257641353225, 'decay': -6.481235447869703}. Best is trial 81 with value: 0.0051050616451186765.\u001B[0m\n",
      "\u001B[32m[I 2022-06-01 03:20:45,489]\u001B[0m Trial 217 finished with value: 1.0 and parameters: {'t': -6.808814196437864, 'step': -12.016692148070678, 'decay': -6.202169253922029}. Best is trial 81 with value: 0.0051050616451186765.\u001B[0m\n",
      "\u001B[32m[I 2022-06-01 03:20:46,367]\u001B[0m Trial 218 finished with value: 0.01569053483029112 and parameters: {'t': -6.29865750921908, 'step': -12.992067261903776, 'decay': -6.991816756746953}. Best is trial 81 with value: 0.0051050616451186765.\u001B[0m\n",
      "\u001B[32m[I 2022-06-01 03:20:47,255]\u001B[0m Trial 219 finished with value: 0.008545710141646895 and parameters: {'t': -7.136284974724493, 'step': -12.290761383546615, 'decay': -8.729724705006813}. Best is trial 81 with value: 0.0051050616451186765.\u001B[0m\n",
      "\u001B[32m[I 2022-06-01 03:20:48,139]\u001B[0m Trial 220 finished with value: 0.01147119022700262 and parameters: {'t': -6.6193217163988685, 'step': -12.761683227495448, 'decay': -6.743716209017006}. Best is trial 81 with value: 0.0051050616451186765.\u001B[0m\n",
      "\u001B[32m[I 2022-06-01 03:20:48,154]\u001B[0m Trial 221 finished with value: 1.0 and parameters: {'t': -6.919831539504672, 'step': -12.324875196896434, 'decay': -6.416311924461203}. Best is trial 81 with value: 0.0051050616451186765.\u001B[0m\n",
      "\u001B[32m[I 2022-06-01 03:20:49,941]\u001B[0m Trial 222 finished with value: 0.013716910098843047 and parameters: {'t': -6.217196557937951, 'step': -11.901230450309598, 'decay': -8.409642510403488}. Best is trial 81 with value: 0.0051050616451186765.\u001B[0m\n",
      "\u001B[32m[I 2022-06-01 03:20:49,968]\u001B[0m Trial 223 finished with value: 1.0 and parameters: {'t': -6.3823435436999665, 'step': -12.140083490888335, 'decay': -7.124287996395869}. Best is trial 81 with value: 0.0051050616451186765.\u001B[0m\n",
      "\u001B[32m[I 2022-06-01 03:20:51,004]\u001B[0m Trial 224 finished with value: 1.0 and parameters: {'t': -6.804082481915155, 'step': -5.337805493113899, 'decay': -8.594945025847734}. Best is trial 81 with value: 0.0051050616451186765.\u001B[0m\n",
      "\u001B[32m[I 2022-06-01 03:20:51,942]\u001B[0m Trial 225 finished with value: 0.010011728078254059 and parameters: {'t': -6.583531138685504, 'step': -12.590916154059059, 'decay': -6.89280670799195}. Best is trial 81 with value: 0.0051050616451186765.\u001B[0m\n",
      "\u001B[32m[I 2022-06-01 03:20:51,958]\u001B[0m Trial 226 finished with value: 1.0 and parameters: {'t': -5.972980337242687, 'step': -11.681283983281867, 'decay': -5.82149952219348}. Best is trial 81 with value: 0.0051050616451186765.\u001B[0m\n",
      "\u001B[32m[I 2022-06-01 03:20:51,976]\u001B[0m Trial 227 finished with value: 0.9999837888510454 and parameters: {'t': -7.754513311955333, 'step': -11.921704071965175, 'decay': -6.6330911075030015}. Best is trial 81 with value: 0.0051050616451186765.\u001B[0m\n",
      "\u001B[32m[I 2022-06-01 03:20:52,891]\u001B[0m Trial 228 finished with value: 0.007000945796724823 and parameters: {'t': -7.05472508457451, 'step': -12.415852446503497, 'decay': -8.828190406632348}. Best is trial 81 with value: 0.0051050616451186765.\u001B[0m\n",
      "\u001B[32m[I 2022-06-01 03:20:53,763]\u001B[0m Trial 229 finished with value: 0.006032421861276192 and parameters: {'t': -7.955471636742243, 'step': -12.177041172738729, 'decay': -7.309828589362774}. Best is trial 81 with value: 0.0051050616451186765.\u001B[0m\n",
      "\u001B[32m[I 2022-06-01 03:20:54,651]\u001B[0m Trial 230 finished with value: 0.00538781274003262 and parameters: {'t': -6.16318425333409, 'step': -12.138741734044258, 'decay': -7.11329741139826}. Best is trial 81 with value: 0.0051050616451186765.\u001B[0m\n",
      "\u001B[32m[I 2022-06-01 03:20:54,667]\u001B[0m Trial 231 finished with value: 1.0 and parameters: {'t': -6.157435633603708, 'step': -12.16806900616436, 'decay': -7.373794477998571}. Best is trial 81 with value: 0.0051050616451186765.\u001B[0m\n",
      "\u001B[32m[I 2022-06-01 03:20:54,683]\u001B[0m Trial 232 finished with value: 1.0 and parameters: {'t': -8.327198297506989, 'step': -11.776682092384958, 'decay': -7.152251375420892}. Best is trial 81 with value: 0.0051050616451186765.\u001B[0m\n",
      "\u001B[32m[I 2022-06-01 03:20:54,704]\u001B[0m Trial 233 finished with value: 1.0 and parameters: {'t': -6.4234837123436765, 'step': -12.066552373813552, 'decay': -6.910853294018485}. Best is trial 81 with value: 0.0051050616451186765.\u001B[0m\n",
      "\u001B[32m[I 2022-06-01 03:20:55,629]\u001B[0m Trial 234 finished with value: 0.010464135288147334 and parameters: {'t': -6.051934562302966, 'step': -12.659698720940883, 'decay': -7.323642813588467}. Best is trial 81 with value: 0.0051050616451186765.\u001B[0m\n",
      "\u001B[32m[I 2022-06-01 03:20:56,667]\u001B[0m Trial 235 finished with value: 0.005668753804916831 and parameters: {'t': -6.602505485688909, 'step': -12.269450433674388, 'decay': -7.116895789263284}. Best is trial 81 with value: 0.0051050616451186765.\u001B[0m\n",
      "\u001B[32m[I 2022-06-01 03:20:57,541]\u001B[0m Trial 236 finished with value: 0.006195370041669213 and parameters: {'t': -6.640653053130841, 'step': -12.377378632298042, 'decay': -7.092141496690386}. Best is trial 81 with value: 0.0051050616451186765.\u001B[0m\n",
      "\u001B[32m[I 2022-06-01 03:20:58,445]\u001B[0m Trial 237 finished with value: 0.015632828114714434 and parameters: {'t': -6.593811151267744, 'step': -12.993375674447764, 'decay': -7.127941471003202}. Best is trial 81 with value: 0.0051050616451186765.\u001B[0m\n",
      "\u001B[32m[I 2022-06-01 03:20:59,313]\u001B[0m Trial 238 finished with value: 0.00854317350587348 and parameters: {'t': -6.841359629511276, 'step': -12.523809187272931, 'decay': -7.3065616531010935}. Best is trial 81 with value: 0.0051050616451186765.\u001B[0m\n",
      "\u001B[32m[I 2022-06-01 03:21:00,193]\u001B[0m Trial 239 finished with value: 0.007626935049391054 and parameters: {'t': -6.711368654977861, 'step': -12.445732170010055, 'decay': -7.020775643539728}. Best is trial 81 with value: 0.0051050616451186765.\u001B[0m\n",
      "\u001B[32m[I 2022-06-01 03:21:00,209]\u001B[0m Trial 240 finished with value: 1.0 and parameters: {'t': -6.429340077211108, 'step': -11.872566764684304, 'decay': -7.514079596959917}. Best is trial 81 with value: 0.0051050616451186765.\u001B[0m\n",
      "\u001B[32m[I 2022-06-01 03:21:01,091]\u001B[0m Trial 241 finished with value: 0.0054397851304302065 and parameters: {'t': -4.602586705185886, 'step': -12.21215173819814, 'decay': -6.838225463336727}. Best is trial 81 with value: 0.0051050616451186765.\u001B[0m\n",
      "\u001B[32m[I 2022-06-01 03:21:01,107]\u001B[0m Trial 242 finished with value: 1.0 and parameters: {'t': -8.087028093907715, 'step': -12.28401022629845, 'decay': -7.0431573575475435}. Best is trial 81 with value: 0.0051050616451186765.\u001B[0m\n",
      "\u001B[32m[I 2022-06-01 03:21:01,990]\u001B[0m Trial 243 finished with value: 0.012118316631229763 and parameters: {'t': -6.274425343082269, 'step': -12.846457959106997, 'decay': -7.208359910573261}. Best is trial 81 with value: 0.0051050616451186765.\u001B[0m\n",
      "\u001B[32m[I 2022-06-01 03:21:02,865]\u001B[0m Trial 244 finished with value: 0.1370930647273892 and parameters: {'t': -4.107023129025157, 'step': -11.598533665915365, 'decay': -6.734127576722401}. Best is trial 81 with value: 0.0051050616451186765.\u001B[0m\n",
      "\u001B[32m[I 2022-06-01 03:21:03,737]\u001B[0m Trial 245 finished with value: 0.006828395303640015 and parameters: {'t': -4.904364975947805, 'step': -11.927355919506622, 'decay': -7.34460693800837}. Best is trial 81 with value: 0.0051050616451186765.\u001B[0m\n",
      "\u001B[32m[I 2022-06-01 03:21:04,741]\u001B[0m Trial 246 finished with value: 0.006224235335290697 and parameters: {'t': -7.269853290390814, 'step': -12.269521033261142, 'decay': -6.532846272828364}. Best is trial 81 with value: 0.0051050616451186765.\u001B[0m\n",
      "\u001B[32m[I 2022-06-01 03:21:05,725]\u001B[0m Trial 247 finished with value: 0.00620474961602541 and parameters: {'t': -7.438164358942961, 'step': -12.386155810833511, 'decay': -6.564373066729812}. Best is trial 81 with value: 0.0051050616451186765.\u001B[0m\n",
      "\u001B[32m[I 2022-06-01 03:21:05,745]\u001B[0m Trial 248 finished with value: 1.0 and parameters: {'t': -7.460420883751358, 'step': -12.657141625942376, 'decay': -6.528840882764054}. Best is trial 81 with value: 0.0051050616451186765.\u001B[0m\n",
      "\u001B[32m[I 2022-06-01 03:21:06,722]\u001B[0m Trial 249 finished with value: 0.0065123535592510095 and parameters: {'t': -7.323654090410218, 'step': -12.368505731789295, 'decay': -6.310560022001927}. Best is trial 81 with value: 0.0051050616451186765.\u001B[0m\n",
      "\u001B[32m[I 2022-06-01 03:21:07,585]\u001B[0m Trial 250 finished with value: 0.011579202485420294 and parameters: {'t': -4.541304502152026, 'step': -12.777431658791102, 'decay': -6.597858722392987}. Best is trial 81 with value: 0.0051050616451186765.\u001B[0m\n",
      "\u001B[32m[I 2022-06-01 03:21:07,602]\u001B[0m Trial 251 finished with value: 1.0 and parameters: {'t': -7.889954055043585, 'step': -12.35149941269245, 'decay': -6.446566228540325}. Best is trial 81 with value: 0.0051050616451186765.\u001B[0m\n",
      "\u001B[32m[I 2022-06-01 03:21:08,486]\u001B[0m Trial 252 finished with value: 0.009792819286447402 and parameters: {'t': -7.6216955211392134, 'step': -12.147960236412287, 'decay': -6.867377894262814}. Best is trial 81 with value: 0.0051050616451186765.\u001B[0m\n",
      "\u001B[32m[I 2022-06-01 03:21:09,449]\u001B[0m Trial 253 finished with value: 0.02488553979113633 and parameters: {'t': -7.053735577334235, 'step': -13.099592578178134, 'decay': -6.757516850922907}. Best is trial 81 with value: 0.0051050616451186765.\u001B[0m\n",
      "\u001B[32m[I 2022-06-01 03:21:10,831]\u001B[0m Trial 254 finished with value: 0.05525547822645329 and parameters: {'t': -6.534313785621517, 'step': -13.42273084157315, 'decay': -6.952408155478375}. Best is trial 81 with value: 0.0051050616451186765.\u001B[0m\n",
      "\u001B[32m[I 2022-06-01 03:21:10,867]\u001B[0m Trial 255 finished with value: 1.0 and parameters: {'t': -7.509928141557151, 'step': -12.546899296394443, 'decay': -6.258678089069264}. Best is trial 81 with value: 0.0051050616451186765.\u001B[0m\n",
      "\u001B[32m[I 2022-06-01 03:21:12,813]\u001B[0m Trial 256 finished with value: 0.007950015891758323 and parameters: {'t': -8.498595160894835, 'step': -12.087071541994382, 'decay': -6.60162452261176}. Best is trial 81 with value: 0.0051050616451186765.\u001B[0m\n",
      "\u001B[32m[I 2022-06-01 03:21:12,832]\u001B[0m Trial 257 finished with value: 1.0 and parameters: {'t': -7.288685899632658, 'step': -11.777095120729335, 'decay': -7.059710946003504}. Best is trial 81 with value: 0.0051050616451186765.\u001B[0m\n",
      "\u001B[32m[I 2022-06-01 03:21:14,169]\u001B[0m Trial 258 finished with value: 0.01000489846127309 and parameters: {'t': -7.795938352799072, 'step': -12.441099079607925, 'decay': -6.7760073022220295}. Best is trial 81 with value: 0.0051050616451186765.\u001B[0m\n",
      "\u001B[32m[I 2022-06-01 03:21:15,150]\u001B[0m Trial 259 finished with value: 0.01075425750556023 and parameters: {'t': -6.361946871640281, 'step': -12.715447008145247, 'decay': -6.075203961461729}. Best is trial 81 with value: 0.0051050616451186765.\u001B[0m\n",
      "\u001B[32m[I 2022-06-01 03:21:15,165]\u001B[0m Trial 260 finished with value: 1.0 and parameters: {'t': -6.643548157092089, 'step': -12.149895742368164, 'decay': -7.167109131001991}. Best is trial 81 with value: 0.0051050616451186765.\u001B[0m\n",
      "\u001B[32m[I 2022-06-01 03:21:16,114]\u001B[0m Trial 261 finished with value: 0.007627375400950722 and parameters: {'t': -6.213593584691464, 'step': -11.665177639422348, 'decay': -6.42612962553367}. Best is trial 81 with value: 0.0051050616451186765.\u001B[0m\n",
      "\u001B[32m[I 2022-06-01 03:21:16,981]\u001B[0m Trial 262 finished with value: 0.020313655124795167 and parameters: {'t': -8.019208228420048, 'step': -11.94323642157375, 'decay': -6.884410725124477}. Best is trial 81 with value: 0.0051050616451186765.\u001B[0m\n",
      "\u001B[32m[I 2022-06-01 03:21:17,845]\u001B[0m Trial 263 finished with value: 0.0056040219278915525 and parameters: {'t': -6.94344652385912, 'step': -12.335931191283809, 'decay': -6.636985236073682}. Best is trial 81 with value: 0.0051050616451186765.\u001B[0m\n",
      "\u001B[32m[I 2022-06-01 03:21:17,861]\u001B[0m Trial 264 finished with value: 1.0 and parameters: {'t': -6.99091700700227, 'step': -12.392216079462587, 'decay': -6.5549752497506635}. Best is trial 81 with value: 0.0051050616451186765.\u001B[0m\n",
      "\u001B[32m[I 2022-06-01 03:21:17,878]\u001B[0m Trial 265 finished with value: 1.0 and parameters: {'t': -6.7756152586138, 'step': -12.64930878326844, 'decay': -6.721160601272315}. Best is trial 81 with value: 0.0051050616451186765.\u001B[0m\n",
      "\u001B[32m[I 2022-06-01 03:21:18,773]\u001B[0m Trial 266 finished with value: 0.03762240515757422 and parameters: {'t': -7.2506751912923, 'step': -13.239355521907079, 'decay': -6.391490022974472}. Best is trial 81 with value: 0.0051050616451186765.\u001B[0m\n",
      "\u001B[32m[I 2022-06-01 03:21:20,103]\u001B[0m Trial 267 finished with value: 0.05374185636001714 and parameters: {'t': -6.906180543117277, 'step': -12.936765906428391, 'decay': -7.058946401926629}. Best is trial 81 with value: 0.0051050616451186765.\u001B[0m\n",
      "\u001B[32m[I 2022-06-01 03:21:21,164]\u001B[0m Trial 268 finished with value: 0.008075620019135605 and parameters: {'t': -6.5159360662003145, 'step': -12.241059052885719, 'decay': -6.920312754069509}. Best is trial 81 with value: 0.0051050616451186765.\u001B[0m\n",
      "\u001B[32m[I 2022-06-01 03:21:22,825]\u001B[0m Trial 269 finished with value: 0.007180494495990286 and parameters: {'t': -7.11726026346465, 'step': -11.954437814579189, 'decay': -7.25810856341577}. Best is trial 81 with value: 0.0051050616451186765.\u001B[0m\n",
      "\u001B[32m[I 2022-06-01 03:21:23,796]\u001B[0m Trial 270 finished with value: 0.008500207814194744 and parameters: {'t': -6.092953900772585, 'step': -11.584484126805807, 'decay': -6.820091126787488}. Best is trial 81 with value: 0.0051050616451186765.\u001B[0m\n",
      "\u001B[32m[I 2022-06-01 03:21:24,538]\u001B[0m Trial 271 finished with value: 0.007485992365094838 and parameters: {'t': -3.6585954669881424, 'step': -12.4557562640974, 'decay': -6.631250878584667}. Best is trial 81 with value: 0.0051050616451186765.\u001B[0m\n",
      "\u001B[32m[I 2022-06-01 03:21:25,272]\u001B[0m Trial 272 finished with value: 0.008905201463383871 and parameters: {'t': -6.667946251409121, 'step': -11.858283146979321, 'decay': -6.208838044835064}. Best is trial 81 with value: 0.0051050616451186765.\u001B[0m\n",
      "\u001B[32m[I 2022-06-01 03:21:26,003]\u001B[0m Trial 273 finished with value: 0.01204869181495919 and parameters: {'t': -6.332935485428837, 'step': -12.828466940116694, 'decay': -7.532946136568143}. Best is trial 81 with value: 0.0051050616451186765.\u001B[0m\n",
      "\u001B[32m[I 2022-06-01 03:21:26,018]\u001B[0m Trial 274 finished with value: 1.0 and parameters: {'t': -5.792400923916382, 'step': -12.320490212258798, 'decay': -6.483471798251316}. Best is trial 81 with value: 0.0051050616451186765.\u001B[0m\n",
      "\u001B[32m[I 2022-06-01 03:21:26,776]\u001B[0m Trial 275 finished with value: 0.0067532787179711996 and parameters: {'t': -6.902185256923414, 'step': -12.153837176246858, 'decay': -7.200187330618071}. Best is trial 81 with value: 0.0051050616451186765.\u001B[0m\n",
      "\u001B[32m[I 2022-06-01 03:21:27,505]\u001B[0m Trial 276 finished with value: 0.0047876965841348275 and parameters: {'t': -7.527538086010667, 'step': -11.473461838790142, 'decay': -7.683727655161845}. Best is trial 276 with value: 0.0047876965841348275.\u001B[0m\n",
      "\u001B[32m[I 2022-06-01 03:21:28,286]\u001B[0m Trial 277 finished with value: 0.012591183736399376 and parameters: {'t': -7.456937113581125, 'step': -11.456771675101821, 'decay': -7.719677746730742}. Best is trial 276 with value: 0.0047876965841348275.\u001B[0m\n",
      "\u001B[32m[I 2022-06-01 03:21:29,028]\u001B[0m Trial 278 finished with value: 0.010115415846321345 and parameters: {'t': -7.5972277375311155, 'step': -12.665571858015378, 'decay': -7.612479681848471}. Best is trial 276 with value: 0.0047876965841348275.\u001B[0m\n",
      "\u001B[32m[I 2022-06-01 03:21:29,775]\u001B[0m Trial 279 finished with value: 0.006239480328595834 and parameters: {'t': -7.194953696294112, 'step': -11.93499468630807, 'decay': -7.903746774743408}. Best is trial 276 with value: 0.0047876965841348275.\u001B[0m\n",
      "\u001B[32m[I 2022-06-01 03:21:30,743]\u001B[0m Trial 280 finished with value: 0.007130358296608439 and parameters: {'t': -7.3753839825122345, 'step': -12.444646379017499, 'decay': -8.667673466813167}. Best is trial 276 with value: 0.0047876965841348275.\u001B[0m\n",
      "\u001B[32m[I 2022-06-01 03:21:30,761]\u001B[0m Trial 281 finished with value: 0.9999994854404222 and parameters: {'t': -7.817036549146589, 'step': -12.210802237018614, 'decay': -6.707306472745278}. Best is trial 276 with value: 0.0047876965841348275.\u001B[0m\n",
      "\u001B[32m[I 2022-06-01 03:21:31,696]\u001B[0m Trial 282 finished with value: 0.008655765735076253 and parameters: {'t': -7.577348311088339, 'step': -11.687080078104222, 'decay': -7.35949117212997}. Best is trial 276 with value: 0.0047876965841348275.\u001B[0m\n",
      "\u001B[32m[I 2022-06-01 03:21:31,712]\u001B[0m Trial 283 finished with value: 0.9999959259102886 and parameters: {'t': -6.739720022125064, 'step': -12.85471048418009, 'decay': -7.490590917158401}. Best is trial 276 with value: 0.0047876965841348275.\u001B[0m\n",
      "\u001B[32m[I 2022-06-01 03:21:32,502]\u001B[0m Trial 284 finished with value: 0.009043172943847166 and parameters: {'t': -6.468969440079849, 'step': -11.99279036137318, 'decay': -7.771800357915324}. Best is trial 276 with value: 0.0047876965841348275.\u001B[0m\n",
      "\u001B[32m[I 2022-06-01 03:21:33,448]\u001B[0m Trial 285 finished with value: 0.008725187747374075 and parameters: {'t': -7.039943884168225, 'step': -12.543994413451417, 'decay': -6.261232918554674}. Best is trial 276 with value: 0.0047876965841348275.\u001B[0m\n",
      "\u001B[32m[I 2022-06-01 03:21:34,211]\u001B[0m Trial 286 finished with value: 0.008105008151554969 and parameters: {'t': -7.667510275433959, 'step': -11.401791668478657, 'decay': -6.947718227264021}. Best is trial 276 with value: 0.0047876965841348275.\u001B[0m\n",
      "\u001B[32m[I 2022-06-01 03:21:34,951]\u001B[0m Trial 287 finished with value: 0.007226662109584444 and parameters: {'t': -6.60675029143272, 'step': -12.200452132678178, 'decay': -5.973471580071711}. Best is trial 276 with value: 0.0047876965841348275.\u001B[0m\n",
      "\u001B[32m[I 2022-06-01 03:21:35,684]\u001B[0m Trial 288 finished with value: 0.10679291617613607 and parameters: {'t': -7.333346479678896, 'step': -11.791350510615008, 'decay': -6.479838991936625}. Best is trial 276 with value: 0.0047876965841348275.\u001B[0m\n",
      "\u001B[32m[I 2022-06-01 03:21:36,445]\u001B[0m Trial 289 finished with value: 0.016783129960813898 and parameters: {'t': -6.867486350050316, 'step': -13.02105489906522, 'decay': -8.55307381690551}. Best is trial 276 with value: 0.0047876965841348275.\u001B[0m\n",
      "\u001B[32m[I 2022-06-01 03:21:37,195]\u001B[0m Trial 290 finished with value: 0.008704554914316098 and parameters: {'t': -4.693682510885184, 'step': -12.54456790613498, 'decay': -7.239998828635803}. Best is trial 276 with value: 0.0047876965841348275.\u001B[0m\n",
      "\u001B[32m[I 2022-06-01 03:21:37,928]\u001B[0m Trial 291 finished with value: 0.45778866375172583 and parameters: {'t': -6.2618000560842395, 'step': -7.70871815007669, 'decay': -8.221727541154618}. Best is trial 276 with value: 0.0047876965841348275.\u001B[0m\n",
      "\u001B[32m[I 2022-06-01 03:21:38,660]\u001B[0m Trial 292 finished with value: 0.008074360312306666 and parameters: {'t': -6.477222362649266, 'step': -12.054548815663562, 'decay': -6.695421934678778}. Best is trial 276 with value: 0.0047876965841348275.\u001B[0m\n",
      "\u001B[32m[I 2022-06-01 03:21:39,385]\u001B[0m Trial 293 finished with value: 0.0060203837648996755 and parameters: {'t': -7.895197793273859, 'step': -12.24499317138118, 'decay': -8.898467099757829}. Best is trial 276 with value: 0.0047876965841348275.\u001B[0m\n",
      "\u001B[32m[I 2022-06-01 03:21:39,400]\u001B[0m Trial 294 finished with value: 1.0 and parameters: {'t': -7.804739016539325, 'step': -11.567287061778536, 'decay': -8.744496453124663}. Best is trial 276 with value: 0.0047876965841348275.\u001B[0m\n",
      "\u001B[32m[I 2022-06-01 03:21:40,130]\u001B[0m Trial 295 finished with value: 0.005538352097640907 and parameters: {'t': -7.999335748594413, 'step': -11.874923756403653, 'decay': -8.49721109546487}. Best is trial 276 with value: 0.0047876965841348275.\u001B[0m\n",
      "\u001B[32m[I 2022-06-01 03:21:40,868]\u001B[0m Trial 296 finished with value: 0.004875696353404021 and parameters: {'t': -8.014027429085788, 'step': -11.347474576779323, 'decay': -8.825626264050156}. Best is trial 276 with value: 0.0047876965841348275.\u001B[0m\n",
      "\u001B[32m[I 2022-06-01 03:21:41,605]\u001B[0m Trial 297 finished with value: 0.008880751091133093 and parameters: {'t': -7.964076003833652, 'step': -11.151737710885998, 'decay': -8.94290304591274}. Best is trial 276 with value: 0.0047876965841348275.\u001B[0m\n",
      "\u001B[32m[I 2022-06-01 03:21:41,620]\u001B[0m Trial 298 finished with value: 1.0 and parameters: {'t': -8.211899494722392, 'step': -11.33650829498138, 'decay': -8.833589294286254}. Best is trial 276 with value: 0.0047876965841348275.\u001B[0m\n",
      "\u001B[32m[I 2022-06-01 03:21:42,371]\u001B[0m Trial 299 finished with value: 0.010604721956900124 and parameters: {'t': -8.031499112215762, 'step': -11.665358712875083, 'decay': -8.991791110766831}. Best is trial 276 with value: 0.0047876965841348275.\u001B[0m\n",
      "\u001B[32m[I 2022-06-01 03:21:43,112]\u001B[0m Trial 300 finished with value: 0.012941715939604252 and parameters: {'t': -8.185568438938205, 'step': -11.310850320661322, 'decay': -8.504963272722872}. Best is trial 276 with value: 0.0047876965841348275.\u001B[0m\n",
      "\u001B[32m[I 2022-06-01 03:21:43,858]\u001B[0m Trial 301 finished with value: 0.009002618492141233 and parameters: {'t': -8.37522223473099, 'step': -11.835050921576215, 'decay': -8.589933117750677}. Best is trial 276 with value: 0.0047876965841348275.\u001B[0m\n",
      "\u001B[32m[I 2022-06-01 03:21:43,875]\u001B[0m Trial 302 finished with value: 1.0 and parameters: {'t': -7.972113391272024, 'step': -11.943339764191474, 'decay': -8.735881644671082}. Best is trial 276 with value: 0.0047876965841348275.\u001B[0m\n",
      "\u001B[32m[I 2022-06-01 03:21:44,612]\u001B[0m Trial 303 finished with value: 0.009062261230475304 and parameters: {'t': -8.120571035410919, 'step': -11.538748017447794, 'decay': -8.355139961331908}. Best is trial 276 with value: 0.0047876965841348275.\u001B[0m\n",
      "\u001B[32m[I 2022-06-01 03:21:45,370]\u001B[0m Trial 304 finished with value: 0.014870069891806146 and parameters: {'t': -7.885143616604941, 'step': -12.014055354703583, 'decay': -8.626281468632156}. Best is trial 276 with value: 0.0047876965841348275.\u001B[0m\n",
      "\u001B[32m[I 2022-06-01 03:21:46,137]\u001B[0m Trial 305 finished with value: 0.01151367526024825 and parameters: {'t': -7.727937662256988, 'step': -11.055887280065768, 'decay': -8.837495015691797}. Best is trial 276 with value: 0.0047876965841348275.\u001B[0m\n",
      "\u001B[32m[I 2022-06-01 03:21:47,573]\u001B[0m Trial 306 finished with value: 0.021751734070584276 and parameters: {'t': -3.0254901101099048, 'step': -11.71564067599261, 'decay': -8.44061863998746}. Best is trial 276 with value: 0.0047876965841348275.\u001B[0m\n",
      "\u001B[32m[I 2022-06-01 03:21:48,797]\u001B[0m Trial 307 finished with value: 0.009005006382182766 and parameters: {'t': -8.254148293891435, 'step': -12.1573843097437, 'decay': -8.992492752294641}. Best is trial 276 with value: 0.0047876965841348275.\u001B[0m\n",
      "\u001B[32m[I 2022-06-01 03:21:49,741]\u001B[0m Trial 308 finished with value: 0.011370186296492005 and parameters: {'t': -7.969355080206944, 'step': -12.769857676466414, 'decay': -8.17409330344125}. Best is trial 276 with value: 0.0047876965841348275.\u001B[0m\n",
      "\u001B[32m[I 2022-06-01 03:21:50,968]\u001B[0m Trial 309 finished with value: 0.00893549605822881 and parameters: {'t': -6.061702219369472, 'step': -11.859096552187632, 'decay': -8.720919197298898}. Best is trial 276 with value: 0.0047876965841348275.\u001B[0m\n",
      "\u001B[32m[I 2022-06-01 03:21:51,807]\u001B[0m Trial 310 finished with value: 0.007665803632545041 and parameters: {'t': -7.7825315848860654, 'step': -11.454132024355241, 'decay': -8.457450941053953}. Best is trial 276 with value: 0.0047876965841348275.\u001B[0m\n",
      "\u001B[32m[I 2022-06-01 03:21:52,553]\u001B[0m Trial 311 finished with value: 0.005518778502289521 and parameters: {'t': -8.532123960102323, 'step': -12.232765225047489, 'decay': -8.045804818665761}. Best is trial 276 with value: 0.0047876965841348275.\u001B[0m\n",
      "\u001B[32m[I 2022-06-01 03:21:52,569]\u001B[0m Trial 312 finished with value: 1.0 and parameters: {'t': -8.134869106846194, 'step': -12.027918698047865, 'decay': -8.131716274023441}. Best is trial 276 with value: 0.0047876965841348275.\u001B[0m\n",
      "\u001B[32m[I 2022-06-01 03:21:53,318]\u001B[0m Trial 313 finished with value: 0.009893286344841068 and parameters: {'t': -8.732898184146379, 'step': -12.639007929885437, 'decay': -7.9670267213694}. Best is trial 276 with value: 0.0047876965841348275.\u001B[0m\n",
      "\u001B[32m[I 2022-06-01 03:21:54,023]\u001B[0m Trial 314 finished with value: 0.006464038091949047 and parameters: {'t': -8.940922590791208, 'step': -11.663139345014825, 'decay': -7.888859231904771}. Best is trial 276 with value: 0.0047876965841348275.\u001B[0m\n",
      "\u001B[32m[I 2022-06-01 03:21:54,731]\u001B[0m Trial 315 finished with value: 0.00956848549504807 and parameters: {'t': -8.341511674518697, 'step': -12.27615625501491, 'decay': -8.015225974623027}. Best is trial 276 with value: 0.0047876965841348275.\u001B[0m\n",
      "\u001B[32m[I 2022-06-01 03:21:54,746]\u001B[0m Trial 316 finished with value: 1.0 and parameters: {'t': -8.707441926653543, 'step': -11.215478317915617, 'decay': -8.192050083206903}. Best is trial 276 with value: 0.0047876965841348275.\u001B[0m\n",
      "\u001B[32m[I 2022-06-01 03:21:54,761]\u001B[0m Trial 317 finished with value: 1.0 and parameters: {'t': -7.860832468861471, 'step': -12.032010487430966, 'decay': -7.663644082111117}. Best is trial 276 with value: 0.0047876965841348275.\u001B[0m\n",
      "\u001B[32m[I 2022-06-01 03:21:54,775]\u001B[0m Trial 318 finished with value: 1.0 and parameters: {'t': -8.555802332056604, 'step': -12.53379309309076, 'decay': -8.35481628390264}. Best is trial 276 with value: 0.0047876965841348275.\u001B[0m\n",
      "\u001B[32m[I 2022-06-01 03:21:54,791]\u001B[0m Trial 319 finished with value: 1.0 and parameters: {'t': -2.0362555162717237, 'step': -13.19378894443058, 'decay': -8.82049794013254}. Best is trial 276 with value: 0.0047876965841348275.\u001B[0m\n",
      "\u001B[32m[I 2022-06-01 03:21:55,524]\u001B[0m Trial 320 finished with value: 0.07348846761500674 and parameters: {'t': -3.96970110933096, 'step': -13.674933271302152, 'decay': -8.613836551526612}. Best is trial 276 with value: 0.0047876965841348275.\u001B[0m\n",
      "\u001B[32m[I 2022-06-01 03:21:56,240]\u001B[0m Trial 321 finished with value: 0.005882648831712222 and parameters: {'t': -3.298678081998227, 'step': -11.75614115937094, 'decay': -8.321575023025638}. Best is trial 276 with value: 0.0047876965841348275.\u001B[0m\n",
      "\u001B[32m[I 2022-06-01 03:21:57,010]\u001B[0m Trial 322 finished with value: 0.04318633936723056 and parameters: {'t': -3.4511181565936155, 'step': -10.910244944671367, 'decay': -8.252982307369143}. Best is trial 276 with value: 0.0047876965841348275.\u001B[0m\n",
      "\u001B[32m[I 2022-06-01 03:21:57,985]\u001B[0m Trial 323 finished with value: 0.006275930108882135 and parameters: {'t': -2.853494906537205, 'step': -11.71843480135013, 'decay': -0.39622730838667586}. Best is trial 276 with value: 0.0047876965841348275.\u001B[0m\n",
      "\u001B[32m[I 2022-06-01 03:21:59,324]\u001B[0m Trial 324 finished with value: 0.01024275619026086 and parameters: {'t': -8.425045345120221, 'step': -11.549521802980085, 'decay': -8.403106468410313}. Best is trial 276 with value: 0.0047876965841348275.\u001B[0m\n",
      "\u001B[32m[I 2022-06-01 03:22:01,124]\u001B[0m Trial 325 finished with value: 0.008188358046055548 and parameters: {'t': -5.159816038206609, 'step': -11.41311652874882, 'decay': -8.052603227595176}. Best is trial 276 with value: 0.0047876965841348275.\u001B[0m\n",
      "\u001B[32m[I 2022-06-01 03:22:02,075]\u001B[0m Trial 326 finished with value: 0.009390473737389753 and parameters: {'t': -3.3530338369907753, 'step': -11.908408411212465, 'decay': -8.560710622370054}. Best is trial 276 with value: 0.0047876965841348275.\u001B[0m\n",
      "\u001B[32m[I 2022-06-01 03:22:02,092]\u001B[0m Trial 327 finished with value: 1.0 and parameters: {'t': -3.2893394517090977, 'step': -12.216708553551541, 'decay': -7.8822935145504}. Best is trial 276 with value: 0.0047876965841348275.\u001B[0m\n",
      "\u001B[32m[I 2022-06-01 03:22:02,964]\u001B[0m Trial 328 finished with value: 0.009333491825914714 and parameters: {'t': -3.1700277795028544, 'step': -11.815125393334192, 'decay': -8.298431167311902}. Best is trial 276 with value: 0.0047876965841348275.\u001B[0m\n",
      "\u001B[32m[I 2022-06-01 03:22:03,839]\u001B[0m Trial 329 finished with value: 0.0081455739969175 and parameters: {'t': -3.6863042227799836, 'step': -11.217124801853803, 'decay': -8.70812771061207}. Best is trial 276 with value: 0.0047876965841348275.\u001B[0m\n",
      "\u001B[32m[I 2022-06-01 03:22:03,857]\u001B[0m Trial 330 finished with value: 1.0 and parameters: {'t': -7.626133291969039, 'step': -12.122413924249356, 'decay': -7.45589803725306}. Best is trial 276 with value: 0.0047876965841348275.\u001B[0m\n",
      "\u001B[32m[I 2022-06-01 03:22:04,888]\u001B[0m Trial 331 finished with value: 0.008935188386250957 and parameters: {'t': -7.957631398498149, 'step': -12.52449474553234, 'decay': -7.6789366118178926}. Best is trial 276 with value: 0.0047876965841348275.\u001B[0m\n",
      "\u001B[32m[I 2022-06-01 03:22:05,858]\u001B[0m Trial 332 finished with value: 0.009660829437500832 and parameters: {'t': -2.693619608895548, 'step': -11.533076153102499, 'decay': -8.49778719454557}. Best is trial 276 with value: 0.0047876965841348275.\u001B[0m\n",
      "\u001B[32m[I 2022-06-01 03:22:06,921]\u001B[0m Trial 333 finished with value: 0.013554183534217844 and parameters: {'t': -8.102129824369396, 'step': -12.890957394648531, 'decay': -8.718290325905155}. Best is trial 276 with value: 0.0047876965841348275.\u001B[0m\n",
      "\u001B[32m[I 2022-06-01 03:22:06,947]\u001B[0m Trial 334 finished with value: 0.9871766007728036 and parameters: {'t': -3.531213037288325, 'step': -18.67742606747285, 'decay': -8.90256162561807}. Best is trial 276 with value: 0.0047876965841348275.\u001B[0m\n",
      "\u001B[32m[I 2022-06-01 03:22:06,975]\u001B[0m Trial 335 finished with value: 1.0 and parameters: {'t': -2.9918178146132877, 'step': -11.816205085846011, 'decay': -8.289038804038896}. Best is trial 276 with value: 0.0047876965841348275.\u001B[0m\n",
      "\u001B[32m[I 2022-06-01 03:22:09,257]\u001B[0m Trial 336 finished with value: 0.005878505930584736 and parameters: {'t': -8.533922244378257, 'step': -12.232299095764654, 'decay': -7.8230673233105215}. Best is trial 276 with value: 0.0047876965841348275.\u001B[0m\n",
      "\u001B[32m[I 2022-06-01 03:22:10,566]\u001B[0m Trial 337 finished with value: 1.0 and parameters: {'t': -4.33999382926576, 'step': -6.075779669780597, 'decay': -7.66418656109666}. Best is trial 276 with value: 0.0047876965841348275.\u001B[0m\n",
      "\u001B[32m[I 2022-06-01 03:22:10,586]\u001B[0m Trial 338 finished with value: 1.0 and parameters: {'t': -8.820821995136065, 'step': -12.31179721899949, 'decay': -2.0008597963856083}. Best is trial 276 with value: 0.0047876965841348275.\u001B[0m\n",
      "\u001B[32m[I 2022-06-01 03:22:10,605]\u001B[0m Trial 339 finished with value: 1.0 and parameters: {'t': -8.530281351954992, 'step': -12.595064289957142, 'decay': -7.855253286855171}. Best is trial 276 with value: 0.0047876965841348275.\u001B[0m\n",
      "\u001B[32m[I 2022-06-01 03:22:11,523]\u001B[0m Trial 340 finished with value: 0.008047661266439535 and parameters: {'t': -8.578334917562227, 'step': -12.08161006776623, 'decay': -7.526798282257721}. Best is trial 276 with value: 0.0047876965841348275.\u001B[0m\n",
      "\u001B[32m[I 2022-06-01 03:22:12,398]\u001B[0m Trial 341 finished with value: 0.005801554314380699 and parameters: {'t': -8.318869912684361, 'step': -12.359748739526957, 'decay': -8.032721576030013}. Best is trial 276 with value: 0.0047876965841348275.\u001B[0m\n",
      "\u001B[32m[I 2022-06-01 03:22:12,423]\u001B[0m Trial 342 finished with value: 1.0 and parameters: {'t': -8.429549758738998, 'step': -12.790934662520987, 'decay': -8.044903350642928}. Best is trial 276 with value: 0.0047876965841348275.\u001B[0m\n",
      "\u001B[32m[I 2022-06-01 03:22:13,448]\u001B[0m Trial 343 finished with value: 0.006571930630885651 and parameters: {'t': -8.393310773407142, 'step': -12.401746805387502, 'decay': -7.8220262939703815}. Best is trial 276 with value: 0.0047876965841348275.\u001B[0m\n",
      "\u001B[32m[I 2022-06-01 03:22:14,401]\u001B[0m Trial 344 finished with value: 0.009972172952812622 and parameters: {'t': -8.666818788256931, 'step': -11.640338305808307, 'decay': -1.107135106138049}. Best is trial 276 with value: 0.0047876965841348275.\u001B[0m\n",
      "\u001B[32m[I 2022-06-01 03:22:15,357]\u001B[0m Trial 345 finished with value: 0.005040888671397452 and parameters: {'t': -8.262455938714195, 'step': -11.887612871062037, 'decay': -7.85374844138372}. Best is trial 276 with value: 0.0047876965841348275.\u001B[0m\n",
      "\u001B[32m[I 2022-06-01 03:22:16,341]\u001B[0m Trial 346 finished with value: 0.01653825311584975 and parameters: {'t': -8.222742623145283, 'step': -10.836266688174284, 'decay': -8.064851381766635}. Best is trial 276 with value: 0.0047876965841348275.\u001B[0m\n",
      "\u001B[32m[I 2022-06-01 03:22:17,327]\u001B[0m Trial 347 finished with value: 0.016020139661438365 and parameters: {'t': -8.298068045197772, 'step': -11.196138835605112, 'decay': -7.832456445303874}. Best is trial 276 with value: 0.0047876965841348275.\u001B[0m\n",
      "\u001B[32m[I 2022-06-01 03:22:18,258]\u001B[0m Trial 348 finished with value: 0.00712491309105642 and parameters: {'t': -8.615174226814666, 'step': -11.85590689197591, 'decay': -8.118840903779033}. Best is trial 276 with value: 0.0047876965841348275.\u001B[0m\n",
      "\u001B[32m[I 2022-06-01 03:22:19,131]\u001B[0m Trial 349 finished with value: 0.011325105304622121 and parameters: {'t': -8.876497963547312, 'step': -11.318183401910021, 'decay': -7.917125822337854}. Best is trial 276 with value: 0.0047876965841348275.\u001B[0m\n",
      "\u001B[32m[I 2022-06-01 03:22:20,016]\u001B[0m Trial 350 finished with value: 0.006884087687702116 and parameters: {'t': -8.459839917771655, 'step': -11.961519860864065, 'decay': -7.692947046982695}. Best is trial 276 with value: 0.0047876965841348275.\u001B[0m\n",
      "\u001B[32m[I 2022-06-01 03:22:20,888]\u001B[0m Trial 351 finished with value: 0.02818771923196775 and parameters: {'t': -6.222046071951665, 'step': -11.542546433895922, 'decay': -8.096841040484454}. Best is trial 276 with value: 0.0047876965841348275.\u001B[0m\n",
      "\u001B[32m[I 2022-06-01 03:22:21,858]\u001B[0m Trial 352 finished with value: 0.017653868256349684 and parameters: {'t': -5.6942944598691785, 'step': -13.021257888261403, 'decay': -8.312483484111299}. Best is trial 276 with value: 0.0047876965841348275.\u001B[0m\n",
      "\u001B[32m[I 2022-06-01 03:22:22,892]\u001B[0m Trial 353 finished with value: 0.009426338780305212 and parameters: {'t': -8.369838383235878, 'step': -12.574476143595556, 'decay': -7.671516709422512}. Best is trial 276 with value: 0.0047876965841348275.\u001B[0m\n",
      "\u001B[32m[I 2022-06-01 03:22:23,813]\u001B[0m Trial 354 finished with value: 0.017335729802458347 and parameters: {'t': -6.748790502730421, 'step': -11.937405480239477, 'decay': -7.938725345471142}. Best is trial 276 with value: 0.0047876965841348275.\u001B[0m\n",
      "\u001B[32m[I 2022-06-01 03:22:24,985]\u001B[0m Trial 355 finished with value: 0.0052509584781356075 and parameters: {'t': -8.170569950790043, 'step': -12.275747785837703, 'decay': -7.443048929630548}. Best is trial 276 with value: 0.0047876965841348275.\u001B[0m\n",
      "\u001B[32m[I 2022-06-01 03:22:26,982]\u001B[0m Trial 356 finished with value: 0.006578240364768135 and parameters: {'t': -8.200816733576746, 'step': -11.762918282402413, 'decay': -7.567930366415657}. Best is trial 276 with value: 0.0047876965841348275.\u001B[0m\n",
      "\u001B[32m[I 2022-06-01 03:22:28,145]\u001B[0m Trial 357 finished with value: 0.0067754576255372075 and parameters: {'t': -8.18798135338705, 'step': -12.378101248373538, 'decay': -7.413544303090332}. Best is trial 276 with value: 0.0047876965841348275.\u001B[0m\n",
      "\u001B[32m[I 2022-06-01 03:22:29,042]\u001B[0m Trial 358 finished with value: 0.010996898922813348 and parameters: {'t': -3.824687085109219, 'step': -12.741415942905283, 'decay': -8.170592645387975}. Best is trial 276 with value: 0.0047876965841348275.\u001B[0m\n",
      "\u001B[32m[I 2022-06-01 03:22:29,773]\u001B[0m Trial 359 finished with value: 0.010421972507996846 and parameters: {'t': -8.671969847280758, 'step': -11.511198112970941, 'decay': -7.7766672556687215}. Best is trial 276 with value: 0.0047876965841348275.\u001B[0m\n",
      "\u001B[32m[I 2022-06-01 03:22:30,503]\u001B[0m Trial 360 finished with value: 0.02848670899551837 and parameters: {'t': -8.51179207077064, 'step': -12.10281617727645, 'decay': -7.48341377096984}. Best is trial 276 with value: 0.0047876965841348275.\u001B[0m\n",
      "\u001B[32m[I 2022-06-01 03:22:30,521]\u001B[0m Trial 361 finished with value: 1.0 and parameters: {'t': -8.122382883165928, 'step': -12.403120267871271, 'decay': -7.772928584693788}. Best is trial 276 with value: 0.0047876965841348275.\u001B[0m\n",
      "\u001B[32m[I 2022-06-01 03:22:30,536]\u001B[0m Trial 362 finished with value: 1.0 and parameters: {'t': -8.325673087871191, 'step': -11.86838827961618, 'decay': -8.051744438966105}. Best is trial 276 with value: 0.0047876965841348275.\u001B[0m\n",
      "\u001B[32m[I 2022-06-01 03:22:30,553]\u001B[0m Trial 363 finished with value: 1.0 and parameters: {'t': -6.925952967768122, 'step': -13.22927826895033, 'decay': -8.314464067320666}. Best is trial 276 with value: 0.0047876965841348275.\u001B[0m\n",
      "\u001B[32m[I 2022-06-01 03:22:31,272]\u001B[0m Trial 364 finished with value: 0.01120900517918411 and parameters: {'t': -4.985297570678926, 'step': -10.993649587263828, 'decay': -3.1480581698221117}. Best is trial 276 with value: 0.0047876965841348275.\u001B[0m\n",
      "\u001B[32m[I 2022-06-01 03:22:32,000]\u001B[0m Trial 365 finished with value: 0.0215086647348574 and parameters: {'t': -6.524808289789262, 'step': -12.178834897739934, 'decay': -8.432038255711339}. Best is trial 276 with value: 0.0047876965841348275.\u001B[0m\n",
      "\u001B[32m[I 2022-06-01 03:22:32,016]\u001B[0m Trial 366 finished with value: 1.0 and parameters: {'t': -6.783326076976296, 'step': -12.661461507985907, 'decay': -7.988234945601631}. Best is trial 276 with value: 0.0047876965841348275.\u001B[0m\n",
      "\u001B[32m[I 2022-06-01 03:22:32,754]\u001B[0m Trial 367 finished with value: 0.012896614969774687 and parameters: {'t': -8.307427031974939, 'step': -11.474845462573718, 'decay': -7.569461618410443}. Best is trial 276 with value: 0.0047876965841348275.\u001B[0m\n",
      "\u001B[32m[I 2022-06-01 03:22:33,877]\u001B[0m Trial 368 finished with value: 0.009769283047032135 and parameters: {'t': -8.533281570585055, 'step': -11.72741940524617, 'decay': -7.339348153899175}. Best is trial 276 with value: 0.0047876965841348275.\u001B[0m\n",
      "\u001B[32m[I 2022-06-01 03:22:35,673]\u001B[0m Trial 369 finished with value: 0.0061535811512229595 and parameters: {'t': -7.015098388501049, 'step': -12.035342406336492, 'decay': -8.595503241072919}. Best is trial 276 with value: 0.0047876965841348275.\u001B[0m\n",
      "\u001B[32m[I 2022-06-01 03:22:36,590]\u001B[0m Trial 370 finished with value: 0.013582111321647085 and parameters: {'t': -6.6419055812986025, 'step': -12.907874494848723, 'decay': -8.188940473884857}. Best is trial 276 with value: 0.0047876965841348275.\u001B[0m\n",
      "\u001B[32m[I 2022-06-01 03:22:37,522]\u001B[0m Trial 371 finished with value: 0.006471621638570591 and parameters: {'t': -8.055942403920556, 'step': -12.412138683158268, 'decay': -7.871688891132508}. Best is trial 276 with value: 0.0047876965841348275.\u001B[0m\n",
      "\u001B[32m[I 2022-06-01 03:22:38,309]\u001B[0m Trial 372 finished with value: 0.0075026063343579825 and parameters: {'t': -6.393333278769231, 'step': -11.241993389165268, 'decay': -8.486176470024043}. Best is trial 276 with value: 0.0047876965841348275.\u001B[0m\n",
      "\u001B[32m[I 2022-06-01 03:22:38,328]\u001B[0m Trial 373 finished with value: 1.0 and parameters: {'t': -3.26822586744354, 'step': -12.159338402879547, 'decay': -7.698401115951287}. Best is trial 276 with value: 0.0047876965841348275.\u001B[0m\n",
      "\u001B[32m[I 2022-06-01 03:22:39,085]\u001B[0m Trial 374 finished with value: 0.009682793266321682 and parameters: {'t': -8.130641370924241, 'step': -11.724240790760248, 'decay': -8.223108906808381}. Best is trial 276 with value: 0.0047876965841348275.\u001B[0m\n",
      "\u001B[32m[I 2022-06-01 03:22:39,827]\u001B[0m Trial 375 finished with value: 0.008954585982431058 and parameters: {'t': -8.78447883341333, 'step': -12.564367411560474, 'decay': -7.400350588839109}. Best is trial 276 with value: 0.0047876965841348275.\u001B[0m\n",
      "\u001B[32m[I 2022-06-01 03:22:40,567]\u001B[0m Trial 376 finished with value: 0.0176406115044598 and parameters: {'t': -2.441795600528292, 'step': -11.978049935174884, 'decay': -7.22892591117992}. Best is trial 276 with value: 0.0047876965841348275.\u001B[0m\n",
      "\u001B[32m[I 2022-06-01 03:22:41,803]\u001B[0m Trial 377 finished with value: 0.006973462642939755 and parameters: {'t': -8.990782031623208, 'step': -12.403861982816442, 'decay': -8.64887481730146}. Best is trial 276 with value: 0.0047876965841348275.\u001B[0m\n",
      "\u001B[32m[I 2022-06-01 03:22:41,854]\u001B[0m Trial 378 finished with value: 0.9999546007964087 and parameters: {'t': -6.2454175539059005, 'step': -11.476812575190225, 'decay': -8.000484388958736}. Best is trial 276 with value: 0.0047876965841348275.\u001B[0m\n",
      "\u001B[32m[I 2022-06-01 03:22:43,773]\u001B[0m Trial 379 finished with value: 0.06095962771622804 and parameters: {'t': -6.887101319342747, 'step': -13.488314252814321, 'decay': -8.358709542569146}. Best is trial 276 with value: 0.0047876965841348275.\u001B[0m\n",
      "\u001B[32m[I 2022-06-01 03:22:45,251]\u001B[0m Trial 380 finished with value: 0.2954621319803271 and parameters: {'t': -4.820957085433244, 'step': -10.533339205083866, 'decay': -7.828418515271659}. Best is trial 276 with value: 0.0047876965841348275.\u001B[0m\n",
      "\u001B[32m[I 2022-06-01 03:22:46,363]\u001B[0m Trial 381 finished with value: 0.005188347242216928 and parameters: {'t': -8.352632455927978, 'step': -12.205415080102965, 'decay': -8.48341920546612}. Best is trial 276 with value: 0.0047876965841348275.\u001B[0m\n",
      "\u001B[32m[I 2022-06-01 03:22:47,313]\u001B[0m Trial 382 finished with value: 0.011994150302346936 and parameters: {'t': -4.171516041082193, 'step': -12.833442343985308, 'decay': -8.786728539382743}. Best is trial 276 with value: 0.0047876965841348275.\u001B[0m\n",
      "\u001B[32m[I 2022-06-01 03:22:48,287]\u001B[0m Trial 383 finished with value: 0.006368361193513677 and parameters: {'t': -8.428001472926695, 'step': -12.183196748071095, 'decay': -3.659021563582255}. Best is trial 276 with value: 0.0047876965841348275.\u001B[0m\n",
      "\u001B[32m[I 2022-06-01 03:22:49,247]\u001B[0m Trial 384 finished with value: 0.009231474273900229 and parameters: {'t': -8.568318977597073, 'step': -12.586893458744331, 'decay': -8.532917885690312}. Best is trial 276 with value: 0.0047876965841348275.\u001B[0m\n",
      "\u001B[32m[I 2022-06-01 03:22:50,186]\u001B[0m Trial 385 finished with value: 0.005204543556849694 and parameters: {'t': -8.33417068839849, 'step': -12.27894191975917, 'decay': -8.7218288779037}. Best is trial 276 with value: 0.0047876965841348275.\u001B[0m\n",
      "\u001B[32m[I 2022-06-01 03:22:50,203]\u001B[0m Trial 386 finished with value: 1.0 and parameters: {'t': -8.313490883590612, 'step': -13.119932354452677, 'decay': -8.791500086904238}. Best is trial 276 with value: 0.0047876965841348275.\u001B[0m\n",
      "\u001B[32m[I 2022-06-01 03:22:51,150]\u001B[0m Trial 387 finished with value: 0.010639692591789016 and parameters: {'t': -8.220054184966315, 'step': -12.677652798024882, 'decay': -8.958191930814664}. Best is trial 276 with value: 0.0047876965841348275.\u001B[0m\n",
      "\u001B[32m[I 2022-06-01 03:22:52,093]\u001B[0m Trial 388 finished with value: 0.007709883187098343 and parameters: {'t': -2.2395000823273086, 'step': -11.970749354913432, 'decay': -8.62837249634164}. Best is trial 276 with value: 0.0047876965841348275.\u001B[0m\n",
      "\u001B[32m[I 2022-06-01 03:22:53,022]\u001B[0m Trial 389 finished with value: 0.06551651257305996 and parameters: {'t': -8.038186521268093, 'step': -12.322864978393838, 'decay': -8.679972210817938}. Best is trial 276 with value: 0.0047876965841348275.\u001B[0m\n",
      "\u001B[32m[I 2022-06-01 03:22:53,040]\u001B[0m Trial 390 finished with value: 0.9999783069435549 and parameters: {'t': -7.088553423700099, 'step': -14.805125691637622, 'decay': -8.481874790724527}. Best is trial 276 with value: 0.0047876965841348275.\u001B[0m\n",
      "\u001B[32m[I 2022-06-01 03:22:54,180]\u001B[0m Trial 391 finished with value: 0.005020916695873763 and parameters: {'t': -1.4662744664199394, 'step': -11.99650795171295, 'decay': -8.768555270754613}. Best is trial 276 with value: 0.0047876965841348275.\u001B[0m\n",
      "\u001B[32m[I 2022-06-01 03:22:55,764]\u001B[0m Trial 392 finished with value: 0.015407437140792781 and parameters: {'t': -0.361851000136316, 'step': -12.959670659264955, 'decay': -8.851703724215232}. Best is trial 276 with value: 0.0047876965841348275.\u001B[0m\n",
      "\u001B[32m[I 2022-06-01 03:22:56,995]\u001B[0m Trial 393 finished with value: 0.0058130454892829485 and parameters: {'t': -1.7721710231665426, 'step': -12.322212412800791, 'decay': -7.1233952262571405}. Best is trial 276 with value: 0.0047876965841348275.\u001B[0m\n",
      "\u001B[32m[I 2022-06-01 03:22:58,308]\u001B[0m Trial 394 finished with value: 0.008529431821465011 and parameters: {'t': -8.303309431280482, 'step': -12.51662503065324, 'decay': -7.184587045968932}. Best is trial 276 with value: 0.0047876965841348275.\u001B[0m\n",
      "\u001B[32m[I 2022-06-01 03:23:00,419]\u001B[0m Trial 395 finished with value: 0.006397192284008276 and parameters: {'t': -1.4689022536886245, 'step': -12.022434525119548, 'decay': -7.239218611628338}. Best is trial 276 with value: 0.0047876965841348275.\u001B[0m\n",
      "\u001B[32m[I 2022-06-01 03:23:01,701]\u001B[0m Trial 396 finished with value: 0.010637370718482466 and parameters: {'t': -1.7728468968124727, 'step': -12.71279995635861, 'decay': -7.027933294905379}. Best is trial 276 with value: 0.0047876965841348275.\u001B[0m\n",
      "\u001B[32m[I 2022-06-01 03:23:02,645]\u001B[0m Trial 397 finished with value: 0.005803638758623465 and parameters: {'t': -1.4217803570550505, 'step': -12.323077109273902, 'decay': -6.868533126983994}. Best is trial 276 with value: 0.0047876965841348275.\u001B[0m\n",
      "\u001B[32m[I 2022-06-01 03:23:04,183]\u001B[0m Trial 398 finished with value: 0.14822251086739696 and parameters: {'t': -0.8701710160404452, 'step': -15.716760825727278, 'decay': -6.988695506786219}. Best is trial 276 with value: 0.0047876965841348275.\u001B[0m\n",
      "\u001B[32m[I 2022-06-01 03:23:04,218]\u001B[0m Trial 399 finished with value: 1.0 and parameters: {'t': -0.6621809002322651, 'step': -11.638480139982589, 'decay': -6.781110938391854}. Best is trial 276 with value: 0.0047876965841348275.\u001B[0m\n"
     ]
    },
    {
     "data": {
      "text/plain": "{'t': -7.527538086010667,\n 'step': -11.473461838790142,\n 'decay': -7.683727655161845}"
     },
     "execution_count": 14,
     "metadata": {},
     "output_type": "execute_result"
    }
   ],
   "source": [
    "study = optuna.create_study()\n",
    "\n",
    "def objective(trial: optuna.Trial) -> float:\n",
    "    t_log = trial.suggest_uniform(\"t\", -9, 0)\n",
    "    step_log = trial.suggest_uniform(\"step\", -20, -5)\n",
    "    decay_log = trial.suggest_uniform(\"decay\", -9, 0)\n",
    "\n",
    "    model = SmapeSgd(x_train, y_train, math.exp(t_log), math.exp(step_log), math.exp(decay_log))\n",
    "    y_pred = model.predict(x_test)\n",
    "    error = smape(y_test, y_pred)\n",
    "    return error\n",
    "\n",
    "study.optimize(objective, n_trials=400)\n",
    "smape_sgd_params = study.best_params\n",
    "smape_sgd_params"
   ],
   "metadata": {
    "collapsed": false,
    "pycharm": {
     "name": "#%%\n"
    }
   }
  },
  {
   "cell_type": "markdown",
   "source": [
    "## Тестирование"
   ],
   "metadata": {
    "collapsed": false,
    "pycharm": {
     "name": "#%% md\n"
    }
   }
  },
  {
   "cell_type": "markdown",
   "source": [
    "### МНК smape и mse от параметра регуляризации"
   ],
   "metadata": {
    "collapsed": false,
    "pycharm": {
     "name": "#%% md\n"
    }
   }
  },
  {
   "cell_type": "code",
   "execution_count": 11,
   "outputs": [
    {
     "data": {
      "text/plain": "[<matplotlib.lines.Line2D at 0x123455730>]"
     },
     "execution_count": 11,
     "metadata": {},
     "output_type": "execute_result"
    },
    {
     "data": {
      "text/plain": "<Figure size 432x288 with 2 Axes>",
      "image/png": "[encoded data removed]"
     },
     "metadata": {
      "needs_background": "light"
     },
     "output_type": "display_data"
    }
   ],
   "source": [
    "t_range = np.linspace(0, 0.1, num=100)\n",
    "smape_loss = []\n",
    "mse_loss = []\n",
    "\n",
    "for t1 in t_range:\n",
    "    model = Lsm(x_train, y_train, t=t1)\n",
    "    y_pred = model.predict(x_test)\n",
    "    smape_loss.append(smape(y_test, y_pred))\n",
    "    mse_loss.append(mse(y_test, y_pred))\n",
    "\n",
    "fig, (ax1, ax2) = plt.subplots(1, 2)\n",
    "ax1.plot(t_range, smape_loss)\n",
    "ax2.plot(t_range, mse_loss)"
   ],
   "metadata": {
    "collapsed": false,
    "pycharm": {
     "name": "#%%\n"
    }
   }
  },
  {
   "cell_type": "markdown",
   "source": [
    "#### Экспоненциальные скользящее среднее эмпирического риска для градиентных спусков"
   ],
   "metadata": {
    "collapsed": false,
    "pycharm": {
     "name": "#%% md\n"
    }
   }
  },
  {
   "cell_type": "code",
   "execution_count": 15,
   "outputs": [
    {
     "data": {
      "text/plain": "[<matplotlib.lines.Line2D at 0x1237a03a0>]"
     },
     "execution_count": 15,
     "metadata": {},
     "output_type": "execute_result"
    },
    {
     "data": {
      "text/plain": "<Figure size 432x288 with 2 Axes>",
      "image/png": "[encoded data removed]"
     },
     "metadata": {
      "needs_background": "light"
     },
     "output_type": "display_data"
    }
   ],
   "source": [
    "mse_sgd_ma_q = MseSgd(\n",
    "    x_train,\n",
    "    y_train,\n",
    "    t=math.exp(mse_sgd_params[\"t\"]),\n",
    "    step=math.exp(mse_sgd_params[\"step\"]),\n",
    "    decay=math.exp(mse_sgd_params[\"decay\"]),\n",
    ").ma_q\n",
    "\n",
    "smape_sgd_ma_q = SmapeSgd(\n",
    "    x_train,\n",
    "    y_train,\n",
    "    t=math.exp(smape_sgd_params[\"t\"]),\n",
    "    step=math.exp(smape_sgd_params[\"step\"]),\n",
    "    decay=math.exp(smape_sgd_params[\"decay\"]),\n",
    ").ma_q\n",
    "\n",
    "_, (ax1, ax2) = plt.subplots(1, 2)\n",
    "ax1.plot(mse_sgd_ma_q)\n",
    "ax2.plot(smape_sgd_ma_q)"
   ],
   "metadata": {
    "collapsed": false,
    "pycharm": {
     "name": "#%%\n"
    }
   }
  },
  {
   "cell_type": "markdown",
   "source": [
    "#### Оценка методов с помощью NRMSE и SMAPE"
   ],
   "metadata": {
    "collapsed": false,
    "pycharm": {
     "name": "#%% md\n"
    }
   }
  },
  {
   "cell_type": "code",
   "execution_count": 16,
   "outputs": [
    {
     "name": "stdout",
     "output_type": "stream",
     "text": [
      "NRMSE:\n",
      "lsm: 1.2432354632529975e-05\n",
      "mse_sgd: 6.40629031499116e-05\n",
      "smape_sgd: 0.0054685682331368874\n",
      "\n",
      "SMAPE:\n",
      "lsm: 0.003915432396143035\n",
      "mse_sgd: 0.003960181743286863\n",
      "smape_sgd: 0.008304207962574939\n",
      "\n"
     ]
    }
   ],
   "source": [
    "lsm_model = Lsm(\n",
    "    x_train,\n",
    "    y_train,\n",
    "    t=math.exp(mse_lsm_params[\"t\"])\n",
    ")\n",
    "mse_sgd = MseSgd(\n",
    "    x_train,\n",
    "    y_train,\n",
    "    t=math.exp(mse_sgd_params[\"t\"]),\n",
    "    step=math.exp(mse_sgd_params[\"step\"]),\n",
    "    decay=math.exp(mse_sgd_params[\"decay\"]),\n",
    ")\n",
    "smape_sgd = SmapeSgd(\n",
    "    x_train,\n",
    "    y_train,\n",
    "    t=math.exp(smape_sgd_params[\"t\"]),\n",
    "    step=math.exp(smape_sgd_params[\"step\"]),\n",
    "    decay=math.exp(smape_sgd_params[\"decay\"]),\n",
    ")\n",
    "\n",
    "y_pred_lsm = lsm_model.predict(x_test)\n",
    "y_pred_mse_sgd = mse_sgd.predict(x_test)\n",
    "y_pred_smape_sgd = smape_sgd.predict(x_test)\n",
    "\n",
    "lsm_nrmse = nrmse(y_test, y_pred_lsm)\n",
    "mse_sgd_nrmse = nrmse(y_test, y_pred_mse_sgd)\n",
    "smape_sgd_nrmse = nrmse(y_test, y_pred_smape_sgd)\n",
    "print(f\"NRMSE:\\nlsm: {lsm_nrmse}\\nmse_sgd: {mse_sgd_nrmse}\\nsmape_sgd: {smape_sgd_nrmse}\\n\")\n",
    "\n",
    "lsm_smape = smape(y_test, y_pred_lsm)\n",
    "mse_sgd_smape = smape(y_test, y_pred_mse_sgd)\n",
    "smape_sgd_smape = smape(y_test, y_pred_smape_sgd)\n",
    "print(f\"SMAPE:\\nlsm: {lsm_smape}\\nmse_sgd: {mse_sgd_smape}\\nsmape_sgd: {smape_sgd_smape}\\n\")"
   ],
   "metadata": {
    "collapsed": false,
    "pycharm": {
     "name": "#%%\n"
    }
   }
  },
  {
   "cell_type": "code",
   "execution_count": 13,
   "outputs": [],
   "source": [],
   "metadata": {
    "collapsed": false,
    "pycharm": {
     "name": "#%%\n"
    }
   }
  }
 ],
 "metadata": {
  "kernelspec": {
   "display_name": "Python 3",
   "language": "python",
   "name": "python3"
  },
  "language_info": {
   "codemirror_mode": {
    "name": "ipython",
    "version": 2
   },
   "file_extension": ".py",
   "mimetype": "text/x-python",
   "name": "python",
   "nbconvert_exporter": "python",
   "pygments_lexer": "ipython2",
   "version": "2.7.6"
  }
 },
 "nbformat": 4,
 "nbformat_minor": 0
}