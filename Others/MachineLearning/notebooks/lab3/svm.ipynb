{
 "cells": [
  {
   "cell_type": "code",
   "execution_count": 13,
   "metadata": {
    "collapsed": true
   },
   "outputs": [],
   "source": [
    "import math\n",
    "import numpy as np\n",
    "from typing import Callable\n",
    "from matplotlib import pyplot as plt\n",
    "from tqdm.notebook import tqdm\n",
    "from random import randint\n",
    "import pandas as pd"
   ]
  },
  {
   "cell_type": "code",
   "execution_count": 14,
   "outputs": [
    {
     "data": {
      "text/plain": "   x    y class\n0  1  4.4     N\n1  1  3.9     N\n2  1  4.0     P\n3  1  4.0     N\n4  1  3.5     N",
      "text/html": "<div>\n<style scoped>\n    .dataframe tbody tr th:only-of-type {\n        vertical-align: middle;\n    }\n\n    .dataframe tbody tr th {\n        vertical-align: top;\n    }\n\n    .dataframe thead th {\n        text-align: right;\n    }\n</style>\n<table border=\"1\" class=\"dataframe\">\n  <thead>\n    <tr style=\"text-align: right;\">\n      <th></th>\n      <th>x</th>\n      <th>y</th>\n      <th>class</th>\n    </tr>\n  </thead>\n  <tbody>\n    <tr>\n      <th>0</th>\n      <td>1</td>\n      <td>4.4</td>\n      <td>N</td>\n    </tr>\n    <tr>\n      <th>1</th>\n      <td>1</td>\n      <td>3.9</td>\n      <td>N</td>\n    </tr>\n    <tr>\n      <th>2</th>\n      <td>1</td>\n      <td>4.0</td>\n      <td>P</td>\n    </tr>\n    <tr>\n      <th>3</th>\n      <td>1</td>\n      <td>4.0</td>\n      <td>N</td>\n    </tr>\n    <tr>\n      <th>4</th>\n      <td>1</td>\n      <td>3.5</td>\n      <td>N</td>\n    </tr>\n  </tbody>\n</table>\n</div>"
     },
     "execution_count": 14,
     "metadata": {},
     "output_type": "execute_result"
    }
   ],
   "source": [
    "dir_name = \"/Users/alv.popov/study/ml/data/lab3/\"\n",
    "\n",
    "data1 = pd.read_csv(dir_name + \"geyser.csv\")\n",
    "data2 = pd.read_csv(dir_name + \"chips.csv\")\n",
    "\n",
    "data1.head()"
   ],
   "metadata": {
    "collapsed": false,
    "pycharm": {
     "name": "#%%\n"
    }
   }
  },
  {
   "cell_type": "code",
   "execution_count": 15,
   "outputs": [
    {
     "data": {
      "text/plain": "     x         y class  c\n0  0.0  0.771429     N -1\n1  0.0  0.628571     N -1\n2  0.0  0.657143     P  1\n3  0.0  0.657143     N -1\n4  0.0  0.514286     N -1",
      "text/html": "<div>\n<style scoped>\n    .dataframe tbody tr th:only-of-type {\n        vertical-align: middle;\n    }\n\n    .dataframe tbody tr th {\n        vertical-align: top;\n    }\n\n    .dataframe thead th {\n        text-align: right;\n    }\n</style>\n<table border=\"1\" class=\"dataframe\">\n  <thead>\n    <tr style=\"text-align: right;\">\n      <th></th>\n      <th>x</th>\n      <th>y</th>\n      <th>class</th>\n      <th>c</th>\n    </tr>\n  </thead>\n  <tbody>\n    <tr>\n      <th>0</th>\n      <td>0.0</td>\n      <td>0.771429</td>\n      <td>N</td>\n      <td>-1</td>\n    </tr>\n    <tr>\n      <th>1</th>\n      <td>0.0</td>\n      <td>0.628571</td>\n      <td>N</td>\n      <td>-1</td>\n    </tr>\n    <tr>\n      <th>2</th>\n      <td>0.0</td>\n      <td>0.657143</td>\n      <td>P</td>\n      <td>1</td>\n    </tr>\n    <tr>\n      <th>3</th>\n      <td>0.0</td>\n      <td>0.657143</td>\n      <td>N</td>\n      <td>-1</td>\n    </tr>\n    <tr>\n      <th>4</th>\n      <td>0.0</td>\n      <td>0.514286</td>\n      <td>N</td>\n      <td>-1</td>\n    </tr>\n  </tbody>\n</table>\n</div>"
     },
     "execution_count": 15,
     "metadata": {},
     "output_type": "execute_result"
    }
   ],
   "source": [
    "def normalize(row):\n",
    "    mn, mx = min(row), max(row)\n",
    "    if mn == mx:\n",
    "        return np.zeros(len(row))\n",
    "    return (np.array(row) - mn) / (mx - mn)\n",
    "\n",
    "data1['x'] = normalize(data1['x'])\n",
    "data1['y'] = normalize(data1['y'])\n",
    "data1['c'] = data1['class'].apply(lambda c: 1 if c == 'P' else -1)\n",
    "\n",
    "data2['x'] = normalize(data2['x'])\n",
    "data2['y'] = normalize(data2['y'])\n",
    "data2['c'] = data2['class'].apply(lambda c: 1 if c == 'P' else -1)\n",
    "\n",
    "data1.head()"
   ],
   "metadata": {
    "collapsed": false,
    "pycharm": {
     "name": "#%%\n"
    }
   }
  },
  {
   "cell_type": "code",
   "execution_count": 16,
   "outputs": [],
   "source": [
    "# набор гиперпараметров для оптимизации\n",
    "p_range = np.linspace(2, 5, 4)\n",
    "b_range = np.linspace(1, 5, 5)\n",
    "c_range = [0.05, 0.1, 0.5, 1.0, 5.0, 10.0, 50.0, 100.0]"
   ],
   "metadata": {
    "collapsed": false,
    "pycharm": {
     "name": "#%%\n"
    }
   }
  },
  {
   "cell_type": "markdown",
   "source": [
    "### SVM"
   ],
   "metadata": {
    "collapsed": false,
    "pycharm": {
     "name": "#%% md\n"
    }
   }
  },
  {
   "cell_type": "code",
   "execution_count": 48,
   "outputs": [],
   "source": [
    "class Svm:\n",
    "    def __init__(\n",
    "        self,\n",
    "        kernel: Callable[[np.ndarray, np.ndarray], float],\n",
    "        c: float,\n",
    "        tol: float = 1e-4,\n",
    "        limit: int = 2000,\n",
    "    ):\n",
    "        self.kernel = kernel\n",
    "        self.c = c\n",
    "        self.limit = limit\n",
    "        self.tol = tol\n",
    "\n",
    "        self.x = None\n",
    "        self.y = None\n",
    "        self.a = None\n",
    "        self.b = None\n",
    "\n",
    "    def fit(\n",
    "        self,\n",
    "        x: np.ndarray,\n",
    "        y: np.ndarray,\n",
    "    ):\n",
    "        self.x = x\n",
    "        self.y = y\n",
    "        n, m = x.shape\n",
    "\n",
    "        self.a = np.zeros(n)\n",
    "        self.b = 0\n",
    "\n",
    "        for _ in range(self.limit):\n",
    "            old = self.a.copy()\n",
    "\n",
    "            for i in range(n):\n",
    "                ei = self.predict_float(x[i]) - y[i]\n",
    "                if (y[i] * ei < -self.tol and self.a[i] < self.c) or (y[i] * ei > self.tol and self.a[i] > 0):\n",
    "                    while True:\n",
    "                        j = randint(0, n - 1)\n",
    "                        if j != i:\n",
    "                            break\n",
    "\n",
    "                    ej = self.predict_float(x[j]) - y[j]\n",
    "                    ai, aj = self.a[i], self.a[j]\n",
    "\n",
    "                    if y[i] == y[j]:\n",
    "                        L = max(0, ai + aj - self.c)\n",
    "                        H = min(self.c, ai + aj)\n",
    "                    else:\n",
    "                        L = max(0, aj - ai)\n",
    "                        H = min(self.c, self.c + aj - ai)\n",
    "                    if L == H:\n",
    "                        continue\n",
    "\n",
    "                    mu = 2 * self.kernel(x[i], x[j]) - self.kernel(x[i], x[i]) - self.kernel(x[j], x[j])\n",
    "                    if mu >= 0:\n",
    "                        continue\n",
    "\n",
    "                    self.a[j] = min(H, max(L, self.a[j] - y[j] * (ei - ej) / mu))\n",
    "                    if abs(aj - self.a[j]) < 1e-5:\n",
    "                        continue\n",
    "\n",
    "                    self.a[i] += y[i] * y[j] * (aj - self.a[j])\n",
    "\n",
    "                    b1 = self.b - ei - y[i] * (self.a[i] - ai) * self.kernel(x[i], x[i]) - y[j] * (self.a[j] - aj) * self.kernel(x[i], x[j])\n",
    "                    b2 = self.b - ej - y[i] * (self.a[i] - ai) * self.kernel(x[i], x[j]) - y[j] * (self.a[j] - aj) * self.kernel(x[j], x[j])\n",
    "\n",
    "                    if 0 < self.a[i] < self.c:\n",
    "                        self.b = b1\n",
    "                    elif 0 < self.a[j] < self.c:\n",
    "                        self.b = b2\n",
    "                    else:\n",
    "                        self.b = (b1 + b2) / 2\n",
    "\n",
    "            if np.sqrt(sum(old - self.a)**2) < self.tol:\n",
    "                break\n",
    "\n",
    "        return self\n",
    "\n",
    "    def predict_float(self, x: np.ndarray) -> int:\n",
    "        wx = sum([ai * yi * self.kernel(xi, x) for ai, xi, yi in zip(self.a, self.x, self.y)])\n",
    "        return wx + self.b\n",
    "\n",
    "    def predict(self, x: np.ndarray) -> int:\n",
    "        return np.sign(self.predict_float(x))"
   ],
   "metadata": {
    "collapsed": false,
    "pycharm": {
     "name": "#%%\n"
    }
   }
  },
  {
   "cell_type": "code",
   "execution_count": 38,
   "outputs": [],
   "source": [
    "def linear(x1: np.ndarray, x2: np.ndarray) -> float:\n",
    "    return x1 @ x2\n",
    "\n",
    "def polynomial(x1: np.ndarray, x2: np.ndarray, p: int = 1) -> float:\n",
    "    return (1 + x1 @ x2) ** p\n",
    "\n",
    "def gauss(x1: np.ndarray, x2: np.ndarray, b: float) -> float:\n",
    "    return math.exp(-b * sum((x1 - x2)**2))\n",
    "\n",
    "\n",
    "def get_p_polynomial(p: int) -> Callable[[np.ndarray, np.ndarray], float]:\n",
    "    return lambda x1, x2: polynomial(x1, x2, p)\n",
    "\n",
    "def get_b_gauss(b: float) -> Callable[[np.ndarray, np.ndarray], float]:\n",
    "    return lambda x1, x2: gauss(x1, x2, b)"
   ],
   "metadata": {
    "collapsed": false,
    "pycharm": {
     "name": "#%%\n"
    }
   }
  },
  {
   "cell_type": "markdown",
   "source": [
    "### Настройка"
   ],
   "metadata": {
    "collapsed": false,
    "pycharm": {
     "name": "#%% md\n"
    }
   }
  },
  {
   "cell_type": "code",
   "execution_count": 39,
   "outputs": [],
   "source": [
    "def accuracy(y_pred: np.ndarray, y_test: np.ndarray) -> float:\n",
    "    return np.count_nonzero(y_pred == y_test) / len(y_pred)\n",
    "\n",
    "def cross_validate(model: Callable[[np.ndarray, np.ndarray], Svm], x: np.ndarray, y: np.ndarray, k : int = 3) -> float:\n",
    "    x_chunks = np.array_split(x, k)\n",
    "    y_chunks = np.array_split(y, k)\n",
    "    acc = 0\n",
    "    for i in range(k):\n",
    "        x_train, y_train = np.concatenate(x_chunks[:i] + x_chunks[i + 1:]), np.concatenate(y_chunks[:i] + y_chunks[i + 1:])\n",
    "        x_test, y_test = x_chunks[i], y_chunks[i]\n",
    "\n",
    "        trained_model = model(x_train, y_train)\n",
    "        y_pred = np.array(list(map(lambda x_t: trained_model.predict(x_t), x_test)))\n",
    "        acc += accuracy(y_pred, y_test)\n",
    "\n",
    "    acc /= k\n",
    "    return acc\n",
    "\n",
    "def optimize_linear(x: np.ndarray, y: np.ndarray) -> object:\n",
    "    best_trial = None\n",
    "    for c in c_range:\n",
    "        model_supplier = lambda x, y: Svm(linear, c).fit(x, y)\n",
    "        acc = cross_validate(model_supplier, x, y)\n",
    "        if best_trial is None or acc > best_trial['acc']:\n",
    "            best_trial = { 'acc': acc, 'params': { 'c': c } }\n",
    "    return best_trial\n",
    "\n",
    "def optimize_polynomial(x: np.ndarray, y: np.ndarray) -> object:\n",
    "    best_trial = None\n",
    "    for p in p_range:\n",
    "        kernel = get_p_polynomial(p)\n",
    "\n",
    "        for c in c_range:\n",
    "            model_supplier = lambda x, y: Svm(kernel, c).fit(x, y)\n",
    "            acc = cross_validate(model_supplier, x, y)\n",
    "            if best_trial is None or acc > best_trial['acc']:\n",
    "                best_trial = { 'acc': acc, 'params': { 'c': c, 'p': p } }\n",
    "\n",
    "    return best_trial\n",
    "\n",
    "def optimize_gauss(x: np.ndarray, y: np.ndarray) -> object:\n",
    "    best_trial = None\n",
    "    for b in b_range:\n",
    "        kernel = get_b_gauss(b)\n",
    "\n",
    "        for c in c_range:\n",
    "            model_supplier = lambda x, y: Svm(kernel, c).fit(x, y)\n",
    "            acc = cross_validate(model_supplier, x, y)\n",
    "            if best_trial is None or acc > best_trial['acc']:\n",
    "                best_trial = { 'acc': acc, 'params': { 'c': c, 'b': b } }\n",
    "\n",
    "    return best_trial"
   ],
   "metadata": {
    "collapsed": false,
    "pycharm": {
     "name": "#%%\n"
    }
   }
  },
  {
   "cell_type": "code",
   "execution_count": 47,
   "outputs": [],
   "source": [
    "# params = [[None for _ in range(3)] for _ in range(2)]"
   ],
   "metadata": {
    "collapsed": false,
    "pycharm": {
     "name": "#%%\n"
    }
   }
  },
  {
   "cell_type": "code",
   "execution_count": 51,
   "outputs": [
    {
     "name": "stdout",
     "output_type": "stream",
     "text": [
      "Geyser dataset\n",
      "Linear:  {'acc': 0.9054054054054054, 'params': {'c': 5.0}}\n",
      "Polynomial:  {'acc': 0.9099099099099099, 'params': {'c': 1.0, 'p': 2.0}}\n",
      "Gauss:  {'acc': 0.9054054054054054, 'params': {'c': 1.0, 'b': 1.0}}\n",
      "\n",
      "Chips dataset\n",
      "Linear:  {'acc': 0.358974358974359, 'params': {'c': 1.0}}\n",
      "Polynomial:  {'acc': 0.46666666666666673, 'params': {'c': 50.0, 'p': 4.0}}\n",
      "Gauss:  {'acc': 0.4831196581196581, 'params': {'c': 50.0, 'b': 2.0}}\n"
     ]
    }
   ],
   "source": [
    "print('Geyser dataset')\n",
    "x = data1[['x', 'y']].to_numpy()\n",
    "y = data1['c'].to_numpy()\n",
    "\n",
    "if not params[0][0]:\n",
    "    params[0][0] = optimize_linear(x, y)\n",
    "print('Linear: ', params[0][0])\n",
    "\n",
    "if not params[0][1]:\n",
    "    params[0][1] = optimize_polynomial(x, y)\n",
    "print('Polynomial: ', params[0][1])\n",
    "\n",
    "if not params[0][2]:\n",
    "    params[0][2] = optimize_gauss(x, y)\n",
    "print('Gauss: ', params[0][2])\n",
    "\n",
    "\n",
    "print('\\nChips dataset')\n",
    "x = data2[['x', 'y']].to_numpy()\n",
    "y = data2['c'].to_numpy()\n",
    "\n",
    "if not params[1][0]:\n",
    "    params[1][0] = optimize_linear(x, y)\n",
    "print('Linear: ', params[1][0])\n",
    "\n",
    "if not params[1][1]:\n",
    "    params[1][1] = optimize_polynomial(x, y)\n",
    "print('Polynomial: ', params[1][1])\n",
    "\n",
    "if not params[1][2]:\n",
    "    params[1][2] = optimize_gauss(x, y)\n",
    "print('Gauss: ', params[1][2])"
   ],
   "metadata": {
    "collapsed": false,
    "pycharm": {
     "name": "#%%\n"
    }
   }
  },
  {
   "cell_type": "markdown",
   "source": [
    "### Анализ"
   ],
   "metadata": {
    "collapsed": false,
    "pycharm": {
     "name": "#%% md\n"
    }
   }
  },
  {
   "cell_type": "code",
   "execution_count": 45,
   "outputs": [
    {
     "data": {
      "text/plain": "<matplotlib.collections.PathCollection at 0x11d4dfd00>"
     },
     "execution_count": 45,
     "metadata": {},
     "output_type": "execute_result"
    },
    {
     "data": {
      "text/plain": "<Figure size 1296x360 with 3 Axes>",
      "image/png": "[encoded data removed]"
     },
     "metadata": {
      "needs_background": "light"
     },
     "output_type": "display_data"
    }
   ],
   "source": [
    "from matplotlib import ticker\n",
    "\n",
    "# geyser\n",
    "\n",
    "details = 100\n",
    "\n",
    "_, (ax1, ax2, ax3) = plt.subplots(1, 3, figsize=(18, 5))\n",
    "\n",
    "x = data1[['x', 'y']].to_numpy()\n",
    "y = data1['c'].to_numpy()\n",
    "\n",
    "linear_model = Svm(\n",
    "    kernel=linear,\n",
    "    c=params[0][0]['params']['c']\n",
    ").fit(x, y)\n",
    "\n",
    "polynomial_model = Svm(\n",
    "    get_p_polynomial(params[0][1]['params']['p']),\n",
    "    params[0][1]['params']['c']\n",
    ").fit(x, y)\n",
    "\n",
    "gaussian_model = Svm(\n",
    "    get_b_gauss(params[0][2]['params']['b']),\n",
    "    params[0][2]['params']['c']\n",
    ").fit(x, y)\n",
    "\n",
    "x_range = np.linspace(0, 1, details)\n",
    "y_range = np.linspace(0, 1, details)\n",
    "X, Y = np.meshgrid(x_range, y_range)\n",
    "z1 = np.zeros((details, details))\n",
    "z2 = np.zeros((details, details))\n",
    "z3 = np.zeros((details, details))\n",
    "for i in range(details):\n",
    "    for j in range(details):\n",
    "        z1[i][j] = linear_model.predict(np.array([X[i][j], Y[i][j]]))\n",
    "        z2[i][j] = polynomial_model.predict(np.array([X[i][j], Y[i][j]]))\n",
    "        z3[i][j] = gaussian_model.predict(np.array([X[i][j], Y[i][j]]))\n",
    "\n",
    "ax1.contourf(X, Y, z1, locator = ticker.MultipleLocator(), cmap=\"bone\")\n",
    "ax2.contourf(X, Y, z2, locator = ticker.MultipleLocator(), cmap=\"bone\")\n",
    "ax3.contourf(X, Y, z3, locator = ticker.MultipleLocator(), cmap=\"bone\")\n",
    "\n",
    "data1['color'] = data1['class'].apply(lambda c1: 'green' if c1 == 'P' else 'red')\n",
    "ax1.scatter(data=data1, x='x', y='y', color='color', marker=2)\n",
    "ax2.scatter(data=data1, x='x', y='y', color='color', marker=2)\n",
    "ax3.scatter(data=data1, x='x', y='y', color='color', marker=2)"
   ],
   "metadata": {
    "collapsed": false,
    "pycharm": {
     "name": "#%%\n"
    }
   }
  },
  {
   "cell_type": "code",
   "execution_count": 50,
   "outputs": [
    {
     "data": {
      "text/plain": "<matplotlib.collections.PathCollection at 0x11d78afd0>"
     },
     "execution_count": 50,
     "metadata": {},
     "output_type": "execute_result"
    },
    {
     "data": {
      "text/plain": "<Figure size 1296x360 with 3 Axes>",
      "image/png": "[encoded data removed]"
     },
     "metadata": {
      "needs_background": "light"
     },
     "output_type": "display_data"
    }
   ],
   "source": [
    "# chips\n",
    "\n",
    "details = 100\n",
    "\n",
    "_, (ax1, ax2, ax3) = plt.subplots(1, 3, figsize=(18, 5))\n",
    "\n",
    "x = data2[['x', 'y']].to_numpy()\n",
    "y = data2['c'].to_numpy()\n",
    "\n",
    "linear_model = Svm(\n",
    "    kernel=linear,\n",
    "    c=params[1][0]['params']['c']\n",
    ").fit(x, y)\n",
    "\n",
    "polynomial_model = Svm(\n",
    "    get_p_polynomial(params[1][1]['params']['p']),\n",
    "    params[1][1]['params']['c']\n",
    ").fit(x, y)\n",
    "\n",
    "gaussian_model = Svm(\n",
    "    get_b_gauss(params[1][2]['params']['b']),\n",
    "    params[1][2]['params']['c']\n",
    ").fit(x, y)\n",
    "\n",
    "x_range = np.linspace(0, 1, details)\n",
    "y_range = np.linspace(0, 1, details)\n",
    "X, Y = np.meshgrid(x_range, y_range)\n",
    "z1 = np.zeros((details, details))\n",
    "z2 = np.zeros((details, details))\n",
    "z3 = np.zeros((details, details))\n",
    "for i in range(details):\n",
    "    for j in range(details):\n",
    "        z1[i][j] = linear_model.predict(np.array([X[i][j], Y[i][j]]))\n",
    "        z2[i][j] = polynomial_model.predict(np.array([X[i][j], Y[i][j]]))\n",
    "        z3[i][j] = gaussian_model.predict(np.array([X[i][j], Y[i][j]]))\n",
    "\n",
    "ax1.contourf(X, Y, z1, locator = ticker.MultipleLocator(), cmap=\"bone\")\n",
    "ax2.contourf(X, Y, z2, locator = ticker.MultipleLocator(), cmap=\"bone\")\n",
    "ax3.contourf(X, Y, z3, locator = ticker.MultipleLocator(), cmap=\"bone\")\n",
    "\n",
    "data2['color'] = data2['class'].apply(lambda c1: 'green' if c1 == 'P' else 'red')\n",
    "ax1.scatter(data=data2, x='x', y='y', color='color', marker=2)\n",
    "ax2.scatter(data=data2, x='x', y='y', color='color', marker=2)\n",
    "ax3.scatter(data=data2, x='x', y='y', color='color', marker=2)"
   ],
   "metadata": {
    "collapsed": false,
    "pycharm": {
     "name": "#%%\n"
    }
   }
  },
  {
   "cell_type": "code",
   "execution_count": null,
   "outputs": [],
   "source": [],
   "metadata": {
    "collapsed": false,
    "pycharm": {
     "name": "#%%\n"
    }
   }
  }
 ],
 "metadata": {
  "kernelspec": {
   "display_name": "Python 3",
   "language": "python",
   "name": "python3"
  },
  "language_info": {
   "codemirror_mode": {
    "name": "ipython",
    "version": 2
   },
   "file_extension": ".py",
   "mimetype": "text/x-python",
   "name": "python",
   "nbconvert_exporter": "python",
   "pygments_lexer": "ipython2",
   "version": "2.7.6"
  }
 },
 "nbformat": 4,
 "nbformat_minor": 0
}