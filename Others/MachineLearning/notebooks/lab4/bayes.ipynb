{
 "cells": [
  {
   "cell_type": "code",
   "execution_count": 32,
   "metadata": {
    "collapsed": true
   },
   "outputs": [],
   "source": [
    "import numpy as np\n",
    "from typing import Callable\n",
    "from matplotlib import pyplot as plt\n",
    "from os import listdir\n",
    "import optuna\n",
    "from tqdm.notebook import tqdm"
   ]
  },
  {
   "cell_type": "code",
   "execution_count": 33,
   "outputs": [],
   "source": [
    "dir_name = '/Users/alv.popov/study/ml/data/lab4/messages'\n",
    "\n",
    "def read_file(filename) -> tuple[set, int]:\n",
    "    with open(filename) as f:\n",
    "        content = set(map(int, f.readline().split()[1:]))\n",
    "        f.readline()\n",
    "        content.update(map(int, f.readline().split()))\n",
    "        is_spam = int('spmsg' in filename)\n",
    "        return content, is_spam\n",
    "\n",
    "def read_part(dirname: str) -> tuple[np.ndarray, np.ndarray]:\n",
    "    x, y = [], []\n",
    "    for filename in listdir(dirname):\n",
    "        content, is_spam = read_file(f\"{dirname}/{filename}\")\n",
    "        x.append(content)\n",
    "        y.append(is_spam)\n",
    "    return np.array(x), np.array(y)\n",
    "\n",
    "def read_data(dirname: str) -> np.ndarray:\n",
    "    data = []\n",
    "    for part_dir in listdir(dirname):\n",
    "        data.append(read_part(f\"{dirname}/{part_dir}\"))\n",
    "    return np.array(data)\n",
    "\n",
    "def train_test_xy_split_data(data: np.ndarray, i: int) -> tuple[np.ndarray, np.ndarray, np.ndarray, np.ndarray]:\n",
    "    train, test = np.concatenate([data[:i], data[i + 1:]]), data[i]\n",
    "    return np.concatenate(train[:, 0]), np.concatenate(train[:, 1]), test[0], test[1]\n",
    "\n",
    "data = read_data(dir_name)"
   ],
   "metadata": {
    "collapsed": false,
    "pycharm": {
     "name": "#%%\n"
    }
   }
  },
  {
   "cell_type": "code",
   "execution_count": 34,
   "outputs": [],
   "source": [
    "class Bayes:\n",
    "    def __init__(self, n: int = None, alpha: float = 0, l=None):\n",
    "        if n is None and l is None:\n",
    "            raise Exception\n",
    "\n",
    "        if n is None:\n",
    "            n = len(l)\n",
    "\n",
    "        if l is None:\n",
    "            l = np.ones(n)\n",
    "\n",
    "        self.n = n\n",
    "        self.alpha = alpha\n",
    "        self.l = l\n",
    "        self.p_y = None\n",
    "        self.p_wy = None\n",
    "\n",
    "    def fit(self, x_train: np.ndarray, y_train: np.ndarray):\n",
    "        p_y = dict()\n",
    "        p_wy = dict()\n",
    "        all_words = set()\n",
    "\n",
    "        for w in x_train:\n",
    "            all_words.update(w)\n",
    "\n",
    "        for y in range(self.n):\n",
    "            p_y[y] = 0\n",
    "            p_wy[y] = dict()\n",
    "            for word in all_words:\n",
    "                p_wy[y][word] = 0\n",
    "\n",
    "        for y, words in zip(y_train, x_train):\n",
    "            p_y[y] += 1\n",
    "            for w in words:\n",
    "                p_wy[y][w] += 1\n",
    "\n",
    "        for y in p_wy.keys():\n",
    "            for w in p_wy[y].keys():\n",
    "                p_wy[y][w] = (p_wy[y][w] + self.alpha) / (p_y[y] + 2 * self.alpha)\n",
    "            p_y[y] /= n\n",
    "\n",
    "        self.p_y = p_y\n",
    "        self.p_wy = p_wy\n",
    "        return self\n",
    "\n",
    "    def get_probabilities(self, x: set) -> np.ndarray:\n",
    "        import math\n",
    "        p_pred = []\n",
    "\n",
    "        def safe_log(val: float) -> float:\n",
    "            if val == 0:\n",
    "                return -math.inf\n",
    "            else:\n",
    "                return math.log(val)\n",
    "\n",
    "        for y in range(self.n):\n",
    "            p = safe_log(self.l[y] * self.p_y[y])\n",
    "            for w in self.p_wy[y]:\n",
    "                if w in x:\n",
    "                    p += safe_log(self.p_wy[y][w])\n",
    "                else:\n",
    "                    p += safe_log(1 - self.p_wy[y][w])\n",
    "            p_pred.append(p)\n",
    "\n",
    "        p_pred_max = max(p_pred)\n",
    "        p_pred = list(map(lambda p: math.exp(p - p_pred_max), p_pred))\n",
    "        sum_p_pred = sum(p_pred)\n",
    "        p_pred = list(map(lambda p: p / sum_p_pred, p_pred))\n",
    "\n",
    "        return np.array(p_pred)\n",
    "\n",
    "    def predict1(self, x: set) -> int:\n",
    "        return int(np.argmax(self.get_probabilities(x)))\n",
    "\n",
    "    def predict(self, x: np.ndarray) -> np.ndarray:\n",
    "        return np.vectorize(self.predict1)(x)"
   ],
   "metadata": {
    "collapsed": false,
    "pycharm": {
     "name": "#%%\n"
    }
   }
  },
  {
   "cell_type": "code",
   "execution_count": 35,
   "outputs": [
    {
     "data": {
      "text/plain": "  0%|          | 0/3 [00:00<?, ?it/s]",
      "application/vnd.jupyter.widget-view+json": {
       "version_major": 2,
       "version_minor": 0,
       "model_id": "262e4ee1b2954b96b357b853dc45325a"
      }
     },
     "metadata": {},
     "output_type": "display_data"
    },
    {
     "data": {
      "text/plain": "  0%|          | 0/10 [00:00<?, ?it/s]",
      "application/vnd.jupyter.widget-view+json": {
       "version_major": 2,
       "version_minor": 0,
       "model_id": "a82fcc8a6c5946bcb5fa9da466beb3f9"
      }
     },
     "metadata": {},
     "output_type": "display_data"
    },
    {
     "data": {
      "text/plain": "  0%|          | 0/10 [00:00<?, ?it/s]",
      "application/vnd.jupyter.widget-view+json": {
       "version_major": 2,
       "version_minor": 0,
       "model_id": "2526e58ca2cc40f294c1238b8f20333d"
      }
     },
     "metadata": {},
     "output_type": "display_data"
    },
    {
     "data": {
      "text/plain": "  0%|          | 0/10 [00:00<?, ?it/s]",
      "application/vnd.jupyter.widget-view+json": {
       "version_major": 2,
       "version_minor": 0,
       "model_id": "5bc28331a6cf45b2878594a004901287"
      }
     },
     "metadata": {},
     "output_type": "display_data"
    },
    {
     "data": {
      "text/plain": "['n=1 alpha=0.0 probs=[1.]',\n 'n=1 alpha=0.011111111111111112 probs=[1.]',\n 'n=1 alpha=0.022222222222222223 probs=[1.]',\n 'n=1 alpha=0.03333333333333333 probs=[1.]',\n 'n=1 alpha=0.044444444444444446 probs=[1.]',\n 'n=1 alpha=0.05555555555555556 probs=[1.]',\n 'n=1 alpha=0.06666666666666667 probs=[1.]',\n 'n=1 alpha=0.07777777777777778 probs=[1.]',\n 'n=1 alpha=0.08888888888888889 probs=[1.]',\n 'n=1 alpha=0.1 probs=[1.]',\n 'n=2 alpha=0.0 probs=[1. 0.]',\n 'n=2 alpha=0.011111111111111112 probs=[9.99999887e-01 1.12651367e-07]',\n 'n=2 alpha=0.022222222222222223 probs=[4.53974796e-11 1.00000000e+00]',\n 'n=2 alpha=0.03333333333333333 probs=[0.92075416 0.07924584]',\n 'n=2 alpha=0.044444444444444446 probs=[1.00000000e+00 7.83249308e-54]',\n 'n=2 alpha=0.05555555555555556 probs=[0.95041488 0.04958512]',\n 'n=2 alpha=0.06666666666666667 probs=[5.73366424e-07 9.99999427e-01]',\n 'n=2 alpha=0.07777777777777778 probs=[9.99999992e-01 7.83853420e-09]',\n 'n=2 alpha=0.08888888888888889 probs=[9.99999948e-01 5.22137183e-08]',\n 'n=2 alpha=0.1 probs=[9.99999828e-01 1.71508158e-07]',\n 'n=3 alpha=0.0 probs=[0. 0. 1.]',\n 'n=3 alpha=0.011111111111111112 probs=[7.61870353e-41 1.30512381e-05 9.99986949e-01]',\n 'n=3 alpha=0.022222222222222223 probs=[4.15087275e-02 9.36916655e-35 9.58491273e-01]',\n 'n=3 alpha=0.03333333333333333 probs=[5.61230860e-36 9.99909603e-01 9.03966685e-05]',\n 'n=3 alpha=0.044444444444444446 probs=[1.00000000e+00 1.22293857e-50 4.05176407e-12]',\n 'n=3 alpha=0.05555555555555556 probs=[1.23027627e-23 5.95830067e-25 1.00000000e+00]',\n 'n=3 alpha=0.06666666666666667 probs=[6.39155195e-15 9.99998929e-01 1.07066662e-06]',\n 'n=3 alpha=0.07777777777777778 probs=[1.89042282e-38 3.76218454e-49 1.00000000e+00]',\n 'n=3 alpha=0.08888888888888889 probs=[4.43585481e-27 1.00000000e+00 7.30177171e-25]',\n 'n=3 alpha=0.1 probs=[2.83500762e-47 1.00000000e+00 3.46382028e-25]']"
     },
     "execution_count": 35,
     "metadata": {},
     "output_type": "execute_result"
    }
   ],
   "source": [
    "# проверим для n = 1..3\n",
    "log = []\n",
    "for n in tqdm(range(1, 4)):\n",
    "    for alpha in tqdm(np.linspace(0, 0.1, 10)):\n",
    "        x = np.concatenate(data[:, 0])\n",
    "        model = Bayes(n, alpha).fit(x, np.random.randint(0, n, len(x)))\n",
    "        probs = model.get_probabilities(x[0])\n",
    "        log.append(f\"n={n} alpha={alpha} probs={probs}\")\n",
    "\n",
    "log"
   ],
   "metadata": {
    "collapsed": false,
    "pycharm": {
     "name": "#%%\n"
    }
   }
  },
  {
   "cell_type": "code",
   "execution_count": 36,
   "outputs": [],
   "source": [
    "def accuracy(y_pred: np.ndarray, y_test: np.ndarray) -> float:\n",
    "    return np.count_nonzero(y_pred == y_test) / len(y_pred)\n",
    "\n",
    "def cross_validate(\n",
    "        model_supplier: Callable[[], Bayes],\n",
    "        loss_f: Callable[[np.ndarray, np.ndarray], float] = accuracy,\n",
    "        k: int = 10,\n",
    ") -> float:\n",
    "    acc = 0\n",
    "    for i in range(k):\n",
    "        x_train, y_train, x_test, y_test = train_test_xy_split_data(data, i)\n",
    "        y_pred = model_supplier().fit(x_train, y_train).predict(x_test)\n",
    "        acc += loss_f(y_pred, y_test)\n",
    "    return acc / k"
   ],
   "metadata": {
    "collapsed": false,
    "pycharm": {
     "name": "#%%\n"
    }
   }
  },
  {
   "cell_type": "code",
   "execution_count": 37,
   "outputs": [
    {
     "name": "stderr",
     "output_type": "stream",
     "text": [
      "\u001B[32m[I 2022-06-01 02:34:44,601]\u001B[0m A new study created in memory with name: no-name-35fb2c1a-a794-469f-a652-3cb65c44b819\u001B[0m\n",
      "/Users/alv.popov/study/ml/venv/lib/python3.9/site-packages/optuna/progress_bar.py:47: ExperimentalWarning: Progress bar is experimental (supported from v1.2.0). The interface can change in the future.\n",
      "  self._init_valid()\n"
     ]
    },
    {
     "data": {
      "text/plain": "  0%|          | 0/20 [00:00<?, ?it/s]",
      "application/vnd.jupyter.widget-view+json": {
       "version_major": 2,
       "version_minor": 0,
       "model_id": "d3eff28435c04a4e94521f6cbfd1f347"
      }
     },
     "metadata": {},
     "output_type": "display_data"
    },
    {
     "name": "stdout",
     "output_type": "stream",
     "text": [
      "\u001B[32m[I 2022-06-01 02:35:09,214]\u001B[0m Trial 0 finished with value: 0.9449541284403669 and parameters: {'alpha': 0.2690254401538307, 'l1': 0.42975621493568983, 'l2': 0.296732087065649}. Best is trial 0 with value: 0.9449541284403669.\u001B[0m\n",
      "\u001B[32m[I 2022-06-01 02:35:30,857]\u001B[0m Trial 1 finished with value: 0.9449541284403669 and parameters: {'alpha': 0.26706640633198886, 'l1': 0.7604508045261854, 'l2': 0.17110892861585691}. Best is trial 0 with value: 0.9449541284403669.\u001B[0m\n",
      "\u001B[32m[I 2022-06-01 02:35:53,366]\u001B[0m Trial 2 finished with value: 0.9394495412844037 and parameters: {'alpha': 0.3694006871068829, 'l1': 0.635481394321911, 'l2': 0.08572633694488252}. Best is trial 0 with value: 0.9449541284403669.\u001B[0m\n",
      "\u001B[32m[I 2022-06-01 02:36:17,014]\u001B[0m Trial 3 finished with value: 0.9201834862385322 and parameters: {'alpha': 0.9753270139182548, 'l1': 0.39193243735957994, 'l2': 0.8228037501679868}. Best is trial 0 with value: 0.9449541284403669.\u001B[0m\n",
      "\u001B[32m[I 2022-06-01 02:36:37,356]\u001B[0m Trial 4 finished with value: 0.9275229357798166 and parameters: {'alpha': 0.9659951148631724, 'l1': 0.027294825530611022, 'l2': 0.321871620049222}. Best is trial 0 with value: 0.9449541284403669.\u001B[0m\n",
      "\u001B[32m[I 2022-06-01 02:36:57,356]\u001B[0m Trial 5 finished with value: 0.9366972477064222 and parameters: {'alpha': 0.5626767199892768, 'l1': 0.40676284110813443, 'l2': 0.5201022283508513}. Best is trial 0 with value: 0.9449541284403669.\u001B[0m\n",
      "\u001B[32m[I 2022-06-01 02:37:17,333]\u001B[0m Trial 6 finished with value: 0.924770642201835 and parameters: {'alpha': 0.8479754989315518, 'l1': 0.6809007481782012, 'l2': 0.6264041375365467}. Best is trial 0 with value: 0.9449541284403669.\u001B[0m\n",
      "\u001B[32m[I 2022-06-01 02:37:37,703]\u001B[0m Trial 7 finished with value: 0.9467889908256881 and parameters: {'alpha': 0.12015809431987445, 'l1': 0.8870763557847466, 'l2': 0.03485609942585144}. Best is trial 7 with value: 0.9467889908256881.\u001B[0m\n",
      "\u001B[32m[I 2022-06-01 02:37:56,853]\u001B[0m Trial 8 finished with value: 0.9422018348623853 and parameters: {'alpha': 0.4071748710055053, 'l1': 0.8944485928910751, 'l2': 0.8049075126062273}. Best is trial 7 with value: 0.9467889908256881.\u001B[0m\n",
      "\u001B[32m[I 2022-06-01 02:38:21,043]\u001B[0m Trial 9 finished with value: 0.9220183486238532 and parameters: {'alpha': 0.8669612218795958, 'l1': 0.6736448290368942, 'l2': 0.4381048437630717}. Best is trial 7 with value: 0.9467889908256881.\u001B[0m\n",
      "\u001B[32m[I 2022-06-01 02:38:42,523]\u001B[0m Trial 10 finished with value: 0.9541284403669724 and parameters: {'alpha': 0.016683870189288408, 'l1': 0.8875200768226336, 'l2': 0.008025664261455786}. Best is trial 10 with value: 0.9541284403669724.\u001B[0m\n",
      "\u001B[32m[I 2022-06-01 02:39:03,986]\u001B[0m Trial 11 finished with value: 0.9541284403669724 and parameters: {'alpha': 0.008378632248037934, 'l1': 0.990498641943251, 'l2': 0.04628956513709237}. Best is trial 10 with value: 0.9541284403669724.\u001B[0m\n",
      "\u001B[32m[I 2022-06-01 02:39:25,991]\u001B[0m Trial 12 finished with value: 0.9513761467889907 and parameters: {'alpha': 0.05375330361844441, 'l1': 0.992820356256642, 'l2': 0.023198782625120408}. Best is trial 10 with value: 0.9541284403669724.\u001B[0m\n",
      "\u001B[32m[I 2022-06-01 02:39:47,318]\u001B[0m Trial 13 finished with value: 0.9559633027522935 and parameters: {'alpha': 0.005484748237229669, 'l1': 0.9851270483248334, 'l2': 0.2000703105431597}. Best is trial 13 with value: 0.9559633027522935.\u001B[0m\n",
      "\u001B[32m[I 2022-06-01 02:40:07,639]\u001B[0m Trial 14 finished with value: 0.9330275229357801 and parameters: {'alpha': 0.6317382334155633, 'l1': 0.2077234020496283, 'l2': 0.22501024653734047}. Best is trial 13 with value: 0.9559633027522935.\u001B[0m\n",
      "\u001B[32m[I 2022-06-01 02:40:25,829]\u001B[0m Trial 15 finished with value: 0.9522935779816513 and parameters: {'alpha': 0.15416172832987632, 'l1': 0.8118556456889128, 'l2': 0.9925682737872428}. Best is trial 13 with value: 0.9559633027522935.\u001B[0m\n",
      "\u001B[32m[I 2022-06-01 02:40:43,883]\u001B[0m Trial 16 finished with value: 0.9467889908256881 and parameters: {'alpha': 0.19050645156114784, 'l1': 0.5641471370723644, 'l2': 0.15211121924831383}. Best is trial 13 with value: 0.9559633027522935.\u001B[0m\n",
      "\u001B[32m[I 2022-06-01 02:41:08,425]\u001B[0m Trial 17 finished with value: 0.9559633027522935 and parameters: {'alpha': 0.04278637460145164, 'l1': 0.9985949817499261, 'l2': 0.4133005310596714}. Best is trial 13 with value: 0.9559633027522935.\u001B[0m\n",
      "\u001B[32m[I 2022-06-01 02:41:29,680]\u001B[0m Trial 18 finished with value: 0.9394495412844037 and parameters: {'alpha': 0.43558838051530746, 'l1': 0.7909960897825397, 'l2': 0.41161417041420534}. Best is trial 13 with value: 0.9559633027522935.\u001B[0m\n",
      "\u001B[32m[I 2022-06-01 02:41:51,814]\u001B[0m Trial 19 finished with value: 0.9321100917431193 and parameters: {'alpha': 0.6883394811549162, 'l1': 0.27038520686315093, 'l2': 0.5404679006696599}. Best is trial 13 with value: 0.9559633027522935.\u001B[0m\n"
     ]
    },
    {
     "data": {
      "text/plain": "{'alpha': 0.005484748237229669,\n 'l1': 0.9851270483248334,\n 'l2': 0.2000703105431597}"
     },
     "execution_count": 37,
     "metadata": {},
     "output_type": "execute_result"
    }
   ],
   "source": [
    "study = optuna.create_study(direction=\"maximize\")\n",
    "\n",
    "def objective(trial: optuna.Trial) -> float:\n",
    "    alpha = trial.suggest_uniform(\"alpha\", 0, 1)\n",
    "    l1 = trial.suggest_uniform(\"l1\", 0, 1)\n",
    "    l2 = trial.suggest_uniform(\"l2\", 0, 1)\n",
    "\n",
    "    model_supplier = lambda: Bayes(alpha=alpha, l=[l1, l2])\n",
    "    return cross_validate(model_supplier)\n",
    "\n",
    "study.optimize(objective, n_trials=20, show_progress_bar=True)\n",
    "best_params = study.best_params\n",
    "best_params"
   ],
   "metadata": {
    "collapsed": false,
    "pycharm": {
     "name": "#%%\n"
    }
   }
  },
  {
   "cell_type": "code",
   "execution_count": 54,
   "outputs": [
    {
     "data": {
      "text/plain": "[<matplotlib.lines.Line2D at 0x12eb0b400>]"
     },
     "execution_count": 54,
     "metadata": {},
     "output_type": "execute_result"
    },
    {
     "data": {
      "text/plain": "<Figure size 504x504 with 1 Axes>",
      "image/png": "[encoded data removed]"
     },
     "metadata": {
      "needs_background": "light"
     },
     "output_type": "display_data"
    }
   ],
   "source": [
    "from sklearn.metrics import roc_curve\n",
    "\n",
    "model = Bayes(alpha=best_params[\"alpha\"], l=[best_params[\"l1\"], best_params[\"l2\"]])\n",
    "x_train, y_train, x_test, y_test = train_test_xy_split_data(data, 0)\n",
    "trained_model = model.fit(x_train, y_train)\n",
    "y_pred = np.array(list(map(trained_model.get_probabilities, x_test)))[:, 1]\n",
    "\n",
    "fpr, tpr, _ = roc_curve(y_test.astype('int64'), y_pred)\n",
    "\n",
    "plt.figure(figsize=(7, 7))\n",
    "plt.xlabel('fpr')\n",
    "plt.ylabel('tpr')\n",
    "plt.plot(fpr, tpr)"
   ],
   "metadata": {
    "collapsed": false,
    "pycharm": {
     "name": "#%%\n"
    }
   }
  },
  {
   "cell_type": "markdown",
   "source": [
    "### Подберем l_legit при фиксированном l_spam"
   ],
   "metadata": {
    "collapsed": false,
    "pycharm": {
     "name": "#%% md\n"
    }
   }
  },
  {
   "cell_type": "code",
   "execution_count": 55,
   "outputs": [
    {
     "name": "stdout",
     "output_type": "stream",
     "text": [
      "0.9229166666666668\n",
      "0.9291666666666668\n",
      "0.9416666666666667\n",
      "0.9520833333333332\n",
      "0.9520833333333332\n",
      "0.9645833333333332\n",
      "0.9729166666666667\n",
      "0.975\n",
      "0.98125\n",
      "0.9833333333333334\n",
      "0.9854166666666666\n",
      "0.9875\n",
      "0.9875\n",
      "0.9895833333333334\n",
      "0.9916666666666668\n",
      "0.99375\n",
      "0.99375\n",
      "0.99375\n",
      "0.99375\n",
      "0.99375\n",
      "0.9958333333333332\n",
      "0.9979166666666666\n",
      "0.9979166666666666\n",
      "0.9979166666666666\n",
      "0.9979166666666666\n",
      "0.9979166666666666\n",
      "1.0\n",
      "9.851270483248337e+25\n"
     ]
    }
   ],
   "source": [
    "def all_true_are_positive(y_pred: np.ndarray, y_test: np.ndarray) -> float:\n",
    "    tp, t = 0, 0\n",
    "    for y1, y2 in zip(y_pred, y_test):\n",
    "        if y2 == 1:\n",
    "            t += 1\n",
    "        if y1 == y2 == 1:\n",
    "            tp += 1\n",
    "    return tp / t if t > 0 else 1\n",
    "\n",
    "loss1 = []\n",
    "loss2 = []\n",
    "l_legit = best_params[\"l1\"]\n",
    "\n",
    "while True:\n",
    "    model_supplier = lambda: Bayes(alpha=best_params[\"alpha\"], l=[best_params[\"l1\"], l_legit])\n",
    "    a1 = cross_validate(model_supplier, all_true_are_positive)\n",
    "    a2 = cross_validate(model_supplier)\n",
    "    loss1.append(a1)\n",
    "    loss2.append(a2)\n",
    "    print(a1)\n",
    "    if a1 == 1:\n",
    "        break\n",
    "    l_legit *= 10\n",
    "\n",
    "print(l_legit)"
   ],
   "metadata": {
    "collapsed": false,
    "pycharm": {
     "name": "#%%\n"
    }
   }
  },
  {
   "cell_type": "code",
   "execution_count": 56,
   "outputs": [
    {
     "data": {
      "text/plain": "[<matplotlib.lines.Line2D at 0x12e93cf70>]"
     },
     "execution_count": 56,
     "metadata": {},
     "output_type": "execute_result"
    },
    {
     "data": {
      "text/plain": "<Figure size 432x288 with 1 Axes>",
      "image/png": "[encoded data removed]"
     },
     "metadata": {
      "needs_background": "light"
     },
     "output_type": "display_data"
    }
   ],
   "source": [
    "# l = 0.2 .. 0.2 * 10**25 , step = *10\n",
    "plt.plot(loss1, color='blue')\n",
    "plt.plot(loss2, color='red')"
   ],
   "metadata": {
    "collapsed": false,
    "pycharm": {
     "name": "#%%\n"
    }
   }
  },
  {
   "cell_type": "code",
   "execution_count": null,
   "outputs": [],
   "source": [],
   "metadata": {
    "collapsed": false,
    "pycharm": {
     "name": "#%%\n"
    }
   }
  }
 ],
 "metadata": {
  "kernelspec": {
   "display_name": "Python 3",
   "language": "python",
   "name": "python3"
  },
  "language_info": {
   "codemirror_mode": {
    "name": "ipython",
    "version": 2
   },
   "file_extension": ".py",
   "mimetype": "text/x-python",
   "name": "python",
   "nbconvert_exporter": "python",
   "pygments_lexer": "ipython2",
   "version": "2.7.6"
  }
 },
 "nbformat": 4,
 "nbformat_minor": 0
}