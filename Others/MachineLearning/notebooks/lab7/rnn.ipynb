{
 "cells": [
  {
   "cell_type": "code",
   "execution_count": 1,
   "metadata": {
    "collapsed": true
   },
   "outputs": [],
   "source": [
    "import numpy as np\n",
    "import keras\n",
    "from keras import layers\n",
    "import re\n",
    "from keras.backend import dot"
   ]
  },
  {
   "cell_type": "markdown",
   "source": [
    "# Обработка данных"
   ],
   "metadata": {
    "collapsed": false,
    "pycharm": {
     "name": "#%% md\n"
    }
   }
  },
  {
   "cell_type": "code",
   "execution_count": 2,
   "outputs": [
    {
     "data": {
      "text/plain": "['to sherlock holmes she is always the woman.',\n 'i have seldom heard him mention her under any other name.',\n 'in his eyes she eclipses and predominates the whole of her sex.']"
     },
     "execution_count": 2,
     "metadata": {},
     "output_type": "execute_result"
    }
   ],
   "source": [
    "def preprocess(line: str) -> str:\n",
    "    words = list(filter(len, line.strip().lower().split()))\n",
    "    for i, word in enumerate(words):\n",
    "        word = re.sub('[?!]', '.', word)\n",
    "        words[i] = re.sub('[^a-z.]', '', word)\n",
    "    return ' '.join(words)\n",
    "\n",
    "def read_preprocess(filename: str) -> list[str]:\n",
    "    text = ''\n",
    "    for line in open(filename):\n",
    "        text += preprocess(line) + '.'\n",
    "\n",
    "    sentences = map(str.strip, text.split('.'))\n",
    "    sentences = filter(len, sentences)\n",
    "    sentences = list(map(lambda s: s + '.', sentences))\n",
    "    return sentences\n",
    "\n",
    "\n",
    "data = read_preprocess('/Users/alv.popov/study/ml/data/lab7/book.txt')\n",
    "data[:3]"
   ],
   "metadata": {
    "collapsed": false,
    "pycharm": {
     "name": "#%%\n"
    }
   }
  },
  {
   "cell_type": "code",
   "execution_count": 3,
   "outputs": [
    {
     "data": {
      "text/plain": "547"
     },
     "execution_count": 3,
     "metadata": {},
     "output_type": "execute_result"
    }
   ],
   "source": [
    "max_len = max(map(len, data))\n",
    "max_len"
   ],
   "metadata": {
    "collapsed": false,
    "pycharm": {
     "name": "#%%\n"
    }
   }
  },
  {
   "cell_type": "code",
   "execution_count": 4,
   "outputs": [
    {
     "data": {
      "text/plain": "28"
     },
     "execution_count": 4,
     "metadata": {},
     "output_type": "execute_result"
    }
   ],
   "source": [
    "all_symbols = set()\n",
    "for line in data:\n",
    "    all_symbols.update(line)\n",
    "\n",
    "all_symbols = list(all_symbols)\n",
    "len(all_symbols)"
   ],
   "metadata": {
    "collapsed": false,
    "pycharm": {
     "name": "#%%\n"
    }
   }
  },
  {
   "cell_type": "code",
   "execution_count": 5,
   "outputs": [
    {
     "data": {
      "text/plain": "(43,\n (43, 28),\n 'to sherlock holmes she is always the woman.',\n array([[0, 0, 0, ..., 0, 0, 0],\n        [0, 0, 0, ..., 0, 0, 0],\n        [0, 0, 0, ..., 0, 0, 0],\n        ...,\n        [0, 0, 0, ..., 0, 0, 0],\n        [0, 0, 0, ..., 0, 0, 0],\n        [0, 0, 0, ..., 0, 0, 0]]))"
     },
     "execution_count": 5,
     "metadata": {},
     "output_type": "execute_result"
    }
   ],
   "source": [
    "sym2one_code = dict()\n",
    "for i, s in enumerate(all_symbols):\n",
    "    cur = np.zeros(len(all_symbols), dtype='int')\n",
    "    cur[i] = 1\n",
    "    sym2one_code[s] = cur\n",
    "\n",
    "\n",
    "def encode_text(text: str) -> np.ndarray:\n",
    "    res = []\n",
    "    for sym in text:\n",
    "        res.append(sym2one_code[sym])\n",
    "    return np.array(res)\n",
    "\n",
    "\n",
    "data_one_hot = list(map(encode_text, data))\n",
    "len(data[0]), data_one_hot[0].shape, data[0], data_one_hot[0]"
   ],
   "metadata": {
    "collapsed": false,
    "pycharm": {
     "name": "#%%\n"
    }
   }
  },
  {
   "cell_type": "code",
   "execution_count": 6,
   "outputs": [
    {
     "name": "stdout",
     "output_type": "stream",
     "text": [
      "(464340, 10, 28) (464340, 28)\n"
     ]
    }
   ],
   "source": [
    "def xy_split(sentences):\n",
    "    x, y = [], []\n",
    "    l = 10\n",
    "    for sentence in sentences:\n",
    "        if len(sentence) <= l:  # не обрабатываем маленькие последовательности\n",
    "            continue\n",
    "\n",
    "        for i in range(len(sentence) - l):\n",
    "            x.append(sentence[i:i+l])\n",
    "            y.append(sentence[i+l])\n",
    "    return np.array(x), np.array(y)\n",
    "\n",
    "x, y = xy_split(data_one_hot)\n",
    "print(x.shape, y.shape)"
   ],
   "metadata": {
    "collapsed": false,
    "pycharm": {
     "name": "#%%\n"
    }
   }
  },
  {
   "cell_type": "code",
   "execution_count": 11,
   "outputs": [
    {
     "ename": "OperatorNotAllowedInGraphError",
     "evalue": "Exception encountered when calling layer \"rnn_4\" (type RNN).\n\nIterating over a symbolic `tf.Tensor` is not allowed in Graph execution. Use Eager execution or decorate this function with @tf.function.\n\nCall arguments received by layer \"rnn_4\" (type RNN):\n  • inputs=tf.Tensor(shape=(None, None, 28), dtype=float32)\n  • mask=None\n  • training=None\n  • initial_state=None\n  • constants=None",
     "output_type": "error",
     "traceback": [
      "\u001B[0;31m---------------------------------------------------------------------------\u001B[0m",
      "\u001B[0;31mOperatorNotAllowedInGraphError\u001B[0m            Traceback (most recent call last)",
      "Input \u001B[0;32mIn [11]\u001B[0m, in \u001B[0;36m<cell line: 68>\u001B[0;34m()\u001B[0m\n\u001B[1;32m     64\u001B[0m     \u001B[38;5;28;01mdef\u001B[39;00m \u001B[38;5;21mget_initial_state\u001B[39m(\u001B[38;5;28mself\u001B[39m, inputs\u001B[38;5;241m=\u001B[39m\u001B[38;5;28;01mNone\u001B[39;00m, batch_size\u001B[38;5;241m=\u001B[39m\u001B[38;5;28;01mNone\u001B[39;00m, dtype\u001B[38;5;241m=\u001B[39m\u001B[38;5;28;01mNone\u001B[39;00m):\n\u001B[1;32m     65\u001B[0m         \u001B[38;5;28;01mreturn\u001B[39;00m \u001B[38;5;28mlist\u001B[39m(generate_zero_filled_state_for_cell(\u001B[38;5;28mself\u001B[39m, inputs, batch_size, dtype))\n\u001B[0;32m---> 68\u001B[0m lstm_model \u001B[38;5;241m=\u001B[39m \u001B[43mkeras\u001B[49m\u001B[38;5;241;43m.\u001B[39;49m\u001B[43mSequential\u001B[49m\u001B[43m(\u001B[49m\u001B[43m[\u001B[49m\n\u001B[1;32m     69\u001B[0m \u001B[43m    \u001B[49m\u001B[43mkeras\u001B[49m\u001B[38;5;241;43m.\u001B[39;49m\u001B[43mInput\u001B[49m\u001B[43m(\u001B[49m\u001B[43m(\u001B[49m\u001B[38;5;28;43;01mNone\u001B[39;49;00m\u001B[43m,\u001B[49m\u001B[43m \u001B[49m\u001B[43mx\u001B[49m\u001B[38;5;241;43m.\u001B[39;49m\u001B[43mshape\u001B[49m\u001B[43m[\u001B[49m\u001B[38;5;241;43m-\u001B[39;49m\u001B[38;5;241;43m1\u001B[39;49m\u001B[43m]\u001B[49m\u001B[43m)\u001B[49m\u001B[43m)\u001B[49m\u001B[43m,\u001B[49m\n\u001B[1;32m     70\u001B[0m \u001B[43m    \u001B[49m\u001B[43mkeras\u001B[49m\u001B[38;5;241;43m.\u001B[39;49m\u001B[43mlayers\u001B[49m\u001B[38;5;241;43m.\u001B[39;49m\u001B[43mRNN\u001B[49m\u001B[43m(\u001B[49m\u001B[43mRNNCell\u001B[49m\u001B[43m(\u001B[49m\u001B[38;5;241;43m128\u001B[39;49m\u001B[43m)\u001B[49m\u001B[43m)\u001B[49m\u001B[43m,\u001B[49m\n\u001B[1;32m     71\u001B[0m \u001B[43m    \u001B[49m\u001B[43mkeras\u001B[49m\u001B[38;5;241;43m.\u001B[39;49m\u001B[43mlayers\u001B[49m\u001B[38;5;241;43m.\u001B[39;49m\u001B[43mDropout\u001B[49m\u001B[43m(\u001B[49m\u001B[38;5;241;43m0.3\u001B[39;49m\u001B[43m)\u001B[49m\u001B[43m,\u001B[49m\n\u001B[1;32m     72\u001B[0m \u001B[43m    \u001B[49m\u001B[43mlayers\u001B[49m\u001B[38;5;241;43m.\u001B[39;49m\u001B[43mDense\u001B[49m\u001B[43m(\u001B[49m\u001B[38;5;28;43mlen\u001B[39;49m\u001B[43m(\u001B[49m\u001B[43mall_symbols\u001B[49m\u001B[43m)\u001B[49m\u001B[43m,\u001B[49m\u001B[43m \u001B[49m\u001B[43mactivation\u001B[49m\u001B[38;5;241;43m=\u001B[39;49m\u001B[38;5;124;43m'\u001B[39;49m\u001B[38;5;124;43msoftmax\u001B[39;49m\u001B[38;5;124;43m'\u001B[39;49m\u001B[43m)\u001B[49m\u001B[43m,\u001B[49m\n\u001B[1;32m     73\u001B[0m \u001B[43m]\u001B[49m\u001B[43m)\u001B[49m\n\u001B[1;32m     75\u001B[0m lstm_model\u001B[38;5;241m.\u001B[39mcompile(loss\u001B[38;5;241m=\u001B[39m\u001B[38;5;124m'\u001B[39m\u001B[38;5;124mcategorical_crossentropy\u001B[39m\u001B[38;5;124m'\u001B[39m, optimizer\u001B[38;5;241m=\u001B[39m\u001B[38;5;124m'\u001B[39m\u001B[38;5;124madam\u001B[39m\u001B[38;5;124m'\u001B[39m)\n\u001B[1;32m     77\u001B[0m lstm_model\u001B[38;5;241m.\u001B[39mfit(x, y, epochs\u001B[38;5;241m=\u001B[39m\u001B[38;5;241m10\u001B[39m)\n",
      "File \u001B[0;32m~/study/ml/venv/lib/python3.9/site-packages/tensorflow/python/training/tracking/base.py:587\u001B[0m, in \u001B[0;36mno_automatic_dependency_tracking.<locals>._method_wrapper\u001B[0;34m(self, *args, **kwargs)\u001B[0m\n\u001B[1;32m    585\u001B[0m \u001B[38;5;28mself\u001B[39m\u001B[38;5;241m.\u001B[39m_self_setattr_tracking \u001B[38;5;241m=\u001B[39m \u001B[38;5;28;01mFalse\u001B[39;00m  \u001B[38;5;66;03m# pylint: disable=protected-access\u001B[39;00m\n\u001B[1;32m    586\u001B[0m \u001B[38;5;28;01mtry\u001B[39;00m:\n\u001B[0;32m--> 587\u001B[0m   result \u001B[38;5;241m=\u001B[39m \u001B[43mmethod\u001B[49m\u001B[43m(\u001B[49m\u001B[38;5;28;43mself\u001B[39;49m\u001B[43m,\u001B[49m\u001B[43m \u001B[49m\u001B[38;5;241;43m*\u001B[39;49m\u001B[43margs\u001B[49m\u001B[43m,\u001B[49m\u001B[43m \u001B[49m\u001B[38;5;241;43m*\u001B[39;49m\u001B[38;5;241;43m*\u001B[39;49m\u001B[43mkwargs\u001B[49m\u001B[43m)\u001B[49m\n\u001B[1;32m    588\u001B[0m \u001B[38;5;28;01mfinally\u001B[39;00m:\n\u001B[1;32m    589\u001B[0m   \u001B[38;5;28mself\u001B[39m\u001B[38;5;241m.\u001B[39m_self_setattr_tracking \u001B[38;5;241m=\u001B[39m previous_value  \u001B[38;5;66;03m# pylint: disable=protected-access\u001B[39;00m\n",
      "File \u001B[0;32m~/study/ml/venv/lib/python3.9/site-packages/keras/utils/traceback_utils.py:67\u001B[0m, in \u001B[0;36mfilter_traceback.<locals>.error_handler\u001B[0;34m(*args, **kwargs)\u001B[0m\n\u001B[1;32m     65\u001B[0m \u001B[38;5;28;01mexcept\u001B[39;00m \u001B[38;5;167;01mException\u001B[39;00m \u001B[38;5;28;01mas\u001B[39;00m e:  \u001B[38;5;66;03m# pylint: disable=broad-except\u001B[39;00m\n\u001B[1;32m     66\u001B[0m   filtered_tb \u001B[38;5;241m=\u001B[39m _process_traceback_frames(e\u001B[38;5;241m.\u001B[39m__traceback__)\n\u001B[0;32m---> 67\u001B[0m   \u001B[38;5;28;01mraise\u001B[39;00m e\u001B[38;5;241m.\u001B[39mwith_traceback(filtered_tb) \u001B[38;5;28;01mfrom\u001B[39;00m \u001B[38;5;28mNone\u001B[39m\n\u001B[1;32m     68\u001B[0m \u001B[38;5;28;01mfinally\u001B[39;00m:\n\u001B[1;32m     69\u001B[0m   \u001B[38;5;28;01mdel\u001B[39;00m filtered_tb\n",
      "Input \u001B[0;32mIn [11]\u001B[0m, in \u001B[0;36mRNNCell.get_initial_state\u001B[0;34m(self, inputs, batch_size, dtype)\u001B[0m\n\u001B[1;32m     64\u001B[0m \u001B[38;5;28;01mdef\u001B[39;00m \u001B[38;5;21mget_initial_state\u001B[39m(\u001B[38;5;28mself\u001B[39m, inputs\u001B[38;5;241m=\u001B[39m\u001B[38;5;28;01mNone\u001B[39;00m, batch_size\u001B[38;5;241m=\u001B[39m\u001B[38;5;28;01mNone\u001B[39;00m, dtype\u001B[38;5;241m=\u001B[39m\u001B[38;5;28;01mNone\u001B[39;00m):\n\u001B[0;32m---> 65\u001B[0m     \u001B[38;5;28;01mreturn\u001B[39;00m \u001B[38;5;28;43mlist\u001B[39;49m\u001B[43m(\u001B[49m\u001B[43mgenerate_zero_filled_state_for_cell\u001B[49m\u001B[43m(\u001B[49m\u001B[38;5;28;43mself\u001B[39;49m\u001B[43m,\u001B[49m\u001B[43m \u001B[49m\u001B[43minputs\u001B[49m\u001B[43m,\u001B[49m\u001B[43m \u001B[49m\u001B[43mbatch_size\u001B[49m\u001B[43m,\u001B[49m\u001B[43m \u001B[49m\u001B[43mdtype\u001B[49m\u001B[43m)\u001B[49m\u001B[43m)\u001B[49m\n",
      "\u001B[0;31mOperatorNotAllowedInGraphError\u001B[0m: Exception encountered when calling layer \"rnn_4\" (type RNN).\n\nIterating over a symbolic `tf.Tensor` is not allowed in Graph execution. Use Eager execution or decorate this function with @tf.function.\n\nCall arguments received by layer \"rnn_4\" (type RNN):\n  • inputs=tf.Tensor(shape=(None, None, 28), dtype=float32)\n  • mask=None\n  • training=None\n  • initial_state=None\n  • constants=None"
     ]
    }
   ],
   "source": [
    "import keras.backend as backend\n",
    "from keras import initializers\n",
    "from keras.activations import tanh, sigmoid\n",
    "import tensorflow as tf\n",
    "from keras.layers.rnn.rnn_utils import generate_zero_filled_state_for_cell\n",
    "\n",
    "class RNNCell(keras.layers.Layer):\n",
    "\n",
    "    def __init__(self, units, **kwargs):\n",
    "        self.units = units\n",
    "        super(RNNCell, self).__init__(**kwargs)\n",
    "\n",
    "    def build(self, input_shape):\n",
    "        self.kernel = self.add_weight(\n",
    "            shape=(input_shape[-1], self.units * 4),\n",
    "            name='kernel',\n",
    "            initializer=initializers.get('glorot_uniform')\n",
    "        )\n",
    "        self.recurrent_kernel = self.add_weight(\n",
    "            shape=(self.units, self.units * 4),\n",
    "            name='recurrent_kernel',\n",
    "            initializer=initializers.get('orthogonal')\n",
    "        )\n",
    "\n",
    "        def bias_initializer(_, *args, **kwargs):\n",
    "            return backend.concatenate([\n",
    "                initializers.get('zeros')((self.units,), *args, **kwargs),\n",
    "                initializers.get('ones')((self.units,), *args, **kwargs),\n",
    "                initializers.get('zeros')((self.units * 2,), *args, **kwargs),\n",
    "            ])\n",
    "        self.bias = self.add_weight(\n",
    "          shape=(self.units * 4,),\n",
    "          name='bias',\n",
    "          initializer=bias_initializer,\n",
    "        )\n",
    "\n",
    "        self.built = True\n",
    "\n",
    "    def call(self, inputs, states):\n",
    "        h1, c1 = states  # previous memory and carry state\n",
    "\n",
    "        k_i, k_f, k_c, k_o = tf.split(self.kernel, num_or_size_splits=4, axis=1)\n",
    "        x_i = backend.dot(inputs, k_i)\n",
    "        x_f = backend.dot(inputs, k_f)\n",
    "        x_c = backend.dot(inputs, k_c)\n",
    "        x_o = backend.dot(inputs, k_o)\n",
    "\n",
    "        b_i, b_f, b_c, b_o = tf.split(self.bias, num_or_size_splits=4, axis=0)\n",
    "        x_i = backend.bias_add(x_i, b_i)\n",
    "        x_f = backend.bias_add(x_f, b_f)\n",
    "        x_c = backend.bias_add(x_c, b_c)\n",
    "        x_o = backend.bias_add(x_o, b_o)\n",
    "\n",
    "        i = sigmoid(x_i + backend.dot(h1, self.recurrent_kernel[:, :self.units]))\n",
    "        f = sigmoid(x_f + backend.dot(h1, self.recurrent_kernel[:, self.units:self.units * 2]))\n",
    "        o = sigmoid(x_o + backend.dot(h1, self.recurrent_kernel[:, self.units * 3:]))\n",
    "        cs = tanh(x_c + backend.dot(h1, self.recurrent_kernel[:, self.units * 2:self.units * 3]))\n",
    "\n",
    "        c = f * c1 + i * cs\n",
    "        h = o * tanh(c)\n",
    "        return h, [h, c]\n",
    "\n",
    "    def get_initial_state(self, inputs=None, batch_size=None, dtype=None):\n",
    "        print(inputs, batch_size, dtype)\n",
    "        return list(generate_zero_filled_state_for_cell(self, inputs, batch_size, dtype))\n",
    "\n",
    "\n",
    "lstm_model = keras.Sequential([\n",
    "    keras.Input((None, x.shape[-1])),\n",
    "    keras.layers.RNN(RNNCell(128)),\n",
    "    keras.layers.Dropout(0.3),\n",
    "    layers.Dense(len(all_symbols), activation='softmax'),\n",
    "])\n",
    "\n",
    "lstm_model.compile(loss='categorical_crossentropy', optimizer='adam')\n",
    "\n",
    "lstm_model.fit(x, y, epochs=10)"
   ],
   "metadata": {
    "collapsed": false,
    "pycharm": {
     "name": "#%%\n"
    }
   }
  },
  {
   "cell_type": "code",
   "execution_count": null,
   "outputs": [],
   "source": [
    "def finish_sentence(model, prefix: str) -> str:\n",
    "    result_string = prefix\n",
    "    encoded_suffix = encode_text(preprocess(prefix)).tolist()\n",
    "\n",
    "    for _ in range(max_len):\n",
    "        prediction = model.predict(np.array([encoded_suffix]))\n",
    "        ind = np.random.choice(range(len(prediction[0])), p=prediction[0])\n",
    "        new_sym = all_symbols[ind]\n",
    "        result_string += new_sym\n",
    "        if new_sym == '.':\n",
    "            break\n",
    "        encoded_suffix = encoded_suffix[1:]\n",
    "        encoded_suffix.append(sym2one_code[new_sym])\n",
    "\n",
    "    if result_string[-1] != '.':\n",
    "        result_string += '.'\n",
    "\n",
    "    return result_string"
   ],
   "metadata": {
    "collapsed": false,
    "pycharm": {
     "name": "#%%\n"
    }
   }
  },
  {
   "cell_type": "code",
   "execution_count": null,
   "outputs": [],
   "source": [
    "finish_sentence(lstm_model, 'Do you note ')"
   ],
   "metadata": {
    "collapsed": false,
    "pycharm": {
     "name": "#%%\n"
    }
   }
  },
  {
   "cell_type": "code",
   "execution_count": null,
   "outputs": [],
   "source": [
    "finish_sentence(lstm_model, 'Twice burglars in my pay ransacked her house')"
   ],
   "metadata": {
    "collapsed": false,
    "pycharm": {
     "name": "#%%\n"
    }
   }
  },
  {
   "cell_type": "code",
   "execution_count": null,
   "outputs": [],
   "source": [
    "finish_sentence(lstm_model, 'hello mister')"
   ],
   "metadata": {
    "collapsed": false,
    "pycharm": {
     "name": "#%%\n"
    }
   }
  },
  {
   "cell_type": "markdown",
   "source": [
    "# Марковская цепь"
   ],
   "metadata": {
    "collapsed": false,
    "pycharm": {
     "name": "#%% md\n"
    }
   }
  },
  {
   "cell_type": "code",
   "execution_count": null,
   "outputs": [],
   "source": [
    "class Markov:\n",
    "    def __init__(self, texts: list[str], n: int = 10):\n",
    "        edges = dict()\n",
    "        for text in texts:\n",
    "            for i in range(len(text) - n - 1):\n",
    "                cur = text[i : i + n]\n",
    "                next = text[i + 1 : i + n + 1]\n",
    "                edges.setdefault(cur, dict())\n",
    "                edges[cur].setdefault(next, 0)\n",
    "                edges[cur][next] += 1\n",
    "\n",
    "        for k1, v in edges.items():\n",
    "            s = sum(v.values())\n",
    "            for k2 in v.keys():\n",
    "                edges[k1][k2] /= s\n",
    "\n",
    "        self.p = edges\n",
    "        self.n = n\n",
    "\n",
    "    def predict(self, line: str) -> str:\n",
    "\n",
    "        for _ in range(max_len):\n",
    "            if line[-1] == '.':\n",
    "                break\n",
    "\n",
    "            suffix = line[-self.n:]\n",
    "            if suffix not in self.p:\n",
    "                prediction = '.'\n",
    "            else:\n",
    "                prediction = max(self.p[suffix], key=self.p[suffix].get)\n",
    "            line += prediction[-1]\n",
    "\n",
    "        if line[-1] != '.':\n",
    "            line += '.'\n",
    "        return line\n",
    "\n",
    "model = Markov(data)"
   ],
   "metadata": {
    "collapsed": false,
    "pycharm": {
     "name": "#%%\n"
    }
   }
  },
  {
   "cell_type": "code",
   "execution_count": null,
   "outputs": [],
   "source": [
    "model.predict('Do you note ')"
   ],
   "metadata": {
    "collapsed": false,
    "pycharm": {
     "name": "#%%\n"
    }
   }
  },
  {
   "cell_type": "code",
   "execution_count": null,
   "outputs": [],
   "source": [
    "model.predict('Twice burglars in my pay ransacked her house')"
   ],
   "metadata": {
    "collapsed": false,
    "pycharm": {
     "name": "#%%\n"
    }
   }
  },
  {
   "cell_type": "code",
   "execution_count": null,
   "outputs": [],
   "source": [
    "model.predict('hello mister')"
   ],
   "metadata": {
    "collapsed": false,
    "pycharm": {
     "name": "#%%\n"
    }
   }
  },
  {
   "cell_type": "code",
   "execution_count": null,
   "outputs": [],
   "source": [],
   "metadata": {
    "collapsed": false,
    "pycharm": {
     "name": "#%%\n"
    }
   }
  }
 ],
 "metadata": {
  "kernelspec": {
   "display_name": "Python 3",
   "language": "python",
   "name": "python3"
  },
  "language_info": {
   "codemirror_mode": {
    "name": "ipython",
    "version": 2
   },
   "file_extension": ".py",
   "mimetype": "text/x-python",
   "name": "python",
   "nbconvert_exporter": "python",
   "pygments_lexer": "ipython2",
   "version": "2.7.6"
  }
 },
 "nbformat": 4,
 "nbformat_minor": 0
}