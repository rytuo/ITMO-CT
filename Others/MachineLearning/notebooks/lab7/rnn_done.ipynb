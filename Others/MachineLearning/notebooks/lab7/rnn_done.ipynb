{
 "cells": [
  {
   "cell_type": "code",
   "execution_count": 13,
   "metadata": {
    "collapsed": true
   },
   "outputs": [],
   "source": [
    "import numpy as np\n",
    "import keras\n",
    "from keras import layers\n",
    "import re\n",
    "from keras.backend import dot"
   ]
  },
  {
   "cell_type": "markdown",
   "source": [
    "# Обработка данных"
   ],
   "metadata": {
    "collapsed": false,
    "pycharm": {
     "name": "#%% md\n"
    }
   }
  },
  {
   "cell_type": "code",
   "execution_count": 14,
   "outputs": [
    {
     "data": {
      "text/plain": "['to sherlock holmes she is always the woman.',\n 'i have seldom heard him mention her under any other name.',\n 'in his eyes she eclipses and predominates the whole of her sex.']"
     },
     "execution_count": 14,
     "metadata": {},
     "output_type": "execute_result"
    }
   ],
   "source": [
    "def preprocess(line: str) -> str:\n",
    "    words = list(filter(len, line.strip().lower().split()))\n",
    "    for i, word in enumerate(words):\n",
    "        word = re.sub('[?!]', '.', word)\n",
    "        words[i] = re.sub('[^a-z.]', '', word)\n",
    "    return ' '.join(words)\n",
    "\n",
    "def read_preprocess(filename: str) -> list[str]:\n",
    "    text = ''\n",
    "    for line in open(filename):\n",
    "        text += preprocess(line) + '.'\n",
    "\n",
    "    sentences = map(str.strip, text.split('.'))\n",
    "    sentences = filter(len, sentences)\n",
    "    sentences = list(map(lambda s: s + '.', sentences))\n",
    "    return sentences\n",
    "\n",
    "\n",
    "data = read_preprocess('/Users/alv.popov/study/ml/data/lab7/book.txt')\n",
    "data[:3]"
   ],
   "metadata": {
    "collapsed": false,
    "pycharm": {
     "name": "#%%\n"
    }
   }
  },
  {
   "cell_type": "code",
   "execution_count": 15,
   "outputs": [
    {
     "data": {
      "text/plain": "547"
     },
     "execution_count": 15,
     "metadata": {},
     "output_type": "execute_result"
    }
   ],
   "source": [
    "max_len = max(map(len, data))\n",
    "max_len"
   ],
   "metadata": {
    "collapsed": false,
    "pycharm": {
     "name": "#%%\n"
    }
   }
  },
  {
   "cell_type": "code",
   "execution_count": 16,
   "outputs": [
    {
     "data": {
      "text/plain": "28"
     },
     "execution_count": 16,
     "metadata": {},
     "output_type": "execute_result"
    }
   ],
   "source": [
    "all_symbols = set()\n",
    "for line in data:\n",
    "    all_symbols.update(line)\n",
    "\n",
    "all_symbols = list(all_symbols)\n",
    "len(all_symbols)"
   ],
   "metadata": {
    "collapsed": false,
    "pycharm": {
     "name": "#%%\n"
    }
   }
  },
  {
   "cell_type": "code",
   "execution_count": 17,
   "outputs": [
    {
     "data": {
      "text/plain": "(43,\n (43, 28),\n 'to sherlock holmes she is always the woman.',\n array([[0, 0, 0, ..., 0, 0, 0],\n        [0, 0, 0, ..., 0, 0, 0],\n        [0, 0, 0, ..., 0, 0, 0],\n        ...,\n        [0, 0, 0, ..., 0, 0, 0],\n        [0, 0, 0, ..., 0, 0, 1],\n        [0, 0, 0, ..., 0, 0, 0]]))"
     },
     "execution_count": 17,
     "metadata": {},
     "output_type": "execute_result"
    }
   ],
   "source": [
    "sym2one_code = dict()\n",
    "for i, s in enumerate(all_symbols):\n",
    "    cur = np.zeros(len(all_symbols), dtype='int')\n",
    "    cur[i] = 1\n",
    "    sym2one_code[s] = cur\n",
    "\n",
    "\n",
    "def encode_text(text: str) -> np.ndarray:\n",
    "    res = []\n",
    "    for sym in text:\n",
    "        res.append(sym2one_code[sym])\n",
    "    return np.array(res)\n",
    "\n",
    "\n",
    "data_one_hot = list(map(encode_text, data))\n",
    "len(data[0]), data_one_hot[0].shape, data[0], data_one_hot[0]"
   ],
   "metadata": {
    "collapsed": false,
    "pycharm": {
     "name": "#%%\n"
    }
   }
  },
  {
   "cell_type": "code",
   "execution_count": 18,
   "outputs": [
    {
     "name": "stdout",
     "output_type": "stream",
     "text": [
      "(464340, 10, 28) (464340, 28)\n"
     ]
    }
   ],
   "source": [
    "def xy_split(sentences):\n",
    "    x, y = [], []\n",
    "    l = 10\n",
    "    for sentence in sentences:\n",
    "        if len(sentence) <= l:  # не обрабатываем маленькие последовательности\n",
    "            continue\n",
    "\n",
    "        for i in range(len(sentence) - l):\n",
    "            x.append(sentence[i:i+l])\n",
    "            y.append(sentence[i+l])\n",
    "    return np.array(x), np.array(y)\n",
    "\n",
    "x, y = xy_split(data_one_hot)\n",
    "print(x.shape, y.shape)"
   ],
   "metadata": {
    "collapsed": false,
    "pycharm": {
     "name": "#%%\n"
    }
   }
  },
  {
   "cell_type": "code",
   "execution_count": 19,
   "outputs": [
    {
     "name": "stdout",
     "output_type": "stream",
     "text": [
      "Epoch 1/10\n",
      "14511/14511 [==============================] - 111s 7ms/step - loss: 1.9757\n",
      "Epoch 2/10\n",
      "14511/14511 [==============================] - 90s 6ms/step - loss: 1.6774\n",
      "Epoch 3/10\n",
      "14511/14511 [==============================] - 114s 8ms/step - loss: 1.5786\n",
      "Epoch 4/10\n",
      "14511/14511 [==============================] - 109s 8ms/step - loss: 1.5200\n",
      "Epoch 5/10\n",
      "14511/14511 [==============================] - 104s 7ms/step - loss: 1.4833\n",
      "Epoch 6/10\n",
      "14511/14511 [==============================] - 97s 7ms/step - loss: 1.4559\n",
      "Epoch 7/10\n",
      "14511/14511 [==============================] - 100s 7ms/step - loss: 1.4362\n",
      "Epoch 8/10\n",
      "14511/14511 [==============================] - 103s 7ms/step - loss: 1.4180\n",
      "Epoch 9/10\n",
      "14511/14511 [==============================] - 91s 6ms/step - loss: 1.4065\n",
      "Epoch 10/10\n",
      "14511/14511 [==============================] - 100s 7ms/step - loss: 1.3952\n"
     ]
    },
    {
     "data": {
      "text/plain": "<keras.callbacks.History at 0x1287c2b80>"
     },
     "execution_count": 19,
     "metadata": {},
     "output_type": "execute_result"
    }
   ],
   "source": [
    "lstm_model = keras.Sequential([\n",
    "    keras.Input((None, x.shape[-1])),\n",
    "    keras.layers.LSTM(128),\n",
    "    keras.layers.Dropout(0.3),\n",
    "    layers.Dense(len(all_symbols), activation='softmax'),\n",
    "])\n",
    "\n",
    "lstm_model.compile(loss='categorical_crossentropy', optimizer='adam')\n",
    "\n",
    "lstm_model.fit(x, y, epochs=10)"
   ],
   "metadata": {
    "collapsed": false,
    "pycharm": {
     "name": "#%%\n"
    }
   }
  },
  {
   "cell_type": "code",
   "execution_count": 20,
   "outputs": [],
   "source": [
    "def finish_sentence(model, prefix: str) -> str:\n",
    "    result_string = prefix\n",
    "    encoded_suffix = encode_text(preprocess(prefix)).tolist()\n",
    "\n",
    "    for _ in range(max_len):\n",
    "        prediction = model.predict(np.array([encoded_suffix]))\n",
    "        ind = np.random.choice(range(len(prediction[0])), p=prediction[0])\n",
    "        new_sym = all_symbols[ind]\n",
    "        result_string += new_sym\n",
    "        if new_sym == '.':\n",
    "            break\n",
    "        encoded_suffix = encoded_suffix[1:]\n",
    "        encoded_suffix.append(sym2one_code[new_sym])\n",
    "\n",
    "    if result_string[-1] != '.':\n",
    "        result_string += '.'\n",
    "\n",
    "    return result_string"
   ],
   "metadata": {
    "collapsed": false,
    "pycharm": {
     "name": "#%%\n"
    }
   }
  },
  {
   "cell_type": "code",
   "execution_count": 21,
   "outputs": [
    {
     "name": "stdout",
     "output_type": "stream",
     "text": [
      "1/1 [==============================] - 0s 329ms/step\n",
      "1/1 [==============================] - 0s 13ms/step\n",
      "1/1 [==============================] - 0s 13ms/step\n",
      "1/1 [==============================] - 0s 13ms/step\n",
      "1/1 [==============================] - 0s 13ms/step\n",
      "1/1 [==============================] - 0s 13ms/step\n",
      "1/1 [==============================] - 0s 13ms/step\n",
      "1/1 [==============================] - 0s 13ms/step\n",
      "1/1 [==============================] - 0s 12ms/step\n",
      "1/1 [==============================] - 0s 12ms/step\n",
      "1/1 [==============================] - 0s 13ms/step\n",
      "1/1 [==============================] - 0s 13ms/step\n",
      "1/1 [==============================] - 0s 13ms/step\n",
      "1/1 [==============================] - 0s 13ms/step\n",
      "1/1 [==============================] - 0s 12ms/step\n",
      "1/1 [==============================] - 0s 13ms/step\n",
      "1/1 [==============================] - 0s 14ms/step\n",
      "1/1 [==============================] - 0s 13ms/step\n",
      "1/1 [==============================] - 0s 13ms/step\n",
      "1/1 [==============================] - 0s 13ms/step\n",
      "1/1 [==============================] - 0s 12ms/step\n",
      "1/1 [==============================] - 0s 12ms/step\n",
      "1/1 [==============================] - 0s 13ms/step\n",
      "1/1 [==============================] - 0s 13ms/step\n",
      "1/1 [==============================] - 0s 13ms/step\n",
      "1/1 [==============================] - 0s 13ms/step\n",
      "1/1 [==============================] - 0s 13ms/step\n",
      "1/1 [==============================] - 0s 12ms/step\n",
      "1/1 [==============================] - 0s 12ms/step\n",
      "1/1 [==============================] - 0s 13ms/step\n",
      "1/1 [==============================] - 0s 12ms/step\n",
      "1/1 [==============================] - 0s 12ms/step\n",
      "1/1 [==============================] - 0s 12ms/step\n",
      "1/1 [==============================] - 0s 12ms/step\n",
      "1/1 [==============================] - 0s 12ms/step\n",
      "1/1 [==============================] - 0s 12ms/step\n",
      "1/1 [==============================] - 0s 13ms/step\n"
     ]
    },
    {
     "data": {
      "text/plain": "'Do you note  all the dress in end ot lock before.'"
     },
     "execution_count": 21,
     "metadata": {},
     "output_type": "execute_result"
    }
   ],
   "source": [
    "finish_sentence(lstm_model, 'Do you note ')"
   ],
   "metadata": {
    "collapsed": false,
    "pycharm": {
     "name": "#%%\n"
    }
   }
  },
  {
   "cell_type": "code",
   "execution_count": 22,
   "outputs": [
    {
     "name": "stdout",
     "output_type": "stream",
     "text": [
      "1/1 [==============================] - 0s 311ms/step\n"
     ]
    },
    {
     "data": {
      "text/plain": "'Twice burglars in my pay ransacked her house.'"
     },
     "execution_count": 22,
     "metadata": {},
     "output_type": "execute_result"
    }
   ],
   "source": [
    "finish_sentence(lstm_model, 'Twice burglars in my pay ransacked her house')"
   ],
   "metadata": {
    "collapsed": false,
    "pycharm": {
     "name": "#%%\n"
    }
   }
  },
  {
   "cell_type": "code",
   "execution_count": 23,
   "outputs": [
    {
     "name": "stdout",
     "output_type": "stream",
     "text": [
      "1/1 [==============================] - 0s 13ms/step\n",
      "1/1 [==============================] - 0s 13ms/step\n",
      "1/1 [==============================] - 0s 13ms/step\n",
      "1/1 [==============================] - 0s 13ms/step\n",
      "1/1 [==============================] - 0s 13ms/step\n",
      "1/1 [==============================] - 0s 13ms/step\n",
      "1/1 [==============================] - 0s 15ms/step\n",
      "1/1 [==============================] - 0s 13ms/step\n",
      "1/1 [==============================] - 0s 13ms/step\n",
      "1/1 [==============================] - 0s 13ms/step\n",
      "1/1 [==============================] - 0s 12ms/step\n",
      "1/1 [==============================] - 0s 12ms/step\n",
      "1/1 [==============================] - 0s 13ms/step\n",
      "1/1 [==============================] - 0s 13ms/step\n",
      "1/1 [==============================] - 0s 13ms/step\n",
      "1/1 [==============================] - 0s 12ms/step\n",
      "1/1 [==============================] - 0s 13ms/step\n",
      "1/1 [==============================] - 0s 13ms/step\n",
      "1/1 [==============================] - 0s 13ms/step\n",
      "1/1 [==============================] - 0s 13ms/step\n",
      "1/1 [==============================] - 0s 13ms/step\n",
      "1/1 [==============================] - 0s 17ms/step\n",
      "1/1 [==============================] - 0s 12ms/step\n",
      "1/1 [==============================] - 0s 13ms/step\n",
      "1/1 [==============================] - 0s 13ms/step\n",
      "1/1 [==============================] - 0s 12ms/step\n",
      "1/1 [==============================] - 0s 12ms/step\n",
      "1/1 [==============================] - 0s 12ms/step\n",
      "1/1 [==============================] - 0s 12ms/step\n",
      "1/1 [==============================] - 0s 13ms/step\n",
      "1/1 [==============================] - 0s 13ms/step\n",
      "1/1 [==============================] - 0s 12ms/step\n",
      "1/1 [==============================] - 0s 12ms/step\n",
      "1/1 [==============================] - 0s 13ms/step\n",
      "1/1 [==============================] - 0s 12ms/step\n",
      "1/1 [==============================] - 0s 12ms/step\n",
      "1/1 [==============================] - 0s 13ms/step\n",
      "1/1 [==============================] - 0s 12ms/step\n",
      "1/1 [==============================] - 0s 12ms/step\n",
      "1/1 [==============================] - 0s 12ms/step\n",
      "1/1 [==============================] - 0s 12ms/step\n",
      "1/1 [==============================] - 0s 12ms/step\n",
      "1/1 [==============================] - 0s 12ms/step\n",
      "1/1 [==============================] - 0s 13ms/step\n",
      "1/1 [==============================] - 0s 12ms/step\n",
      "1/1 [==============================] - 0s 12ms/step\n",
      "1/1 [==============================] - 0s 13ms/step\n",
      "1/1 [==============================] - 0s 13ms/step\n",
      "1/1 [==============================] - 0s 13ms/step\n",
      "1/1 [==============================] - 0s 13ms/step\n",
      "1/1 [==============================] - 0s 13ms/step\n",
      "1/1 [==============================] - 0s 12ms/step\n",
      "1/1 [==============================] - 0s 12ms/step\n",
      "1/1 [==============================] - 0s 12ms/step\n",
      "1/1 [==============================] - 0s 12ms/step\n",
      "1/1 [==============================] - 0s 13ms/step\n",
      "1/1 [==============================] - 0s 13ms/step\n",
      "1/1 [==============================] - 0s 13ms/step\n",
      "1/1 [==============================] - 0s 12ms/step\n",
      "1/1 [==============================] - 0s 13ms/step\n",
      "1/1 [==============================] - 0s 12ms/step\n",
      "1/1 [==============================] - 0s 12ms/step\n",
      "1/1 [==============================] - 0s 12ms/step\n",
      "1/1 [==============================] - 0s 12ms/step\n",
      "1/1 [==============================] - 0s 12ms/step\n",
      "1/1 [==============================] - 0s 12ms/step\n"
     ]
    },
    {
     "data": {
      "text/plain": "'hello mistertay watton you missed no of one which dlessable of happres of you.'"
     },
     "execution_count": 23,
     "metadata": {},
     "output_type": "execute_result"
    }
   ],
   "source": [
    "finish_sentence(lstm_model, 'hello mister')"
   ],
   "metadata": {
    "collapsed": false,
    "pycharm": {
     "name": "#%%\n"
    }
   }
  },
  {
   "cell_type": "markdown",
   "source": [
    "# Марковская цепь"
   ],
   "metadata": {
    "collapsed": false,
    "pycharm": {
     "name": "#%% md\n"
    }
   }
  },
  {
   "cell_type": "code",
   "execution_count": 24,
   "outputs": [],
   "source": [
    "class Markov:\n",
    "    def __init__(self, texts: list[str], n: int = 10):\n",
    "        edges = dict()\n",
    "        for text in texts:\n",
    "            for i in range(len(text) - n - 1):\n",
    "                cur = text[i : i + n]\n",
    "                next = text[i + 1 : i + n + 1]\n",
    "                edges.setdefault(cur, dict())\n",
    "                edges[cur].setdefault(next, 0)\n",
    "                edges[cur][next] += 1\n",
    "\n",
    "        for k1, v in edges.items():\n",
    "            s = sum(v.values())\n",
    "            for k2 in v.keys():\n",
    "                edges[k1][k2] /= s\n",
    "\n",
    "        self.p = edges\n",
    "        self.n = n\n",
    "\n",
    "    def predict(self, line: str) -> str:\n",
    "\n",
    "        for _ in range(max_len):\n",
    "            if line[-1] == '.':\n",
    "                break\n",
    "\n",
    "            suffix = line[-self.n:]\n",
    "            if suffix not in self.p:\n",
    "                prediction = '.'\n",
    "            else:\n",
    "                prediction = max(self.p[suffix], key=self.p[suffix].get)\n",
    "            line += prediction[-1]\n",
    "\n",
    "        if line[-1] != '.':\n",
    "            line += '.'\n",
    "        return line\n",
    "\n",
    "model = Markov(data)"
   ],
   "metadata": {
    "collapsed": false,
    "pycharm": {
     "name": "#%%\n"
    }
   }
  },
  {
   "cell_type": "code",
   "execution_count": 25,
   "outputs": [
    {
     "data": {
      "text/plain": "'Do you note the peculiar to him.'"
     },
     "execution_count": 25,
     "metadata": {},
     "output_type": "execute_result"
    }
   ],
   "source": [
    "model.predict('Do you note ')"
   ],
   "metadata": {
    "collapsed": false,
    "pycharm": {
     "name": "#%%\n"
    }
   }
  },
  {
   "cell_type": "code",
   "execution_count": 26,
   "outputs": [
    {
     "data": {
      "text/plain": "'Twice burglars in my pay ransacked her house is on fire her instinct is at once to the station and the more obvious facts that he had seen him get in with his head sunk upon his face which she had been a strong presumption that the corner of the bedroom window with my lens and lay down upon the stairs and in the passage and a tap at the door of the preceding night and he called next day to ask if we had got home all safe and sound.'"
     },
     "execution_count": 26,
     "metadata": {},
     "output_type": "execute_result"
    }
   ],
   "source": [
    "model.predict('Twice burglars in my pay ransacked her house')"
   ],
   "metadata": {
    "collapsed": false,
    "pycharm": {
     "name": "#%%\n"
    }
   }
  },
  {
   "cell_type": "code",
   "execution_count": 27,
   "outputs": [
    {
     "data": {
      "text/plain": "'hello mister.'"
     },
     "execution_count": 27,
     "metadata": {},
     "output_type": "execute_result"
    }
   ],
   "source": [
    "model.predict('hello mister')"
   ],
   "metadata": {
    "collapsed": false,
    "pycharm": {
     "name": "#%%\n"
    }
   }
  },
  {
   "cell_type": "code",
   "execution_count": 27,
   "outputs": [],
   "source": [],
   "metadata": {
    "collapsed": false,
    "pycharm": {
     "name": "#%%\n"
    }
   }
  }
 ],
 "metadata": {
  "kernelspec": {
   "display_name": "Python 3",
   "language": "python",
   "name": "python3"
  },
  "language_info": {
   "codemirror_mode": {
    "name": "ipython",
    "version": 2
   },
   "file_extension": ".py",
   "mimetype": "text/x-python",
   "name": "python",
   "nbconvert_exporter": "python",
   "pygments_lexer": "ipython2",
   "version": "2.7.6"
  }
 },
 "nbformat": 4,
 "nbformat_minor": 0
}